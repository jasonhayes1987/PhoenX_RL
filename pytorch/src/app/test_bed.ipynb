{
 "cells": [
  {
   "cell_type": "code",
   "execution_count": 1,
   "metadata": {},
   "outputs": [],
   "source": [
    "import os\n",
    "import json\n",
    "\n",
    "import torch\n",
    "import torch.nn as nn\n",
    "from torch import optim\n",
    "import numpy as np\n",
    "import pandas as pd\n",
    "\n",
    "import torch_utils\n",
    "from torch import distributions\n",
    "\n",
    "import gymnasium as gym\n",
    "import gymnasium_robotics as gym_robo\n",
    "import models\n",
    "import cnn_models\n",
    "import rl_agents\n",
    "import rl_callbacks\n",
    "import helper\n",
    "import gym_helper\n",
    "import wandb_support\n",
    "import wandb\n",
    "import gym_helper\n",
    "\n",
    "# from mpi4py import MPI"
   ]
  },
  {
   "cell_type": "code",
   "execution_count": null,
   "metadata": {},
   "outputs": [],
   "source": [
    "import mujoco"
   ]
  },
  {
   "cell_type": "code",
   "execution_count": null,
   "metadata": {},
   "outputs": [],
   "source": [
    "mujoco.MjModel"
   ]
  },
  {
   "cell_type": "code",
   "execution_count": null,
   "metadata": {},
   "outputs": [],
   "source": [
    "gym_robo.__version__"
   ]
  },
  {
   "cell_type": "code",
   "execution_count": null,
   "metadata": {},
   "outputs": [],
   "source": [
    "def get_default_device():\n",
    "    \"\"\"Returns the default device for computations, GPU if available, otherwise CPU\"\"\"\n",
    "    if torch.cuda.is_available():\n",
    "        return torch.device('cuda')\n",
    "    else:\n",
    "        return torch.device('cpu')\n",
    "\n",
    "device = get_default_device()\n",
    "print(f\"Using device: {device}\")"
   ]
  },
  {
   "cell_type": "markdown",
   "metadata": {},
   "source": [
    "# TEST"
   ]
  },
  {
   "cell_type": "code",
   "execution_count": null,
   "metadata": {},
   "outputs": [],
   "source": [
    "gym_robo.register_robotics_envs()"
   ]
  },
  {
   "cell_type": "code",
   "execution_count": null,
   "metadata": {},
   "outputs": [],
   "source": [
    "gym.envs.registration.registry"
   ]
  },
  {
   "cell_type": "code",
   "execution_count": null,
   "metadata": {},
   "outputs": [],
   "source": [
    "wandb.login(key='758ac5ba01e12a3df504d2db2fec8ba4f391f7e6')"
   ]
  },
  {
   "cell_type": "code",
   "execution_count": null,
   "metadata": {},
   "outputs": [],
   "source": [
    "env = gym.make('FetchPush-v2', max_episode_steps=100, render_mode='rgb_array')\n",
    "env = gym.wrappers.RecordVideo(env, 'test/', episode_trigger=lambda i: i%1==0)\n",
    "\n",
    "episodes = 10\n",
    "\n",
    "\n",
    "for episode in range(episodes):\n",
    "    done = False\n",
    "    obs, _ = env.reset()\n",
    "    while not done:\n",
    "        obs, r, term, trunc, dict = env.step(env.action_space.sample())\n",
    "        if term or trunc:\n",
    "            done = True\n",
    "env.close()"
   ]
  },
  {
   "cell_type": "code",
   "execution_count": null,
   "metadata": {},
   "outputs": [],
   "source": [
    "env = gym.make(\"FetchReach-v2\")\n",
    "env.reset()\n",
    "obs, reward, terminated, truncated, info = env.step(env.action_space.sample())\n",
    "\n",
    "# The following always has to hold:\n",
    "assert reward == env.compute_reward(obs[\"achieved_goal\"], obs[\"desired_goal\"], info)\n",
    "assert truncated == env.compute_truncated(obs[\"achieved_goal\"], obs[\"desired_goal\"], info)\n",
    "assert terminated == env.compute_terminated(obs[\"achieved_goal\"], obs[\"desired_goal\"], info)"
   ]
  },
  {
   "cell_type": "code",
   "execution_count": null,
   "metadata": {},
   "outputs": [],
   "source": [
    "env.compute_reward()"
   ]
  },
  {
   "cell_type": "code",
   "execution_count": null,
   "metadata": {},
   "outputs": [],
   "source": [
    "env = gym.make('FetchPush-v2', render_mode='rgb_array')"
   ]
  },
  {
   "cell_type": "code",
   "execution_count": null,
   "metadata": {},
   "outputs": [],
   "source": [
    "if hasattr(env, \"distance_threshold\"):\n",
    "    print('true')\n",
    "else:\n",
    "    print('false')"
   ]
  },
  {
   "cell_type": "code",
   "execution_count": null,
   "metadata": {},
   "outputs": [],
   "source": [
    "if env.get_wrapper_attr(\"distance_threshold\"):\n",
    "    print('true')"
   ]
  },
  {
   "cell_type": "code",
   "execution_count": null,
   "metadata": {},
   "outputs": [],
   "source": [
    "print(dir(env))\n"
   ]
  },
  {
   "cell_type": "markdown",
   "metadata": {},
   "source": [
    "# DDPG"
   ]
  },
  {
   "cell_type": "code",
   "execution_count": null,
   "metadata": {},
   "outputs": [],
   "source": [
    "env = gym.make('Pendulum-v1')"
   ]
  },
  {
   "cell_type": "code",
   "execution_count": null,
   "metadata": {},
   "outputs": [],
   "source": [
    "# build actor\n",
    "\n",
    "dense_layers = [\n",
    "    (\n",
    "        400,\n",
    "        \"relu\",\n",
    "        {\n",
    "            \"variance scaling\": {\n",
    "                \"scale\": 1.0,\n",
    "                \"mode\": \"fan_in\",\n",
    "                \"distribution\": \"uniform\",\n",
    "            }\n",
    "        },\n",
    "    ),\n",
    "    (\n",
    "        300,\n",
    "        \"relu\",\n",
    "        {\n",
    "            \"variance scaling\": {\n",
    "                \"scale\": 1.0,\n",
    "                \"mode\": \"fan_in\",\n",
    "                \"distribution\": \"uniform\",\n",
    "            }\n",
    "        },\n",
    "    )\n",
    "]\n",
    "\n",
    "actor = models.ActorModel(env, cnn_model=None, dense_layers=dense_layers, optimizer='Adam',\n",
    "                          optimizer_params={'weight_decay':0.01}, learning_rate=0.001, normalize_layers=True)"
   ]
  },
  {
   "cell_type": "code",
   "execution_count": null,
   "metadata": {},
   "outputs": [],
   "source": [
    "actor"
   ]
  },
  {
   "cell_type": "code",
   "execution_count": null,
   "metadata": {},
   "outputs": [],
   "source": [
    "ddpg_agent.actor_model"
   ]
  },
  {
   "cell_type": "code",
   "execution_count": null,
   "metadata": {},
   "outputs": [],
   "source": [
    "ddpg_agent.target_actor_model"
   ]
  },
  {
   "cell_type": "code",
   "execution_count": null,
   "metadata": {},
   "outputs": [],
   "source": [
    "# build critic\n",
    "\n",
    "state_layers = [\n",
    "    (\n",
    "        400,\n",
    "        \"relu\",\n",
    "        {\n",
    "            \"variance scaling\": {\n",
    "                \"scale\": 1.0,\n",
    "                \"mode\": \"fan_in\",\n",
    "                \"distribution\": \"uniform\",\n",
    "            }\n",
    "        },\n",
    "    )\n",
    "]\n",
    "\n",
    "merged_layers = [\n",
    "    (\n",
    "        300,\n",
    "        \"relu\",\n",
    "        {\n",
    "            \"variance scaling\": {\n",
    "                \"scale\": 1.0,\n",
    "                \"mode\": \"fan_in\",\n",
    "                \"distribution\": \"uniform\",\n",
    "            }\n",
    "        },\n",
    "    )\n",
    "]\n",
    "\n",
    "\n",
    "critic = models.CriticModel(env=env, cnn_model=None, state_layers=state_layers, merged_layers=merged_layers,\n",
    "                            optimizer='Adam', optimizer_params={'weight_decay':0.01}, learning_rate=0.002, normalize_layers=True)"
   ]
  },
  {
   "cell_type": "code",
   "execution_count": null,
   "metadata": {},
   "outputs": [],
   "source": [
    "critic"
   ]
  },
  {
   "cell_type": "code",
   "execution_count": null,
   "metadata": {},
   "outputs": [],
   "source": [
    "replay_buffer = helper.ReplayBuffer(env, 100000)\n",
    "noise = helper.OUNoise(shape=env.action_space.shape, dt=1.0, device='cuda')"
   ]
  },
  {
   "cell_type": "code",
   "execution_count": null,
   "metadata": {},
   "outputs": [],
   "source": [
    "ddpg_agent = rl_agents.DDPG(env=env,\n",
    "                            actor_model=actor,\n",
    "                            critic_model=critic,\n",
    "                            discount=0.99,\n",
    "                            tau=0.005,\n",
    "                            replay_buffer=replay_buffer,\n",
    "                            noise=noise,\n",
    "                            callbacks=[rl_callbacks.WandbCallback('Pendulum-v1')])"
   ]
  },
  {
   "cell_type": "code",
   "execution_count": null,
   "metadata": {},
   "outputs": [],
   "source": [
    "ddpg_agent.critic_model"
   ]
  },
  {
   "cell_type": "code",
   "execution_count": null,
   "metadata": {},
   "outputs": [],
   "source": [
    "ddpg_agent.target_critic_model"
   ]
  },
  {
   "cell_type": "code",
   "execution_count": null,
   "metadata": {},
   "outputs": [],
   "source": [
    "ddpg_agent.train(100, True, 10)"
   ]
  },
  {
   "cell_type": "code",
   "execution_count": null,
   "metadata": {},
   "outputs": [],
   "source": [
    "ddpg_agent.test(10, True, 1)"
   ]
  },
  {
   "cell_type": "markdown",
   "metadata": {},
   "source": [
    "# Actor Critic"
   ]
  },
  {
   "cell_type": "code",
   "execution_count": null,
   "metadata": {},
   "outputs": [],
   "source": [
    "env = gym.make(\"CartPole-v1\")"
   ]
  },
  {
   "cell_type": "code",
   "execution_count": null,
   "metadata": {},
   "outputs": [],
   "source": [
    "dense_layers = [\n",
    "    (128, 'relu', \"kaiming normal\"),\n",
    "    (256, 'relu', \"kaiming normal\"),\n",
    "    ]\n",
    "\n"
   ]
  },
  {
   "cell_type": "code",
   "execution_count": null,
   "metadata": {},
   "outputs": [],
   "source": [
    "policy_model = models.PolicyModel(env=env, dense_layers=dense_layers, optimizer='Adam', learning_rate=0.001,)"
   ]
  },
  {
   "cell_type": "code",
   "execution_count": null,
   "metadata": {},
   "outputs": [],
   "source": [
    "for param in policy_model.parameters():\n",
    "    print(param)"
   ]
  },
  {
   "cell_type": "code",
   "execution_count": null,
   "metadata": {},
   "outputs": [],
   "source": [
    "value_model = models.ValueModel(env, dense_layers=dense_layers, optimizer='Adam', learning_rate=0.001)"
   ]
  },
  {
   "cell_type": "code",
   "execution_count": null,
   "metadata": {},
   "outputs": [],
   "source": [
    "value_model"
   ]
  },
  {
   "cell_type": "code",
   "execution_count": null,
   "metadata": {},
   "outputs": [],
   "source": [
    "for params in value_model.parameters():\n",
    "    print(params)"
   ]
  },
  {
   "cell_type": "code",
   "execution_count": null,
   "metadata": {},
   "outputs": [],
   "source": [
    "actor_critic = rl_agents.ActorCritic(env,\n",
    "                                     policy_model,\n",
    "                                     value_model,\n",
    "                                     discount=0.99,\n",
    "                                     policy_trace_decay=0.5,\n",
    "                                     value_trace_decay=0.5,\n",
    "                                     callbacks=[rl_callbacks.WandbCallback('CartPole-v1-Actor-Critic')])"
   ]
  },
  {
   "cell_type": "code",
   "execution_count": null,
   "metadata": {},
   "outputs": [],
   "source": [
    "actor_critic.train(200)"
   ]
  },
  {
   "cell_type": "code",
   "execution_count": null,
   "metadata": {},
   "outputs": [],
   "source": [
    "actor_critic.test(10, True, 1)"
   ]
  },
  {
   "cell_type": "markdown",
   "metadata": {},
   "source": [
    "# REINFORCE"
   ]
  },
  {
   "cell_type": "code",
   "execution_count": null,
   "metadata": {},
   "outputs": [],
   "source": [
    "env = gym.make(\"CartPole-v1\")"
   ]
  },
  {
   "cell_type": "code",
   "execution_count": null,
   "metadata": {},
   "outputs": [],
   "source": [
    "dense_layers = [\n",
    "    (128, 'relu', {\n",
    "                    \"kaiming normal\": {\n",
    "                        \"a\":1.0,\n",
    "                        \"mode\":'fan_in'\n",
    "                    }\n",
    "                },\n",
    "    ),\n",
    "    # (256, 'relu', {\n",
    "    #                 \"kaiming_normal\": {\n",
    "    #                     \"a\":0.0,\n",
    "    #                     \"mode\":'fan_in'\n",
    "    #                 }\n",
    "    #             },\n",
    "    # )\n",
    "    ]"
   ]
  },
  {
   "cell_type": "code",
   "execution_count": null,
   "metadata": {},
   "outputs": [],
   "source": [
    "dense_layers = [(128, 'relu', \"kaiming normal\")]"
   ]
  },
  {
   "cell_type": "code",
   "execution_count": null,
   "metadata": {},
   "outputs": [],
   "source": [
    "value_model = models.ValueModel(env, dense_layers, 'Adam', 0.001)"
   ]
  },
  {
   "cell_type": "code",
   "execution_count": null,
   "metadata": {},
   "outputs": [],
   "source": [
    "for param in value_model.parameters():\n",
    "    print(param)"
   ]
  },
  {
   "cell_type": "code",
   "execution_count": null,
   "metadata": {},
   "outputs": [],
   "source": [
    "policy_model = models.PolicyModel(env, dense_layers, 'Adam', 0.001)"
   ]
  },
  {
   "cell_type": "code",
   "execution_count": null,
   "metadata": {},
   "outputs": [],
   "source": [
    "for param in policy_model.parameters():\n",
    "    print(param)"
   ]
  },
  {
   "cell_type": "code",
   "execution_count": null,
   "metadata": {},
   "outputs": [],
   "source": [
    "reinforce = rl_agents.Reinforce(env, policy_model, value_model, 0.99, [rl_callbacks.WandbCallback('CartPole-v0_REINFORCE', chkpt_freq=100)])"
   ]
  },
  {
   "cell_type": "code",
   "execution_count": null,
   "metadata": {},
   "outputs": [],
   "source": [
    "reinforce.train(200, True, 50)"
   ]
  },
  {
   "cell_type": "code",
   "execution_count": null,
   "metadata": {},
   "outputs": [],
   "source": [
    "reinforce.test(10, True, 1)"
   ]
  },
  {
   "cell_type": "markdown",
   "metadata": {},
   "source": [
    "# DDPG w/CNN"
   ]
  },
  {
   "cell_type": "code",
   "execution_count": null,
   "metadata": {},
   "outputs": [],
   "source": [
    "env = gym.make('CarRacing-v2')"
   ]
  },
  {
   "cell_type": "code",
   "execution_count": null,
   "metadata": {},
   "outputs": [],
   "source": [
    "cnn_layers = [\n",
    "    # {\n",
    "    #     \"batchnorm\":\n",
    "    #     {\n",
    "    #         \"num_features\":3\n",
    "    #     }\n",
    "    # },\n",
    "    {\n",
    "        \"conv\":\n",
    "        {\n",
    "            \"out_channels\": 32,\n",
    "            \"kernel_size\": 7,\n",
    "            \"stride\": 3,\n",
    "            \"padding\": 'valid',\n",
    "            \"bias\": False\n",
    "        }\n",
    "    },\n",
    "    {\n",
    "        \"relu\":\n",
    "        {\n",
    "\n",
    "        }\n",
    "    },\n",
    "    {\n",
    "        \"batchnorm\":\n",
    "        {\n",
    "            \"num_features\":32\n",
    "        }\n",
    "    },\n",
    "    {\n",
    "        \"conv\":\n",
    "        {\n",
    "            \"out_channels\": 32,\n",
    "            \"kernel_size\": 5,\n",
    "            \"stride\": 3,\n",
    "            \"padding\": 'valid',\n",
    "            \"bias\": False,\n",
    "        }\n",
    "    },\n",
    "    {\n",
    "        \"relu\":\n",
    "        {\n",
    "\n",
    "        }\n",
    "    },\n",
    "    {\n",
    "        \"batchnorm\":\n",
    "        {\n",
    "            \"num_features\":32\n",
    "        }\n",
    "    },\n",
    "    {\n",
    "        \"conv\":\n",
    "        {\n",
    "            \"out_channels\": 32,\n",
    "            \"kernel_size\": 3,\n",
    "            \"stride\": 3,\n",
    "            \"padding\": 'valid',\n",
    "            \"bias\": False,\n",
    "        }\n",
    "    },\n",
    "]"
   ]
  },
  {
   "cell_type": "code",
   "execution_count": null,
   "metadata": {},
   "outputs": [],
   "source": [
    "cnn = cnn_models.CNN(cnn_layers, env)"
   ]
  },
  {
   "cell_type": "code",
   "execution_count": null,
   "metadata": {},
   "outputs": [],
   "source": [
    "cnn"
   ]
  },
  {
   "cell_type": "code",
   "execution_count": null,
   "metadata": {},
   "outputs": [],
   "source": [
    "# build actor\n",
    "\n",
    "dense_layers = [\n",
    "    (\n",
    "        64,\n",
    "        \"relu\",\n",
    "        {\n",
    "            \"variance scaling\": {\n",
    "                \"scale\": 1.0,\n",
    "                \"mode\": \"fan_in\",\n",
    "                \"distribution\": \"uniform\",\n",
    "            }\n",
    "        },\n",
    "    ),\n",
    "    (\n",
    "        64,\n",
    "        \"relu\",\n",
    "        {\n",
    "            \"variance scaling\": {\n",
    "                \"scale\": 1.0,\n",
    "                \"mode\": \"fan_in\",\n",
    "                \"distribution\": \"uniform\",\n",
    "            }\n",
    "        },\n",
    "    ),\n",
    "    (\n",
    "        64,\n",
    "        \"relu\",\n",
    "        {\n",
    "            \"variance scaling\": {\n",
    "                \"scale\": 1.0,\n",
    "                \"mode\": \"fan_in\",\n",
    "                \"distribution\": \"uniform\",\n",
    "            }\n",
    "        },\n",
    "    ),\n",
    "]\n",
    "\n",
    "actor = models.ActorModel(env, cnn_model=cnn, dense_layers=dense_layers, optimizer=\"Adam\", optimizer_params={'weight_decay':0.0}, learning_rate=0.0001, normalize=False)"
   ]
  },
  {
   "cell_type": "code",
   "execution_count": null,
   "metadata": {},
   "outputs": [],
   "source": [
    "actor"
   ]
  },
  {
   "cell_type": "code",
   "execution_count": null,
   "metadata": {},
   "outputs": [],
   "source": [
    "# build critic\n",
    "\n",
    "state_layers = [\n",
    "    \n",
    "]\n",
    "\n",
    "merged_layers = [\n",
    "    (\n",
    "        64,\n",
    "        \"relu\",\n",
    "        {\n",
    "            \"variance scaling\": {\n",
    "                \"scale\": 1.0,\n",
    "                \"mode\": \"fan_in\",\n",
    "                \"distribution\": \"uniform\",\n",
    "            }\n",
    "        },\n",
    "    ),\n",
    "    (\n",
    "        64,\n",
    "        \"relu\",\n",
    "        {\n",
    "            \"variance scaling\": {\n",
    "                \"scale\": 1.0,\n",
    "                \"mode\": \"fan_in\",\n",
    "                \"distribution\": \"uniform\",\n",
    "            }\n",
    "        },\n",
    "    ),\n",
    "    (\n",
    "        64,\n",
    "        \"relu\",\n",
    "        {\n",
    "            \"variance scaling\": {\n",
    "                \"scale\": 1.0,\n",
    "                \"mode\": \"fan_in\",\n",
    "                \"distribution\": \"uniform\",\n",
    "            }\n",
    "        },\n",
    "    )\n",
    "]\n",
    "\n",
    "\n",
    "critic = models.CriticModel(env=env, cnn_model=cnn, state_layers=state_layers, merged_layers=merged_layers, optimizer=\"Adam\", optimizer_params={'weight_decay':0.0}, learning_rate=0.0001, normalize=False)"
   ]
  },
  {
   "cell_type": "code",
   "execution_count": null,
   "metadata": {},
   "outputs": [],
   "source": [
    "critic"
   ]
  },
  {
   "cell_type": "code",
   "execution_count": null,
   "metadata": {},
   "outputs": [],
   "source": [
    "replay_buffer = helper.ReplayBuffer(env, 1000000, goal_shape=(1,))\n",
    "noise = helper.OUNoise(shape=env.action_space.shape, mean=0.0, theta=0.15, sigma=0.01, dt=1.0, device='cuda')"
   ]
  },
  {
   "cell_type": "code",
   "execution_count": null,
   "metadata": {},
   "outputs": [],
   "source": [
    "ddpg_agent = rl_agents.DDPG(\n",
    "    env,\n",
    "    actor,\n",
    "    critic,\n",
    "    discount=0.98,\n",
    "    tau=0.05,\n",
    "    action_epsilon=0.2,\n",
    "    replay_buffer=replay_buffer,\n",
    "    batch_size=128,\n",
    "    noise=noise,\n",
    "    callbacks=[rl_callbacks.WandbCallback(\"CarRacing-v2\")]\n",
    ")"
   ]
  },
  {
   "cell_type": "code",
   "execution_count": null,
   "metadata": {},
   "outputs": [],
   "source": [
    "ddpg_agent.train(1000, True, 10)"
   ]
  },
  {
   "cell_type": "code",
   "execution_count": null,
   "metadata": {},
   "outputs": [],
   "source": [
    "wandb.finish()"
   ]
  },
  {
   "cell_type": "code",
   "execution_count": null,
   "metadata": {},
   "outputs": [],
   "source": [
    "wandb.login()"
   ]
  },
  {
   "cell_type": "markdown",
   "metadata": {},
   "source": [
    "# HER"
   ]
  },
  {
   "cell_type": "code",
   "execution_count": null,
   "metadata": {},
   "outputs": [],
   "source": [
    "env = gym.make(\"Reacher-v4\")"
   ]
  },
  {
   "cell_type": "code",
   "execution_count": null,
   "metadata": {},
   "outputs": [],
   "source": [
    "_,_ = env.reset()"
   ]
  },
  {
   "cell_type": "code",
   "execution_count": null,
   "metadata": {},
   "outputs": [],
   "source": [
    "achieved_goal = gym_helper.reacher_achieved_goal(env)\n",
    "action = env.action_space.sample()\n",
    "env.step(action)\n",
    "print(f'observation: {env.get_wrapper_attr(\"_get_obs\")()}')\n",
    "print(f'distance to goal: {env.get_wrapper_attr(\"_get_obs\")()[8::]}')\n",
    "print(f'fingertip: {env.get_wrapper_attr(\"get_body_com\")(\"fingertip\")}')\n",
    "print(f'target: {env.get_wrapper_attr(\"get_body_com\")(\"target\")}')"
   ]
  },
  {
   "cell_type": "code",
   "execution_count": null,
   "metadata": {},
   "outputs": [],
   "source": [
    "next_achieved_goal = env.get_wrapper_attr(\"_get_obs\")()[8::]\n",
    "desired_goal = [0.0, 0.0, 0.0]"
   ]
  },
  {
   "cell_type": "code",
   "execution_count": null,
   "metadata": {},
   "outputs": [],
   "source": [
    "reward_func(env, action, achieved_goal, next_achieved_goal, desired_goal, 0.05)"
   ]
  },
  {
   "cell_type": "code",
   "execution_count": null,
   "metadata": {},
   "outputs": [],
   "source": [
    "desired_goal_func, achieved_goal_func, reward_func = gym_helper.get_her_goal_functions(env)"
   ]
  },
  {
   "cell_type": "code",
   "execution_count": null,
   "metadata": {},
   "outputs": [],
   "source": [
    "desired_goal_func(env).shape"
   ]
  },
  {
   "cell_type": "code",
   "execution_count": null,
   "metadata": {},
   "outputs": [],
   "source": [
    "# build actor\n",
    "\n",
    "dense_layers = [\n",
    "    (\n",
    "        256,\n",
    "        \"relu\",\n",
    "        {\n",
    "            \"variance scaling\": {\n",
    "                \"scale\": 1.0,\n",
    "                \"mode\": \"fan_in\",\n",
    "                \"distribution\": \"uniform\",\n",
    "            }\n",
    "        },\n",
    "    ),\n",
    "    (\n",
    "        256,\n",
    "        \"relu\",\n",
    "        {\n",
    "            \"variance scaling\": {\n",
    "                \"scale\": 1.0,\n",
    "                \"mode\": \"fan_in\",\n",
    "                \"distribution\": \"uniform\",\n",
    "            }\n",
    "        },\n",
    "    ),\n",
    "    (\n",
    "        256,\n",
    "        \"relu\",\n",
    "        {\n",
    "            \"variance scaling\": {\n",
    "                \"scale\": 1.0,\n",
    "                \"mode\": \"fan_in\",\n",
    "                \"distribution\": \"uniform\",\n",
    "            }\n",
    "        },\n",
    "    ),\n",
    "]\n",
    "\n",
    "actor = models.ActorModel(env,\n",
    "                          cnn_model=None,\n",
    "                          dense_layers=dense_layers,\n",
    "                          goal_shape=(3,),\n",
    "                          optimizer=\"Adam\",\n",
    "                          optimizer_params={'weight_decay':0.0},\n",
    "                          learning_rate=0.0001, normalize=False)"
   ]
  },
  {
   "cell_type": "code",
   "execution_count": null,
   "metadata": {},
   "outputs": [],
   "source": [
    "# build critic\n",
    "\n",
    "state_layers = [\n",
    "    \n",
    "]\n",
    "\n",
    "merged_layers = [\n",
    "    (\n",
    "        256,\n",
    "        \"relu\",\n",
    "        {\n",
    "            \"variance scaling\": {\n",
    "                \"scale\": 1.0,\n",
    "                \"mode\": \"fan_in\",\n",
    "                \"distribution\": \"uniform\",\n",
    "            }\n",
    "        },\n",
    "    ),\n",
    "    (\n",
    "        256,\n",
    "        \"relu\",\n",
    "        {\n",
    "            \"variance scaling\": {\n",
    "                \"scale\": 1.0,\n",
    "                \"mode\": \"fan_in\",\n",
    "                \"distribution\": \"uniform\",\n",
    "            }\n",
    "        },\n",
    "    ),\n",
    "    (\n",
    "        256,\n",
    "        \"relu\",\n",
    "        {\n",
    "            \"variance scaling\": {\n",
    "                \"scale\": 1.0,\n",
    "                \"mode\": \"fan_in\",\n",
    "                \"distribution\": \"uniform\",\n",
    "            }\n",
    "        },\n",
    "    )\n",
    "]\n",
    "\n",
    "\n",
    "critic = models.CriticModel(env=env,\n",
    "                            cnn_model=None,\n",
    "                            state_layers=state_layers,\n",
    "                            merged_layers=merged_layers,\n",
    "                            goal_shape=(3,),\n",
    "                            optimizer=\"Adam\",\n",
    "                            optimizer_params={'weight_decay':0.0},\n",
    "                            learning_rate=0.0001,\n",
    "                            normalize=False)"
   ]
  },
  {
   "cell_type": "code",
   "execution_count": null,
   "metadata": {},
   "outputs": [],
   "source": [
    "goal_shape = desired_goal_func(env).shape\n",
    "replay_buffer = helper.ReplayBuffer(env, 100000, goal_shape)\n",
    "# noise = helper.OUNoise(shape=env.action_space.shape,\n",
    "#                        mean=0.0,\n",
    "#                        theta=0.05,\n",
    "#                        sigma=0.15,\n",
    "#                        dt=1.0, device='cuda')\n",
    "\n",
    "noise=helper.NormalNoise(shape=env.action_space.shape,\n",
    "                         mean = 0.0,\n",
    "                         stddev=0.05,\n",
    "                         )"
   ]
  },
  {
   "cell_type": "code",
   "execution_count": null,
   "metadata": {},
   "outputs": [],
   "source": [
    "ddpg_agent = rl_agents.DDPG(env=env,\n",
    "                            actor_model=actor,\n",
    "                            critic_model=critic,\n",
    "                            discount=0.98,\n",
    "                            tau=0.05,\n",
    "                            action_epsilon=0.2,\n",
    "                            replay_buffer=replay_buffer,\n",
    "                            batch_size=256,\n",
    "                            noise=noise,\n",
    "                            callbacks=[rl_callbacks.WandbCallback('Reacher-v4')])"
   ]
  },
  {
   "cell_type": "code",
   "execution_count": null,
   "metadata": {},
   "outputs": [],
   "source": [
    "her = rl_agents.HER(ddpg_agent,\n",
    "                    strategy='future',\n",
    "                    num_goals=4,\n",
    "                    tolerance=0.001,\n",
    "                    desired_goal=desired_goal_func,\n",
    "                    achieved_goal=achieved_goal_func,\n",
    "                    reward_fn=reward_func)"
   ]
  },
  {
   "cell_type": "code",
   "execution_count": null,
   "metadata": {},
   "outputs": [],
   "source": [
    "her.train(10, 50, 16, 40, True, 1000)"
   ]
  },
  {
   "cell_type": "code",
   "execution_count": null,
   "metadata": {},
   "outputs": [],
   "source": [
    "wandb.finish()"
   ]
  },
  {
   "cell_type": "code",
   "execution_count": null,
   "metadata": {},
   "outputs": [],
   "source": [
    "her.test(10, True, 1)"
   ]
  },
  {
   "cell_type": "code",
   "execution_count": null,
   "metadata": {},
   "outputs": [],
   "source": [
    "her.save()"
   ]
  },
  {
   "cell_type": "code",
   "execution_count": null,
   "metadata": {},
   "outputs": [],
   "source": [
    "her.agent.goal_normalizer.running_std"
   ]
  },
  {
   "cell_type": "code",
   "execution_count": null,
   "metadata": {},
   "outputs": [],
   "source": [
    "loaded_her = rl_agents.HER.load(\"/workspaces/RL_Agents/pytorch/src/app/assets/models/her\")"
   ]
  },
  {
   "cell_type": "code",
   "execution_count": null,
   "metadata": {},
   "outputs": [],
   "source": [
    "loaded_her.agent.replay_buffer.sample(10)"
   ]
  },
  {
   "cell_type": "code",
   "execution_count": null,
   "metadata": {},
   "outputs": [],
   "source": [
    "loaded_her.agent.state_normalizer.running_cnt"
   ]
  },
  {
   "cell_type": "code",
   "execution_count": null,
   "metadata": {},
   "outputs": [],
   "source": [
    "loaded_her.get_config()"
   ]
  },
  {
   "cell_type": "code",
   "execution_count": null,
   "metadata": {},
   "outputs": [],
   "source": [
    "loaded_her.test(10, True, 1)"
   ]
  },
  {
   "cell_type": "code",
   "execution_count": null,
   "metadata": {},
   "outputs": [],
   "source": [
    "10e4"
   ]
  },
  {
   "cell_type": "markdown",
   "metadata": {},
   "source": [
    "# HER w/CNN"
   ]
  },
  {
   "cell_type": "code",
   "execution_count": null,
   "metadata": {},
   "outputs": [],
   "source": [
    "env = gym.make('CarRacing-v2')"
   ]
  },
  {
   "cell_type": "code",
   "execution_count": null,
   "metadata": {},
   "outputs": [],
   "source": [
    "_,_ = env.reset()"
   ]
  },
  {
   "cell_type": "code",
   "execution_count": null,
   "metadata": {},
   "outputs": [],
   "source": [
    "desired_goal_func, achieved_goal_func, reward_func = gym_helper.get_her_goal_functions(env)"
   ]
  },
  {
   "cell_type": "code",
   "execution_count": null,
   "metadata": {},
   "outputs": [],
   "source": [
    "desired_goal(env).shape"
   ]
  },
  {
   "cell_type": "code",
   "execution_count": null,
   "metadata": {},
   "outputs": [],
   "source": [
    "cnn_layers = [\n",
    "    # {\n",
    "    #     \"batchnorm\":\n",
    "    #     {\n",
    "    #         \"num_features\":3\n",
    "    #     }\n",
    "    # },\n",
    "    {\n",
    "        \"conv\":\n",
    "        {\n",
    "            \"out_channels\": 32,\n",
    "            \"kernel_size\": 7,\n",
    "            \"stride\": 3,\n",
    "            \"padding\": 'valid',\n",
    "            \"bias\": False\n",
    "        }\n",
    "    },\n",
    "    {\n",
    "        \"relu\":\n",
    "        {\n",
    "\n",
    "        }\n",
    "    },\n",
    "    {\n",
    "        \"batchnorm\":\n",
    "        {\n",
    "            \"num_features\":32\n",
    "        }\n",
    "    },\n",
    "    {\n",
    "        \"conv\":\n",
    "        {\n",
    "            \"out_channels\": 32,\n",
    "            \"kernel_size\": 5,\n",
    "            \"stride\": 3,\n",
    "            \"padding\": 'valid',\n",
    "            \"bias\": False,\n",
    "        }\n",
    "    },\n",
    "    {\n",
    "        \"relu\":\n",
    "        {\n",
    "\n",
    "        }\n",
    "    },\n",
    "    {\n",
    "        \"batchnorm\":\n",
    "        {\n",
    "            \"num_features\":32\n",
    "        }\n",
    "    },\n",
    "    {\n",
    "        \"conv\":\n",
    "        {\n",
    "            \"out_channels\": 32,\n",
    "            \"kernel_size\": 3,\n",
    "            \"stride\": 3,\n",
    "            \"padding\": 'valid',\n",
    "            \"bias\": False,\n",
    "        }\n",
    "    },\n",
    "]\n",
    "\n",
    "cnn = cnn_models.CNN(cnn_layers, env)"
   ]
  },
  {
   "cell_type": "code",
   "execution_count": null,
   "metadata": {},
   "outputs": [],
   "source": [
    "# build actor\n",
    "\n",
    "dense_layers = [\n",
    "    (\n",
    "        256,\n",
    "        \"relu\",\n",
    "        {\n",
    "            \"variance scaling\": {\n",
    "                \"scale\": 1.0,\n",
    "                \"mode\": \"fan_in\",\n",
    "                \"distribution\": \"uniform\",\n",
    "            }\n",
    "        },\n",
    "    ),\n",
    "    (\n",
    "        256,\n",
    "        \"relu\",\n",
    "        {\n",
    "            \"variance scaling\": {\n",
    "                \"scale\": 1.0,\n",
    "                \"mode\": \"fan_in\",\n",
    "                \"distribution\": \"uniform\",\n",
    "            }\n",
    "        },\n",
    "    ),\n",
    "    (\n",
    "        256,\n",
    "        \"relu\",\n",
    "        {\n",
    "            \"variance scaling\": {\n",
    "                \"scale\": 1.0,\n",
    "                \"mode\": \"fan_in\",\n",
    "                \"distribution\": \"uniform\",\n",
    "            }\n",
    "        },\n",
    "    ),\n",
    "]\n",
    "\n",
    "actor = models.ActorModel(env,\n",
    "                          cnn_model=cnn,\n",
    "                          dense_layers=dense_layers,\n",
    "                          goal_shape=(1,),\n",
    "                          optimizer=\"Adam\",\n",
    "                          optimizer_params={'weight_decay':0.0},\n",
    "                          learning_rate=0.001, normalize=False)"
   ]
  },
  {
   "cell_type": "code",
   "execution_count": null,
   "metadata": {},
   "outputs": [],
   "source": [
    "actor"
   ]
  },
  {
   "cell_type": "code",
   "execution_count": null,
   "metadata": {},
   "outputs": [],
   "source": [
    "# build critic\n",
    "\n",
    "state_layers = [\n",
    "    \n",
    "]\n",
    "\n",
    "merged_layers = [\n",
    "    (\n",
    "        256,\n",
    "        \"relu\",\n",
    "        {\n",
    "            \"variance scaling\": {\n",
    "                \"scale\": 1.0,\n",
    "                \"mode\": \"fan_in\",\n",
    "                \"distribution\": \"uniform\",\n",
    "            }\n",
    "        },\n",
    "    ),\n",
    "    (\n",
    "        256,\n",
    "        \"relu\",\n",
    "        {\n",
    "            \"variance scaling\": {\n",
    "                \"scale\": 1.0,\n",
    "                \"mode\": \"fan_in\",\n",
    "                \"distribution\": \"uniform\",\n",
    "            }\n",
    "        },\n",
    "    ),\n",
    "    (\n",
    "        256,\n",
    "        \"relu\",\n",
    "        {\n",
    "            \"variance scaling\": {\n",
    "                \"scale\": 1.0,\n",
    "                \"mode\": \"fan_in\",\n",
    "                \"distribution\": \"uniform\",\n",
    "            }\n",
    "        },\n",
    "    )\n",
    "]\n",
    "\n",
    "\n",
    "critic = models.CriticModel(env=env,\n",
    "                            cnn_model=cnn,\n",
    "                            state_layers=state_layers,\n",
    "                            merged_layers=merged_layers,\n",
    "                            goal_shape=(1,),\n",
    "                            optimizer=\"Adam\",\n",
    "                            optimizer_params={'weight_decay':0.0},\n",
    "                            learning_rate=0.001,\n",
    "                            normalize=False)"
   ]
  },
  {
   "cell_type": "code",
   "execution_count": null,
   "metadata": {},
   "outputs": [],
   "source": [
    "critic"
   ]
  },
  {
   "cell_type": "code",
   "execution_count": null,
   "metadata": {},
   "outputs": [],
   "source": [
    "goal_shape = desired_goal_func(env).shape\n",
    "replay_buffer = helper.ReplayBuffer(env, 100000, goal_shape)\n",
    "# noise = helper.OUNoise(shape=env.action_space.shape,\n",
    "#                        mean=0.0,\n",
    "#                        theta=0.05,\n",
    "#                        sigma=0.15,\n",
    "#                        dt=1.0, device='cuda')\n",
    "\n",
    "noise=helper.NormalNoise(shape=env.action_space.shape,\n",
    "                         mean = 0.0,\n",
    "                         stddev=0.05,\n",
    "                         )"
   ]
  },
  {
   "cell_type": "code",
   "execution_count": null,
   "metadata": {},
   "outputs": [],
   "source": [
    "ddpg_agent = rl_agents.DDPG(env=env,\n",
    "                            actor_model=actor,\n",
    "                            critic_model=critic,\n",
    "                            discount=0.98,\n",
    "                            tau=0.05,\n",
    "                            action_epsilon=0.2,\n",
    "                            replay_buffer=replay_buffer,\n",
    "                            batch_size=256,\n",
    "                            noise=noise,\n",
    "                            callbacks=[rl_callbacks.WandbCallback('CarRacing-v2')])"
   ]
  },
  {
   "cell_type": "code",
   "execution_count": null,
   "metadata": {},
   "outputs": [],
   "source": [
    "ddpg_agent.actor_model"
   ]
  },
  {
   "cell_type": "code",
   "execution_count": null,
   "metadata": {},
   "outputs": [],
   "source": [
    "her = rl_agents.HER(ddpg_agent,\n",
    "                    strategy='future',\n",
    "                    num_goals=4,\n",
    "                    tolerance=1,\n",
    "                    desired_goal=desired_goal_func,\n",
    "                    achieved_goal=achieved_goal_func,\n",
    "                    reward_fn=reward_func)"
   ]
  },
  {
   "cell_type": "code",
   "execution_count": null,
   "metadata": {},
   "outputs": [],
   "source": [
    "her.agent.actor_model"
   ]
  },
  {
   "cell_type": "code",
   "execution_count": null,
   "metadata": {},
   "outputs": [],
   "source": [
    "her.train(num_epochs=20,\n",
    "          num_cycles=50,\n",
    "          num_episodes=16,\n",
    "          num_updates=40,\n",
    "          render=True,\n",
    "          render_freq=20\n",
    "        )"
   ]
  },
  {
   "cell_type": "code",
   "execution_count": null,
   "metadata": {},
   "outputs": [],
   "source": [
    "her = rl_agents.HER.load(\"/workspaces/RL_Agents/pytorch/src/app/models/her\")"
   ]
  },
  {
   "cell_type": "code",
   "execution_count": null,
   "metadata": {},
   "outputs": [],
   "source": [
    "wandb.finish()"
   ]
  },
  {
   "cell_type": "code",
   "execution_count": null,
   "metadata": {},
   "outputs": [],
   "source": [
    "# reset environment\n",
    "state, _ = her.agent.env.reset()\n",
    "# instantiate empty lists to store current episode trajectory\n",
    "states, actions, next_states, dones, state_achieved_goals, \\\n",
    "next_state_achieved_goals, desired_goals = [], [], [], [], [], [], []\n",
    "# set desired goal\n",
    "desired_goal = her.desired_goal_func(her.agent.env)\n",
    "# set achieved goal\n",
    "state_achieved_goal = her.achieved_goal_func(her.agent.env)\n",
    "# add initial state and goals to local normalizer stats\n",
    "her.state_normalizer.update_local_stats(state)\n",
    "her.goal_normalizer.update_local_stats(desired_goal)\n",
    "her.goal_normalizer.update_local_stats(state_achieved_goal)\n",
    "# set done flag\n",
    "done = False\n",
    "# reset episode reward to 0\n",
    "episode_reward = 0\n",
    "# reset steps counter for the episode\n",
    "episode_steps = 0\n",
    "\n",
    "while not done:\n",
    "    # get normalized values for state and desired goal\n",
    "    state_norm = her.state_normalizer.normalize(state)\n",
    "    desired_goal_norm = her.goal_normalizer.normalize(desired_goal)\n",
    "    # get action\n",
    "    action = her.agent.get_action(state_norm, desired_goal_norm, grad=False)\n",
    "    # take action\n",
    "    next_state, reward, term, trunc, _ = her.agent.env.step(action)\n",
    "    # get next state achieved goal\n",
    "    next_state_achieved_goal = her.achieved_goal_func(her.agent.env)\n",
    "    # add next state and next state achieved goal to normalizers\n",
    "    her.state_normalizer.update_local_stats(next_state)\n",
    "    her.goal_normalizer.update_local_stats(next_state_achieved_goal)\n",
    "    # store trajectory in replay buffer (non normalized!)\n",
    "    her.agent.replay_buffer.add(state, action, reward, next_state, done,\\\n",
    "                                    state_achieved_goal, next_state_achieved_goal, desired_goal)\n",
    "    \n",
    "    # append step state, action, next state, and goals to respective lists\n",
    "    states.append(state)\n",
    "    actions.append(action)\n",
    "    next_states.append(next_state)\n",
    "    dones.append(done)\n",
    "    state_achieved_goals.append(state_achieved_goal)\n",
    "    next_state_achieved_goals.append(next_state_achieved_goal)\n",
    "    desired_goals.append(desired_goal)\n",
    "\n",
    "    # add to episode reward and increment steps counter\n",
    "    episode_reward += reward\n",
    "    episode_steps += 1\n",
    "    # update state and state achieved goal\n",
    "    state = next_state\n",
    "    state_achieved_goal = next_state_achieved_goal\n",
    "    # update done flag\n",
    "    if term or trunc:\n",
    "        done = True"
   ]
  },
  {
   "cell_type": "code",
   "execution_count": null,
   "metadata": {},
   "outputs": [],
   "source": [
    "# package episode states, actions, next states, and goals into trajectory tuple\n",
    "trajectory = (states, actions, next_states, dones, state_achieved_goals, next_state_achieved_goals, desired_goals)"
   ]
  },
  {
   "cell_type": "code",
   "execution_count": null,
   "metadata": {},
   "outputs": [],
   "source": [
    "states, actions, next_states, dones, state_achieved_goals, next_state_achieved_goals, desired_goals = trajectory"
   ]
  },
  {
   "cell_type": "code",
   "execution_count": null,
   "metadata": {},
   "outputs": [],
   "source": [
    "for idx, (s, a, ns, d, sag, nsag, dg) in enumerate(zip(states, actions, next_states, dones, state_achieved_goals, next_state_achieved_goals, desired_goals)):\n",
    "    print(f'a={a}, d={d}, sag={sag}, nsag={nsag}, dg={dg}')"
   ]
  },
  {
   "cell_type": "code",
   "execution_count": null,
   "metadata": {},
   "outputs": [],
   "source": [
    "strategy = \"future\"\n",
    "num_goals = 4\n",
    "\n",
    "# loop over each step in the trajectory to set new achieved goals, calculate new reward, and save to replay buffer\n",
    "for idx, (state, action, next_state, done, state_achieved_goal, next_state_achieved_goal, desired_goal) in enumerate(zip(states, actions, next_states, dones, state_achieved_goals, next_state_achieved_goals, desired_goals)):\n",
    "\n",
    "    if strategy == \"final\":\n",
    "        new_desired_goal = next_state_achieved_goals[-1]\n",
    "        new_reward = her.reward_fn(state_achieved_goal, next_state_achieved_goal, new_desired_goal)\n",
    "        print(f'transition: action={action}, reward={new_reward}, done={done}, state_achieved_goal={state_achieved_goal}, next_state_achieved_goal={next_state_achieved_goal}, desired_goal={new_desired_goal}')\n",
    "        her.agent.replay_buffer.add(state, action, new_reward, next_state, done, state_achieved_goal, next_state_achieved_goal, new_desired_goal)\n",
    "\n",
    "    if strategy == 'future':\n",
    "        for i in range(num_goals):\n",
    "            if idx + i + 1 >= len(states):\n",
    "                break\n",
    "            goal_idx = np.random.randint(idx + 1, len(states))\n",
    "            new_desired_goal = next_state_achieved_goals[goal_idx]\n",
    "            new_reward = her.reward_fn(state_achieved_goal, next_state_achieved_goal, new_desired_goal)\n",
    "            print(f'transition: action={action}, reward={new_reward}, done={done}, state_achieved_goal={state_achieved_goal}, next_state_achieved_goal={next_state_achieved_goal}, desired_goal={new_desired_goal}')\n",
    "            her.agent.replay_buffer.add(state, action, new_reward, next_state, done, state_achieved_goal, next_state_achieved_goal, new_desired_goal)\n",
    "    \n",
    "\n",
    "    \n"
   ]
  },
  {
   "cell_type": "code",
   "execution_count": null,
   "metadata": {},
   "outputs": [],
   "source": [
    "s, a, r, ns, d, sag, nsag, dg = her.agent.replay_buffer.sample(100)"
   ]
  },
  {
   "cell_type": "code",
   "execution_count": null,
   "metadata": {},
   "outputs": [],
   "source": [
    "for i in range(100):\n",
    "    print(f'{i}: a={a[i]}, r={r[i]}, d={d[i]}, sag={sag[i]}, nsag={nsag[i]}, dg={dg[i]} ')"
   ]
  },
  {
   "cell_type": "markdown",
   "metadata": {},
   "source": [
    "# HER Pendulum"
   ]
  },
  {
   "cell_type": "code",
   "execution_count": null,
   "metadata": {},
   "outputs": [],
   "source": [
    "env = gym.make('Pendulum-v1')"
   ]
  },
  {
   "cell_type": "code",
   "execution_count": null,
   "metadata": {},
   "outputs": [],
   "source": [
    "# build actor\n",
    "\n",
    "dense_layers = [\n",
    "    (\n",
    "        400,\n",
    "        \"relu\",\n",
    "        {\n",
    "            \"variance scaling\": {\n",
    "                \"scale\": 1.0,\n",
    "                \"mode\": \"fan_in\",\n",
    "                \"distribution\": \"uniform\",\n",
    "            }\n",
    "        },\n",
    "    ),\n",
    "    (\n",
    "        300,\n",
    "        \"relu\",\n",
    "        {\n",
    "            \"variance scaling\": {\n",
    "                \"scale\": 1.0,\n",
    "                \"mode\": \"fan_in\",\n",
    "                \"distribution\": \"uniform\",\n",
    "            }\n",
    "        },\n",
    "    )\n",
    "]\n",
    "\n",
    "actor = models.ActorModel(env, cnn_model=None, dense_layers=dense_layers, optimizer='Adam',\n",
    "                          optimizer_params={'weight_decay':0.01}, learning_rate=0.001, normalize=False)"
   ]
  },
  {
   "cell_type": "code",
   "execution_count": null,
   "metadata": {},
   "outputs": [],
   "source": [
    "# build critic\n",
    "\n",
    "state_layers = [\n",
    "    \n",
    "]\n",
    "\n",
    "merged_layers = [\n",
    "    (\n",
    "        64,\n",
    "        \"relu\",\n",
    "        {\n",
    "            \"kaiming uniform\": {\n",
    "                \n",
    "            }\n",
    "        },\n",
    "    ),\n",
    "    (\n",
    "        64,\n",
    "        \"relu\",\n",
    "        {\n",
    "            \"kaiming uniform\": {\n",
    "                \n",
    "            }\n",
    "        },\n",
    "    ),\n",
    "    (\n",
    "        64,\n",
    "        \"relu\",\n",
    "        {\n",
    "            \"kaiming uniform\": {\n",
    "                \n",
    "            }\n",
    "        },\n",
    "    )\n",
    "]\n",
    "\n",
    "\n",
    "critic = models.CriticModel(env=env, cnn_model=None, state_layers=state_layers, merged_layers=merged_layers, optimizer=\"Adam\", optimizer_params={'weight_decay':0.0}, learning_rate=0.001, normalize=False)"
   ]
  },
  {
   "cell_type": "code",
   "execution_count": null,
   "metadata": {},
   "outputs": [],
   "source": [
    "replay_buffer = helper.ReplayBuffer(env, 100000, (3,))\n",
    "noise = helper.OUNoise(shape=env.action_space.shape, dt=1.0, device='cuda')"
   ]
  },
  {
   "cell_type": "code",
   "execution_count": null,
   "metadata": {},
   "outputs": [],
   "source": [
    "ddpg_agent = rl_agents.DDPG(env=env,\n",
    "                            actor_model=actor,\n",
    "                            critic_model=critic,\n",
    "                            discount=0.99,\n",
    "                            tau=0.005,\n",
    "                            replay_buffer=replay_buffer,\n",
    "                            noise=noise,\n",
    "                            callbacks=[rl_callbacks.WandbCallback('Pendulum-v1')])"
   ]
  },
  {
   "cell_type": "code",
   "execution_count": null,
   "metadata": {},
   "outputs": [],
   "source": [
    "def desired_goal_func(env):\n",
    "    return np.array([0.0, 0.0, 0.0])\n",
    "\n",
    "def achieved_goal_func(env):\n",
    "    return env.get_wrapper_attr('_get_obs')()\n",
    "\n",
    "def reward_func(env):\n",
    "    pass"
   ]
  },
  {
   "cell_type": "code",
   "execution_count": null,
   "metadata": {},
   "outputs": [],
   "source": [
    "her = rl_agents.HER(\n",
    "    agent=ddpg_agent,\n",
    "    strategy='none',\n",
    "    desired_goal=desired_goal_func,\n",
    "    achieved_goal=achieved_goal_func,\n",
    "    reward_fn=reward_func,\n",
    "    normalizer_clip=10.0\n",
    ")"
   ]
  },
  {
   "cell_type": "code",
   "execution_count": null,
   "metadata": {},
   "outputs": [],
   "source": [
    "her.agent.critic_model"
   ]
  },
  {
   "cell_type": "code",
   "execution_count": null,
   "metadata": {},
   "outputs": [],
   "source": [
    "her.agent.target_critic_model"
   ]
  },
  {
   "cell_type": "code",
   "execution_count": null,
   "metadata": {},
   "outputs": [],
   "source": [
    "her.train(1,1,100,1)"
   ]
  },
  {
   "cell_type": "code",
   "execution_count": null,
   "metadata": {},
   "outputs": [],
   "source": [
    "wandb.finish()"
   ]
  },
  {
   "cell_type": "code",
   "execution_count": null,
   "metadata": {},
   "outputs": [],
   "source": [
    "state = env.observation_space.sample()\n",
    "state"
   ]
  },
  {
   "cell_type": "code",
   "execution_count": null,
   "metadata": {},
   "outputs": [],
   "source": [
    "her.agent.state_normalizer.normalize(state)"
   ]
  },
  {
   "cell_type": "code",
   "execution_count": null,
   "metadata": {},
   "outputs": [],
   "source": [
    "goal = her.desired_goal_func(her.agent.env)\n",
    "goal"
   ]
  },
  {
   "cell_type": "code",
   "execution_count": null,
   "metadata": {},
   "outputs": [],
   "source": [
    "her.agent.goal_normalizer.normalize(goal)"
   ]
  },
  {
   "cell_type": "code",
   "execution_count": null,
   "metadata": {},
   "outputs": [],
   "source": [
    "def remove_renders(folder_path):\n",
    "    # Iterate over the files in the folder\n",
    "    for filename in os.listdir(folder_path):\n",
    "        # Check if the file has a .mp4 or .meta.json extension\n",
    "        if filename.endswith(\".mp4\") or filename.endswith(\".meta.json\"):\n",
    "            # Construct the full file path\n",
    "            file_path = os.path.join(folder_path, filename)\n",
    "            # Remove the file\n",
    "            os.remove(file_path)"
   ]
  },
  {
   "cell_type": "code",
   "execution_count": null,
   "metadata": {},
   "outputs": [],
   "source": [
    "remove_renders(\"/workspaces/RL_Agents/pytorch/src/app/assets/models/ddpg/renders/training\")"
   ]
  },
  {
   "cell_type": "markdown",
   "metadata": {},
   "source": [
    "# HER Fetch-Reach (Robotics)"
   ]
  },
  {
   "cell_type": "code",
   "execution_count": null,
   "metadata": {},
   "outputs": [],
   "source": [
    "env = gym.make(\"FetchReach-v2\", max_episode_steps=50)"
   ]
  },
  {
   "cell_type": "code",
   "execution_count": null,
   "metadata": {},
   "outputs": [],
   "source": [
    "desired_goal_func, achieved_goal_func, reward_func = gym_helper.get_her_goal_functions(env)"
   ]
  },
  {
   "cell_type": "code",
   "execution_count": null,
   "metadata": {},
   "outputs": [],
   "source": [
    "achieved_goal_func(env)"
   ]
  },
  {
   "cell_type": "code",
   "execution_count": null,
   "metadata": {},
   "outputs": [],
   "source": [
    "env.get_wrapper_attr(\"_get_obs\")()"
   ]
  },
  {
   "cell_type": "code",
   "execution_count": null,
   "metadata": {},
   "outputs": [],
   "source": [
    "# reset env state\n",
    "env.reset()"
   ]
  },
  {
   "cell_type": "code",
   "execution_count": null,
   "metadata": {},
   "outputs": [],
   "source": [
    "goal_shape = desired_goal_func(env).shape"
   ]
  },
  {
   "cell_type": "code",
   "execution_count": null,
   "metadata": {},
   "outputs": [],
   "source": [
    "goal_shape"
   ]
  },
  {
   "cell_type": "code",
   "execution_count": null,
   "metadata": {},
   "outputs": [],
   "source": [
    "# build actor\n",
    "\n",
    "dense_layers = [\n",
    "    (\n",
    "        64,\n",
    "        \"relu\",\n",
    "        {\n",
    "            \"kaiming uniform\": {\n",
    "                \n",
    "            }\n",
    "        },\n",
    "    ),\n",
    "    (\n",
    "        64,\n",
    "        \"relu\",\n",
    "        {\n",
    "            \"kaiming uniform\": {\n",
    "                \n",
    "            }\n",
    "        },\n",
    "    ),\n",
    "    (\n",
    "        64,\n",
    "        \"relu\",\n",
    "        {\n",
    "            \"kaiming uniform\": {\n",
    "                \n",
    "            }\n",
    "        },\n",
    "    )\n",
    "]\n",
    "\n",
    "actor = models.ActorModel(env, cnn_model=None, dense_layers=dense_layers, goal_shape=goal_shape, optimizer='Adam',\n",
    "                          optimizer_params={'weight_decay':0.0}, learning_rate=0.00001, normalize_layers=False)"
   ]
  },
  {
   "cell_type": "code",
   "execution_count": null,
   "metadata": {},
   "outputs": [],
   "source": [
    "actor"
   ]
  },
  {
   "cell_type": "code",
   "execution_count": null,
   "metadata": {},
   "outputs": [],
   "source": [
    "# build critic\n",
    "\n",
    "state_layers = [\n",
    "    \n",
    "]\n",
    "\n",
    "merged_layers = [\n",
    "    (\n",
    "        64,\n",
    "        \"relu\",\n",
    "        {\n",
    "            \"kaiming uniform\": {\n",
    "                \n",
    "            }\n",
    "        },\n",
    "    ),\n",
    "    (\n",
    "        64,\n",
    "        \"relu\",\n",
    "        {\n",
    "            \"kaiming uniform\": {\n",
    "               \n",
    "            }\n",
    "        },\n",
    "    ),\n",
    "    (\n",
    "        64,\n",
    "        \"relu\",\n",
    "        {\n",
    "            \"kaiming uniform\": {\n",
    "                \n",
    "            }\n",
    "        },\n",
    "    ),\n",
    "]\n",
    "\n",
    "\n",
    "critic = models.CriticModel(env=env, cnn_model=None, state_layers=state_layers, merged_layers=merged_layers, goal_shape=goal_shape, optimizer=\"Adam\", optimizer_params={'weight_decay':0.0}, learning_rate=0.00001, normalize_layers=False)"
   ]
  },
  {
   "cell_type": "code",
   "execution_count": null,
   "metadata": {},
   "outputs": [],
   "source": [
    "critic"
   ]
  },
  {
   "cell_type": "code",
   "execution_count": null,
   "metadata": {},
   "outputs": [],
   "source": [
    "replay_buffer = helper.ReplayBuffer(env, 1000000, goal_shape)\n",
    "# noise = helper.OUNoise(shape=env.action_space.shape, dt=1.0, device='cuda')\n",
    "noise = helper.NormalNoise(shape=env.action_space.shape, mean=0.0, stddev=0.05)"
   ]
  },
  {
   "cell_type": "code",
   "execution_count": null,
   "metadata": {},
   "outputs": [],
   "source": [
    "ddpg_agent = rl_agents.DDPG(env=env,\n",
    "                            actor_model=actor,\n",
    "                            critic_model=critic,\n",
    "                            discount=0.98,\n",
    "                            tau=0.05,\n",
    "                            action_epsilon=0.2,\n",
    "                            replay_buffer=replay_buffer,\n",
    "                            batch_size=256,\n",
    "                            noise=noise,\n",
    "                            callbacks=[rl_callbacks.WandbCallback(\"FetchReach-v2\")])"
   ]
  },
  {
   "cell_type": "code",
   "execution_count": null,
   "metadata": {},
   "outputs": [],
   "source": [
    "ddpg_agent.critic_model"
   ]
  },
  {
   "cell_type": "code",
   "execution_count": null,
   "metadata": {},
   "outputs": [],
   "source": [
    "her = rl_agents.HER(\n",
    "    agent=ddpg_agent,\n",
    "    strategy='future',\n",
    "    tolerance=0.05,\n",
    "    num_goals=4,\n",
    "    desired_goal=desired_goal_func,\n",
    "    achieved_goal=achieved_goal_func,\n",
    "    reward_fn=reward_func,\n",
    "    normalizer_clip=5.0\n",
    ")"
   ]
  },
  {
   "cell_type": "code",
   "execution_count": null,
   "metadata": {},
   "outputs": [],
   "source": [
    "her.train(num_epochs=50,\n",
    "          num_cycles=50,\n",
    "          num_episodes=16,\n",
    "          num_updates=40,\n",
    "          render=True,\n",
    "          render_freq=1000)"
   ]
  },
  {
   "cell_type": "code",
   "execution_count": null,
   "metadata": {},
   "outputs": [],
   "source": [
    "states, action, rewards, next_states, dones, achieved_goals, next_achieved_goals, desired_goals = her.agent.replay_buffer.sample(2)"
   ]
  },
  {
   "cell_type": "code",
   "execution_count": null,
   "metadata": {},
   "outputs": [],
   "source": [
    "desired_goals"
   ]
  },
  {
   "cell_type": "code",
   "execution_count": null,
   "metadata": {},
   "outputs": [],
   "source": [
    "her.agent.env.get_wrapper_attr(\"distance_threshold\")"
   ]
  },
  {
   "cell_type": "code",
   "execution_count": null,
   "metadata": {},
   "outputs": [],
   "source": [
    "# get success\n",
    "her.agent.env.get_wrapper_attr(\"_is_success\")(achieved_goal_func(her.agent.env), desired_goal_func(her.agent.env))"
   ]
  },
  {
   "cell_type": "code",
   "execution_count": null,
   "metadata": {},
   "outputs": [],
   "source": [
    "her.agent.env.get_wrapper_attr(\"goal_distance\")(next_state_achieved_goal, desired_goal, None)"
   ]
  },
  {
   "cell_type": "code",
   "execution_count": null,
   "metadata": {},
   "outputs": [],
   "source": [
    "pusher_her = rl_agents.HER.load(\"/workspaces/RL_Agents/pytorch/src/app/assets/models/her\")"
   ]
  },
  {
   "cell_type": "code",
   "execution_count": null,
   "metadata": {},
   "outputs": [],
   "source": [
    "pusher_her.agent.env.reset()"
   ]
  },
  {
   "cell_type": "code",
   "execution_count": null,
   "metadata": {},
   "outputs": [],
   "source": [
    "pusher_her.get_config()"
   ]
  },
  {
   "cell_type": "code",
   "execution_count": null,
   "metadata": {},
   "outputs": [],
   "source": [
    "wandb.finish()"
   ]
  },
  {
   "cell_type": "code",
   "execution_count": null,
   "metadata": {},
   "outputs": [],
   "source": [
    "np.linalg.norm(pusher_her.agent.env.get_wrapper_attr(\"get_body_com\")(\"goal\") - pusher_her.agent.env.get_wrapper_attr(\"get_body_com\")(\"object\"))"
   ]
  },
  {
   "cell_type": "code",
   "execution_count": null,
   "metadata": {},
   "outputs": [],
   "source": [
    "pusher_her.agent.replay_buffer.get_config()"
   ]
  },
  {
   "cell_type": "code",
   "execution_count": null,
   "metadata": {},
   "outputs": [],
   "source": [
    "\n",
    "pusher_her.agent.replay_buffer.desired_goals"
   ]
  },
  {
   "cell_type": "code",
   "execution_count": null,
   "metadata": {},
   "outputs": [],
   "source": [
    "## TEST ENV\n",
    "env = gym.make(\"Pusher-v5\", render_mode=\"rgb_array\")"
   ]
  },
  {
   "cell_type": "code",
   "execution_count": null,
   "metadata": {},
   "outputs": [],
   "source": [
    "env = gym.wrappers.RecordVideo(\n",
    "                    env,\n",
    "                    \"/renders/training\",\n",
    "                    episode_trigger=lambda x: True,\n",
    "                )\n"
   ]
  },
  {
   "cell_type": "code",
   "execution_count": null,
   "metadata": {},
   "outputs": [],
   "source": [
    "state, _ = env.reset()\n",
    "\n",
    "for i in range(1000):\n",
    "# take action\n",
    "    next_state, reward, term, trunc, _ = env.step(env.action_space.sample())\n",
    "env.close()"
   ]
  },
  {
   "cell_type": "markdown",
   "metadata": {},
   "source": [
    "# HER Fetch Push (Robitics)"
   ]
  },
  {
   "cell_type": "code",
   "execution_count": null,
   "metadata": {},
   "outputs": [],
   "source": [
    "env = gym.make('FetchPush-v2')"
   ]
  },
  {
   "cell_type": "code",
   "execution_count": null,
   "metadata": {},
   "outputs": [],
   "source": [
    "desired_goal_func, achieved_goal_func, reward_func = gym_helper.get_her_goal_functions(env)"
   ]
  },
  {
   "cell_type": "code",
   "execution_count": null,
   "metadata": {},
   "outputs": [],
   "source": [
    "# reset env state\n",
    "env.reset()"
   ]
  },
  {
   "cell_type": "code",
   "execution_count": null,
   "metadata": {},
   "outputs": [],
   "source": [
    "goal_shape = desired_goal_func(env).shape"
   ]
  },
  {
   "cell_type": "code",
   "execution_count": null,
   "metadata": {},
   "outputs": [],
   "source": [
    "# build actor\n",
    "\n",
    "dense_layers = [\n",
    "    (\n",
    "        64,\n",
    "        \"relu\",\n",
    "        {\n",
    "            \"kaiming uniform\": {\n",
    "                \n",
    "            }\n",
    "        },\n",
    "    ),\n",
    "    (\n",
    "        64,\n",
    "        \"relu\",\n",
    "        {\n",
    "            \"kaiming uniform\": {\n",
    "                \n",
    "            }\n",
    "        },\n",
    "    ),\n",
    "    (\n",
    "        64,\n",
    "        \"relu\",\n",
    "        {\n",
    "            \"kaiming uniform\": {\n",
    "                \n",
    "            }\n",
    "        },\n",
    "    )\n",
    "]\n",
    "\n",
    "actor = models.ActorModel(env, cnn_model=None, dense_layers=dense_layers, goal_shape=goal_shape, optimizer='Adam',\n",
    "                          optimizer_params={'weight_decay':0.0}, learning_rate=0.00001, normalize_layers=False)"
   ]
  },
  {
   "cell_type": "code",
   "execution_count": null,
   "metadata": {},
   "outputs": [],
   "source": [
    "# build critic\n",
    "\n",
    "state_layers = [\n",
    "    \n",
    "]\n",
    "\n",
    "merged_layers = [\n",
    "    (\n",
    "        64,\n",
    "        \"relu\",\n",
    "        {\n",
    "            \"kaiming uniform\": {\n",
    "                \n",
    "            }\n",
    "        },\n",
    "    ),\n",
    "    (\n",
    "        64,\n",
    "        \"relu\",\n",
    "        {\n",
    "            \"kaiming uniform\": {\n",
    "               \n",
    "            }\n",
    "        },\n",
    "    ),\n",
    "    (\n",
    "        64,\n",
    "        \"relu\",\n",
    "        {\n",
    "            \"kaiming uniform\": {\n",
    "                \n",
    "            }\n",
    "        },\n",
    "    ),\n",
    "]\n",
    "\n",
    "\n",
    "critic = models.CriticModel(env=env, cnn_model=None, state_layers=state_layers, merged_layers=merged_layers, goal_shape=goal_shape, optimizer=\"Adam\", optimizer_params={'weight_decay':0.0}, learning_rate=0.00001, normalize_layers=False)"
   ]
  },
  {
   "cell_type": "code",
   "execution_count": null,
   "metadata": {},
   "outputs": [],
   "source": [
    "replay_buffer = helper.ReplayBuffer(env, 1000000, goal_shape)\n",
    "# noise = helper.OUNoise(shape=env.action_space.shape, dt=1.0, device='cuda')\n",
    "noise = helper.NormalNoise(shape=env.action_space.shape, mean=0.0, stddev=0.05)"
   ]
  },
  {
   "cell_type": "code",
   "execution_count": null,
   "metadata": {},
   "outputs": [],
   "source": [
    "ddpg_agent = rl_agents.DDPG(env=env,\n",
    "                            actor_model=actor,\n",
    "                            critic_model=critic,\n",
    "                            discount=0.98,\n",
    "                            tau=0.05,\n",
    "                            action_epsilon=0.3,\n",
    "                            replay_buffer=replay_buffer,\n",
    "                            batch_size=128,\n",
    "                            noise=noise,\n",
    "                            callbacks=[rl_callbacks.WandbCallback(\"FetchPush-v2\")],\n",
    "                            save_dir=\"fetch_push/models/ddpg/\"\n",
    "                            )"
   ]
  },
  {
   "cell_type": "code",
   "execution_count": null,
   "metadata": {},
   "outputs": [],
   "source": [
    "her = rl_agents.HER(\n",
    "    agent=ddpg_agent,\n",
    "    strategy='final',\n",
    "    tolerance=0.05,\n",
    "    num_goals=4,\n",
    "    desired_goal=desired_goal_func,\n",
    "    achieved_goal=achieved_goal_func,\n",
    "    reward_fn=reward_func,\n",
    "    normalizer_clip=5.0,\n",
    "    save_dir=\"fetch_push/models/her/\"\n",
    ")"
   ]
  },
  {
   "cell_type": "code",
   "execution_count": null,
   "metadata": {},
   "outputs": [],
   "source": [
    "her.train(num_epochs=50,\n",
    "          num_cycles=50,\n",
    "          num_episodes=16,\n",
    "          num_updates=40,\n",
    "          render=True,\n",
    "          render_freq=1000)"
   ]
  },
  {
   "cell_type": "markdown",
   "metadata": {},
   "source": [
    "# TESTING MULTITHREADING"
   ]
  },
  {
   "cell_type": "code",
   "execution_count": null,
   "metadata": {},
   "outputs": [],
   "source": [
    "env = gym.make('FetchPush-v2')"
   ]
  },
  {
   "cell_type": "code",
   "execution_count": null,
   "metadata": {},
   "outputs": [],
   "source": [
    "desired_goal_func, achieved_goal_func, reward_func = gym_helper.get_her_goal_functions(env)"
   ]
  },
  {
   "cell_type": "code",
   "execution_count": null,
   "metadata": {},
   "outputs": [],
   "source": [
    "# reset env state\n",
    "env.reset()"
   ]
  },
  {
   "cell_type": "code",
   "execution_count": null,
   "metadata": {},
   "outputs": [],
   "source": [
    "goal_shape = desired_goal_func(env).shape"
   ]
  },
  {
   "cell_type": "code",
   "execution_count": null,
   "metadata": {},
   "outputs": [],
   "source": [
    "# build actor\n",
    "\n",
    "dense_layers = [\n",
    "    (\n",
    "        64,\n",
    "        \"relu\",\n",
    "        {\n",
    "            \"kaiming uniform\": {\n",
    "                \n",
    "            }\n",
    "        },\n",
    "    ),\n",
    "    (\n",
    "        64,\n",
    "        \"relu\",\n",
    "        {\n",
    "            \"kaiming uniform\": {\n",
    "                \n",
    "            }\n",
    "        },\n",
    "    ),\n",
    "    (\n",
    "        64,\n",
    "        \"relu\",\n",
    "        {\n",
    "            \"kaiming uniform\": {\n",
    "                \n",
    "            }\n",
    "        },\n",
    "    )\n",
    "]\n",
    "\n",
    "actor = models.ActorModel(env, cnn_model=None, dense_layers=dense_layers, goal_shape=goal_shape, optimizer='Adam',\n",
    "                          optimizer_params={'weight_decay':0.0}, learning_rate=0.00001, normalize_layers=False)"
   ]
  },
  {
   "cell_type": "code",
   "execution_count": null,
   "metadata": {},
   "outputs": [],
   "source": [
    "# build critic\n",
    "\n",
    "state_layers = [\n",
    "    \n",
    "]\n",
    "\n",
    "merged_layers = [\n",
    "    (\n",
    "        64,\n",
    "        \"relu\",\n",
    "        {\n",
    "            \"kaiming uniform\": {\n",
    "                \n",
    "            }\n",
    "        },\n",
    "    ),\n",
    "    (\n",
    "        64,\n",
    "        \"relu\",\n",
    "        {\n",
    "            \"kaiming uniform\": {\n",
    "               \n",
    "            }\n",
    "        },\n",
    "    ),\n",
    "    (\n",
    "        64,\n",
    "        \"relu\",\n",
    "        {\n",
    "            \"kaiming uniform\": {\n",
    "                \n",
    "            }\n",
    "        },\n",
    "    ),\n",
    "]\n",
    "\n",
    "\n",
    "critic = models.CriticModel(env=env, cnn_model=None, state_layers=state_layers, merged_layers=merged_layers, goal_shape=goal_shape, optimizer=\"Adam\", optimizer_params={'weight_decay':0.0}, learning_rate=0.00001, normalize_layers=False)"
   ]
  },
  {
   "cell_type": "code",
   "execution_count": null,
   "metadata": {},
   "outputs": [],
   "source": [
    "replay_buffer = helper.ReplayBuffer(env, 1000000, goal_shape)\n",
    "# noise = helper.OUNoise(shape=env.action_space.shape, dt=1.0, device='cuda')\n",
    "noise = helper.NormalNoise(shape=env.action_space.shape, mean=0.0, stddev=0.05)"
   ]
  },
  {
   "cell_type": "code",
   "execution_count": null,
   "metadata": {},
   "outputs": [],
   "source": [
    "ddpg_agent = rl_agents.DDPG(env=env,\n",
    "                            actor_model=actor,\n",
    "                            critic_model=critic,\n",
    "                            discount=0.98,\n",
    "                            tau=0.05,\n",
    "                            action_epsilon=0.3,\n",
    "                            replay_buffer=replay_buffer,\n",
    "                            batch_size=128,\n",
    "                            noise=noise,\n",
    "                            callbacks=[rl_callbacks.WandbCallback(\"FetchPush-v2\")],\n",
    "                            save_dir=\"fetch_push/models/ddpg/\"\n",
    "                            )"
   ]
  },
  {
   "cell_type": "code",
   "execution_count": null,
   "metadata": {},
   "outputs": [],
   "source": [
    "her = rl_agents.HER(\n",
    "    agent=ddpg_agent,\n",
    "    strategy='final',\n",
    "    num_workers=4,\n",
    "    tolerance=0.05,\n",
    "    num_goals=4,\n",
    "    desired_goal=desired_goal_func,\n",
    "    achieved_goal=achieved_goal_func,\n",
    "    reward_fn=reward_func,\n",
    "    normalizer_clip=5.0,\n",
    "    save_dir=\"fetch_push/models/her/\"\n",
    ")"
   ]
  },
  {
   "cell_type": "code",
   "execution_count": null,
   "metadata": {},
   "outputs": [],
   "source": [
    "her.train()"
   ]
  },
  {
   "cell_type": "markdown",
   "metadata": {},
   "source": [
    "# TESTING"
   ]
  },
  {
   "cell_type": "code",
   "execution_count": null,
   "metadata": {},
   "outputs": [],
   "source": [
    "# load config\n",
    "config_path = \"/workspaces/RL_Agents/pytorch/src/app/HER_Test/her/config.json\"\n",
    "with open(config_path, 'r') as file:\n",
    "    config = json.load(file)"
   ]
  },
  {
   "cell_type": "code",
   "execution_count": null,
   "metadata": {},
   "outputs": [],
   "source": [
    "config"
   ]
  },
  {
   "cell_type": "code",
   "execution_count": null,
   "metadata": {},
   "outputs": [],
   "source": [
    "agent = rl_agents.HER.load(config)"
   ]
  },
  {
   "cell_type": "code",
   "execution_count": null,
   "metadata": {},
   "outputs": [],
   "source": [
    "for callback in agent.agent.callbacks:\n",
    "    print(callback._sweep)"
   ]
  },
  {
   "cell_type": "markdown",
   "metadata": {},
   "source": [
    "# Co Occurence"
   ]
  },
  {
   "cell_type": "code",
   "execution_count": 2,
   "metadata": {},
   "outputs": [],
   "source": [
    "import subprocess"
   ]
  },
  {
   "cell_type": "code",
   "execution_count": 3,
   "metadata": {},
   "outputs": [
    {
     "name": "stdout",
     "output_type": "stream",
     "text": [
      "{'method': 'bayes', 'project': 'FetchReach-v2', 'name': 'Test', 'metric': {'name': 'episode_reward', 'goal': 'maximize'}, 'parameters': {'env': {'parameters': {'id': {'value': 'FetchReach-v2'}, 'max_episode_steps': {'value': 50}}}, 'model_type': {'values': ['HER_DDPG']}, 'HER_DDPG': {'parameters': {'HER_DDPG_actor_learning_rate': {'values': [1e-05, 0.0001]}, 'HER_DDPG_critic_learning_rate': {'values': [1e-05, 0.0001]}, 'HER_DDPG_goal_strategy': {'values': ['future']}, 'HER_DDPG_num_goals': {'min': 4, 'max': 8}, 'HER_DDPG_goal_tolerance': {'values': [0.05]}, 'HER_DDPG_discount': {'values': [0.99, 0.9]}, 'HER_DDPG_tau': {'values': [0.05]}, 'HER_DDPG_epsilon_greedy': {'values': [0.2, 0.3]}, 'HER_DDPG_normalizer_clip': {'values': [5]}, 'HER_DDPG_device': {'value': 'cuda'}, 'HER_DDPG_actor_num_cnn_layers': {'value': 0}, 'HER_DDPG_actor_num_layers': {'value': 2}, 'HER_DDPG_actor_activation': {'values': ['relu']}, 'HER_DDPG_actor_hidden_kernel_initializer': {'values': ['kaiming_uniform']}, 'HER_DDPG_actor_output_kernel_initializer': {'values': ['constant']}, 'HER_DDPG_actor_optimizer': {'values': ['Adam']}, 'HER_DDPG_actor_optimizer_Adam_options': {'parameters': {'Adam_weight_decay': {'values': [0]}}}, 'HER_DDPG_actor_normalize_layers': {'values': [False]}, 'HER_DDPG_actor_clamp_output': {'values': [0.05]}, 'HER_DDPG_critic_num_cnn_layers': {'value': 0}, 'HER_DDPG_critic_state_num_layers': {'value': 2}, 'HER_DDPG_critic_merged_num_layers': {'value': 2}, 'HER_DDPG_critic_activation': {'values': ['relu']}, 'HER_DDPG_critic_hidden_kernel_initializer': {'values': ['kaiming_uniform']}, 'HER_DDPG_critic_output_kernel_initializer': {'values': ['constant']}, 'HER_DDPG_critic_optimizer': {'values': ['Adam']}, 'HER_DDPG_critic_optimizer_Adam_options': {'parameters': {'Adam_weight_decay': {'values': [0]}}}, 'HER_DDPG_critic_normalize_layers': {'values': [False]}, 'HER_DDPG_replay_buffer_size': {'values': [100000]}, 'HER_DDPG_batch_size': {'values': [128, 256]}, 'HER_DDPG_noise': {'values': ['Normal']}, 'HER_DDPG_noise_Normal': {'parameters': {'mean': {'values': [0]}, 'stddev': {'values': [0.05]}}}, 'HER_DDPG_actor_hidden_kernel_kaiming_uniform': {'parameters': {'kaiming_uniform_mode': {'values': ['fan_in']}}}, 'HER_DDPG_actor_output_kernel_constant': {'parameters': {'constant_value': {'values': [0.003]}}}, 'HER_DDPG_critic_hidden_kernel_kaiming_uniform': {'parameters': {'kaiming_uniform_mode': {'values': ['fan_in']}}}, 'HER_DDPG_critic_output_kernel_constant': {'parameters': {'constant_value': {'values': [0.003]}}}, 'actor_units_layer_1_HER_DDPG': {'values': [64, 128]}, 'actor_units_layer_2_HER_DDPG': {'values': [64, 128]}, 'critic_units_state_layer_1_HER_DDPG': {'values': [64, 128]}, 'critic_units_state_layer_2_HER_DDPG': {'values': [64, 128]}, 'critic_units_merged_layer_1_HER_DDPG': {'values': [64, 128]}, 'critic_units_merged_layer_2_HER_DDPG': {'values': [64, 128]}, 'HER_DDPG_save_dir': {'value': 'HER_Test'}}}}}\n"
     ]
    }
   ],
   "source": [
    "# Define the path to your JSON configuration file\n",
    "config_file_path = 'assets/wandb_config.json'\n",
    "\n",
    "# Read the JSON configuration file\n",
    "with open(config_file_path, 'r') as file:\n",
    "    wandb_config = json.load(file)\n",
    "\n",
    "# Print the configuration to verify it has been loaded correctly\n",
    "print(wandb_config)"
   ]
  },
  {
   "cell_type": "code",
   "execution_count": 4,
   "metadata": {},
   "outputs": [
    {
     "name": "stdout",
     "output_type": "stream",
     "text": [
      "{'num_sweeps': 5, 'num_episodes': 10, 'seed': 42, 'use_mpi': False, 'num_workers': 1, 'num_agents': 1, 'num_epochs': 1, 'num_cycles': 1, 'num_updates': 1}\n"
     ]
    }
   ],
   "source": [
    "# Define the path to your JSON configuration file\n",
    "config_file_path = 'assets/sweep_config.json'\n",
    "\n",
    "# Read the JSON configuration file\n",
    "with open(config_file_path, 'r') as file:\n",
    "    sweep_config = json.load(file)\n",
    "\n",
    "# Print the configuration to verify it has been loaded correctly\n",
    "print(sweep_config)"
   ]
  },
  {
   "cell_type": "code",
   "execution_count": 5,
   "metadata": {},
   "outputs": [],
   "source": [
    "# Save the updated configuration to a train config file\n",
    "os.makedirs('sweep', exist_ok=True)\n",
    "train_config_path = os.path.join(os.getcwd(), 'sweep/train_config.json')\n",
    "with open(train_config_path, 'w') as f:\n",
    "    json.dump(sweep_config, f)\n",
    "\n",
    "# Save and Set the sweep config path\n",
    "sweep_config_path = os.path.join(os.getcwd(), 'sweep/sweep_config.json')\n",
    "with open(sweep_config_path, 'w') as f:\n",
    "    json.dump(wandb_config, f)"
   ]
  },
  {
   "cell_type": "code",
   "execution_count": 6,
   "metadata": {},
   "outputs": [
    {
     "data": {
      "text/plain": [
       "<Popen: returncode: None args: ['python', 'sweep.py']>"
      ]
     },
     "execution_count": 6,
     "metadata": {},
     "output_type": "execute_result"
    },
    {
     "name": "stderr",
     "output_type": "stream",
     "text": [
      "DEBUG:git.cmd:Popen(['git', 'rev-parse', '--show-toplevel'], cwd=/workspaces/RL_Agents, stdin=None, shell=False, universal_newlines=False)\n",
      "DEBUG:git.cmd:Popen(['git', 'rev-parse', '--show-toplevel'], cwd=/workspaces/RL_Agents, stdin=None, shell=False, universal_newlines=False)\n",
      "DEBUG:urllib3.connectionpool:Starting new HTTPS connection (1): api.wandb.ai:443\n",
      "DEBUG:urllib3.connectionpool:https://api.wandb.ai:443 \"POST /graphql HTTP/1.1\" 200 189\n",
      "INFO:wandb.agents.pyagent:Starting sweep agent: entity=None, project=FetchReach-v2, count=5\n",
      "DEBUG:wandb.agents.pyagent:Agent._setup()\n",
      "DEBUG:wandb.agents.pyagent:Agent._register()\n",
      "DEBUG:urllib3.connectionpool:Starting new HTTPS connection (1): api.wandb.ai:443\n",
      "DEBUG:urllib3.connectionpool:https://api.wandb.ai:443 \"POST /graphql HTTP/1.1\" 200 68\n",
      "DEBUG:wandb.agents.pyagent:agent_id = QWdlbnQ6dHM5ajhwZ3Q=\n"
     ]
    },
    {
     "name": "stdout",
     "output_type": "stream",
     "text": [
      "Create sweep with ID: z0diu9m3\n",
      "Sweep URL: https://wandb.ai/jasonhayes1987/FetchReach-v2/sweeps/z0diu9m3\n"
     ]
    },
    {
     "name": "stderr",
     "output_type": "stream",
     "text": [
      "DEBUG:urllib3.connectionpool:https://api.wandb.ai:443 \"POST /graphql HTTP/1.1\" 200 811\n",
      "DEBUG:wandb.agents.pyagent:Job received: Job(bir8f7df,{'HER_DDPG': {'value': {'HER_DDPG_actor_activation': 'relu', 'HER_DDPG_actor_clamp_output': 0.05, 'HER_DDPG_actor_hidden_kernel_initializer': 'kaiming_uniform', 'HER_DDPG_actor_hidden_kernel_kaiming_uniform': {'kaiming_uniform_mode': 'fan_in'}, 'HER_DDPG_actor_learning_rate': 0.0001, 'HER_DDPG_actor_normalize_layers': False, 'HER_DDPG_actor_num_cnn_layers': 0, 'HER_DDPG_actor_num_layers': 2, 'HER_DDPG_actor_optimizer': 'Adam', 'HER_DDPG_actor_optimizer_Adam_options': {'Adam_weight_decay': 0}, 'HER_DDPG_actor_output_kernel_constant': {'constant_value': 0.003}, 'HER_DDPG_actor_output_kernel_initializer': 'constant', 'HER_DDPG_batch_size': 256, 'HER_DDPG_critic_activation': 'relu', 'HER_DDPG_critic_hidden_kernel_initializer': 'kaiming_uniform', 'HER_DDPG_critic_hidden_kernel_kaiming_uniform': {'kaiming_uniform_mode': 'fan_in'}, 'HER_DDPG_critic_learning_rate': 0.0001, 'HER_DDPG_critic_merged_num_layers': 2, 'HER_DDPG_critic_normalize_layers': False, 'HER_DDPG_critic_num_cnn_layers': 0, 'HER_DDPG_critic_optimizer': 'Adam', 'HER_DDPG_critic_optimizer_Adam_options': {'Adam_weight_decay': 0}, 'HER_DDPG_critic_output_kernel_constant': {'constant_value': 0.003}, 'HER_DDPG_critic_output_kernel_initializer': 'constant', 'HER_DDPG_critic_state_num_layers': 2, 'HER_DDPG_device': 'cuda', 'HER_DDPG_discount': 0.99, 'HER_DDPG_epsilon_greedy': 0.3, 'HER_DDPG_goal_strategy': 'future', 'HER_DDPG_goal_tolerance': 0.05, 'HER_DDPG_noise': 'Normal', 'HER_DDPG_noise_Normal': {'mean': 0, 'stddev': 0.05}, 'HER_DDPG_normalizer_clip': 5, 'HER_DDPG_num_goals': 4, 'HER_DDPG_replay_buffer_size': 100000, 'HER_DDPG_save_dir': 'HER_Test', 'HER_DDPG_tau': 0.05, 'actor_units_layer_1_HER_DDPG': 128, 'actor_units_layer_2_HER_DDPG': 64, 'critic_units_merged_layer_1_HER_DDPG': 128, 'critic_units_merged_layer_2_HER_DDPG': 128, 'critic_units_state_layer_1_HER_DDPG': 128, 'critic_units_state_layer_2_HER_DDPG': 128}}, 'env': {'value': {'id': 'FetchReach-v2', 'max_episode_steps': 50}}, 'model_type': {'value': 'HER_DDPG'}})\n",
      "DEBUG:wandb.agents.pyagent:Spawning new thread for run bir8f7df.\n",
      "wandb: Agent Starting Run: bir8f7df with config:\n",
      "wandb: \tHER_DDPG: {'HER_DDPG_actor_activation': 'relu', 'HER_DDPG_actor_clamp_output': 0.05, 'HER_DDPG_actor_hidden_kernel_initializer': 'kaiming_uniform', 'HER_DDPG_actor_hidden_kernel_kaiming_uniform': {'kaiming_uniform_mode': 'fan_in'}, 'HER_DDPG_actor_learning_rate': 0.0001, 'HER_DDPG_actor_normalize_layers': False, 'HER_DDPG_actor_num_cnn_layers': 0, 'HER_DDPG_actor_num_layers': 2, 'HER_DDPG_actor_optimizer': 'Adam', 'HER_DDPG_actor_optimizer_Adam_options': {'Adam_weight_decay': 0}, 'HER_DDPG_actor_output_kernel_constant': {'constant_value': 0.003}, 'HER_DDPG_actor_output_kernel_initializer': 'constant', 'HER_DDPG_batch_size': 256, 'HER_DDPG_critic_activation': 'relu', 'HER_DDPG_critic_hidden_kernel_initializer': 'kaiming_uniform', 'HER_DDPG_critic_hidden_kernel_kaiming_uniform': {'kaiming_uniform_mode': 'fan_in'}, 'HER_DDPG_critic_learning_rate': 0.0001, 'HER_DDPG_critic_merged_num_layers': 2, 'HER_DDPG_critic_normalize_layers': False, 'HER_DDPG_critic_num_cnn_layers': 0, 'HER_DDPG_critic_optimizer': 'Adam', 'HER_DDPG_critic_optimizer_Adam_options': {'Adam_weight_decay': 0}, 'HER_DDPG_critic_output_kernel_constant': {'constant_value': 0.003}, 'HER_DDPG_critic_output_kernel_initializer': 'constant', 'HER_DDPG_critic_state_num_layers': 2, 'HER_DDPG_device': 'cuda', 'HER_DDPG_discount': 0.99, 'HER_DDPG_epsilon_greedy': 0.3, 'HER_DDPG_goal_strategy': 'future', 'HER_DDPG_goal_tolerance': 0.05, 'HER_DDPG_noise': 'Normal', 'HER_DDPG_noise_Normal': {'mean': 0, 'stddev': 0.05}, 'HER_DDPG_normalizer_clip': 5, 'HER_DDPG_num_goals': 4, 'HER_DDPG_replay_buffer_size': 100000, 'HER_DDPG_save_dir': 'HER_Test', 'HER_DDPG_tau': 0.05, 'actor_units_layer_1_HER_DDPG': 128, 'actor_units_layer_2_HER_DDPG': 64, 'critic_units_merged_layer_1_HER_DDPG': 128, 'critic_units_merged_layer_2_HER_DDPG': 128, 'critic_units_state_layer_1_HER_DDPG': 128, 'critic_units_state_layer_2_HER_DDPG': 128}\n",
      "wandb: \tenv: {'id': 'FetchReach-v2', 'max_episode_steps': 50}\n",
      "wandb: \tmodel_type: HER_DDPG\n",
      "DEBUG:git.cmd:Popen(['git', 'rev-parse', '--show-toplevel'], cwd=/workspaces/RL_Agents, stdin=None, shell=False, universal_newlines=False)\n",
      "DEBUG:git.cmd:Popen(['git', 'rev-parse', '--show-toplevel'], cwd=/workspaces/RL_Agents, stdin=None, shell=False, universal_newlines=False)\n",
      "DEBUG:urllib3.connectionpool:Starting new HTTPS connection (1): api.wandb.ai:443\n"
     ]
    },
    {
     "name": "stdout",
     "output_type": "stream",
     "text": [
      "Loaded train config: {'num_sweeps': 5, 'num_episodes': 10, 'seed': 42, 'use_mpi': False, 'num_workers': 1, 'num_agents': 1, 'num_epochs': 1, 'num_cycles': 1, 'num_updates': 1}\n",
      "Loaded sweep config: {'method': 'bayes', 'project': 'FetchReach-v2', 'name': 'Test', 'metric': {'name': 'episode_reward', 'goal': 'maximize'}, 'parameters': {'env': {'parameters': {'id': {'value': 'FetchReach-v2'}, 'max_episode_steps': {'value': 50}}}, 'model_type': {'values': ['HER_DDPG']}, 'HER_DDPG': {'parameters': {'HER_DDPG_actor_learning_rate': {'values': [1e-05, 0.0001]}, 'HER_DDPG_critic_learning_rate': {'values': [1e-05, 0.0001]}, 'HER_DDPG_goal_strategy': {'values': ['future']}, 'HER_DDPG_num_goals': {'min': 4, 'max': 8}, 'HER_DDPG_goal_tolerance': {'values': [0.05]}, 'HER_DDPG_discount': {'values': [0.99, 0.9]}, 'HER_DDPG_tau': {'values': [0.05]}, 'HER_DDPG_epsilon_greedy': {'values': [0.2, 0.3]}, 'HER_DDPG_normalizer_clip': {'values': [5]}, 'HER_DDPG_device': {'value': 'cuda'}, 'HER_DDPG_actor_num_cnn_layers': {'value': 0}, 'HER_DDPG_actor_num_layers': {'value': 2}, 'HER_DDPG_actor_activation': {'values': ['relu']}, 'HER_DDPG_actor_hidden_kernel_initializer': {'values': ['kaiming_uniform']}, 'HER_DDPG_actor_output_kernel_initializer': {'values': ['constant']}, 'HER_DDPG_actor_optimizer': {'values': ['Adam']}, 'HER_DDPG_actor_optimizer_Adam_options': {'parameters': {'Adam_weight_decay': {'values': [0]}}}, 'HER_DDPG_actor_normalize_layers': {'values': [False]}, 'HER_DDPG_actor_clamp_output': {'values': [0.05]}, 'HER_DDPG_critic_num_cnn_layers': {'value': 0}, 'HER_DDPG_critic_state_num_layers': {'value': 2}, 'HER_DDPG_critic_merged_num_layers': {'value': 2}, 'HER_DDPG_critic_activation': {'values': ['relu']}, 'HER_DDPG_critic_hidden_kernel_initializer': {'values': ['kaiming_uniform']}, 'HER_DDPG_critic_output_kernel_initializer': {'values': ['constant']}, 'HER_DDPG_critic_optimizer': {'values': ['Adam']}, 'HER_DDPG_critic_optimizer_Adam_options': {'parameters': {'Adam_weight_decay': {'values': [0]}}}, 'HER_DDPG_critic_normalize_layers': {'values': [False]}, 'HER_DDPG_replay_buffer_size': {'values': [100000]}, 'HER_DDPG_batch_size': {'values': [128, 256]}, 'HER_DDPG_noise': {'values': ['Normal']}, 'HER_DDPG_noise_Normal': {'parameters': {'mean': {'values': [0]}, 'stddev': {'values': [0.05]}}}, 'HER_DDPG_actor_hidden_kernel_kaiming_uniform': {'parameters': {'kaiming_uniform_mode': {'values': ['fan_in']}}}, 'HER_DDPG_actor_output_kernel_constant': {'parameters': {'constant_value': {'values': [0.003]}}}, 'HER_DDPG_critic_hidden_kernel_kaiming_uniform': {'parameters': {'kaiming_uniform_mode': {'values': ['fan_in']}}}, 'HER_DDPG_critic_output_kernel_constant': {'parameters': {'constant_value': {'values': [0.003]}}}, 'actor_units_layer_1_HER_DDPG': {'values': [64, 128]}, 'actor_units_layer_2_HER_DDPG': {'values': [64, 128]}, 'critic_units_state_layer_1_HER_DDPG': {'values': [64, 128]}, 'critic_units_state_layer_2_HER_DDPG': {'values': [64, 128]}, 'critic_units_merged_layer_1_HER_DDPG': {'values': [64, 128]}, 'critic_units_merged_layer_2_HER_DDPG': {'values': [64, 128]}, 'HER_DDPG_save_dir': {'value': 'HER_Test'}}}}}\n"
     ]
    },
    {
     "name": "stderr",
     "output_type": "stream",
     "text": [
      "DEBUG:urllib3.connectionpool:https://api.wandb.ai:443 \"POST /graphql HTTP/1.1\" 200 1879\n",
      "DEBUG:urllib3.connectionpool:https://api.wandb.ai:443 \"POST /graphql HTTP/1.1\" 200 371\n",
      "wandb: Currently logged in as: jasonhayes1987. Use `wandb login --relogin` to force relogin\n",
      "DEBUG:git.cmd:Popen(['git', 'cat-file', '--batch-check'], cwd=/workspaces/RL_Agents, stdin=<valid stream>, shell=False, universal_newlines=False)\n",
      "DEBUG:urllib3.connectionpool:https://api.wandb.ai:443 \"POST /graphql HTTP/1.1\" 200 57\n",
      "wandb: wandb version 0.17.1 is available!  To upgrade, please run:\n",
      "wandb:  $ pip install wandb --upgrade\n",
      "wandb: Tracking run with wandb version 0.17.0\n",
      "wandb: Run data is saved locally in /workspaces/RL_Agents/pytorch/src/app/wandb/run-20240608_181946-bir8f7df\n",
      "wandb: Run `wandb offline` to turn off syncing.\n",
      "wandb: Syncing run warm-sweep-1\n",
      "wandb: ⭐️ View project at https://wandb.ai/jasonhayes1987/FetchReach-v2\n",
      "wandb: 🧹 View sweep at https://wandb.ai/jasonhayes1987/FetchReach-v2/sweeps/z0diu9m3\n",
      "wandb: 🚀 View run at https://wandb.ai/jasonhayes1987/FetchReach-v2/runs/bir8f7df\n"
     ]
    },
    {
     "name": "stdout",
     "output_type": "stream",
     "text": [
      "signal only works in main thread of the main interpreter\n",
      "sweep wandb config:{'HER_DDPG': {'HER_DDPG_actor_activation': 'relu', 'HER_DDPG_actor_clamp_output': 0.05, 'HER_DDPG_actor_hidden_kernel_initializer': 'kaiming_uniform', 'HER_DDPG_actor_hidden_kernel_kaiming_uniform': {'kaiming_uniform_mode': 'fan_in'}, 'HER_DDPG_actor_learning_rate': 0.0001, 'HER_DDPG_actor_normalize_layers': False, 'HER_DDPG_actor_num_cnn_layers': 0, 'HER_DDPG_actor_num_layers': 2, 'HER_DDPG_actor_optimizer': 'Adam', 'HER_DDPG_actor_optimizer_Adam_options': {'Adam_weight_decay': 0}, 'HER_DDPG_actor_output_kernel_constant': {'constant_value': 0.003}, 'HER_DDPG_actor_output_kernel_initializer': 'constant', 'HER_DDPG_batch_size': 256, 'HER_DDPG_critic_activation': 'relu', 'HER_DDPG_critic_hidden_kernel_initializer': 'kaiming_uniform', 'HER_DDPG_critic_hidden_kernel_kaiming_uniform': {'kaiming_uniform_mode': 'fan_in'}, 'HER_DDPG_critic_learning_rate': 0.0001, 'HER_DDPG_critic_merged_num_layers': 2, 'HER_DDPG_critic_normalize_layers': False, 'HER_DDPG_critic_num_cnn_layers': 0, 'HER_DDPG_critic_optimizer': 'Adam', 'HER_DDPG_critic_optimizer_Adam_options': {'Adam_weight_decay': 0}, 'HER_DDPG_critic_output_kernel_constant': {'constant_value': 0.003}, 'HER_DDPG_critic_output_kernel_initializer': 'constant', 'HER_DDPG_critic_state_num_layers': 2, 'HER_DDPG_device': 'cuda', 'HER_DDPG_discount': 0.99, 'HER_DDPG_epsilon_greedy': 0.3, 'HER_DDPG_goal_strategy': 'future', 'HER_DDPG_goal_tolerance': 0.05, 'HER_DDPG_noise': 'Normal', 'HER_DDPG_noise_Normal': {'mean': 0, 'stddev': 0.05}, 'HER_DDPG_normalizer_clip': 5, 'HER_DDPG_num_goals': 4, 'HER_DDPG_replay_buffer_size': 100000, 'HER_DDPG_save_dir': 'HER_Test', 'HER_DDPG_tau': 0.05, 'actor_units_layer_1_HER_DDPG': 128, 'actor_units_layer_2_HER_DDPG': 64, 'critic_units_merged_layer_1_HER_DDPG': 128, 'critic_units_merged_layer_2_HER_DDPG': 128, 'critic_units_state_layer_1_HER_DDPG': 128, 'critic_units_state_layer_2_HER_DDPG': 128}, 'env': {'id': 'FetchReach-v2', 'max_episode_steps': 50}, 'model_type': 'HER_DDPG'}\n",
      "load weights:False\n",
      "num_episodes:10\n",
      "render:False\n",
      "render freq:0\n",
      "save dir:HER_Test\n",
      "seed:42\n",
      "run number:None\n",
      "use mpi:False\n",
      "passed assert\n",
      "if wandb run fired\n",
      "{'class_name': 'WandbCallback', 'config': {'project_name': 'FetchReach-v2', 'run_name': None, 'chkpt_freq': 100, '_sweep': True}}\n",
      "Environment created: <TimeLimit<OrderEnforcing<PassiveEnvChecker<MujocoFetchReachEnv<FetchReach-v2>>>>>\n",
      "if model type = HER_DDPG called\n",
      "agent name: ddpg\n",
      "new save dir: HER_Test/her/ddpg/\n",
      "self._obs_space_shape: (10,)\n",
      "buffer size = 100000\n",
      "agent built:{'agent_type': 'HER', 'agent': {'agent_type': 'DDPG', 'env': 'FetchReach-v2', 'actor_model': {'env': 'FetchReach-v2', 'cnn_model': None, 'num_layers': 4, 'dense_layers': [(128, 'relu', {'kaiming_uniform': {'mode': 'fan_in'}}), (64, 'relu', {'kaiming_uniform': {'mode': 'fan_in'}})], 'output_layer_kernel': {'constant': {'val': 0.003}}, 'goal_shape': (3,), 'optimizer': 'Adam', 'optimizer_params': {'weight_decay': 0}, 'learning_rate': 0.0001, 'normalize_layers': False, 'clamp_output': 0.05}, 'critic_model': {'env': 'FetchReach-v2', 'cnn_model': None, 'num_layers': 8, 'state_layers': [(128, 'relu', {'kaiming_uniform': {'mode': 'fan_in'}}), (128, 'relu', {'kaiming_uniform': {'mode': 'fan_in'}})], 'merged_layers': [(128, 'relu', {'kaiming_uniform': {'mode': 'fan_in'}}), (128, 'relu', {'kaiming_uniform': {'mode': 'fan_in'}})], 'output_layer_kernel': {'constant': {'val': 0.003}}, 'goal_shape': (3,), 'optimizer': 'Adam', 'optimizer_params': {'weight_decay': 0}, 'learning_rate': 0.0001, 'normalize_layers': False}, 'discount': 0.99, 'tau': 0.05, 'action_epsilon': 0.3, 'replay_buffer': None, 'batch_size': 256, 'noise': {'class_name': 'NormalNoise', 'config': {'shape': (4,), 'mean': 0.0, 'stddev': 0.05000000074505806}}, 'normalize_inputs': False, 'normalizer_clip': None, 'normalizer_eps': 0.01, 'callbacks': [{'class_name': 'WandbCallback', 'config': {'project_name': 'FetchReach-v2', 'run_name': None, 'chkpt_freq': 100, '_sweep': True}}], 'save_dir': 'HER_Test/her/ddpg/'}, 'strategy': 'future', 'tolerance': 0.05, 'num_goals': 4, 'desired_goal': 'fetch_reach_desired_goal', 'achieved_goal': 'fetch_reach_achieved_goal', 'reward_fn': 'fetch_reach_reward', 'normalizer_clip': 5, 'normalizer_eps': 0.01, 'replay_buffer_size': 100000, 'device': 'cuda', 'save_dir': 'HER_Test/her/'}\n",
      "sweep not using mpi fired\n",
      "agent config:{'agent_type': 'HER', 'agent': {'agent_type': 'DDPG', 'env': 'FetchReach-v2', 'actor_model': {'env': 'FetchReach-v2', 'cnn_model': None, 'num_layers': 4, 'dense_layers': [(128, 'relu', {'kaiming_uniform': {'mode': 'fan_in'}}), (64, 'relu', {'kaiming_uniform': {'mode': 'fan_in'}})], 'output_layer_kernel': {'constant': {'val': 0.003}}, 'goal_shape': (3,), 'optimizer': 'Adam', 'optimizer_params': {'weight_decay': 0}, 'learning_rate': 0.0001, 'normalize_layers': False, 'clamp_output': 0.05}, 'critic_model': {'env': 'FetchReach-v2', 'cnn_model': None, 'num_layers': 8, 'state_layers': [(128, 'relu', {'kaiming_uniform': {'mode': 'fan_in'}}), (128, 'relu', {'kaiming_uniform': {'mode': 'fan_in'}})], 'merged_layers': [(128, 'relu', {'kaiming_uniform': {'mode': 'fan_in'}}), (128, 'relu', {'kaiming_uniform': {'mode': 'fan_in'}})], 'output_layer_kernel': {'constant': {'val': 0.003}}, 'goal_shape': (3,), 'optimizer': 'Adam', 'optimizer_params': {'weight_decay': 0}, 'learning_rate': 0.0001, 'normalize_layers': False}, 'discount': 0.99, 'tau': 0.05, 'action_epsilon': 0.3, 'replay_buffer': None, 'batch_size': 256, 'noise': {'class_name': 'NormalNoise', 'config': {'shape': (4,), 'mean': 0.0, 'stddev': 0.05000000074505806}}, 'normalize_inputs': False, 'normalizer_clip': None, 'normalizer_eps': 0.01, 'callbacks': [{'class_name': 'WandbCallback', 'config': {'project_name': 'FetchReach-v2', 'run_name': None, 'chkpt_freq': 100, '_sweep': True}}], 'save_dir': 'HER_Test/her/ddpg/'}, 'strategy': 'future', 'tolerance': 0.05, 'num_goals': 4, 'desired_goal': 'fetch_reach_desired_goal', 'achieved_goal': 'fetch_reach_achieved_goal', 'reward_fn': 'fetch_reach_reward', 'normalizer_clip': 5, 'normalizer_eps': 0.01, 'replay_buffer_size': 100000, 'device': 'cuda', 'save_dir': 'HER_Test/her/'}\n"
     ]
    },
    {
     "name": "stderr",
     "output_type": "stream",
     "text": [
      "DEBUG:urllib3.connectionpool:Starting new HTTPS connection (1): api.wandb.ai:443\n",
      "DEBUG:urllib3.connectionpool:https://api.wandb.ai:443 \"POST /graphql HTTP/1.1\" 200 57\n",
      "DEBUG:urllib3.connectionpool:https://api.wandb.ai:443 \"POST /graphql HTTP/1.1\" 200 None\n",
      "DEBUG:urllib3.connectionpool:https://api.wandb.ai:443 \"POST /graphql HTTP/1.1\" 200 786\n",
      "DEBUG:urllib3.connectionpool:https://api.wandb.ai:443 \"POST /graphql HTTP/1.1\" 200 785\n",
      "DEBUG:urllib3.connectionpool:https://api.wandb.ai:443 \"POST /graphql HTTP/1.1\" 200 785\n",
      "DEBUG:urllib3.connectionpool:https://api.wandb.ai:443 \"POST /graphql HTTP/1.1\" 200 785\n",
      "wandb: WARNING Ignored wandb.init() arg project when running a sweep.\n",
      "wandb: logging graph, to disable use `wandb.watch(log_graph=False)`\n",
      "wandb: logging graph, to disable use `wandb.watch(log_graph=False)`\n",
      "/opt/conda/lib/python3.10/site-packages/numpy/core/fromnumeric.py:3504: RuntimeWarning:\n",
      "\n",
      "Mean of empty slice.\n",
      "\n",
      "/opt/conda/lib/python3.10/site-packages/numpy/core/_methods.py:129: RuntimeWarning:\n",
      "\n",
      "invalid value encountered in scalar divide\n",
      "\n",
      "wandb: Adding directory to artifact (./HER_Test/her/ddpg)... Done. 0.0s\n",
      "DEBUG:urllib3.connectionpool:Starting new HTTPS connection (1): api.wandb.ai:443\n",
      "DEBUG:urllib3.connectionpool:https://api.wandb.ai:443 \"POST /graphql HTTP/1.1\" 200 42\n"
     ]
    },
    {
     "name": "stdout",
     "output_type": "stream",
     "text": [
      "epoch 0 cycle 1 episode 10, success percentage 0.0, reward -50.0, avg reward -49.5, avg episode time 0.21s\n"
     ]
    },
    {
     "name": "stderr",
     "output_type": "stream",
     "text": [
      "DEBUG:urllib3.connectionpool:https://api.wandb.ai:443 \"POST /graphql HTTP/1.1\" 200 57\n",
      "wandb:                                                                                \n",
      "wandb: \n",
      "wandb: Run history:\n",
      "wandb:                  action_0 ▅▆▅▄▅▅▅▅▅▅▆▅▅▁▅▅▄▄▅▇▇▅▇▅▅▁▅▅▅▅▅▅▄▅▅█▅▅▅▇\n",
      "wandb:                  action_1 ▄▅▅▄▅▅▅▅▅▅█▅▅▁▅▅▅▄▅▂▃▂▆▅▄▅▅▅▅▅▄▄▅▅▅▃▅▅▅▁\n",
      "wandb:                  action_2 ▄▂▄▄▄▄▄▄▄▄▃▄▄▆▄▄▄▄▄▂▄▅▁▄▄█▄▄▄▄▄▄▄▄▄▅▄▄▄▅\n",
      "wandb:                  action_3 ▄▇▅▄▅▅▅▅▄▅▂▅▄▃▅▄▅▅▄▅▆▃█▄▅▃▅▅▅▅▄▄▅▅▅▆▄▅▅▁\n",
      "wandb:                actor_loss ▁▂▃▄▅▆▆▇█\n",
      "wandb:         actor_predictions █████▇▇▇▇▇▅▅▅▅▅▅▅▅▅▅▄▄▄▄▄▂▂▂▂▂▂▂▂▂▂▁▁▁▁▁\n",
      "wandb:                avg_reward █▄▃▂▂▂▁▁▁▁\n",
      "wandb:                      best █▁▁▁▁▁▁▁▁▁\n",
      "wandb:               critic_loss █▄▂▁▃▃▂▃▃\n",
      "wandb:        critic_predictions █████▇▇▇▇▇▆▆▆▆▆▅▅▅▅▅▄▄▄▄▄▃▃▃▃▃▂▂▂▂▂▁▁▁▁▁\n",
      "wandb:                   episode ▁▂▃▃▄▅▆▆▇█\n",
      "wandb:            episode_reward █▁▁▁▁▁▁▁▁▁\n",
      "wandb:              episode_time ▄█▂▃▁▂▁▁▂▂\n",
      "wandb:             goal_distance ▁▄▅▄▆▆▆▇▄▄▅▅▅▆▆▆▅▅▆▅▇▇▇▇▆█▇▇▃▃▃▃▂▄▅█▄▅▆▆\n",
      "wandb:                   noise_0 ▄▅▆▃▇▂▅▃▇█▅█▇▅▄▇▂▁▆▅▅▅▅█▆▅▅▆▄▃▆▆▁▇▇▅▄▄▆▅\n",
      "wandb:                   noise_1 ▁▅▄▁▃▂▃█▄▅▅▆▄▅▆▄▅▂▆▅▅▅▅▄▂▅█▂▄▅▂▂▅▄▃▅█▆▆▅\n",
      "wandb:                   noise_2 ▂▄▂▅▂▁▆▅▄▄▄▆▆▄▂▂▆▃▃▄▄▄▄▂▅▄▃▄▂▁▃▃▄▄▅▄▂█▅▄\n",
      "wandb:                   noise_3 ▂▅▅▄▅▅▅▄▂▅▅█▂▅▄▃█▆▃▅▅▅▅▁▅▅▆▅▅▅▄▃█▅▆▅▁▅▅▅\n",
      "wandb:               step_reward █▁▁▁▁▁▁▁▁▁▁▁▁▁▁▁▁▁▁▁▁▁▁▁▁▁▁▁▁▁▁▁▁▁▁▁▁▁▁▁\n",
      "wandb:                 step_time ▄▁█▃█▆▄▅▃▃▂▃▆▁▅▄▄▃▇▁▁▂▁▃▃▁▃▄▃▃▃▃▅▄▅▂▃▄▅▁\n",
      "wandb:              success_rate ▁▁▁▁▁▁▁▁▁▁\n",
      "wandb:  target_actor_predictions ▆▆▆▆▆▅▅▅▅▅▄▄▄▄▄▅▅▅▅▅█████▁▁▁▁▁▁▁▁▁▁▅▅▅▅▅\n",
      "wandb: target_critic_predictions █████▇▇▇▇▇▆▆▆▆▆▆▆▆▆▆▇▇▇▇▇▁▁▁▁▁▁▁▁▁▁▅▅▅▅▅\n",
      "wandb:           tolerance count ▁▂▃█▂▄▅▆▃▂\n",
      "wandb: \n",
      "wandb: Run summary:\n",
      "wandb:                  action_0 -0.63614\n",
      "wandb:                  action_1 -0.04824\n",
      "wandb:                  action_2 -0.25404\n",
      "wandb:                  action_3 0.60849\n",
      "wandb:                actor_loss -0.00688\n",
      "wandb:         actor_predictions 0.01461\n",
      "wandb:                avg_reward -49.5\n",
      "wandb:                      best False\n",
      "wandb:               critic_loss 0.56526\n",
      "wandb:        critic_predictions 0.00762\n",
      "wandb:                   episode 9\n",
      "wandb:            episode_reward -50.0\n",
      "wandb:              episode_time 0.18242\n",
      "wandb:             goal_distance 0.19234\n",
      "wandb:                   noise_0 0.0\n",
      "wandb:                   noise_1 0.0\n",
      "wandb:                   noise_2 0.0\n",
      "wandb:                   noise_3 0.0\n",
      "wandb:               step_reward -1.0\n",
      "wandb:                 step_time 0.00148\n",
      "wandb:              success_rate 0.0\n",
      "wandb:  target_actor_predictions 0.02106\n",
      "wandb: target_critic_predictions 0.01218\n",
      "wandb:           tolerance count 88\n",
      "wandb: \n",
      "wandb: 🚀 View run warm-sweep-1 at: https://wandb.ai/jasonhayes1987/FetchReach-v2/runs/bir8f7df\n",
      "wandb: ⭐️ View project at: https://wandb.ai/jasonhayes1987/FetchReach-v2\n",
      "wandb: Synced 5 W&B file(s), 2 media file(s), 7 artifact file(s) and 0 other file(s)\n",
      "wandb: Find logs at: ./wandb/run-20240608_181946-bir8f7df/logs\n",
      "DEBUG:urllib3.connectionpool:https://api.wandb.ai:443 \"POST /graphql HTTP/1.1\" 200 780\n",
      "wandb: Agent Starting Run: mjmpydj2 with config:\n",
      "wandb: \tHER_DDPG: {'HER_DDPG_actor_activation': 'relu', 'HER_DDPG_actor_clamp_output': 0.05, 'HER_DDPG_actor_hidden_kernel_initializer': 'kaiming_uniform', 'HER_DDPG_actor_hidden_kernel_kaiming_uniform': {'kaiming_uniform_mode': 'fan_in'}, 'HER_DDPG_actor_learning_rate': 0.0001, 'HER_DDPG_actor_normalize_layers': False, 'HER_DDPG_actor_num_cnn_layers': 0, 'HER_DDPG_actor_num_layers': 2, 'HER_DDPG_actor_optimizer': 'Adam', 'HER_DDPG_actor_optimizer_Adam_options': {'Adam_weight_decay': 0}, 'HER_DDPG_actor_output_kernel_constant': {'constant_value': 0.003}, 'HER_DDPG_actor_output_kernel_initializer': 'constant', 'HER_DDPG_batch_size': 128, 'HER_DDPG_critic_activation': 'relu', 'HER_DDPG_critic_hidden_kernel_initializer': 'kaiming_uniform', 'HER_DDPG_critic_hidden_kernel_kaiming_uniform': {'kaiming_uniform_mode': 'fan_in'}, 'HER_DDPG_critic_learning_rate': 0.0001, 'HER_DDPG_critic_merged_num_layers': 2, 'HER_DDPG_critic_normalize_layers': False, 'HER_DDPG_critic_num_cnn_layers': 0, 'HER_DDPG_critic_optimizer': 'Adam', 'HER_DDPG_critic_optimizer_Adam_options': {'Adam_weight_decay': 0}, 'HER_DDPG_critic_output_kernel_constant': {'constant_value': 0.003}, 'HER_DDPG_critic_output_kernel_initializer': 'constant', 'HER_DDPG_critic_state_num_layers': 2, 'HER_DDPG_device': 'cuda', 'HER_DDPG_discount': 0.9, 'HER_DDPG_epsilon_greedy': 0.3, 'HER_DDPG_goal_strategy': 'future', 'HER_DDPG_goal_tolerance': 0.05, 'HER_DDPG_noise': 'Normal', 'HER_DDPG_noise_Normal': {'mean': 0, 'stddev': 0.05}, 'HER_DDPG_normalizer_clip': 5, 'HER_DDPG_num_goals': 6, 'HER_DDPG_replay_buffer_size': 100000, 'HER_DDPG_save_dir': 'HER_Test', 'HER_DDPG_tau': 0.05, 'actor_units_layer_1_HER_DDPG': 128, 'actor_units_layer_2_HER_DDPG': 64, 'critic_units_merged_layer_1_HER_DDPG': 128, 'critic_units_merged_layer_2_HER_DDPG': 128, 'critic_units_state_layer_1_HER_DDPG': 64, 'critic_units_state_layer_2_HER_DDPG': 64}\n",
      "wandb: \tenv: {'id': 'FetchReach-v2', 'max_episode_steps': 50}\n",
      "wandb: \tmodel_type: HER_DDPG\n",
      "DEBUG:git.cmd:Popen(['git', 'rev-parse', '--show-toplevel'], cwd=/workspaces/RL_Agents, stdin=None, shell=False, universal_newlines=False)\n",
      "DEBUG:git.cmd:Popen(['git', 'rev-parse', '--show-toplevel'], cwd=/workspaces/RL_Agents, stdin=None, shell=False, universal_newlines=False)\n",
      "DEBUG:urllib3.connectionpool:Starting new HTTPS connection (1): api.wandb.ai:443\n"
     ]
    },
    {
     "name": "stdout",
     "output_type": "stream",
     "text": [
      "Loaded train config: {'num_sweeps': 5, 'num_episodes': 10, 'seed': 42, 'use_mpi': False, 'num_workers': 1, 'num_agents': 1, 'num_epochs': 1, 'num_cycles': 1, 'num_updates': 1}\n",
      "Loaded sweep config: {'method': 'bayes', 'project': 'FetchReach-v2', 'name': 'Test', 'metric': {'name': 'episode_reward', 'goal': 'maximize'}, 'parameters': {'env': {'parameters': {'id': {'value': 'FetchReach-v2'}, 'max_episode_steps': {'value': 50}}}, 'model_type': {'values': ['HER_DDPG']}, 'HER_DDPG': {'parameters': {'HER_DDPG_actor_learning_rate': {'values': [1e-05, 0.0001]}, 'HER_DDPG_critic_learning_rate': {'values': [1e-05, 0.0001]}, 'HER_DDPG_goal_strategy': {'values': ['future']}, 'HER_DDPG_num_goals': {'min': 4, 'max': 8}, 'HER_DDPG_goal_tolerance': {'values': [0.05]}, 'HER_DDPG_discount': {'values': [0.99, 0.9]}, 'HER_DDPG_tau': {'values': [0.05]}, 'HER_DDPG_epsilon_greedy': {'values': [0.2, 0.3]}, 'HER_DDPG_normalizer_clip': {'values': [5]}, 'HER_DDPG_device': {'value': 'cuda'}, 'HER_DDPG_actor_num_cnn_layers': {'value': 0}, 'HER_DDPG_actor_num_layers': {'value': 2}, 'HER_DDPG_actor_activation': {'values': ['relu']}, 'HER_DDPG_actor_hidden_kernel_initializer': {'values': ['kaiming_uniform']}, 'HER_DDPG_actor_output_kernel_initializer': {'values': ['constant']}, 'HER_DDPG_actor_optimizer': {'values': ['Adam']}, 'HER_DDPG_actor_optimizer_Adam_options': {'parameters': {'Adam_weight_decay': {'values': [0]}}}, 'HER_DDPG_actor_normalize_layers': {'values': [False]}, 'HER_DDPG_actor_clamp_output': {'values': [0.05]}, 'HER_DDPG_critic_num_cnn_layers': {'value': 0}, 'HER_DDPG_critic_state_num_layers': {'value': 2}, 'HER_DDPG_critic_merged_num_layers': {'value': 2}, 'HER_DDPG_critic_activation': {'values': ['relu']}, 'HER_DDPG_critic_hidden_kernel_initializer': {'values': ['kaiming_uniform']}, 'HER_DDPG_critic_output_kernel_initializer': {'values': ['constant']}, 'HER_DDPG_critic_optimizer': {'values': ['Adam']}, 'HER_DDPG_critic_optimizer_Adam_options': {'parameters': {'Adam_weight_decay': {'values': [0]}}}, 'HER_DDPG_critic_normalize_layers': {'values': [False]}, 'HER_DDPG_replay_buffer_size': {'values': [100000]}, 'HER_DDPG_batch_size': {'values': [128, 256]}, 'HER_DDPG_noise': {'values': ['Normal']}, 'HER_DDPG_noise_Normal': {'parameters': {'mean': {'values': [0]}, 'stddev': {'values': [0.05]}}}, 'HER_DDPG_actor_hidden_kernel_kaiming_uniform': {'parameters': {'kaiming_uniform_mode': {'values': ['fan_in']}}}, 'HER_DDPG_actor_output_kernel_constant': {'parameters': {'constant_value': {'values': [0.003]}}}, 'HER_DDPG_critic_hidden_kernel_kaiming_uniform': {'parameters': {'kaiming_uniform_mode': {'values': ['fan_in']}}}, 'HER_DDPG_critic_output_kernel_constant': {'parameters': {'constant_value': {'values': [0.003]}}}, 'actor_units_layer_1_HER_DDPG': {'values': [64, 128]}, 'actor_units_layer_2_HER_DDPG': {'values': [64, 128]}, 'critic_units_state_layer_1_HER_DDPG': {'values': [64, 128]}, 'critic_units_state_layer_2_HER_DDPG': {'values': [64, 128]}, 'critic_units_merged_layer_1_HER_DDPG': {'values': [64, 128]}, 'critic_units_merged_layer_2_HER_DDPG': {'values': [64, 128]}, 'HER_DDPG_save_dir': {'value': 'HER_Test'}}}}}\n"
     ]
    },
    {
     "name": "stderr",
     "output_type": "stream",
     "text": [
      "DEBUG:urllib3.connectionpool:https://api.wandb.ai:443 \"POST /graphql HTTP/1.1\" 200 1879\n",
      "DEBUG:urllib3.connectionpool:https://api.wandb.ai:443 \"POST /graphql HTTP/1.1\" 200 371\n",
      "DEBUG:git.cmd:Popen(['git', 'cat-file', '--batch-check'], cwd=/workspaces/RL_Agents, stdin=<valid stream>, shell=False, universal_newlines=False)\n",
      "DEBUG:urllib3.connectionpool:https://api.wandb.ai:443 \"POST /graphql HTTP/1.1\" 200 57\n",
      "wandb: wandb version 0.17.1 is available!  To upgrade, please run:\n",
      "wandb:  $ pip install wandb --upgrade\n",
      "wandb: Tracking run with wandb version 0.17.0\n",
      "wandb: Run data is saved locally in /workspaces/RL_Agents/pytorch/src/app/wandb/run-20240608_182007-mjmpydj2\n",
      "wandb: Run `wandb offline` to turn off syncing.\n",
      "wandb: Syncing run hardy-sweep-2\n",
      "wandb: ⭐️ View project at https://wandb.ai/jasonhayes1987/FetchReach-v2\n",
      "wandb: 🧹 View sweep at https://wandb.ai/jasonhayes1987/FetchReach-v2/sweeps/z0diu9m3\n",
      "wandb: 🚀 View run at https://wandb.ai/jasonhayes1987/FetchReach-v2/runs/mjmpydj2\n"
     ]
    },
    {
     "name": "stdout",
     "output_type": "stream",
     "text": [
      "signal only works in main thread of the main interpreter\n",
      "sweep wandb config:{'HER_DDPG': {'HER_DDPG_actor_activation': 'relu', 'HER_DDPG_actor_clamp_output': 0.05, 'HER_DDPG_actor_hidden_kernel_initializer': 'kaiming_uniform', 'HER_DDPG_actor_hidden_kernel_kaiming_uniform': {'kaiming_uniform_mode': 'fan_in'}, 'HER_DDPG_actor_learning_rate': 0.0001, 'HER_DDPG_actor_normalize_layers': False, 'HER_DDPG_actor_num_cnn_layers': 0, 'HER_DDPG_actor_num_layers': 2, 'HER_DDPG_actor_optimizer': 'Adam', 'HER_DDPG_actor_optimizer_Adam_options': {'Adam_weight_decay': 0}, 'HER_DDPG_actor_output_kernel_constant': {'constant_value': 0.003}, 'HER_DDPG_actor_output_kernel_initializer': 'constant', 'HER_DDPG_batch_size': 128, 'HER_DDPG_critic_activation': 'relu', 'HER_DDPG_critic_hidden_kernel_initializer': 'kaiming_uniform', 'HER_DDPG_critic_hidden_kernel_kaiming_uniform': {'kaiming_uniform_mode': 'fan_in'}, 'HER_DDPG_critic_learning_rate': 0.0001, 'HER_DDPG_critic_merged_num_layers': 2, 'HER_DDPG_critic_normalize_layers': False, 'HER_DDPG_critic_num_cnn_layers': 0, 'HER_DDPG_critic_optimizer': 'Adam', 'HER_DDPG_critic_optimizer_Adam_options': {'Adam_weight_decay': 0}, 'HER_DDPG_critic_output_kernel_constant': {'constant_value': 0.003}, 'HER_DDPG_critic_output_kernel_initializer': 'constant', 'HER_DDPG_critic_state_num_layers': 2, 'HER_DDPG_device': 'cuda', 'HER_DDPG_discount': 0.9, 'HER_DDPG_epsilon_greedy': 0.3, 'HER_DDPG_goal_strategy': 'future', 'HER_DDPG_goal_tolerance': 0.05, 'HER_DDPG_noise': 'Normal', 'HER_DDPG_noise_Normal': {'mean': 0, 'stddev': 0.05}, 'HER_DDPG_normalizer_clip': 5, 'HER_DDPG_num_goals': 6, 'HER_DDPG_replay_buffer_size': 100000, 'HER_DDPG_save_dir': 'HER_Test', 'HER_DDPG_tau': 0.05, 'actor_units_layer_1_HER_DDPG': 128, 'actor_units_layer_2_HER_DDPG': 64, 'critic_units_merged_layer_1_HER_DDPG': 128, 'critic_units_merged_layer_2_HER_DDPG': 128, 'critic_units_state_layer_1_HER_DDPG': 64, 'critic_units_state_layer_2_HER_DDPG': 64}, 'env': {'id': 'FetchReach-v2', 'max_episode_steps': 50}, 'model_type': 'HER_DDPG'}\n",
      "load weights:False\n",
      "num_episodes:10\n",
      "render:False\n",
      "render freq:0\n",
      "save dir:HER_Test\n",
      "seed:42\n",
      "run number:None\n",
      "use mpi:False\n",
      "passed assert\n",
      "if wandb run fired\n",
      "{'class_name': 'WandbCallback', 'config': {'project_name': 'FetchReach-v2', 'run_name': None, 'chkpt_freq': 100, '_sweep': True}}\n",
      "Environment created: <TimeLimit<OrderEnforcing<PassiveEnvChecker<MujocoFetchReachEnv<FetchReach-v2>>>>>\n",
      "if model type = HER_DDPG called\n",
      "agent name: ddpg\n",
      "new save dir: HER_Test/her/ddpg/\n",
      "self._obs_space_shape: (10,)\n",
      "buffer size = 100000\n",
      "agent built:{'agent_type': 'HER', 'agent': {'agent_type': 'DDPG', 'env': 'FetchReach-v2', 'actor_model': {'env': 'FetchReach-v2', 'cnn_model': None, 'num_layers': 4, 'dense_layers': [(128, 'relu', {'kaiming_uniform': {'mode': 'fan_in'}}), (64, 'relu', {'kaiming_uniform': {'mode': 'fan_in'}})], 'output_layer_kernel': {'constant': {'val': 0.003}}, 'goal_shape': (3,), 'optimizer': 'Adam', 'optimizer_params': {'weight_decay': 0}, 'learning_rate': 0.0001, 'normalize_layers': False, 'clamp_output': 0.05}, 'critic_model': {'env': 'FetchReach-v2', 'cnn_model': None, 'num_layers': 8, 'state_layers': [(64, 'relu', {'kaiming_uniform': {'mode': 'fan_in'}}), (64, 'relu', {'kaiming_uniform': {'mode': 'fan_in'}})], 'merged_layers': [(128, 'relu', {'kaiming_uniform': {'mode': 'fan_in'}}), (128, 'relu', {'kaiming_uniform': {'mode': 'fan_in'}})], 'output_layer_kernel': {'constant': {'val': 0.003}}, 'goal_shape': (3,), 'optimizer': 'Adam', 'optimizer_params': {'weight_decay': 0}, 'learning_rate': 0.0001, 'normalize_layers': False}, 'discount': 0.9, 'tau': 0.05, 'action_epsilon': 0.3, 'replay_buffer': None, 'batch_size': 128, 'noise': {'class_name': 'NormalNoise', 'config': {'shape': (4,), 'mean': 0.0, 'stddev': 0.05000000074505806}}, 'normalize_inputs': False, 'normalizer_clip': None, 'normalizer_eps': 0.01, 'callbacks': [{'class_name': 'WandbCallback', 'config': {'project_name': 'FetchReach-v2', 'run_name': None, 'chkpt_freq': 100, '_sweep': True}}], 'save_dir': 'HER_Test/her/ddpg/'}, 'strategy': 'future', 'tolerance': 0.05, 'num_goals': 6, 'desired_goal': 'fetch_reach_desired_goal', 'achieved_goal': 'fetch_reach_achieved_goal', 'reward_fn': 'fetch_reach_reward', 'normalizer_clip': 5, 'normalizer_eps': 0.01, 'replay_buffer_size': 100000, 'device': 'cuda', 'save_dir': 'HER_Test/her/'}\n",
      "sweep not using mpi fired\n",
      "agent config:{'agent_type': 'HER', 'agent': {'agent_type': 'DDPG', 'env': 'FetchReach-v2', 'actor_model': {'env': 'FetchReach-v2', 'cnn_model': None, 'num_layers': 4, 'dense_layers': [(128, 'relu', {'kaiming_uniform': {'mode': 'fan_in'}}), (64, 'relu', {'kaiming_uniform': {'mode': 'fan_in'}})], 'output_layer_kernel': {'constant': {'val': 0.003}}, 'goal_shape': (3,), 'optimizer': 'Adam', 'optimizer_params': {'weight_decay': 0}, 'learning_rate': 0.0001, 'normalize_layers': False, 'clamp_output': 0.05}, 'critic_model': {'env': 'FetchReach-v2', 'cnn_model': None, 'num_layers': 8, 'state_layers': [(64, 'relu', {'kaiming_uniform': {'mode': 'fan_in'}}), (64, 'relu', {'kaiming_uniform': {'mode': 'fan_in'}})], 'merged_layers': [(128, 'relu', {'kaiming_uniform': {'mode': 'fan_in'}}), (128, 'relu', {'kaiming_uniform': {'mode': 'fan_in'}})], 'output_layer_kernel': {'constant': {'val': 0.003}}, 'goal_shape': (3,), 'optimizer': 'Adam', 'optimizer_params': {'weight_decay': 0}, 'learning_rate': 0.0001, 'normalize_layers': False}, 'discount': 0.9, 'tau': 0.05, 'action_epsilon': 0.3, 'replay_buffer': None, 'batch_size': 128, 'noise': {'class_name': 'NormalNoise', 'config': {'shape': (4,), 'mean': 0.0, 'stddev': 0.05000000074505806}}, 'normalize_inputs': False, 'normalizer_clip': None, 'normalizer_eps': 0.01, 'callbacks': [{'class_name': 'WandbCallback', 'config': {'project_name': 'FetchReach-v2', 'run_name': None, 'chkpt_freq': 100, '_sweep': True}}], 'save_dir': 'HER_Test/her/ddpg/'}, 'strategy': 'future', 'tolerance': 0.05, 'num_goals': 6, 'desired_goal': 'fetch_reach_desired_goal', 'achieved_goal': 'fetch_reach_achieved_goal', 'reward_fn': 'fetch_reach_reward', 'normalizer_clip': 5, 'normalizer_eps': 0.01, 'replay_buffer_size': 100000, 'device': 'cuda', 'save_dir': 'HER_Test/her/'}\n"
     ]
    },
    {
     "name": "stderr",
     "output_type": "stream",
     "text": [
      "DEBUG:urllib3.connectionpool:Starting new HTTPS connection (1): api.wandb.ai:443\n",
      "DEBUG:urllib3.connectionpool:https://api.wandb.ai:443 \"POST /graphql HTTP/1.1\" 200 None\n",
      "DEBUG:urllib3.connectionpool:https://api.wandb.ai:443 \"POST /graphql HTTP/1.1\" 200 789\n",
      "DEBUG:urllib3.connectionpool:https://api.wandb.ai:443 \"POST /graphql HTTP/1.1\" 200 785\n",
      "DEBUG:urllib3.connectionpool:https://api.wandb.ai:443 \"POST /graphql HTTP/1.1\" 200 785\n",
      "DEBUG:urllib3.connectionpool:https://api.wandb.ai:443 \"POST /graphql HTTP/1.1\" 200 785\n",
      "wandb: WARNING Ignored wandb.init() arg project when running a sweep.\n",
      "wandb: logging graph, to disable use `wandb.watch(log_graph=False)`\n",
      "wandb: logging graph, to disable use `wandb.watch(log_graph=False)`\n",
      "wandb: Adding directory to artifact (./HER_Test/her/ddpg)... Done. 0.0s\n",
      "DEBUG:urllib3.connectionpool:Starting new HTTPS connection (1): api.wandb.ai:443\n",
      "DEBUG:urllib3.connectionpool:https://api.wandb.ai:443 \"POST /graphql HTTP/1.1\" 200 42\n",
      "DEBUG:urllib3.connectionpool:https://api.wandb.ai:443 \"POST /graphql HTTP/1.1\" 200 57\n"
     ]
    },
    {
     "name": "stdout",
     "output_type": "stream",
     "text": [
      "epoch 0 cycle 1 episode 10, success percentage 0.0, reward -50.0, avg reward -50.0, avg episode time 0.25s\n"
     ]
    },
    {
     "name": "stderr",
     "output_type": "stream",
     "text": [
      "DEBUG:urllib3.connectionpool:https://api.wandb.ai:443 \"POST /graphql HTTP/1.1\" 200 57\n",
      "wandb:                                                                                \n",
      "wandb: \n",
      "wandb: Run history:\n",
      "wandb:                  action_0 ▄▄▄▄▅█▃▄▄▅▅▁▄▂▄▄▄▇▄▄▃▃▅▄▄▄▄▁▄▄▄▄▅▅▆▄▃▄▅▄\n",
      "wandb:                  action_1 ▄▂▅▄▅▄▃▇▅▅▇▂▅▃▅▅▅█▅▅▅▅▃▅▅▄▅▁▅▅▅▄▅▅▅▅█▅▅▅\n",
      "wandb:                  action_2 ▅▅▅▅▅▄▄▁▅▅▆▄▅▅▅▅▅▅▅▅▄▁▁▅▅▄▅▄▄▄▅▄▅▅▅▅█▅▅▅\n",
      "wandb:                  action_3 ▄▇▄▄▅▁▂█▅▅▅▁▅▅▄▄▅▁▄▄▂▄▆▄▄▄▅▅▄▅▅▄▄▄▁▅▅▅▅▄\n",
      "wandb:                actor_loss ▁▂▂▃▄▅▆▆▇█\n",
      "wandb:         actor_predictions █████▇▇▇▇▆▆▆▆▅▅▅▅▅▄▄▄▄▄▄▄▄▄▂▂▂▂▁▁▁▁▁▁▁▁▁\n",
      "wandb:                avg_reward ▁▁▁▁▁▁▁▁▁▁\n",
      "wandb:                      best █▁▁▁▁▁▁▁▁▁\n",
      "wandb:               critic_loss ▁█▅▅▂▂▃▇▄▇\n",
      "wandb:        critic_predictions █████▇▇▇▇▆▆▆▆▆▆▆▆▆▅▅▅▅▄▄▄▄▄▃▃▃▃▂▂▂▂▂▁▁▁▁\n",
      "wandb:                   episode ▁▂▃▃▄▅▆▆▇█\n",
      "wandb:            episode_reward ▁▁▁▁▁▁▁▁▁▁\n",
      "wandb:              episode_time ▅▅▄▅█▅▁▁▃▁\n",
      "wandb:             goal_distance ▄▃▃▂▄▅▅▆▂▄▄▃▃▄▄▄▅▅▄▃▅▆▆█▃▄▄▃▄▄▄▄▆▇▆▅▅▄▁▃\n",
      "wandb:                   noise_0 ▃▄▄▁▅▄▄▄▄▆▄▄▄▄▂▃▅▄▂▅▄▄▄▂▃▁▅▄▃▂▄▄█▅▄▃▄▅▅▃\n",
      "wandb:                   noise_1 ▂▆▅▂▄▆▆▆▅█▆▆▆▆▆▇▄▆█▆▆▆▆▅▅▁▅▆▄▆▄▂▅▅▆▆▆▄▆▆\n",
      "wandb:                   noise_2 ▄▅▃▆▄▅▅▅▆▆▅▅▆▅▃▇▆▅▄▇▅▅▅▅█▁▄▅▂▃▄▂▆▅▅▄▅▅▄▅\n",
      "wandb:                   noise_3 ▃▆▆▅▇▆▆▆██▆▆▇▆▅▁▆▆▆▅▆▆▆▅▆▆▇▆▆▇█▆▅▆▆▇▆██▅\n",
      "wandb:               step_reward ▁▁▁▁▁▁▁▁▁▁▁▁▁▁▁▁▁▁▁▁▁▁▁▁▁▁▁▁▁▁▁▁▁▁▁▁▁▁▁▁\n",
      "wandb:                 step_time ▄▁▃▄▂▁▂▂▃▂▁▂▅▁▆█▃▂▃▆▂▁▁▃▂▆▂▁▃▂▂▇▇▃▁▇▁▂▂▃\n",
      "wandb:              success_rate ▁▁▁▁▁▁▁▁▁▁\n",
      "wandb:  target_actor_predictions █████████▄▄▄▄▇▇▇▇▇▁▁▁▁█████▅▅▅▅▇▇▇▇▇▃▃▃▃\n",
      "wandb: target_critic_predictions ▁▁▁▁▁▂▂▂▂▅▅▅▅█████▇▇▇▇▇▇▇▇▇▆▆▆▆▇▇▇▇▇▅▅▅▅\n",
      "wandb:           tolerance count ▆▁▆█▄▄▄▃▃▃\n",
      "wandb: \n",
      "wandb: Run summary:\n",
      "wandb:                  action_0 0.03987\n",
      "wandb:                  action_1 0.04568\n",
      "wandb:                  action_2 -0.0354\n",
      "wandb:                  action_3 0.05439\n",
      "wandb:                actor_loss -0.00869\n",
      "wandb:         actor_predictions 0.0124\n",
      "wandb:                avg_reward -50.0\n",
      "wandb:                      best False\n",
      "wandb:               critic_loss 0.54267\n",
      "wandb:        critic_predictions 0.00943\n",
      "wandb:                   episode 9\n",
      "wandb:            episode_reward -50.0\n",
      "wandb:              episode_time 0.21738\n",
      "wandb:             goal_distance 0.13099\n",
      "wandb:                   noise_0 0.02499\n",
      "wandb:                   noise_1 0.0308\n",
      "wandb:                   noise_2 -0.05028\n",
      "wandb:                   noise_3 0.03952\n",
      "wandb:               step_reward -1.0\n",
      "wandb:                 step_time 0.00315\n",
      "wandb:              success_rate 0.0\n",
      "wandb:  target_actor_predictions 0.01812\n",
      "wandb: target_critic_predictions 0.015\n",
      "wandb:           tolerance count 130\n",
      "wandb: \n",
      "wandb: 🚀 View run hardy-sweep-2 at: https://wandb.ai/jasonhayes1987/FetchReach-v2/runs/mjmpydj2\n",
      "wandb: ⭐️ View project at: https://wandb.ai/jasonhayes1987/FetchReach-v2\n",
      "wandb: Synced 5 W&B file(s), 2 media file(s), 7 artifact file(s) and 0 other file(s)\n",
      "wandb: Find logs at: ./wandb/run-20240608_182007-mjmpydj2/logs\n",
      "wandb: Sweep Agent: Waiting for job.\n",
      "DEBUG:urllib3.connectionpool:https://api.wandb.ai:443 \"POST /graphql HTTP/1.1\" 200 882\n",
      "wandb: Job received.\n",
      "wandb: Agent Starting Run: t14sop1t with config:\n",
      "wandb: \tHER_DDPG: {'HER_DDPG_actor_activation': 'relu', 'HER_DDPG_actor_clamp_output': 0.05, 'HER_DDPG_actor_hidden_kernel_initializer': 'kaiming_uniform', 'HER_DDPG_actor_hidden_kernel_kaiming_uniform': {'kaiming_uniform_mode': 'fan_in'}, 'HER_DDPG_actor_learning_rate': 0.0001, 'HER_DDPG_actor_normalize_layers': False, 'HER_DDPG_actor_num_cnn_layers': 0, 'HER_DDPG_actor_num_layers': 2, 'HER_DDPG_actor_optimizer': 'Adam', 'HER_DDPG_actor_optimizer_Adam_options': {'Adam_weight_decay': 0}, 'HER_DDPG_actor_output_kernel_constant': {'constant_value': 0.003}, 'HER_DDPG_actor_output_kernel_initializer': 'constant', 'HER_DDPG_batch_size': 256, 'HER_DDPG_critic_activation': 'relu', 'HER_DDPG_critic_hidden_kernel_initializer': 'kaiming_uniform', 'HER_DDPG_critic_hidden_kernel_kaiming_uniform': {'kaiming_uniform_mode': 'fan_in'}, 'HER_DDPG_critic_learning_rate': 1e-05, 'HER_DDPG_critic_merged_num_layers': 2, 'HER_DDPG_critic_normalize_layers': False, 'HER_DDPG_critic_num_cnn_layers': 0, 'HER_DDPG_critic_optimizer': 'Adam', 'HER_DDPG_critic_optimizer_Adam_options': {'Adam_weight_decay': 0}, 'HER_DDPG_critic_output_kernel_constant': {'constant_value': 0.003}, 'HER_DDPG_critic_output_kernel_initializer': 'constant', 'HER_DDPG_critic_state_num_layers': 2, 'HER_DDPG_device': 'cuda', 'HER_DDPG_discount': 0.99, 'HER_DDPG_epsilon_greedy': 0.2, 'HER_DDPG_goal_strategy': 'future', 'HER_DDPG_goal_tolerance': 0.05, 'HER_DDPG_noise': 'Normal', 'HER_DDPG_noise_Normal': {'mean': 0, 'stddev': 0.05}, 'HER_DDPG_normalizer_clip': 5, 'HER_DDPG_num_goals': 7, 'HER_DDPG_replay_buffer_size': 100000, 'HER_DDPG_save_dir': 'HER_Test', 'HER_DDPG_tau': 0.05, 'actor_units_layer_1_HER_DDPG': 64, 'actor_units_layer_2_HER_DDPG': 64, 'critic_units_merged_layer_1_HER_DDPG': 64, 'critic_units_merged_layer_2_HER_DDPG': 128, 'critic_units_state_layer_1_HER_DDPG': 128, 'critic_units_state_layer_2_HER_DDPG': 128}\n",
      "wandb: \tenv: {'id': 'FetchReach-v2', 'max_episode_steps': 50}\n",
      "wandb: \tmodel_type: HER_DDPG\n",
      "DEBUG:git.cmd:Popen(['git', 'rev-parse', '--show-toplevel'], cwd=/workspaces/RL_Agents, stdin=None, shell=False, universal_newlines=False)\n",
      "DEBUG:git.cmd:Popen(['git', 'rev-parse', '--show-toplevel'], cwd=/workspaces/RL_Agents, stdin=None, shell=False, universal_newlines=False)\n",
      "DEBUG:urllib3.connectionpool:Starting new HTTPS connection (1): api.wandb.ai:443\n"
     ]
    },
    {
     "name": "stdout",
     "output_type": "stream",
     "text": [
      "Loaded train config: {'num_sweeps': 5, 'num_episodes': 10, 'seed': 42, 'use_mpi': False, 'num_workers': 1, 'num_agents': 1, 'num_epochs': 1, 'num_cycles': 1, 'num_updates': 1}\n",
      "Loaded sweep config: {'method': 'bayes', 'project': 'FetchReach-v2', 'name': 'Test', 'metric': {'name': 'episode_reward', 'goal': 'maximize'}, 'parameters': {'env': {'parameters': {'id': {'value': 'FetchReach-v2'}, 'max_episode_steps': {'value': 50}}}, 'model_type': {'values': ['HER_DDPG']}, 'HER_DDPG': {'parameters': {'HER_DDPG_actor_learning_rate': {'values': [1e-05, 0.0001]}, 'HER_DDPG_critic_learning_rate': {'values': [1e-05, 0.0001]}, 'HER_DDPG_goal_strategy': {'values': ['future']}, 'HER_DDPG_num_goals': {'min': 4, 'max': 8}, 'HER_DDPG_goal_tolerance': {'values': [0.05]}, 'HER_DDPG_discount': {'values': [0.99, 0.9]}, 'HER_DDPG_tau': {'values': [0.05]}, 'HER_DDPG_epsilon_greedy': {'values': [0.2, 0.3]}, 'HER_DDPG_normalizer_clip': {'values': [5]}, 'HER_DDPG_device': {'value': 'cuda'}, 'HER_DDPG_actor_num_cnn_layers': {'value': 0}, 'HER_DDPG_actor_num_layers': {'value': 2}, 'HER_DDPG_actor_activation': {'values': ['relu']}, 'HER_DDPG_actor_hidden_kernel_initializer': {'values': ['kaiming_uniform']}, 'HER_DDPG_actor_output_kernel_initializer': {'values': ['constant']}, 'HER_DDPG_actor_optimizer': {'values': ['Adam']}, 'HER_DDPG_actor_optimizer_Adam_options': {'parameters': {'Adam_weight_decay': {'values': [0]}}}, 'HER_DDPG_actor_normalize_layers': {'values': [False]}, 'HER_DDPG_actor_clamp_output': {'values': [0.05]}, 'HER_DDPG_critic_num_cnn_layers': {'value': 0}, 'HER_DDPG_critic_state_num_layers': {'value': 2}, 'HER_DDPG_critic_merged_num_layers': {'value': 2}, 'HER_DDPG_critic_activation': {'values': ['relu']}, 'HER_DDPG_critic_hidden_kernel_initializer': {'values': ['kaiming_uniform']}, 'HER_DDPG_critic_output_kernel_initializer': {'values': ['constant']}, 'HER_DDPG_critic_optimizer': {'values': ['Adam']}, 'HER_DDPG_critic_optimizer_Adam_options': {'parameters': {'Adam_weight_decay': {'values': [0]}}}, 'HER_DDPG_critic_normalize_layers': {'values': [False]}, 'HER_DDPG_replay_buffer_size': {'values': [100000]}, 'HER_DDPG_batch_size': {'values': [128, 256]}, 'HER_DDPG_noise': {'values': ['Normal']}, 'HER_DDPG_noise_Normal': {'parameters': {'mean': {'values': [0]}, 'stddev': {'values': [0.05]}}}, 'HER_DDPG_actor_hidden_kernel_kaiming_uniform': {'parameters': {'kaiming_uniform_mode': {'values': ['fan_in']}}}, 'HER_DDPG_actor_output_kernel_constant': {'parameters': {'constant_value': {'values': [0.003]}}}, 'HER_DDPG_critic_hidden_kernel_kaiming_uniform': {'parameters': {'kaiming_uniform_mode': {'values': ['fan_in']}}}, 'HER_DDPG_critic_output_kernel_constant': {'parameters': {'constant_value': {'values': [0.003]}}}, 'actor_units_layer_1_HER_DDPG': {'values': [64, 128]}, 'actor_units_layer_2_HER_DDPG': {'values': [64, 128]}, 'critic_units_state_layer_1_HER_DDPG': {'values': [64, 128]}, 'critic_units_state_layer_2_HER_DDPG': {'values': [64, 128]}, 'critic_units_merged_layer_1_HER_DDPG': {'values': [64, 128]}, 'critic_units_merged_layer_2_HER_DDPG': {'values': [64, 128]}, 'HER_DDPG_save_dir': {'value': 'HER_Test'}}}}}\n"
     ]
    },
    {
     "name": "stderr",
     "output_type": "stream",
     "text": [
      "DEBUG:urllib3.connectionpool:https://api.wandb.ai:443 \"POST /graphql HTTP/1.1\" 200 1879\n",
      "DEBUG:urllib3.connectionpool:https://api.wandb.ai:443 \"POST /graphql HTTP/1.1\" 200 371\n",
      "DEBUG:git.cmd:Popen(['git', 'cat-file', '--batch-check'], cwd=/workspaces/RL_Agents, stdin=<valid stream>, shell=False, universal_newlines=False)\n",
      "DEBUG:urllib3.connectionpool:https://api.wandb.ai:443 \"POST /graphql HTTP/1.1\" 200 57\n",
      "DEBUG:urllib3.connectionpool:https://api.wandb.ai:443 \"POST /graphql HTTP/1.1\" 200 57\n",
      "wandb: wandb version 0.17.1 is available!  To upgrade, please run:\n",
      "wandb:  $ pip install wandb --upgrade\n",
      "wandb: Tracking run with wandb version 0.17.0\n",
      "wandb: Run data is saved locally in /workspaces/RL_Agents/pytorch/src/app/wandb/run-20240608_182034-t14sop1t\n",
      "wandb: Run `wandb offline` to turn off syncing.\n",
      "wandb: Syncing run rare-sweep-3\n",
      "wandb: ⭐️ View project at https://wandb.ai/jasonhayes1987/FetchReach-v2\n",
      "wandb: 🧹 View sweep at https://wandb.ai/jasonhayes1987/FetchReach-v2/sweeps/z0diu9m3\n",
      "wandb: 🚀 View run at https://wandb.ai/jasonhayes1987/FetchReach-v2/runs/t14sop1t\n"
     ]
    },
    {
     "name": "stdout",
     "output_type": "stream",
     "text": [
      "signal only works in main thread of the main interpreter\n",
      "sweep wandb config:{'HER_DDPG': {'HER_DDPG_actor_activation': 'relu', 'HER_DDPG_actor_clamp_output': 0.05, 'HER_DDPG_actor_hidden_kernel_initializer': 'kaiming_uniform', 'HER_DDPG_actor_hidden_kernel_kaiming_uniform': {'kaiming_uniform_mode': 'fan_in'}, 'HER_DDPG_actor_learning_rate': 0.0001, 'HER_DDPG_actor_normalize_layers': False, 'HER_DDPG_actor_num_cnn_layers': 0, 'HER_DDPG_actor_num_layers': 2, 'HER_DDPG_actor_optimizer': 'Adam', 'HER_DDPG_actor_optimizer_Adam_options': {'Adam_weight_decay': 0}, 'HER_DDPG_actor_output_kernel_constant': {'constant_value': 0.003}, 'HER_DDPG_actor_output_kernel_initializer': 'constant', 'HER_DDPG_batch_size': 256, 'HER_DDPG_critic_activation': 'relu', 'HER_DDPG_critic_hidden_kernel_initializer': 'kaiming_uniform', 'HER_DDPG_critic_hidden_kernel_kaiming_uniform': {'kaiming_uniform_mode': 'fan_in'}, 'HER_DDPG_critic_learning_rate': 1e-05, 'HER_DDPG_critic_merged_num_layers': 2, 'HER_DDPG_critic_normalize_layers': False, 'HER_DDPG_critic_num_cnn_layers': 0, 'HER_DDPG_critic_optimizer': 'Adam', 'HER_DDPG_critic_optimizer_Adam_options': {'Adam_weight_decay': 0}, 'HER_DDPG_critic_output_kernel_constant': {'constant_value': 0.003}, 'HER_DDPG_critic_output_kernel_initializer': 'constant', 'HER_DDPG_critic_state_num_layers': 2, 'HER_DDPG_device': 'cuda', 'HER_DDPG_discount': 0.99, 'HER_DDPG_epsilon_greedy': 0.2, 'HER_DDPG_goal_strategy': 'future', 'HER_DDPG_goal_tolerance': 0.05, 'HER_DDPG_noise': 'Normal', 'HER_DDPG_noise_Normal': {'mean': 0, 'stddev': 0.05}, 'HER_DDPG_normalizer_clip': 5, 'HER_DDPG_num_goals': 7, 'HER_DDPG_replay_buffer_size': 100000, 'HER_DDPG_save_dir': 'HER_Test', 'HER_DDPG_tau': 0.05, 'actor_units_layer_1_HER_DDPG': 64, 'actor_units_layer_2_HER_DDPG': 64, 'critic_units_merged_layer_1_HER_DDPG': 64, 'critic_units_merged_layer_2_HER_DDPG': 128, 'critic_units_state_layer_1_HER_DDPG': 128, 'critic_units_state_layer_2_HER_DDPG': 128}, 'env': {'id': 'FetchReach-v2', 'max_episode_steps': 50}, 'model_type': 'HER_DDPG'}\n",
      "load weights:False\n",
      "num_episodes:10\n",
      "render:False\n",
      "render freq:0\n",
      "save dir:HER_Test\n",
      "seed:42\n",
      "run number:None\n",
      "use mpi:False\n",
      "passed assert\n",
      "if wandb run fired\n",
      "{'class_name': 'WandbCallback', 'config': {'project_name': 'FetchReach-v2', 'run_name': None, 'chkpt_freq': 100, '_sweep': True}}\n",
      "Environment created: <TimeLimit<OrderEnforcing<PassiveEnvChecker<MujocoFetchReachEnv<FetchReach-v2>>>>>\n",
      "if model type = HER_DDPG called\n",
      "agent name: ddpg\n",
      "new save dir: HER_Test/her/ddpg/\n",
      "self._obs_space_shape: (10,)\n",
      "buffer size = 100000\n",
      "agent built:{'agent_type': 'HER', 'agent': {'agent_type': 'DDPG', 'env': 'FetchReach-v2', 'actor_model': {'env': 'FetchReach-v2', 'cnn_model': None, 'num_layers': 4, 'dense_layers': [(64, 'relu', {'kaiming_uniform': {'mode': 'fan_in'}}), (64, 'relu', {'kaiming_uniform': {'mode': 'fan_in'}})], 'output_layer_kernel': {'constant': {'val': 0.003}}, 'goal_shape': (3,), 'optimizer': 'Adam', 'optimizer_params': {'weight_decay': 0}, 'learning_rate': 0.0001, 'normalize_layers': False, 'clamp_output': 0.05}, 'critic_model': {'env': 'FetchReach-v2', 'cnn_model': None, 'num_layers': 8, 'state_layers': [(128, 'relu', {'kaiming_uniform': {'mode': 'fan_in'}}), (128, 'relu', {'kaiming_uniform': {'mode': 'fan_in'}})], 'merged_layers': [(64, 'relu', {'kaiming_uniform': {'mode': 'fan_in'}}), (128, 'relu', {'kaiming_uniform': {'mode': 'fan_in'}})], 'output_layer_kernel': {'constant': {'val': 0.003}}, 'goal_shape': (3,), 'optimizer': 'Adam', 'optimizer_params': {'weight_decay': 0}, 'learning_rate': 1e-05, 'normalize_layers': False}, 'discount': 0.99, 'tau': 0.05, 'action_epsilon': 0.2, 'replay_buffer': None, 'batch_size': 256, 'noise': {'class_name': 'NormalNoise', 'config': {'shape': (4,), 'mean': 0.0, 'stddev': 0.05000000074505806}}, 'normalize_inputs': False, 'normalizer_clip': None, 'normalizer_eps': 0.01, 'callbacks': [{'class_name': 'WandbCallback', 'config': {'project_name': 'FetchReach-v2', 'run_name': None, 'chkpt_freq': 100, '_sweep': True}}], 'save_dir': 'HER_Test/her/ddpg/'}, 'strategy': 'future', 'tolerance': 0.05, 'num_goals': 7, 'desired_goal': 'fetch_reach_desired_goal', 'achieved_goal': 'fetch_reach_achieved_goal', 'reward_fn': 'fetch_reach_reward', 'normalizer_clip': 5, 'normalizer_eps': 0.01, 'replay_buffer_size': 100000, 'device': 'cuda', 'save_dir': 'HER_Test/her/'}\n",
      "sweep not using mpi fired\n",
      "agent config:{'agent_type': 'HER', 'agent': {'agent_type': 'DDPG', 'env': 'FetchReach-v2', 'actor_model': {'env': 'FetchReach-v2', 'cnn_model': None, 'num_layers': 4, 'dense_layers': [(64, 'relu', {'kaiming_uniform': {'mode': 'fan_in'}}), (64, 'relu', {'kaiming_uniform': {'mode': 'fan_in'}})], 'output_layer_kernel': {'constant': {'val': 0.003}}, 'goal_shape': (3,), 'optimizer': 'Adam', 'optimizer_params': {'weight_decay': 0}, 'learning_rate': 0.0001, 'normalize_layers': False, 'clamp_output': 0.05}, 'critic_model': {'env': 'FetchReach-v2', 'cnn_model': None, 'num_layers': 8, 'state_layers': [(128, 'relu', {'kaiming_uniform': {'mode': 'fan_in'}}), (128, 'relu', {'kaiming_uniform': {'mode': 'fan_in'}})], 'merged_layers': [(64, 'relu', {'kaiming_uniform': {'mode': 'fan_in'}}), (128, 'relu', {'kaiming_uniform': {'mode': 'fan_in'}})], 'output_layer_kernel': {'constant': {'val': 0.003}}, 'goal_shape': (3,), 'optimizer': 'Adam', 'optimizer_params': {'weight_decay': 0}, 'learning_rate': 1e-05, 'normalize_layers': False}, 'discount': 0.99, 'tau': 0.05, 'action_epsilon': 0.2, 'replay_buffer': None, 'batch_size': 256, 'noise': {'class_name': 'NormalNoise', 'config': {'shape': (4,), 'mean': 0.0, 'stddev': 0.05000000074505806}}, 'normalize_inputs': False, 'normalizer_clip': None, 'normalizer_eps': 0.01, 'callbacks': [{'class_name': 'WandbCallback', 'config': {'project_name': 'FetchReach-v2', 'run_name': None, 'chkpt_freq': 100, '_sweep': True}}], 'save_dir': 'HER_Test/her/ddpg/'}, 'strategy': 'future', 'tolerance': 0.05, 'num_goals': 7, 'desired_goal': 'fetch_reach_desired_goal', 'achieved_goal': 'fetch_reach_achieved_goal', 'reward_fn': 'fetch_reach_reward', 'normalizer_clip': 5, 'normalizer_eps': 0.01, 'replay_buffer_size': 100000, 'device': 'cuda', 'save_dir': 'HER_Test/her/'}\n"
     ]
    },
    {
     "name": "stderr",
     "output_type": "stream",
     "text": [
      "DEBUG:urllib3.connectionpool:Starting new HTTPS connection (1): api.wandb.ai:443\n",
      "DEBUG:urllib3.connectionpool:https://api.wandb.ai:443 \"POST /graphql HTTP/1.1\" 200 None\n",
      "DEBUG:urllib3.connectionpool:https://api.wandb.ai:443 \"POST /graphql HTTP/1.1\" 200 789\n",
      "DEBUG:urllib3.connectionpool:https://api.wandb.ai:443 \"POST /graphql HTTP/1.1\" 200 785\n",
      "DEBUG:urllib3.connectionpool:https://api.wandb.ai:443 \"POST /graphql HTTP/1.1\" 200 785\n",
      "DEBUG:urllib3.connectionpool:https://api.wandb.ai:443 \"POST /graphql HTTP/1.1\" 200 785\n",
      "wandb: WARNING Ignored wandb.init() arg project when running a sweep.\n",
      "wandb: logging graph, to disable use `wandb.watch(log_graph=False)`\n",
      "wandb: logging graph, to disable use `wandb.watch(log_graph=False)`\n",
      "wandb: Adding directory to artifact (./HER_Test/her/ddpg)... Done. 0.0s\n",
      "DEBUG:urllib3.connectionpool:Starting new HTTPS connection (1): api.wandb.ai:443\n",
      "DEBUG:urllib3.connectionpool:https://api.wandb.ai:443 \"POST /graphql HTTP/1.1\" 200 42\n",
      "DEBUG:urllib3.connectionpool:https://api.wandb.ai:443 \"POST /graphql HTTP/1.1\" 200 57\n"
     ]
    },
    {
     "name": "stdout",
     "output_type": "stream",
     "text": [
      "epoch 0 cycle 1 episode 10, success percentage 0.0, reward -50.0, avg reward -49.6, avg episode time 0.32s\n"
     ]
    },
    {
     "name": "stderr",
     "output_type": "stream",
     "text": [
      "DEBUG:urllib3.connectionpool:Starting new HTTPS connection (1): o151352.ingest.sentry.io:443\n",
      "DEBUG:urllib3.connectionpool:https://o151352.ingest.sentry.io:443 \"POST /api/4504800232407040/envelope/ HTTP/1.1\" 200 0\n",
      "DEBUG:urllib3.connectionpool:https://api.wandb.ai:443 \"POST /graphql HTTP/1.1\" 200 57\n",
      "wandb:                                                                                \n",
      "wandb: \n",
      "wandb: Run history:\n",
      "wandb:                  action_0 ▃▇▄▄▄▄▄▄▆▃▁█▄▃▄▄▄▃▄▅▄▄▄▄▁▄▄▄▄▄▄▄▄▃▄▄▃▄▄▃\n",
      "wandb:                  action_1 ▅▆▅▅▅▅▅▅▂▅█▁▅▆▆▅▅▅▅▆▆▆▅▇█▅▅▆▅▅▅▅▅▅▆▅▅▁▅▅\n",
      "wandb:                  action_2 ▅▁▅▄▅▅▅▅▇▅▇█▅▅▅▅▅▅▅▃▅▅▅▇█▄▅▅▃▅▄▅▅▅▅▅▅▂▅▅\n",
      "wandb:                  action_3 ▅▄▅▅▆▅▅▅▄▅▁▃▅▅▅▅▅▅▅█▅▅▅▄▄▅▅▆▁▅▅▅▅▅▅▅▅▆▅▅\n",
      "wandb:                actor_loss ▃▃▁▃▃▅▆▅▆█\n",
      "wandb:         actor_predictions █████████▆▆▆▆▆▆▆▆▆▄▄▄▄▃▃▃▃▃▃▃▃▃▂▂▂▂▂▁▁▁▁\n",
      "wandb:                avg_reward █▄▃▂▂▂▁▁▁▁\n",
      "wandb:                      best █▁▁▁▁▁▁▁▁▁\n",
      "wandb:               critic_loss ▅▃▇▆█▅▁▃▄▂\n",
      "wandb:        critic_predictions ▆▆▆▆▆▆▆▆▆████▅▅▅▅▅▅▅▅▅▃▃▃▃▃▁▁▁▁▂▂▂▂▂▁▁▁▁\n",
      "wandb:                   episode ▁▂▃▃▄▅▆▆▇█\n",
      "wandb:            episode_reward █▁▁▁▁▁▁▁▁▁\n",
      "wandb:              episode_time ▃▂▂▃▁▂▄▄▅█\n",
      "wandb:             goal_distance ▁▄▃▄▃▄▄▆▄▅▇▇▆▆▆▇▄▆▆█▄▄▄▄▅▅▄▅▃▄▄▅▅▅▆▆▂▃▃▃\n",
      "wandb:                   noise_0 ▃▅▇▆▆▇▆▅▅▁▅▅▇▃▆▇▅▂█▅▅▆█▅▅▆▇▄▅▆▆▄▅▂▄█▄▅▆▄\n",
      "wandb:                   noise_1 ▁▄▄▅▄▅▃▄▄▅▄▄▃█▇▂▆▆▃▄▇▆▄▄▄▄▃▆▄▅▄▃▅▄▇▃▂▄▃▅\n",
      "wandb:                   noise_2 ▂▄▄▁▄█▃▆▄▄▄▄▆▁▅▄▃▄▃▄▄▂▂▄▄▁▇▂▄▆▁▄▂▄▆▃▂▄▄▃\n",
      "wandb:                   noise_3 ▁▄▅▇█▂▅▆▄▄▄▄▂▂▅▅▅▅▄▄▅▂▁▄▄▅▃█▄▇▇▇▃▄▅▃▃▄▅▄\n",
      "wandb:               step_reward █▁▁▁▁▁▁▁▁▁▁▁▁▁▁▁▁▁▁▁▁▁▁▁▁▁▁▁▁▁▁▁▁▁▁▁▁▁▁▁\n",
      "wandb:                 step_time ▅▂▅▆▃▇▃▂▁▂▁▁▆▄▃▄▂▂▂▁▃▃▂▂▂▄▅▄▁▄█▄▃▆▄▄▃▃▄▇\n",
      "wandb:              success_rate ▁▁▁▁▁▁▁▁▁▁\n",
      "wandb:  target_actor_predictions ▁▁▁▁▁▄▄▄▄▃▃▃▃▅▅▅▅▅████▆▆▆▆▆▇▇▇▇▅▅▅▅▅████\n",
      "wandb: target_critic_predictions ▁▁▁▁▁▃▃▃▃████▅▅▅▅▅▇▇▇▇▄▄▄▄▄▂▂▂▂▄▄▄▄▄▆▆▆▆\n",
      "wandb:           tolerance count ▅▅▁█▃█▅▅▆▆\n",
      "wandb: \n",
      "wandb: Run summary:\n",
      "wandb:                  action_0 0.02369\n",
      "wandb:                  action_1 -0.03687\n",
      "wandb:                  action_2 0.02707\n",
      "wandb:                  action_3 -0.02851\n",
      "wandb:                actor_loss -0.01507\n",
      "wandb:         actor_predictions 0.01425\n",
      "wandb:                avg_reward -49.6\n",
      "wandb:                      best False\n",
      "wandb:               critic_loss 0.45674\n",
      "wandb:        critic_predictions 0.01552\n",
      "wandb:                   episode 9\n",
      "wandb:            episode_reward -50.0\n",
      "wandb:              episode_time 0.50044\n",
      "wandb:             goal_distance 0.13354\n",
      "wandb:                   noise_0 0.00282\n",
      "wandb:                   noise_1 -0.05777\n",
      "wandb:                   noise_2 0.0062\n",
      "wandb:                   noise_3 -0.04939\n",
      "wandb:               step_reward -1.0\n",
      "wandb:                 step_time 0.03804\n",
      "wandb:              success_rate 0.0\n",
      "wandb:  target_actor_predictions 0.02063\n",
      "wandb: target_critic_predictions 0.01623\n",
      "wandb:           tolerance count 203\n",
      "wandb: \n",
      "wandb: 🚀 View run rare-sweep-3 at: https://wandb.ai/jasonhayes1987/FetchReach-v2/runs/t14sop1t\n",
      "wandb: ⭐️ View project at: https://wandb.ai/jasonhayes1987/FetchReach-v2\n",
      "wandb: Synced 5 W&B file(s), 2 media file(s), 7 artifact file(s) and 0 other file(s)\n",
      "wandb: Find logs at: ./wandb/run-20240608_182034-t14sop1t/logs\n",
      "DEBUG:urllib3.connectionpool:https://api.wandb.ai:443 \"POST /graphql HTTP/1.1\" 200 881\n",
      "wandb: Agent Starting Run: 3ogk1zzp with config:\n",
      "wandb: \tHER_DDPG: {'HER_DDPG_actor_activation': 'relu', 'HER_DDPG_actor_clamp_output': 0.05, 'HER_DDPG_actor_hidden_kernel_initializer': 'kaiming_uniform', 'HER_DDPG_actor_hidden_kernel_kaiming_uniform': {'kaiming_uniform_mode': 'fan_in'}, 'HER_DDPG_actor_learning_rate': 0.0001, 'HER_DDPG_actor_normalize_layers': False, 'HER_DDPG_actor_num_cnn_layers': 0, 'HER_DDPG_actor_num_layers': 2, 'HER_DDPG_actor_optimizer': 'Adam', 'HER_DDPG_actor_optimizer_Adam_options': {'Adam_weight_decay': 0}, 'HER_DDPG_actor_output_kernel_constant': {'constant_value': 0.003}, 'HER_DDPG_actor_output_kernel_initializer': 'constant', 'HER_DDPG_batch_size': 256, 'HER_DDPG_critic_activation': 'relu', 'HER_DDPG_critic_hidden_kernel_initializer': 'kaiming_uniform', 'HER_DDPG_critic_hidden_kernel_kaiming_uniform': {'kaiming_uniform_mode': 'fan_in'}, 'HER_DDPG_critic_learning_rate': 0.0001, 'HER_DDPG_critic_merged_num_layers': 2, 'HER_DDPG_critic_normalize_layers': False, 'HER_DDPG_critic_num_cnn_layers': 0, 'HER_DDPG_critic_optimizer': 'Adam', 'HER_DDPG_critic_optimizer_Adam_options': {'Adam_weight_decay': 0}, 'HER_DDPG_critic_output_kernel_constant': {'constant_value': 0.003}, 'HER_DDPG_critic_output_kernel_initializer': 'constant', 'HER_DDPG_critic_state_num_layers': 2, 'HER_DDPG_device': 'cuda', 'HER_DDPG_discount': 0.9, 'HER_DDPG_epsilon_greedy': 0.3, 'HER_DDPG_goal_strategy': 'future', 'HER_DDPG_goal_tolerance': 0.05, 'HER_DDPG_noise': 'Normal', 'HER_DDPG_noise_Normal': {'mean': 0, 'stddev': 0.05}, 'HER_DDPG_normalizer_clip': 5, 'HER_DDPG_num_goals': 5, 'HER_DDPG_replay_buffer_size': 100000, 'HER_DDPG_save_dir': 'HER_Test', 'HER_DDPG_tau': 0.05, 'actor_units_layer_1_HER_DDPG': 128, 'actor_units_layer_2_HER_DDPG': 128, 'critic_units_merged_layer_1_HER_DDPG': 128, 'critic_units_merged_layer_2_HER_DDPG': 64, 'critic_units_state_layer_1_HER_DDPG': 128, 'critic_units_state_layer_2_HER_DDPG': 128}\n",
      "wandb: \tenv: {'id': 'FetchReach-v2', 'max_episode_steps': 50}\n",
      "wandb: \tmodel_type: HER_DDPG\n",
      "DEBUG:git.cmd:Popen(['git', 'rev-parse', '--show-toplevel'], cwd=/workspaces/RL_Agents, stdin=None, shell=False, universal_newlines=False)\n",
      "DEBUG:git.cmd:Popen(['git', 'rev-parse', '--show-toplevel'], cwd=/workspaces/RL_Agents, stdin=None, shell=False, universal_newlines=False)\n",
      "DEBUG:urllib3.connectionpool:Starting new HTTPS connection (1): api.wandb.ai:443\n"
     ]
    },
    {
     "name": "stdout",
     "output_type": "stream",
     "text": [
      "Loaded train config: {'num_sweeps': 5, 'num_episodes': 10, 'seed': 42, 'use_mpi': False, 'num_workers': 1, 'num_agents': 1, 'num_epochs': 1, 'num_cycles': 1, 'num_updates': 1}\n",
      "Loaded sweep config: {'method': 'bayes', 'project': 'FetchReach-v2', 'name': 'Test', 'metric': {'name': 'episode_reward', 'goal': 'maximize'}, 'parameters': {'env': {'parameters': {'id': {'value': 'FetchReach-v2'}, 'max_episode_steps': {'value': 50}}}, 'model_type': {'values': ['HER_DDPG']}, 'HER_DDPG': {'parameters': {'HER_DDPG_actor_learning_rate': {'values': [1e-05, 0.0001]}, 'HER_DDPG_critic_learning_rate': {'values': [1e-05, 0.0001]}, 'HER_DDPG_goal_strategy': {'values': ['future']}, 'HER_DDPG_num_goals': {'min': 4, 'max': 8}, 'HER_DDPG_goal_tolerance': {'values': [0.05]}, 'HER_DDPG_discount': {'values': [0.99, 0.9]}, 'HER_DDPG_tau': {'values': [0.05]}, 'HER_DDPG_epsilon_greedy': {'values': [0.2, 0.3]}, 'HER_DDPG_normalizer_clip': {'values': [5]}, 'HER_DDPG_device': {'value': 'cuda'}, 'HER_DDPG_actor_num_cnn_layers': {'value': 0}, 'HER_DDPG_actor_num_layers': {'value': 2}, 'HER_DDPG_actor_activation': {'values': ['relu']}, 'HER_DDPG_actor_hidden_kernel_initializer': {'values': ['kaiming_uniform']}, 'HER_DDPG_actor_output_kernel_initializer': {'values': ['constant']}, 'HER_DDPG_actor_optimizer': {'values': ['Adam']}, 'HER_DDPG_actor_optimizer_Adam_options': {'parameters': {'Adam_weight_decay': {'values': [0]}}}, 'HER_DDPG_actor_normalize_layers': {'values': [False]}, 'HER_DDPG_actor_clamp_output': {'values': [0.05]}, 'HER_DDPG_critic_num_cnn_layers': {'value': 0}, 'HER_DDPG_critic_state_num_layers': {'value': 2}, 'HER_DDPG_critic_merged_num_layers': {'value': 2}, 'HER_DDPG_critic_activation': {'values': ['relu']}, 'HER_DDPG_critic_hidden_kernel_initializer': {'values': ['kaiming_uniform']}, 'HER_DDPG_critic_output_kernel_initializer': {'values': ['constant']}, 'HER_DDPG_critic_optimizer': {'values': ['Adam']}, 'HER_DDPG_critic_optimizer_Adam_options': {'parameters': {'Adam_weight_decay': {'values': [0]}}}, 'HER_DDPG_critic_normalize_layers': {'values': [False]}, 'HER_DDPG_replay_buffer_size': {'values': [100000]}, 'HER_DDPG_batch_size': {'values': [128, 256]}, 'HER_DDPG_noise': {'values': ['Normal']}, 'HER_DDPG_noise_Normal': {'parameters': {'mean': {'values': [0]}, 'stddev': {'values': [0.05]}}}, 'HER_DDPG_actor_hidden_kernel_kaiming_uniform': {'parameters': {'kaiming_uniform_mode': {'values': ['fan_in']}}}, 'HER_DDPG_actor_output_kernel_constant': {'parameters': {'constant_value': {'values': [0.003]}}}, 'HER_DDPG_critic_hidden_kernel_kaiming_uniform': {'parameters': {'kaiming_uniform_mode': {'values': ['fan_in']}}}, 'HER_DDPG_critic_output_kernel_constant': {'parameters': {'constant_value': {'values': [0.003]}}}, 'actor_units_layer_1_HER_DDPG': {'values': [64, 128]}, 'actor_units_layer_2_HER_DDPG': {'values': [64, 128]}, 'critic_units_state_layer_1_HER_DDPG': {'values': [64, 128]}, 'critic_units_state_layer_2_HER_DDPG': {'values': [64, 128]}, 'critic_units_merged_layer_1_HER_DDPG': {'values': [64, 128]}, 'critic_units_merged_layer_2_HER_DDPG': {'values': [64, 128]}, 'HER_DDPG_save_dir': {'value': 'HER_Test'}}}}}\n"
     ]
    },
    {
     "name": "stderr",
     "output_type": "stream",
     "text": [
      "DEBUG:urllib3.connectionpool:https://api.wandb.ai:443 \"POST /graphql HTTP/1.1\" 200 1879\n",
      "DEBUG:urllib3.connectionpool:https://api.wandb.ai:443 \"POST /graphql HTTP/1.1\" 200 371\n",
      "DEBUG:git.cmd:Popen(['git', 'cat-file', '--batch-check'], cwd=/workspaces/RL_Agents, stdin=<valid stream>, shell=False, universal_newlines=False)\n",
      "DEBUG:urllib3.connectionpool:https://api.wandb.ai:443 \"POST /graphql HTTP/1.1\" 200 57\n",
      "wandb: wandb version 0.17.1 is available!  To upgrade, please run:\n",
      "wandb:  $ pip install wandb --upgrade\n",
      "wandb: Tracking run with wandb version 0.17.0\n",
      "wandb: Run data is saved locally in /workspaces/RL_Agents/pytorch/src/app/wandb/run-20240608_182055-3ogk1zzp\n",
      "wandb: Run `wandb offline` to turn off syncing.\n",
      "wandb: Syncing run astral-sweep-4\n",
      "wandb: ⭐️ View project at https://wandb.ai/jasonhayes1987/FetchReach-v2\n",
      "wandb: 🧹 View sweep at https://wandb.ai/jasonhayes1987/FetchReach-v2/sweeps/z0diu9m3\n",
      "wandb: 🚀 View run at https://wandb.ai/jasonhayes1987/FetchReach-v2/runs/3ogk1zzp\n"
     ]
    },
    {
     "name": "stdout",
     "output_type": "stream",
     "text": [
      "signal only works in main thread of the main interpreter\n",
      "sweep wandb config:{'HER_DDPG': {'HER_DDPG_actor_activation': 'relu', 'HER_DDPG_actor_clamp_output': 0.05, 'HER_DDPG_actor_hidden_kernel_initializer': 'kaiming_uniform', 'HER_DDPG_actor_hidden_kernel_kaiming_uniform': {'kaiming_uniform_mode': 'fan_in'}, 'HER_DDPG_actor_learning_rate': 0.0001, 'HER_DDPG_actor_normalize_layers': False, 'HER_DDPG_actor_num_cnn_layers': 0, 'HER_DDPG_actor_num_layers': 2, 'HER_DDPG_actor_optimizer': 'Adam', 'HER_DDPG_actor_optimizer_Adam_options': {'Adam_weight_decay': 0}, 'HER_DDPG_actor_output_kernel_constant': {'constant_value': 0.003}, 'HER_DDPG_actor_output_kernel_initializer': 'constant', 'HER_DDPG_batch_size': 256, 'HER_DDPG_critic_activation': 'relu', 'HER_DDPG_critic_hidden_kernel_initializer': 'kaiming_uniform', 'HER_DDPG_critic_hidden_kernel_kaiming_uniform': {'kaiming_uniform_mode': 'fan_in'}, 'HER_DDPG_critic_learning_rate': 0.0001, 'HER_DDPG_critic_merged_num_layers': 2, 'HER_DDPG_critic_normalize_layers': False, 'HER_DDPG_critic_num_cnn_layers': 0, 'HER_DDPG_critic_optimizer': 'Adam', 'HER_DDPG_critic_optimizer_Adam_options': {'Adam_weight_decay': 0}, 'HER_DDPG_critic_output_kernel_constant': {'constant_value': 0.003}, 'HER_DDPG_critic_output_kernel_initializer': 'constant', 'HER_DDPG_critic_state_num_layers': 2, 'HER_DDPG_device': 'cuda', 'HER_DDPG_discount': 0.9, 'HER_DDPG_epsilon_greedy': 0.3, 'HER_DDPG_goal_strategy': 'future', 'HER_DDPG_goal_tolerance': 0.05, 'HER_DDPG_noise': 'Normal', 'HER_DDPG_noise_Normal': {'mean': 0, 'stddev': 0.05}, 'HER_DDPG_normalizer_clip': 5, 'HER_DDPG_num_goals': 5, 'HER_DDPG_replay_buffer_size': 100000, 'HER_DDPG_save_dir': 'HER_Test', 'HER_DDPG_tau': 0.05, 'actor_units_layer_1_HER_DDPG': 128, 'actor_units_layer_2_HER_DDPG': 128, 'critic_units_merged_layer_1_HER_DDPG': 128, 'critic_units_merged_layer_2_HER_DDPG': 64, 'critic_units_state_layer_1_HER_DDPG': 128, 'critic_units_state_layer_2_HER_DDPG': 128}, 'env': {'id': 'FetchReach-v2', 'max_episode_steps': 50}, 'model_type': 'HER_DDPG'}\n",
      "load weights:False\n",
      "num_episodes:10\n",
      "render:False\n",
      "render freq:0\n",
      "save dir:HER_Test\n",
      "seed:42\n",
      "run number:None\n",
      "use mpi:False\n",
      "passed assert\n",
      "if wandb run fired\n",
      "{'class_name': 'WandbCallback', 'config': {'project_name': 'FetchReach-v2', 'run_name': None, 'chkpt_freq': 100, '_sweep': True}}\n",
      "Environment created: <TimeLimit<OrderEnforcing<PassiveEnvChecker<MujocoFetchReachEnv<FetchReach-v2>>>>>\n",
      "if model type = HER_DDPG called\n",
      "agent name: ddpg\n",
      "new save dir: HER_Test/her/ddpg/\n",
      "self._obs_space_shape: (10,)\n",
      "buffer size = 100000\n",
      "agent built:{'agent_type': 'HER', 'agent': {'agent_type': 'DDPG', 'env': 'FetchReach-v2', 'actor_model': {'env': 'FetchReach-v2', 'cnn_model': None, 'num_layers': 4, 'dense_layers': [(128, 'relu', {'kaiming_uniform': {'mode': 'fan_in'}}), (128, 'relu', {'kaiming_uniform': {'mode': 'fan_in'}})], 'output_layer_kernel': {'constant': {'val': 0.003}}, 'goal_shape': (3,), 'optimizer': 'Adam', 'optimizer_params': {'weight_decay': 0}, 'learning_rate': 0.0001, 'normalize_layers': False, 'clamp_output': 0.05}, 'critic_model': {'env': 'FetchReach-v2', 'cnn_model': None, 'num_layers': 8, 'state_layers': [(128, 'relu', {'kaiming_uniform': {'mode': 'fan_in'}}), (128, 'relu', {'kaiming_uniform': {'mode': 'fan_in'}})], 'merged_layers': [(128, 'relu', {'kaiming_uniform': {'mode': 'fan_in'}}), (64, 'relu', {'kaiming_uniform': {'mode': 'fan_in'}})], 'output_layer_kernel': {'constant': {'val': 0.003}}, 'goal_shape': (3,), 'optimizer': 'Adam', 'optimizer_params': {'weight_decay': 0}, 'learning_rate': 0.0001, 'normalize_layers': False}, 'discount': 0.9, 'tau': 0.05, 'action_epsilon': 0.3, 'replay_buffer': None, 'batch_size': 256, 'noise': {'class_name': 'NormalNoise', 'config': {'shape': (4,), 'mean': 0.0, 'stddev': 0.05000000074505806}}, 'normalize_inputs': False, 'normalizer_clip': None, 'normalizer_eps': 0.01, 'callbacks': [{'class_name': 'WandbCallback', 'config': {'project_name': 'FetchReach-v2', 'run_name': None, 'chkpt_freq': 100, '_sweep': True}}], 'save_dir': 'HER_Test/her/ddpg/'}, 'strategy': 'future', 'tolerance': 0.05, 'num_goals': 5, 'desired_goal': 'fetch_reach_desired_goal', 'achieved_goal': 'fetch_reach_achieved_goal', 'reward_fn': 'fetch_reach_reward', 'normalizer_clip': 5, 'normalizer_eps': 0.01, 'replay_buffer_size': 100000, 'device': 'cuda', 'save_dir': 'HER_Test/her/'}\n",
      "sweep not using mpi fired\n",
      "agent config:{'agent_type': 'HER', 'agent': {'agent_type': 'DDPG', 'env': 'FetchReach-v2', 'actor_model': {'env': 'FetchReach-v2', 'cnn_model': None, 'num_layers': 4, 'dense_layers': [(128, 'relu', {'kaiming_uniform': {'mode': 'fan_in'}}), (128, 'relu', {'kaiming_uniform': {'mode': 'fan_in'}})], 'output_layer_kernel': {'constant': {'val': 0.003}}, 'goal_shape': (3,), 'optimizer': 'Adam', 'optimizer_params': {'weight_decay': 0}, 'learning_rate': 0.0001, 'normalize_layers': False, 'clamp_output': 0.05}, 'critic_model': {'env': 'FetchReach-v2', 'cnn_model': None, 'num_layers': 8, 'state_layers': [(128, 'relu', {'kaiming_uniform': {'mode': 'fan_in'}}), (128, 'relu', {'kaiming_uniform': {'mode': 'fan_in'}})], 'merged_layers': [(128, 'relu', {'kaiming_uniform': {'mode': 'fan_in'}}), (64, 'relu', {'kaiming_uniform': {'mode': 'fan_in'}})], 'output_layer_kernel': {'constant': {'val': 0.003}}, 'goal_shape': (3,), 'optimizer': 'Adam', 'optimizer_params': {'weight_decay': 0}, 'learning_rate': 0.0001, 'normalize_layers': False}, 'discount': 0.9, 'tau': 0.05, 'action_epsilon': 0.3, 'replay_buffer': None, 'batch_size': 256, 'noise': {'class_name': 'NormalNoise', 'config': {'shape': (4,), 'mean': 0.0, 'stddev': 0.05000000074505806}}, 'normalize_inputs': False, 'normalizer_clip': None, 'normalizer_eps': 0.01, 'callbacks': [{'class_name': 'WandbCallback', 'config': {'project_name': 'FetchReach-v2', 'run_name': None, 'chkpt_freq': 100, '_sweep': True}}], 'save_dir': 'HER_Test/her/ddpg/'}, 'strategy': 'future', 'tolerance': 0.05, 'num_goals': 5, 'desired_goal': 'fetch_reach_desired_goal', 'achieved_goal': 'fetch_reach_achieved_goal', 'reward_fn': 'fetch_reach_reward', 'normalizer_clip': 5, 'normalizer_eps': 0.01, 'replay_buffer_size': 100000, 'device': 'cuda', 'save_dir': 'HER_Test/her/'}\n"
     ]
    },
    {
     "name": "stderr",
     "output_type": "stream",
     "text": [
      "DEBUG:urllib3.connectionpool:Starting new HTTPS connection (1): api.wandb.ai:443\n",
      "DEBUG:urllib3.connectionpool:https://api.wandb.ai:443 \"POST /graphql HTTP/1.1\" 200 None\n",
      "DEBUG:urllib3.connectionpool:https://api.wandb.ai:443 \"POST /graphql HTTP/1.1\" 200 789\n",
      "DEBUG:urllib3.connectionpool:https://api.wandb.ai:443 \"POST /graphql HTTP/1.1\" 200 785\n",
      "DEBUG:urllib3.connectionpool:https://api.wandb.ai:443 \"POST /graphql HTTP/1.1\" 200 785\n",
      "DEBUG:urllib3.connectionpool:https://api.wandb.ai:443 \"POST /graphql HTTP/1.1\" 200 785\n",
      "wandb: WARNING Ignored wandb.init() arg project when running a sweep.\n",
      "wandb: logging graph, to disable use `wandb.watch(log_graph=False)`\n",
      "wandb: logging graph, to disable use `wandb.watch(log_graph=False)`\n",
      "wandb: Adding directory to artifact (./HER_Test/her/ddpg)... Done. 0.0s\n",
      "DEBUG:urllib3.connectionpool:Starting new HTTPS connection (1): api.wandb.ai:443\n",
      "DEBUG:urllib3.connectionpool:https://api.wandb.ai:443 \"POST /graphql HTTP/1.1\" 200 42\n",
      "DEBUG:urllib3.connectionpool:https://api.wandb.ai:443 \"POST /graphql HTTP/1.1\" 200 57\n"
     ]
    },
    {
     "name": "stdout",
     "output_type": "stream",
     "text": [
      "epoch 0 cycle 1 episode 10, success percentage 0.0, reward -50.0, avg reward -47.7, avg episode time 0.30s\n"
     ]
    },
    {
     "name": "stderr",
     "output_type": "stream",
     "text": [
      "DEBUG:urllib3.connectionpool:https://api.wandb.ai:443 \"POST /graphql HTTP/1.1\" 200 57\n",
      "wandb:                                                                                \n",
      "wandb: \n",
      "wandb: Run history:\n",
      "wandb:                  action_0 ▅▁▅▅▅▅▅█▄▅▄▅▅▅▅▆▅▅▅▅▆▅▅▅▅▅▅▅▅▅▅▅▅▇▅▅▅▅▅▆\n",
      "wandb:                  action_1 ▅▄▅▅▅▅▅█▄▄▅▆▇▅▅▅▅▅▅▅▅▅█▅▄▅▅▅▅▅▅▅▅▃▅▅▅▅▅▁\n",
      "wandb:                  action_2 ▅▅▅▅▅▅▅▄▆▅▅█▆▅▅▅▆▅▅▅▅▅▃▅▅▅▅▅▅▅▅▅▅▁▅▅▅▅▅▇\n",
      "wandb:                  action_3 ▄█▄▄▅▄▅▇▄▄▄▂▁▄▄▄▇▄▄▄▄▄█▄▄▅▅▄▄▄▄▄▄▃▄▅▄▄▅▄\n",
      "wandb:                actor_loss ▁▂▃▃▄▅▆▆▇█\n",
      "wandb:         actor_predictions █████▇▇▇▇▆▆▆▆▅▅▅▅▅▄▄▄▄▃▃▃▃▃▃▃▃▃▂▂▂▂▂▁▁▁▁\n",
      "wandb:                avg_reward ▁▁█▆▅▄▄▄▃▃\n",
      "wandb:                      best █▁█▁▁▁▁▁▁▁\n",
      "wandb:               critic_loss ▅█▃▁▄▇▅▅▃▁\n",
      "wandb:        critic_predictions █████▇▇▇▇▆▆▆▆▅▅▅▅▅▄▄▄▄▃▃▃▃▃▂▂▂▂▂▂▂▂▂▁▁▁▁\n",
      "wandb:                   episode ▁▂▃▃▄▅▆▆▇█\n",
      "wandb:            episode_reward ▁▁█▁▁▁▁▁▁▁\n",
      "wandb:              episode_time ▂▁▂▄█▂▅▄▄▃\n",
      "wandb:             goal_distance ▄▄▄▄▃▃▃▂▂▁▁▂▄▃▃▄▂▂▃▄▄▅▆▇▄▃▂▂▄▅▆▆▅▅██▄▃▆▆\n",
      "wandb:                   noise_0 ▃▄▅▂▆▄▅▄▄▅▁▄▄▅▅▇▄▄▆▅█▂▄▄▄▇▃▇▆▄▄▇▆▄▆▄▄▃▅▄\n",
      "wandb:                   noise_1 ▂▅▄▂▄▆▃▅▅▂▄▅▅▃▇▃▅▆▃▆▄▄▅▂▁▂▄▆▆▃▄▄▆▅▄▅▆█▇▅\n",
      "wandb:                   noise_2 ▄▆▄█▄▄▆▆▆█▄▆▆▆▅▅▆▃█▅▅▇▆▅▅▆██▇▃▁█▇▆▅▄▇▄▅▆\n",
      "wandb:                   noise_3 ▂▄▄▄▅▄█▄▄▄▄▄▄▃▃▄▄▄▃▃▃▃▄▃▁▆▇▁▄▃▂▃▄▄▂▅▄▁▇▄\n",
      "wandb:               step_reward ▁▁▁▁▁▁▁▁▁██▁▁▁▁▁▁▁▁▁▁▁▁▁▁▁▁▁▁▁▁▁▁▁▁▁▁▁▁▁\n",
      "wandb:                 step_time ▃▂▃▇▃▂▅▁▁▃▂▁▁▅▃▅▁▃▅▃▄▃▁▄▄▃▃▃█▃▆▃▃▂▄▄▃▄▃▁\n",
      "wandb:              success_rate ▁▁▁▁▁▁▁▁▁▁\n",
      "wandb:  target_actor_predictions █████▄▄▄▄▃▃▃▃▁▁▁▁▁▃▃▃▃▂▂▂▂▂▂▂▂▂▃▃▃▃▃▂▂▂▂\n",
      "wandb: target_critic_predictions █████▅▅▅▅▃▃▃▃▃▃▃▃▃▂▂▂▂▁▁▁▁▁▁▁▁▁▂▂▂▂▂▂▂▂▂\n",
      "wandb:           tolerance count ▅▅▆▇▃▁█▇▅▁\n",
      "wandb: \n",
      "wandb: Run summary:\n",
      "wandb:                  action_0 0.05089\n",
      "wandb:                  action_1 0.05672\n",
      "wandb:                  action_2 -0.02437\n",
      "wandb:                  action_3 0.06542\n",
      "wandb:                actor_loss -0.00378\n",
      "wandb:         actor_predictions 0.02393\n",
      "wandb:                avg_reward -47.7\n",
      "wandb:                      best False\n",
      "wandb:               critic_loss 0.50552\n",
      "wandb:        critic_predictions 0.0046\n",
      "wandb:                   episode 9\n",
      "wandb:            episode_reward -50.0\n",
      "wandb:              episode_time 0.29815\n",
      "wandb:             goal_distance 0.24753\n",
      "wandb:                   noise_0 0.02499\n",
      "wandb:                   noise_1 0.0308\n",
      "wandb:                   noise_2 -0.05028\n",
      "wandb:                   noise_3 0.03952\n",
      "wandb:               step_reward -1.0\n",
      "wandb:                 step_time 0.00463\n",
      "wandb:              success_rate 0.0\n",
      "wandb:  target_actor_predictions 0.03544\n",
      "wandb: target_critic_predictions 0.00763\n",
      "wandb:           tolerance count 85\n",
      "wandb: \n",
      "wandb: 🚀 View run astral-sweep-4 at: https://wandb.ai/jasonhayes1987/FetchReach-v2/runs/3ogk1zzp\n",
      "wandb: ⭐️ View project at: https://wandb.ai/jasonhayes1987/FetchReach-v2\n",
      "wandb: Synced 5 W&B file(s), 2 media file(s), 7 artifact file(s) and 0 other file(s)\n",
      "wandb: Find logs at: ./wandb/run-20240608_182055-3ogk1zzp/logs\n",
      "DEBUG:urllib3.connectionpool:https://api.wandb.ai:443 \"POST /graphql HTTP/1.1\" 200 880\n",
      "wandb: Agent Starting Run: mfqzar0i with config:\n",
      "wandb: \tHER_DDPG: {'HER_DDPG_actor_activation': 'relu', 'HER_DDPG_actor_clamp_output': 0.05, 'HER_DDPG_actor_hidden_kernel_initializer': 'kaiming_uniform', 'HER_DDPG_actor_hidden_kernel_kaiming_uniform': {'kaiming_uniform_mode': 'fan_in'}, 'HER_DDPG_actor_learning_rate': 0.0001, 'HER_DDPG_actor_normalize_layers': False, 'HER_DDPG_actor_num_cnn_layers': 0, 'HER_DDPG_actor_num_layers': 2, 'HER_DDPG_actor_optimizer': 'Adam', 'HER_DDPG_actor_optimizer_Adam_options': {'Adam_weight_decay': 0}, 'HER_DDPG_actor_output_kernel_constant': {'constant_value': 0.003}, 'HER_DDPG_actor_output_kernel_initializer': 'constant', 'HER_DDPG_batch_size': 256, 'HER_DDPG_critic_activation': 'relu', 'HER_DDPG_critic_hidden_kernel_initializer': 'kaiming_uniform', 'HER_DDPG_critic_hidden_kernel_kaiming_uniform': {'kaiming_uniform_mode': 'fan_in'}, 'HER_DDPG_critic_learning_rate': 1e-05, 'HER_DDPG_critic_merged_num_layers': 2, 'HER_DDPG_critic_normalize_layers': False, 'HER_DDPG_critic_num_cnn_layers': 0, 'HER_DDPG_critic_optimizer': 'Adam', 'HER_DDPG_critic_optimizer_Adam_options': {'Adam_weight_decay': 0}, 'HER_DDPG_critic_output_kernel_constant': {'constant_value': 0.003}, 'HER_DDPG_critic_output_kernel_initializer': 'constant', 'HER_DDPG_critic_state_num_layers': 2, 'HER_DDPG_device': 'cuda', 'HER_DDPG_discount': 0.9, 'HER_DDPG_epsilon_greedy': 0.2, 'HER_DDPG_goal_strategy': 'future', 'HER_DDPG_goal_tolerance': 0.05, 'HER_DDPG_noise': 'Normal', 'HER_DDPG_noise_Normal': {'mean': 0, 'stddev': 0.05}, 'HER_DDPG_normalizer_clip': 5, 'HER_DDPG_num_goals': 8, 'HER_DDPG_replay_buffer_size': 100000, 'HER_DDPG_save_dir': 'HER_Test', 'HER_DDPG_tau': 0.05, 'actor_units_layer_1_HER_DDPG': 64, 'actor_units_layer_2_HER_DDPG': 128, 'critic_units_merged_layer_1_HER_DDPG': 128, 'critic_units_merged_layer_2_HER_DDPG': 128, 'critic_units_state_layer_1_HER_DDPG': 64, 'critic_units_state_layer_2_HER_DDPG': 64}\n",
      "wandb: \tenv: {'id': 'FetchReach-v2', 'max_episode_steps': 50}\n",
      "wandb: \tmodel_type: HER_DDPG\n",
      "DEBUG:git.cmd:Popen(['git', 'rev-parse', '--show-toplevel'], cwd=/workspaces/RL_Agents, stdin=None, shell=False, universal_newlines=False)\n",
      "DEBUG:git.cmd:Popen(['git', 'rev-parse', '--show-toplevel'], cwd=/workspaces/RL_Agents, stdin=None, shell=False, universal_newlines=False)\n",
      "DEBUG:urllib3.connectionpool:Starting new HTTPS connection (1): api.wandb.ai:443\n"
     ]
    },
    {
     "name": "stdout",
     "output_type": "stream",
     "text": [
      "Loaded train config: {'num_sweeps': 5, 'num_episodes': 10, 'seed': 42, 'use_mpi': False, 'num_workers': 1, 'num_agents': 1, 'num_epochs': 1, 'num_cycles': 1, 'num_updates': 1}\n",
      "Loaded sweep config: {'method': 'bayes', 'project': 'FetchReach-v2', 'name': 'Test', 'metric': {'name': 'episode_reward', 'goal': 'maximize'}, 'parameters': {'env': {'parameters': {'id': {'value': 'FetchReach-v2'}, 'max_episode_steps': {'value': 50}}}, 'model_type': {'values': ['HER_DDPG']}, 'HER_DDPG': {'parameters': {'HER_DDPG_actor_learning_rate': {'values': [1e-05, 0.0001]}, 'HER_DDPG_critic_learning_rate': {'values': [1e-05, 0.0001]}, 'HER_DDPG_goal_strategy': {'values': ['future']}, 'HER_DDPG_num_goals': {'min': 4, 'max': 8}, 'HER_DDPG_goal_tolerance': {'values': [0.05]}, 'HER_DDPG_discount': {'values': [0.99, 0.9]}, 'HER_DDPG_tau': {'values': [0.05]}, 'HER_DDPG_epsilon_greedy': {'values': [0.2, 0.3]}, 'HER_DDPG_normalizer_clip': {'values': [5]}, 'HER_DDPG_device': {'value': 'cuda'}, 'HER_DDPG_actor_num_cnn_layers': {'value': 0}, 'HER_DDPG_actor_num_layers': {'value': 2}, 'HER_DDPG_actor_activation': {'values': ['relu']}, 'HER_DDPG_actor_hidden_kernel_initializer': {'values': ['kaiming_uniform']}, 'HER_DDPG_actor_output_kernel_initializer': {'values': ['constant']}, 'HER_DDPG_actor_optimizer': {'values': ['Adam']}, 'HER_DDPG_actor_optimizer_Adam_options': {'parameters': {'Adam_weight_decay': {'values': [0]}}}, 'HER_DDPG_actor_normalize_layers': {'values': [False]}, 'HER_DDPG_actor_clamp_output': {'values': [0.05]}, 'HER_DDPG_critic_num_cnn_layers': {'value': 0}, 'HER_DDPG_critic_state_num_layers': {'value': 2}, 'HER_DDPG_critic_merged_num_layers': {'value': 2}, 'HER_DDPG_critic_activation': {'values': ['relu']}, 'HER_DDPG_critic_hidden_kernel_initializer': {'values': ['kaiming_uniform']}, 'HER_DDPG_critic_output_kernel_initializer': {'values': ['constant']}, 'HER_DDPG_critic_optimizer': {'values': ['Adam']}, 'HER_DDPG_critic_optimizer_Adam_options': {'parameters': {'Adam_weight_decay': {'values': [0]}}}, 'HER_DDPG_critic_normalize_layers': {'values': [False]}, 'HER_DDPG_replay_buffer_size': {'values': [100000]}, 'HER_DDPG_batch_size': {'values': [128, 256]}, 'HER_DDPG_noise': {'values': ['Normal']}, 'HER_DDPG_noise_Normal': {'parameters': {'mean': {'values': [0]}, 'stddev': {'values': [0.05]}}}, 'HER_DDPG_actor_hidden_kernel_kaiming_uniform': {'parameters': {'kaiming_uniform_mode': {'values': ['fan_in']}}}, 'HER_DDPG_actor_output_kernel_constant': {'parameters': {'constant_value': {'values': [0.003]}}}, 'HER_DDPG_critic_hidden_kernel_kaiming_uniform': {'parameters': {'kaiming_uniform_mode': {'values': ['fan_in']}}}, 'HER_DDPG_critic_output_kernel_constant': {'parameters': {'constant_value': {'values': [0.003]}}}, 'actor_units_layer_1_HER_DDPG': {'values': [64, 128]}, 'actor_units_layer_2_HER_DDPG': {'values': [64, 128]}, 'critic_units_state_layer_1_HER_DDPG': {'values': [64, 128]}, 'critic_units_state_layer_2_HER_DDPG': {'values': [64, 128]}, 'critic_units_merged_layer_1_HER_DDPG': {'values': [64, 128]}, 'critic_units_merged_layer_2_HER_DDPG': {'values': [64, 128]}, 'HER_DDPG_save_dir': {'value': 'HER_Test'}}}}}\n"
     ]
    },
    {
     "name": "stderr",
     "output_type": "stream",
     "text": [
      "DEBUG:urllib3.connectionpool:https://api.wandb.ai:443 \"POST /graphql HTTP/1.1\" 200 1879\n",
      "DEBUG:urllib3.connectionpool:https://api.wandb.ai:443 \"POST /graphql HTTP/1.1\" 200 371\n",
      "DEBUG:git.cmd:Popen(['git', 'cat-file', '--batch-check'], cwd=/workspaces/RL_Agents, stdin=<valid stream>, shell=False, universal_newlines=False)\n",
      "DEBUG:urllib3.connectionpool:https://api.wandb.ai:443 \"POST /graphql HTTP/1.1\" 200 57\n",
      "wandb: wandb version 0.17.1 is available!  To upgrade, please run:\n",
      "wandb:  $ pip install wandb --upgrade\n",
      "wandb: Tracking run with wandb version 0.17.0\n",
      "wandb: Run data is saved locally in /workspaces/RL_Agents/pytorch/src/app/wandb/run-20240608_182117-mfqzar0i\n",
      "wandb: Run `wandb offline` to turn off syncing.\n",
      "wandb: Syncing run light-sweep-5\n",
      "wandb: ⭐️ View project at https://wandb.ai/jasonhayes1987/FetchReach-v2\n",
      "wandb: 🧹 View sweep at https://wandb.ai/jasonhayes1987/FetchReach-v2/sweeps/z0diu9m3\n",
      "wandb: 🚀 View run at https://wandb.ai/jasonhayes1987/FetchReach-v2/runs/mfqzar0i\n"
     ]
    },
    {
     "name": "stdout",
     "output_type": "stream",
     "text": [
      "signal only works in main thread of the main interpreter\n",
      "sweep wandb config:{'HER_DDPG': {'HER_DDPG_actor_activation': 'relu', 'HER_DDPG_actor_clamp_output': 0.05, 'HER_DDPG_actor_hidden_kernel_initializer': 'kaiming_uniform', 'HER_DDPG_actor_hidden_kernel_kaiming_uniform': {'kaiming_uniform_mode': 'fan_in'}, 'HER_DDPG_actor_learning_rate': 0.0001, 'HER_DDPG_actor_normalize_layers': False, 'HER_DDPG_actor_num_cnn_layers': 0, 'HER_DDPG_actor_num_layers': 2, 'HER_DDPG_actor_optimizer': 'Adam', 'HER_DDPG_actor_optimizer_Adam_options': {'Adam_weight_decay': 0}, 'HER_DDPG_actor_output_kernel_constant': {'constant_value': 0.003}, 'HER_DDPG_actor_output_kernel_initializer': 'constant', 'HER_DDPG_batch_size': 256, 'HER_DDPG_critic_activation': 'relu', 'HER_DDPG_critic_hidden_kernel_initializer': 'kaiming_uniform', 'HER_DDPG_critic_hidden_kernel_kaiming_uniform': {'kaiming_uniform_mode': 'fan_in'}, 'HER_DDPG_critic_learning_rate': 1e-05, 'HER_DDPG_critic_merged_num_layers': 2, 'HER_DDPG_critic_normalize_layers': False, 'HER_DDPG_critic_num_cnn_layers': 0, 'HER_DDPG_critic_optimizer': 'Adam', 'HER_DDPG_critic_optimizer_Adam_options': {'Adam_weight_decay': 0}, 'HER_DDPG_critic_output_kernel_constant': {'constant_value': 0.003}, 'HER_DDPG_critic_output_kernel_initializer': 'constant', 'HER_DDPG_critic_state_num_layers': 2, 'HER_DDPG_device': 'cuda', 'HER_DDPG_discount': 0.9, 'HER_DDPG_epsilon_greedy': 0.2, 'HER_DDPG_goal_strategy': 'future', 'HER_DDPG_goal_tolerance': 0.05, 'HER_DDPG_noise': 'Normal', 'HER_DDPG_noise_Normal': {'mean': 0, 'stddev': 0.05}, 'HER_DDPG_normalizer_clip': 5, 'HER_DDPG_num_goals': 8, 'HER_DDPG_replay_buffer_size': 100000, 'HER_DDPG_save_dir': 'HER_Test', 'HER_DDPG_tau': 0.05, 'actor_units_layer_1_HER_DDPG': 64, 'actor_units_layer_2_HER_DDPG': 128, 'critic_units_merged_layer_1_HER_DDPG': 128, 'critic_units_merged_layer_2_HER_DDPG': 128, 'critic_units_state_layer_1_HER_DDPG': 64, 'critic_units_state_layer_2_HER_DDPG': 64}, 'env': {'id': 'FetchReach-v2', 'max_episode_steps': 50}, 'model_type': 'HER_DDPG'}\n",
      "load weights:False\n",
      "num_episodes:10\n",
      "render:False\n",
      "render freq:0\n",
      "save dir:HER_Test\n",
      "seed:42\n",
      "run number:None\n",
      "use mpi:False\n",
      "passed assert\n",
      "if wandb run fired\n",
      "{'class_name': 'WandbCallback', 'config': {'project_name': 'FetchReach-v2', 'run_name': None, 'chkpt_freq': 100, '_sweep': True}}\n",
      "Environment created: <TimeLimit<OrderEnforcing<PassiveEnvChecker<MujocoFetchReachEnv<FetchReach-v2>>>>>\n",
      "if model type = HER_DDPG called\n",
      "agent name: ddpg\n",
      "new save dir: HER_Test/her/ddpg/\n",
      "self._obs_space_shape: (10,)\n",
      "buffer size = 100000\n",
      "agent built:{'agent_type': 'HER', 'agent': {'agent_type': 'DDPG', 'env': 'FetchReach-v2', 'actor_model': {'env': 'FetchReach-v2', 'cnn_model': None, 'num_layers': 4, 'dense_layers': [(64, 'relu', {'kaiming_uniform': {'mode': 'fan_in'}}), (128, 'relu', {'kaiming_uniform': {'mode': 'fan_in'}})], 'output_layer_kernel': {'constant': {'val': 0.003}}, 'goal_shape': (3,), 'optimizer': 'Adam', 'optimizer_params': {'weight_decay': 0}, 'learning_rate': 0.0001, 'normalize_layers': False, 'clamp_output': 0.05}, 'critic_model': {'env': 'FetchReach-v2', 'cnn_model': None, 'num_layers': 8, 'state_layers': [(64, 'relu', {'kaiming_uniform': {'mode': 'fan_in'}}), (64, 'relu', {'kaiming_uniform': {'mode': 'fan_in'}})], 'merged_layers': [(128, 'relu', {'kaiming_uniform': {'mode': 'fan_in'}}), (128, 'relu', {'kaiming_uniform': {'mode': 'fan_in'}})], 'output_layer_kernel': {'constant': {'val': 0.003}}, 'goal_shape': (3,), 'optimizer': 'Adam', 'optimizer_params': {'weight_decay': 0}, 'learning_rate': 1e-05, 'normalize_layers': False}, 'discount': 0.9, 'tau': 0.05, 'action_epsilon': 0.2, 'replay_buffer': None, 'batch_size': 256, 'noise': {'class_name': 'NormalNoise', 'config': {'shape': (4,), 'mean': 0.0, 'stddev': 0.05000000074505806}}, 'normalize_inputs': False, 'normalizer_clip': None, 'normalizer_eps': 0.01, 'callbacks': [{'class_name': 'WandbCallback', 'config': {'project_name': 'FetchReach-v2', 'run_name': None, 'chkpt_freq': 100, '_sweep': True}}], 'save_dir': 'HER_Test/her/ddpg/'}, 'strategy': 'future', 'tolerance': 0.05, 'num_goals': 8, 'desired_goal': 'fetch_reach_desired_goal', 'achieved_goal': 'fetch_reach_achieved_goal', 'reward_fn': 'fetch_reach_reward', 'normalizer_clip': 5, 'normalizer_eps': 0.01, 'replay_buffer_size': 100000, 'device': 'cuda', 'save_dir': 'HER_Test/her/'}\n",
      "sweep not using mpi fired\n",
      "agent config:{'agent_type': 'HER', 'agent': {'agent_type': 'DDPG', 'env': 'FetchReach-v2', 'actor_model': {'env': 'FetchReach-v2', 'cnn_model': None, 'num_layers': 4, 'dense_layers': [(64, 'relu', {'kaiming_uniform': {'mode': 'fan_in'}}), (128, 'relu', {'kaiming_uniform': {'mode': 'fan_in'}})], 'output_layer_kernel': {'constant': {'val': 0.003}}, 'goal_shape': (3,), 'optimizer': 'Adam', 'optimizer_params': {'weight_decay': 0}, 'learning_rate': 0.0001, 'normalize_layers': False, 'clamp_output': 0.05}, 'critic_model': {'env': 'FetchReach-v2', 'cnn_model': None, 'num_layers': 8, 'state_layers': [(64, 'relu', {'kaiming_uniform': {'mode': 'fan_in'}}), (64, 'relu', {'kaiming_uniform': {'mode': 'fan_in'}})], 'merged_layers': [(128, 'relu', {'kaiming_uniform': {'mode': 'fan_in'}}), (128, 'relu', {'kaiming_uniform': {'mode': 'fan_in'}})], 'output_layer_kernel': {'constant': {'val': 0.003}}, 'goal_shape': (3,), 'optimizer': 'Adam', 'optimizer_params': {'weight_decay': 0}, 'learning_rate': 1e-05, 'normalize_layers': False}, 'discount': 0.9, 'tau': 0.05, 'action_epsilon': 0.2, 'replay_buffer': None, 'batch_size': 256, 'noise': {'class_name': 'NormalNoise', 'config': {'shape': (4,), 'mean': 0.0, 'stddev': 0.05000000074505806}}, 'normalize_inputs': False, 'normalizer_clip': None, 'normalizer_eps': 0.01, 'callbacks': [{'class_name': 'WandbCallback', 'config': {'project_name': 'FetchReach-v2', 'run_name': None, 'chkpt_freq': 100, '_sweep': True}}], 'save_dir': 'HER_Test/her/ddpg/'}, 'strategy': 'future', 'tolerance': 0.05, 'num_goals': 8, 'desired_goal': 'fetch_reach_desired_goal', 'achieved_goal': 'fetch_reach_achieved_goal', 'reward_fn': 'fetch_reach_reward', 'normalizer_clip': 5, 'normalizer_eps': 0.01, 'replay_buffer_size': 100000, 'device': 'cuda', 'save_dir': 'HER_Test/her/'}\n"
     ]
    },
    {
     "name": "stderr",
     "output_type": "stream",
     "text": [
      "DEBUG:urllib3.connectionpool:Starting new HTTPS connection (1): api.wandb.ai:443\n",
      "DEBUG:urllib3.connectionpool:https://api.wandb.ai:443 \"POST /graphql HTTP/1.1\" 200 None\n",
      "DEBUG:urllib3.connectionpool:https://api.wandb.ai:443 \"POST /graphql HTTP/1.1\" 200 789\n",
      "DEBUG:urllib3.connectionpool:https://api.wandb.ai:443 \"POST /graphql HTTP/1.1\" 200 785\n",
      "DEBUG:urllib3.connectionpool:https://api.wandb.ai:443 \"POST /graphql HTTP/1.1\" 200 785\n",
      "DEBUG:urllib3.connectionpool:https://api.wandb.ai:443 \"POST /graphql HTTP/1.1\" 200 785\n",
      "wandb: WARNING Ignored wandb.init() arg project when running a sweep.\n",
      "wandb: logging graph, to disable use `wandb.watch(log_graph=False)`\n",
      "wandb: logging graph, to disable use `wandb.watch(log_graph=False)`\n",
      "wandb: Adding directory to artifact (./HER_Test/her/ddpg)... Done. 0.0s\n",
      "DEBUG:urllib3.connectionpool:Starting new HTTPS connection (1): api.wandb.ai:443\n",
      "DEBUG:urllib3.connectionpool:https://api.wandb.ai:443 \"POST /graphql HTTP/1.1\" 200 42\n",
      "DEBUG:urllib3.connectionpool:https://api.wandb.ai:443 \"POST /graphql HTTP/1.1\" 200 57\n"
     ]
    },
    {
     "name": "stdout",
     "output_type": "stream",
     "text": [
      "epoch 0 cycle 1 episode 10, success percentage 0.1, reward -50.0, avg reward -45.9, avg episode time 0.26s\n"
     ]
    },
    {
     "name": "stderr",
     "output_type": "stream",
     "text": [
      "DEBUG:urllib3.connectionpool:https://api.wandb.ai:443 \"POST /graphql HTTP/1.1\" 200 57\n",
      "wandb:                                                                                \n",
      "wandb: \n",
      "wandb: Run history:\n",
      "wandb:                  action_0 ▅▃▅▅▅▅▅█▅▆▆▅▁▅▅▄▅▅▅▅▅▅▅▁▅▅▅▅▅▅▅▆▆▅▅▂▅▅▅▅\n",
      "wandb:                  action_1 ▄█▅▅▅▅▅▆▅▅▄▅▅▅▅█▅▅▅▅▅▅▄▁▅▅▅▅▅▅▅▅▅▅▄▇▅▅▅▅\n",
      "wandb:                  action_2 ▇▂▇▇▇▇▇▃▇▇▇▇▅▇▇▁▇▇▇▇█▇▇▆▇█▇▇▇▇██▇▆█▄▇▇▇█\n",
      "wandb:                  action_3 ▄█▅▅▄▅▅█▄▄▄▄▂▄▅▃▄▅▄▄▄▄▄▁▅▄▄▄▅▅▅▄▄▅▅▄▅▅▄▅\n",
      "wandb:                actor_loss ▆█▆▄▄▂▁▁▂▁\n",
      "wandb:         actor_predictions █████▇▇▇▇▆▆▆▆▅▅▅▅▅▄▄▄▄▃▃▃▃▃▃▃▃▃▂▂▂▂▂▁▁▁▁\n",
      "wandb:                avg_reward ▁▁▁▁▁▁█▇▆▆\n",
      "wandb:                      best █▁▁▁▁██▁▁▁\n",
      "wandb:               critic_loss █▆▅▅▄▃▂▁▂▃\n",
      "wandb:        critic_predictions █████▆▆▆▆▇▇▇▇▇▇▇▇▇▅▅▅▅▆▆▆▆▆▄▄▄▄▂▂▂▂▂▁▁▁▁\n",
      "wandb:                   episode ▁▂▃▃▄▅▆▆▇█\n",
      "wandb:            episode_reward ▁▁▁▁▁▁█▁▁▁\n",
      "wandb:              episode_time █▄▄▁▆▄▁▄▅▅\n",
      "wandb:             goal_distance ▄▂▂▄▅▆▄▃▂▃▂▃▅▆▇█▃▄▄▃▂▂▂▂▂▁▁▁▅▅▆▆▄▄▄▄▅▆▆▇\n",
      "wandb:                   noise_0 ▃▄▆▅▅▃▅▄▅▇▇▅▄▃▅▄▅▁▅▆▆▃▄▄▆▆▅▅▅▅▃▆█▅▂▄▂▆▄▆\n",
      "wandb:                   noise_1 ▁▄▄▅▄▇▃▄▅▄▁▃▄▅▇▄▅▆▅▄▆█▂▄▄▃▄▆▅▄▄▇▇▆▂▄▇▃▅▃\n",
      "wandb:                   noise_2 ▃▄▄▂▄▄▄▄▅▄▄▅▄▅▃▄▄▆▆▃▇▆▄▄▃▇▅▄▆▂▇█▅▁▆▄▃▄▃▆\n",
      "wandb:                   noise_3 ▂▄▅▆▄▄█▄▂▄▅▃▄▄▆▄▁▅▄▂▃▃▄▄▅▃▂▁▆▆▅▂▄▆▅▄▅▅▄▇\n",
      "wandb:               step_reward ▁▁▁▁▁▁▁▁▁▁▁▁▁▁▁▁▁▁▁▁▁▁▁▁▁███▁▁▁▁▁▁▁▁▁▁▁▁\n",
      "wandb:                 step_time ▆▂▄▃▅▆▃▁▃▄▃▃▁▂▃▁▆▃▅▃▄▃▄▁▃▃▂▂▃▇▄▃▃▃▆▁▄▂█▄\n",
      "wandb:              success_rate ▁▁▁▁▁▁█▇▆▆\n",
      "wandb:  target_actor_predictions █████████▇▇▇▇▄▄▄▄▄▄▄▄▄▁▁▁▁▁▆▆▆▆▄▄▄▄▄▃▃▃▃\n",
      "wandb: target_critic_predictions ▂▂▂▂▂▁▁▁▁▅▅▅▅█████▅▅▅▅▅▅▅▅▅▇▇▇▇▆▆▆▆▆████\n",
      "wandb:           tolerance count ▁▁▇▂▆█▅▇▆▃\n",
      "wandb: \n",
      "wandb: Run summary:\n",
      "wandb:                  action_0 0.01269\n",
      "wandb:                  action_1 -0.05179\n",
      "wandb:                  action_2 0.01743\n",
      "wandb:                  action_3 0.11265\n",
      "wandb:                actor_loss -0.01412\n",
      "wandb:         actor_predictions 0.02518\n",
      "wandb:                avg_reward -45.9\n",
      "wandb:                      best False\n",
      "wandb:               critic_loss 0.52082\n",
      "wandb:        critic_predictions 0.01479\n",
      "wandb:                   episode 9\n",
      "wandb:            episode_reward -50.0\n",
      "wandb:              episode_time 0.27512\n",
      "wandb:             goal_distance 0.33482\n",
      "wandb:                   noise_0 -0.03731\n",
      "wandb:                   noise_1 -0.10179\n",
      "wandb:                   noise_2 -0.03257\n",
      "wandb:                   noise_3 0.06265\n",
      "wandb:               step_reward -1.0\n",
      "wandb:                 step_time 0.00544\n",
      "wandb:              success_rate 0.1\n",
      "wandb:  target_actor_predictions 0.03528\n",
      "wandb: target_critic_predictions 0.01554\n",
      "wandb:           tolerance count 185\n",
      "wandb: \n",
      "wandb: 🚀 View run light-sweep-5 at: https://wandb.ai/jasonhayes1987/FetchReach-v2/runs/mfqzar0i\n",
      "wandb: ⭐️ View project at: https://wandb.ai/jasonhayes1987/FetchReach-v2\n",
      "wandb: Synced 5 W&B file(s), 2 media file(s), 7 artifact file(s) and 0 other file(s)\n",
      "wandb: Find logs at: ./wandb/run-20240608_182117-mfqzar0i/logs\n"
     ]
    }
   ],
   "source": [
    "command = ['python', 'sweep.py']\n",
    "\n",
    "# Set the environment variable\n",
    "os.environ['WANDB_DISABLE_SERVICE'] = 'true'\n",
    "\n",
    "subprocess.Popen(command)"
   ]
  },
  {
   "cell_type": "code",
   "execution_count": null,
   "metadata": {},
   "outputs": [],
   "source": []
  }
 ],
 "metadata": {
  "kernelspec": {
   "display_name": "base",
   "language": "python",
   "name": "python3"
  },
  "language_info": {
   "codemirror_mode": {
    "name": "ipython",
    "version": 3
   },
   "file_extension": ".py",
   "mimetype": "text/x-python",
   "name": "python",
   "nbconvert_exporter": "python",
   "pygments_lexer": "ipython3",
   "version": "3.10.14"
  }
 },
 "nbformat": 4,
 "nbformat_minor": 2
}
