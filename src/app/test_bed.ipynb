{
 "cells": [
  {
   "cell_type": "code",
   "execution_count": null,
   "metadata": {},
   "outputs": [],
   "source": [
    "import numpy as np\n",
    "import numba\n",
    "import umap\n",
    "import pynndescent\n",
    "\n",
    "print(\"NumPy version:\", np.__version__)\n",
    "print(\"Numba version:\", numba.__version__)\n",
    "print(\"UMAP version:\", umap.__version__)\n",
    "print(\"PyNNDescent version:\", pynndescent.__version__)\n"
   ]
  },
  {
   "cell_type": "code",
   "execution_count": 10,
   "metadata": {},
   "outputs": [],
   "source": [
    "import os\n",
    "import json\n",
    "import ale_py\n",
    "\n",
    "import torch as T\n",
    "import torch.nn as nn\n",
    "from torch import optim\n",
    "import numpy as np\n",
    "# import pandas as pd\n",
    "# from umap import UMAP\n",
    "\n",
    "\n",
    "import torch_utils\n",
    "from torch import distributions\n",
    "\n",
    "import gymnasium as gym\n",
    "import gymnasium_robotics\n",
    "from gymnasium.vector import VectorEnv, SyncVectorEnv\n",
    "# import models\n",
    "from models import ValueModel, StochasticContinuousPolicy, ActorModel, CriticModel, StochasticDiscretePolicy\n",
    "from rl_agents import PPO, DDPG, Reinforce, ActorCritic, TD3, HER\n",
    "import rl_callbacks\n",
    "from rl_callbacks import WandbCallback\n",
    "# from helper import Normalizer\n",
    "from buffer import ReplayBuffer\n",
    "from noise import NormalNoise\n",
    "import gym_helper\n",
    "import wandb_support\n",
    "import wandb\n",
    "import gym_helper\n",
    "import dash_utils\n",
    "from env_wrapper import EnvWrapper, GymnasiumWrapper\n",
    "from schedulers import ScheduleWrapper\n",
    "\n",
    "import matplotlib.pyplot as plt\n",
    "\n",
    "# from mpi4py import MPI"
   ]
  },
  {
   "cell_type": "code",
   "execution_count": null,
   "metadata": {},
   "outputs": [],
   "source": [
    "import mujoco"
   ]
  },
  {
   "cell_type": "code",
   "execution_count": null,
   "metadata": {},
   "outputs": [],
   "source": [
    "print(f'mujoco version: {mujoco.__version__}')"
   ]
  },
  {
   "cell_type": "code",
   "execution_count": null,
   "metadata": {},
   "outputs": [],
   "source": [
    "env = gym.make('FetchReach-v4')\n",
    "env_spec = env.spec\n",
    "wrap_env = GymnasiumWrapper(env_spec)"
   ]
  },
  {
   "cell_type": "code",
   "execution_count": null,
   "metadata": {},
   "outputs": [],
   "source": [
    "state, _ = env.reset()"
   ]
  },
  {
   "cell_type": "code",
   "execution_count": null,
   "metadata": {},
   "outputs": [],
   "source": [
    "env.env.env.env.initial_qpos"
   ]
  },
  {
   "cell_type": "code",
   "execution_count": null,
   "metadata": {},
   "outputs": [],
   "source": [
    "wrap_env.env = wrap_env._initialize_env(num_envs=8)"
   ]
  },
  {
   "cell_type": "code",
   "execution_count": null,
   "metadata": {},
   "outputs": [],
   "source": [
    "states, _ = wrap_env.reset()"
   ]
  },
  {
   "cell_type": "code",
   "execution_count": null,
   "metadata": {},
   "outputs": [],
   "source": [
    "states"
   ]
  },
  {
   "cell_type": "code",
   "execution_count": null,
   "metadata": {},
   "outputs": [],
   "source": [
    "mujoco.MjModel"
   ]
  },
  {
   "cell_type": "code",
   "execution_count": null,
   "metadata": {},
   "outputs": [],
   "source": [
    "gym_robo.__version__"
   ]
  },
  {
   "cell_type": "code",
   "execution_count": null,
   "metadata": {},
   "outputs": [],
   "source": [
    "def check_cuda():\n",
    "    cuda_available = T.cuda.is_available()\n",
    "    if cuda_available:\n",
    "        print(\"CUDA is available.\")\n",
    "        num_gpus = T.cuda.device_count()\n",
    "        print(f\"Number of GPUs detected: {num_gpus}\")\n",
    "        \n",
    "        for i in range(num_gpus):\n",
    "            gpu_name = T.cuda.get_device_name(i)\n",
    "            gpu_memory = T.cuda.get_device_properties(i).total_memory / (1024 ** 3)  # Convert bytes to GB\n",
    "            print(f\"GPU {i}: {gpu_name}\")\n",
    "            print(f\"Total memory: {gpu_memory:.2f} GB\")\n",
    "    else:\n",
    "        print(\"CUDA is not available.\")\n",
    "\n",
    "check_cuda()"
   ]
  },
  {
   "cell_type": "code",
   "execution_count": null,
   "metadata": {},
   "outputs": [],
   "source": [
    "def get_default_device():\n",
    "    \"\"\"Returns the default device for computations, GPU if available, otherwise CPU\"\"\"\n",
    "    if torch.cuda.is_available():\n",
    "        return torch.device('cuda')\n",
    "    else:\n",
    "        return torch.device('cpu')\n",
    "\n",
    "device = get_default_device()\n",
    "print(f\"Using device: {device}\")"
   ]
  },
  {
   "cell_type": "markdown",
   "metadata": {},
   "source": [
    "# TEST"
   ]
  },
  {
   "cell_type": "code",
   "execution_count": null,
   "metadata": {},
   "outputs": [],
   "source": [
    "gym_robo.register_robotics_envs()"
   ]
  },
  {
   "cell_type": "code",
   "execution_count": null,
   "metadata": {},
   "outputs": [],
   "source": [
    "gym.register_envs(gymnasium_robotics)"
   ]
  },
  {
   "cell_type": "code",
   "execution_count": null,
   "metadata": {},
   "outputs": [],
   "source": [
    "gym.envs.registration.registry"
   ]
  },
  {
   "cell_type": "code",
   "execution_count": null,
   "metadata": {},
   "outputs": [],
   "source": [
    "wandb.login(key='758ac5ba01e12a3df504d2db2fec8ba4f391f7e6')"
   ]
  },
  {
   "cell_type": "code",
   "execution_count": null,
   "metadata": {},
   "outputs": [],
   "source": [
    "env = gym.make('FetchPush-v2', max_episode_steps=100, render_mode='rgb_array')\n",
    "env = gym.wrappers.RecordVideo(env, 'test/', episode_trigger=lambda i: i%1==0)\n",
    "\n",
    "episodes = 10\n",
    "\n",
    "\n",
    "for episode in range(episodes):\n",
    "    done = False\n",
    "    obs, _ = env.reset()\n",
    "    while not done:\n",
    "        obs, r, term, trunc, dict = env.step(env.action_space.sample())\n",
    "        if term or trunc:\n",
    "            done = True\n",
    "env.close()"
   ]
  },
  {
   "cell_type": "code",
   "execution_count": null,
   "metadata": {},
   "outputs": [],
   "source": [
    "env = gym.make(\"FetchReach-v2\")\n",
    "env.reset()\n",
    "obs, reward, terminated, truncated, info = env.step(env.action_space.sample())\n",
    "\n",
    "# The following always has to hold:\n",
    "assert reward == env.compute_reward(obs[\"achieved_goal\"], obs[\"desired_goal\"], info)\n",
    "assert truncated == env.compute_truncated(obs[\"achieved_goal\"], obs[\"desired_goal\"], info)\n",
    "assert terminated == env.compute_terminated(obs[\"achieved_goal\"], obs[\"desired_goal\"], info)"
   ]
  },
  {
   "cell_type": "code",
   "execution_count": null,
   "metadata": {},
   "outputs": [],
   "source": [
    "env.compute_reward()"
   ]
  },
  {
   "cell_type": "code",
   "execution_count": null,
   "metadata": {},
   "outputs": [],
   "source": [
    "env = gym.make('FetchPush-v2', render_mode='rgb_array')"
   ]
  },
  {
   "cell_type": "code",
   "execution_count": null,
   "metadata": {},
   "outputs": [],
   "source": [
    "if hasattr(env, \"distance_threshold\"):\n",
    "    print('true')\n",
    "else:\n",
    "    print('false')"
   ]
  },
  {
   "cell_type": "code",
   "execution_count": null,
   "metadata": {},
   "outputs": [],
   "source": [
    "if env.get_wrapper_attr(\"distance_threshold\"):\n",
    "    print('true')"
   ]
  },
  {
   "cell_type": "code",
   "execution_count": null,
   "metadata": {},
   "outputs": [],
   "source": [
    "print(dir(env))\n"
   ]
  },
  {
   "cell_type": "markdown",
   "metadata": {},
   "source": [
    "# DDPG"
   ]
  },
  {
   "cell_type": "code",
   "execution_count": null,
   "metadata": {},
   "outputs": [],
   "source": [
    "# env = gym.make('BipedalWalker-v3')\n",
    "env = gym.make('Pendulum-v1')\n",
    "env_spec = env.spec\n",
    "env_wrap = GymnasiumWrapper(env_spec)"
   ]
  },
  {
   "cell_type": "code",
   "execution_count": null,
   "metadata": {},
   "outputs": [],
   "source": [
    "for e in env_wrap.env.envs:\n",
    "    print(e.spec)"
   ]
  },
  {
   "cell_type": "code",
   "execution_count": null,
   "metadata": {},
   "outputs": [],
   "source": [
    "# build actor\n",
    "device = 'cuda'\n",
    "optimizer = {'type': 'Adam','params': { 'lr': 0.001 }}\n",
    "\n",
    "layer_config = [\n",
    "    {'type': 'dense', 'params': {'units': 400, 'kernel': 'variance_scaling', 'kernel params':{\"scale\": 1.0, \"mode\": \"fan_in\", \"distribution\": \"uniform\"}}},\n",
    "    {'type': 'relu'},\n",
    "    {'type': 'dense', 'params': {'units': 300, 'kernel': 'variance_scaling', 'kernel params':{\"scale\": 1.0, \"mode\": \"fan_in\", \"distribution\": \"uniform\"}}},\n",
    "    {'type': 'relu'},\n",
    "]\n",
    "output_layer_config = [{'type': 'dense', 'params': {'kernel': 'default', 'kernel params':{}}}]\n",
    "\n",
    "actor = ActorModel(env_wrap, layer_config, output_layer_config, device=device)"
   ]
  },
  {
   "cell_type": "code",
   "execution_count": null,
   "metadata": {},
   "outputs": [],
   "source": [
    "actor"
   ]
  },
  {
   "cell_type": "code",
   "execution_count": null,
   "metadata": {},
   "outputs": [],
   "source": [
    "# build critic\n",
    "\n",
    "state_layer_config = [\n",
    "    {'type': 'dense', 'params': {'units': 400, 'kernel': 'variance_scaling', 'kernel params':{\"scale\": 1.0, \"mode\": \"fan_in\", \"distribution\": \"uniform\"}}},\n",
    "    {'type': 'relu'}\n",
    "]\n",
    "\n",
    "merged_layer_config = [\n",
    "    {'type': 'dense', 'params': {'units': 300, 'kernel': 'variance_scaling', 'kernel params':{\"scale\": 1.0, \"mode\": \"fan_in\", \"distribution\": \"uniform\"}}},\n",
    "    {'type': 'relu'},\n",
    "]\n",
    "# output_layer_config = {'type': 'dense', 'params': {'kernel': 'default', 'kernel params':{}}},\n",
    "\n",
    "critic = CriticModel(env_wrap, state_layers=state_layer_config, merged_layers=merged_layer_config,\n",
    "                    output_layer_kernel=output_layer_config, optimizer_params=optimizer, device=device)"
   ]
  },
  {
   "cell_type": "code",
   "execution_count": null,
   "metadata": {},
   "outputs": [],
   "source": [
    "critic"
   ]
  },
  {
   "cell_type": "code",
   "execution_count": null,
   "metadata": {},
   "outputs": [],
   "source": [
    "replay_buffer = ReplayBuffer(env_wrap, 100000, device=device)\n",
    "noise = NormalNoise(shape=env_wrap.action_space.shape, device=device)"
   ]
  },
  {
   "cell_type": "code",
   "execution_count": null,
   "metadata": {},
   "outputs": [],
   "source": [
    "replay_buffer.get_config()"
   ]
  },
  {
   "cell_type": "code",
   "execution_count": null,
   "metadata": {},
   "outputs": [],
   "source": [
    "noise.get_config()"
   ]
  },
  {
   "cell_type": "code",
   "execution_count": null,
   "metadata": {},
   "outputs": [],
   "source": [
    "ddpg_agent = DDPG(env=env_wrap,\n",
    "                actor_model=actor,\n",
    "                critic_model=critic,\n",
    "                replay_buffer=replay_buffer,\n",
    "                discount=0.99,\n",
    "                tau=0.005,\n",
    "                action_epsilon=0.2,\n",
    "                noise=noise,\n",
    "                callbacks=[rl_callbacks.WandbCallback('Pendulum-v1')],\n",
    "                device=device)"
   ]
  },
  {
   "cell_type": "code",
   "execution_count": null,
   "metadata": {},
   "outputs": [],
   "source": [
    "ddpg_agent.critic_model"
   ]
  },
  {
   "cell_type": "code",
   "execution_count": null,
   "metadata": {},
   "outputs": [],
   "source": [
    "ddpg_agent.target_critic_model"
   ]
  },
  {
   "cell_type": "code",
   "execution_count": null,
   "metadata": {},
   "outputs": [],
   "source": [
    "ddpg_agent.train(1000, 8, 42, 50)"
   ]
  },
  {
   "cell_type": "code",
   "execution_count": null,
   "metadata": {},
   "outputs": [],
   "source": [
    "ddpg_agent.test(10, True, 1)"
   ]
  },
  {
   "cell_type": "code",
   "execution_count": null,
   "metadata": {},
   "outputs": [],
   "source": [
    "config_file_path = '/workspaces/RL_Agents/src/app/models/ddpg/config.json'\n",
    "with open(config_file_path, 'r') as file:\n",
    "    config = json.load(file)"
   ]
  },
  {
   "cell_type": "code",
   "execution_count": null,
   "metadata": {},
   "outputs": [],
   "source": [
    "ddpg = DDPG.load(config)"
   ]
  },
  {
   "cell_type": "code",
   "execution_count": null,
   "metadata": {},
   "outputs": [],
   "source": [
    "ddpg.get_config()"
   ]
  },
  {
   "cell_type": "code",
   "execution_count": null,
   "metadata": {},
   "outputs": [],
   "source": [
    "ddpg.test(10, 1)"
   ]
  },
  {
   "cell_type": "markdown",
   "metadata": {},
   "source": [
    "# TD3"
   ]
  },
  {
   "cell_type": "code",
   "execution_count": null,
   "metadata": {},
   "outputs": [],
   "source": [
    "# env = gym.make('BipedalWalker-v3')\n",
    "env = gym.make('Pendulum-v1')\n",
    "env_spec = env.spec\n",
    "env_wrap = GymnasiumWrapper(env_spec)"
   ]
  },
  {
   "cell_type": "code",
   "execution_count": null,
   "metadata": {},
   "outputs": [],
   "source": [
    "# build actor\n",
    "device = 'cuda'\n",
    "optimizer = {'type': 'Adam','params': { 'lr': 0.001 }}\n",
    "\n",
    "layer_config = [\n",
    "    {'type': 'dense', 'params': {'units': 400, 'kernel': 'variance_scaling', 'kernel params':{\"scale\": 1.0, \"mode\": \"fan_in\", \"distribution\": \"uniform\"}}},\n",
    "    {'type': 'relu'},\n",
    "    {'type': 'dense', 'params': {'units': 300, 'kernel': 'variance_scaling', 'kernel params':{\"scale\": 1.0, \"mode\": \"fan_in\", \"distribution\": \"uniform\"}}},\n",
    "    {'type': 'relu'},\n",
    "]\n",
    "output_layer_config = [{'type': 'dense', 'params': {'kernel': 'default', 'kernel params':{}}}]\n",
    "\n",
    "actor = ActorModel(env_wrap, layer_config, output_layer_config, device=device)"
   ]
  },
  {
   "cell_type": "code",
   "execution_count": null,
   "metadata": {},
   "outputs": [],
   "source": [
    "# build critic\n",
    "\n",
    "state_layer_config = [\n",
    "    {'type': 'dense', 'params': {'units': 400, 'kernel': 'variance_scaling', 'kernel params':{\"scale\": 1.0, \"mode\": \"fan_in\", \"distribution\": \"uniform\"}}},\n",
    "    {'type': 'relu'}\n",
    "]\n",
    "\n",
    "merged_layer_config = [\n",
    "    {'type': 'dense', 'params': {'units': 300, 'kernel': 'variance_scaling', 'kernel params':{\"scale\": 1.0, \"mode\": \"fan_in\", \"distribution\": \"uniform\"}}},\n",
    "    {'type': 'relu'},\n",
    "]\n",
    "# output_layer_config = {'type': 'dense', 'params': {'kernel': 'default', 'kernel params':{}}},\n",
    "\n",
    "critic = CriticModel(env_wrap, state_layers=state_layer_config, merged_layers=merged_layer_config,\n",
    "                    output_layer_kernel=output_layer_config, optimizer_params=optimizer, device=device)"
   ]
  },
  {
   "cell_type": "code",
   "execution_count": null,
   "metadata": {},
   "outputs": [],
   "source": [
    "replay_buffer = ReplayBuffer(env_wrap, 100000, device=device)\n",
    "noise = NormalNoise(shape=env_wrap.action_space.shape, device=device)"
   ]
  },
  {
   "cell_type": "code",
   "execution_count": null,
   "metadata": {},
   "outputs": [],
   "source": [
    "td3 = TD3(\n",
    "    env=env_wrap,\n",
    "    actor_model=actor,\n",
    "    critic_model=critic,\n",
    "    discount=0.99,\n",
    "    tau=0.005,\n",
    "    action_epsilon=0.2,\n",
    "    replay_buffer=replay_buffer,\n",
    "    noise=noise,\n",
    "    callbacks=[rl_callbacks.WandbCallback('Pendulum-v1')],\n",
    "    device='cuda'\n",
    ")"
   ]
  },
  {
   "cell_type": "code",
   "execution_count": null,
   "metadata": {},
   "outputs": [],
   "source": [
    "td3.get_config()"
   ]
  },
  {
   "cell_type": "code",
   "execution_count": null,
   "metadata": {},
   "outputs": [],
   "source": [
    "td3.train(200, 8, 42, 50)"
   ]
  },
  {
   "cell_type": "code",
   "execution_count": null,
   "metadata": {},
   "outputs": [],
   "source": [
    "float(td3.env.action_space.low[-1])"
   ]
  },
  {
   "cell_type": "markdown",
   "metadata": {},
   "source": [
    "# HER/DDPG"
   ]
  },
  {
   "cell_type": "code",
   "execution_count": null,
   "metadata": {},
   "outputs": [],
   "source": [
    "print(f'gym robotics version: {gym_robo.__version__}')"
   ]
  },
  {
   "cell_type": "code",
   "execution_count": null,
   "metadata": {},
   "outputs": [],
   "source": [
    "# Create the environment\n",
    "env = gym.make('FetchPickAndPlace-v4', render_mode='human')\n",
    "env_spec = env.spec\n",
    "env = GymnasiumWrapper(env_spec)\n",
    "env.env = env._initialize_env(1, 2)\n",
    "\n",
    "# Reset the environment and get initial observation\n",
    "obs, _ = env.reset()  # Use no seed for randomness\n",
    "for i in range(env.env.num_envs):\n",
    "    initial_block_pos = obs['achieved_goal'][i]\n",
    "    print(f\"Environment {i} initial block position: {initial_block_pos}\")\n",
    "\n",
    "# Step through the environment with random actions\n",
    "for step in range(1000):  # Test 50 steps or until episode ends\n",
    "    action = env.action_space.sample()  # Random action in [-1, 1]\n",
    "    action = env.format_actions(action)\n",
    "    next_obs, reward, term, trunc, info = env.step(action)\n",
    "    done = np.logical_or(term, trunc)\n",
    "\n",
    "    for i in range(env.env.num_envs):\n",
    "        # Print current state\n",
    "        # print(f\"Environment {i} Step {step}, Action: {action[i]}\")\n",
    "        # print(f\"Environment {i} Gripper position: {next_obs['observation'][i][3:5]}\")  # Gripper finger positions\n",
    "        # print(f\"Environment {i} Block position (achieved_goal): {next_obs['achieved_goal'][i]}\")\n",
    "        # print(f\"Environment {i} Target position (desired_goal): {next_obs['desired_goal'][i]}\")\n",
    "        # print(f\"Environment {i} Reward: {reward[i]}, Done: {done[i]}\")\n",
    "\n",
    "        # Check if the block moved and episode isn’t done\n",
    "        if not done[i] and not np.allclose(obs['achieved_goal'][i], next_obs['achieved_goal'][i], atol=0.001):\n",
    "            print(f\"Block moved at step {step}! Previous position: {obs['achieved_goal'][i]}; New position: {next_obs['achieved_goal'][i]}\")\n",
    "            print(f\"Gripper action (control): {action[i][3]}\")  # Check gripper control\n",
    "        \n",
    "        # if episode ends\n",
    "        if done[i]:\n",
    "            print(f\"Episode ended at step {step}, Reason: Terminated={term}, Truncated={trunc}\")\n",
    "\n",
    "    # Render the environment\n",
    "    env.env.envs[0].render()\n",
    "\n",
    "    # Update observation for next step\n",
    "    obs = next_obs\n",
    "\n",
    "# Close the environment\n",
    "env.env.close()"
   ]
  },
  {
   "cell_type": "code",
   "execution_count": null,
   "metadata": {},
   "outputs": [],
   "source": [
    "env.env.close()"
   ]
  },
  {
   "cell_type": "code",
   "execution_count": 2,
   "metadata": {},
   "outputs": [],
   "source": [
    "env = gym.make('FetchPickAndPlace-v4')\n",
    "env_spec = env.spec\n",
    "env_wrap = GymnasiumWrapper(env_spec)"
   ]
  },
  {
   "cell_type": "code",
   "execution_count": 3,
   "metadata": {},
   "outputs": [],
   "source": [
    "# build actor\n",
    "device = 'cuda'\n",
    "optimizer = {'type': 'Adam','params': { 'lr': 0.001 }}\n",
    "\n",
    "layer_config = [\n",
    "    {'type': 'dense', 'params': {'units': 256, 'kernel': 'variance_scaling', 'kernel params':{\"scale\": 1.0, \"mode\": \"fan_in\", \"distribution\": \"uniform\"}}},\n",
    "    {'type': 'relu'},\n",
    "    {'type': 'dense', 'params': {'units': 256, 'kernel': 'variance_scaling', 'kernel params':{\"scale\": 1.0, \"mode\": \"fan_in\", \"distribution\": \"uniform\"}}},\n",
    "    {'type': 'relu'},\n",
    "    {'type': 'dense', 'params': {'units': 256, 'kernel': 'variance_scaling', 'kernel params':{\"scale\": 1.0, \"mode\": \"fan_in\", \"distribution\": \"uniform\"}}},\n",
    "    {'type': 'relu'},\n",
    "]\n",
    "output_layer_config = [{'type': 'dense', 'params': {'kernel': 'uniform', 'kernel params':{'a':-3e-3, 'b':3e-3}}}]\n",
    "\n",
    "actor = ActorModel(env_wrap, layer_config, output_layer_config, device=device)"
   ]
  },
  {
   "cell_type": "code",
   "execution_count": 4,
   "metadata": {},
   "outputs": [],
   "source": [
    "# build critic\n",
    "\n",
    "state_layer_config = [\n",
    "    {'type': 'dense', 'params': {'units': 256, 'kernel': 'variance_scaling', 'kernel params':{\"scale\": 1.0, \"mode\": \"fan_in\", \"distribution\": \"uniform\"}}},\n",
    "    {'type': 'relu'}\n",
    "]\n",
    "\n",
    "merged_layer_config = [\n",
    "    {'type': 'dense', 'params': {'units': 256, 'kernel': 'variance_scaling', 'kernel params':{\"scale\": 1.0, \"mode\": \"fan_in\", \"distribution\": \"uniform\"}}},\n",
    "    {'type': 'relu'},\n",
    "    {'type': 'dense', 'params': {'units': 256, 'kernel': 'variance_scaling', 'kernel params':{\"scale\": 1.0, \"mode\": \"fan_in\", \"distribution\": \"uniform\"}}},\n",
    "    {'type': 'relu'},\n",
    "]\n",
    "# output_layer_config = {'type': 'dense', 'params': {'kernel': 'default', 'kernel params':{}}},\n",
    "\n",
    "critic = CriticModel(env_wrap, state_layers=state_layer_config, merged_layers=merged_layer_config,\n",
    "                    output_layer_kernel=output_layer_config, optimizer_params=optimizer, device=device)"
   ]
  },
  {
   "cell_type": "code",
   "execution_count": 5,
   "metadata": {},
   "outputs": [],
   "source": [
    "replay_buffer = ReplayBuffer(env_wrap, 100000, goal_shape=env.observation_space['desired_goal'].shape, device=device)\n",
    "noise = NormalNoise(shape=env_wrap.action_space.shape, mean=0.0, stddev=0.05, device=device)\n",
    "schedule_config = {'type':'Linear', 'params':{'start_factor':1.0, 'end_factor':0.1, 'total_iters':5000}}\n",
    "# noise_schedule = ScheduleWrapper(schedule_config)\n",
    "noise_schedule = None"
   ]
  },
  {
   "cell_type": "code",
   "execution_count": 6,
   "metadata": {},
   "outputs": [],
   "source": [
    "ddpg_agent = DDPG(env=env_wrap,\n",
    "                actor_model=actor,\n",
    "                critic_model=critic,\n",
    "                replay_buffer=replay_buffer,\n",
    "                discount=0.99,\n",
    "                tau=0.05,\n",
    "                action_epsilon=0.2,\n",
    "                batch_size=256,\n",
    "                noise=noise,\n",
    "                noise_schedule=noise_schedule,\n",
    "                warmup=1000,\n",
    "                callbacks=[rl_callbacks.WandbCallback('FetchPickAndPlace-v4')],\n",
    "                device=device)"
   ]
  },
  {
   "cell_type": "code",
   "execution_count": 7,
   "metadata": {},
   "outputs": [],
   "source": [
    "her = HER(\n",
    "    agent=ddpg_agent,\n",
    "    strategy='future',\n",
    "    tolerance=0.05,\n",
    "    num_goals=8,\n",
    ")"
   ]
  },
  {
   "cell_type": "code",
   "execution_count": 8,
   "metadata": {},
   "outputs": [
    {
     "name": "stdout",
     "output_type": "stream",
     "text": [
      "tolerance: 0.05\n"
     ]
    }
   ],
   "source": [
    "for i in range(len(her.agent.env.env.envs)):\n",
    "    base = her.agent.env.get_base_env(i)\n",
    "    print(f'tolerance: {base.distance_threshold}')"
   ]
  },
  {
   "cell_type": "code",
   "execution_count": 9,
   "metadata": {},
   "outputs": [
    {
     "name": "stderr",
     "output_type": "stream",
     "text": [
      "\u001b[34m\u001b[1mwandb\u001b[0m: Using wandb-core as the SDK backend.  Please refer to https://wandb.me/wandb-core for more information.\n",
      "\u001b[34m\u001b[1mwandb\u001b[0m: Currently logged in as: \u001b[33mjasonhayes1987\u001b[0m to \u001b[32mhttps://api.wandb.ai\u001b[0m. Use \u001b[1m`wandb login --relogin`\u001b[0m to force relogin\n"
     ]
    },
    {
     "data": {
      "text/html": [
       "Tracking run with wandb version 0.19.7"
      ],
      "text/plain": [
       "<IPython.core.display.HTML object>"
      ]
     },
     "metadata": {},
     "output_type": "display_data"
    },
    {
     "data": {
      "text/html": [
       "Run data is saved locally in <code>/workspaces/RL_Agents/src/app/wandb/run-20250226_033547-xszmti40</code>"
      ],
      "text/plain": [
       "<IPython.core.display.HTML object>"
      ]
     },
     "metadata": {},
     "output_type": "display_data"
    },
    {
     "data": {
      "text/html": [
       "Syncing run <strong><a href='https://wandb.ai/jasonhayes1987/FetchPickAndPlace-v4/runs/xszmti40' target=\"_blank\">train-14</a></strong> to <a href='https://wandb.ai/jasonhayes1987/FetchPickAndPlace-v4' target=\"_blank\">Weights & Biases</a> (<a href='https://wandb.me/developer-guide' target=\"_blank\">docs</a>)<br>"
      ],
      "text/plain": [
       "<IPython.core.display.HTML object>"
      ]
     },
     "metadata": {},
     "output_type": "display_data"
    },
    {
     "data": {
      "text/html": [
       " View project at <a href='https://wandb.ai/jasonhayes1987/FetchPickAndPlace-v4' target=\"_blank\">https://wandb.ai/jasonhayes1987/FetchPickAndPlace-v4</a>"
      ],
      "text/plain": [
       "<IPython.core.display.HTML object>"
      ]
     },
     "metadata": {},
     "output_type": "display_data"
    },
    {
     "data": {
      "text/html": [
       " View run at <a href='https://wandb.ai/jasonhayes1987/FetchPickAndPlace-v4/runs/xszmti40' target=\"_blank\">https://wandb.ai/jasonhayes1987/FetchPickAndPlace-v4/runs/xszmti40</a>"
      ],
      "text/plain": [
       "<IPython.core.display.HTML object>"
      ]
     },
     "metadata": {},
     "output_type": "display_data"
    },
    {
     "name": "stderr",
     "output_type": "stream",
     "text": [
      "\u001b[34m\u001b[1mwandb\u001b[0m: logging graph, to disable use `wandb.watch(log_graph=False)`\n",
      "\u001b[34m\u001b[1mwandb\u001b[0m: logging graph, to disable use `wandb.watch(log_graph=False)`\n"
     ]
    },
    {
     "name": "stdout",
     "output_type": "stream",
     "text": [
      "Environment 0: episode 1, score -50.0, avg_score -50.0\n",
      "Environment 1: episode 1, score -50.0, avg_score -50.0\n",
      "Environment 2: episode 1, score -50.0, avg_score -50.0\n",
      "Environment 3: episode 1, score -50.0, avg_score -50.0\n",
      "Environment 4: episode 1, score -50.0, avg_score -50.0\n",
      "Environment 5: episode 1, score -50.0, avg_score -50.0\n",
      "Environment 6: episode 1, score -50.0, avg_score -50.0\n",
      "Environment 7: episode 1, score -50.0, avg_score -50.0\n",
      "Environment 0: episode 2, score -50.0, avg_score -50.0\n",
      "Environment 1: episode 2, score -50.0, avg_score -50.0\n",
      "Environment 2: episode 2, score -50.0, avg_score -50.0\n",
      "Environment 3: episode 2, score -50.0, avg_score -50.0\n",
      "Environment 4: episode 2, score -50.0, avg_score -50.0\n",
      "Environment 5: episode 2, score -50.0, avg_score -50.0\n",
      "Environment 6: episode 2, score -50.0, avg_score -50.0\n",
      "Environment 7: episode 2, score -50.0, avg_score -50.0\n",
      "Environment 0: episode 3, score -50.0, avg_score -50.0\n",
      "Environment 1: episode 3, score -50.0, avg_score -50.0\n",
      "Environment 2: episode 3, score -50.0, avg_score -50.0\n",
      "Rendering episode 20.0 during training...\n",
      "rendering episode...\n",
      "Moviepy - Building video models/her/renders/train/episode_20.0.mp4.\n",
      "Moviepy - Writing video models/her/renders/train/episode_20.0.mp4\n",
      "\n"
     ]
    },
    {
     "name": "stderr",
     "output_type": "stream",
     "text": [
      "                                                             "
     ]
    },
    {
     "name": "stdout",
     "output_type": "stream",
     "text": [
      "Moviepy - Done !\n",
      "Moviepy - video ready models/her/renders/train/episode_20.0.mp4\n",
      "episode rendered\n",
      "Environment 0: Episode 1/1 Score: -50.0 Avg Score: -50.0\n"
     ]
    },
    {
     "name": "stderr",
     "output_type": "stream",
     "text": [
      "\r"
     ]
    },
    {
     "name": "stdout",
     "output_type": "stream",
     "text": [
      "Environment 3: episode 3, score -50.0, avg_score -50.0\n",
      "Environment 4: episode 3, score -50.0, avg_score -50.0\n",
      "Environment 5: episode 3, score -50.0, avg_score -50.0\n",
      "Environment 6: episode 3, score -50.0, avg_score -50.0\n",
      "Environment 7: episode 3, score -50.0, avg_score -50.0\n",
      "Environment 0: episode 4, score -50.0, avg_score -50.0\n",
      "Environment 1: episode 4, score -50.0, avg_score -50.0\n",
      "Environment 2: episode 4, score -50.0, avg_score -50.0\n",
      "Environment 3: episode 4, score -50.0, avg_score -50.0\n",
      "Environment 4: episode 4, score -50.0, avg_score -50.0\n",
      "Environment 5: episode 4, score -50.0, avg_score -50.0\n",
      "Environment 6: episode 4, score -50.0, avg_score -50.0\n",
      "Environment 7: episode 4, score -50.0, avg_score -50.0\n",
      "Environment 0: episode 5, score -50.0, avg_score -50.0\n",
      "Environment 1: episode 5, score -50.0, avg_score -50.0\n",
      "Environment 2: episode 5, score -50.0, avg_score -50.0\n",
      "Environment 3: episode 5, score -50.0, avg_score -50.0\n",
      "Environment 4: episode 5, score -50.0, avg_score -50.0\n",
      "Environment 5: episode 5, score -50.0, avg_score -50.0\n",
      "Environment 6: episode 5, score -50.0, avg_score -50.0\n",
      "Rendering episode 40.0 during training...\n",
      "rendering episode...\n",
      "Moviepy - Building video models/her/renders/train/episode_40.0.mp4.\n",
      "Moviepy - Writing video models/her/renders/train/episode_40.0.mp4\n",
      "\n"
     ]
    },
    {
     "name": "stderr",
     "output_type": "stream",
     "text": [
      "                                                             "
     ]
    },
    {
     "name": "stdout",
     "output_type": "stream",
     "text": [
      "Moviepy - Done !\n",
      "Moviepy - video ready models/her/renders/train/episode_40.0.mp4\n",
      "episode rendered\n",
      "Environment 0: Episode 1/1 Score: 0.0 Avg Score: 0.0\n"
     ]
    },
    {
     "name": "stderr",
     "output_type": "stream",
     "text": [
      "\r"
     ]
    },
    {
     "name": "stdout",
     "output_type": "stream",
     "text": [
      "Environment 7: episode 5, score -50.0, avg_score -50.0\n",
      "Environment 0: episode 6, score -50.0, avg_score -50.0\n",
      "Environment 1: episode 6, score -50.0, avg_score -50.0\n",
      "Environment 2: episode 6, score -50.0, avg_score -50.0\n",
      "Environment 3: episode 6, score -50.0, avg_score -50.0\n",
      "Environment 4: episode 6, score -50.0, avg_score -50.0\n",
      "Environment 5: episode 6, score -50.0, avg_score -50.0\n",
      "Environment 6: episode 6, score -50.0, avg_score -50.0\n",
      "Environment 7: episode 6, score -50.0, avg_score -50.0\n",
      "Environment 0: episode 7, score -50.0, avg_score -50.0\n",
      "Environment 1: episode 7, score 0.0, avg_score -49.0\n",
      "Environment 2: episode 7, score -50.0, avg_score -49.01960784313726\n",
      "Environment 3: episode 7, score -50.0, avg_score -49.03846153846154\n",
      "Environment 4: episode 7, score -50.0, avg_score -49.056603773584904\n",
      "Environment 5: episode 7, score -50.0, avg_score -49.074074074074076\n",
      "Environment 6: episode 7, score -50.0, avg_score -49.09090909090909\n",
      "Environment 7: episode 7, score -50.0, avg_score -49.107142857142854\n",
      "Environment 0: episode 8, score -50.0, avg_score -49.12280701754386\n",
      "Environment 1: episode 8, score -50.0, avg_score -49.13793103448276\n",
      "Environment 2: episode 8, score -50.0, avg_score -49.152542372881356\n",
      "Rendering episode 60.0 during training...\n",
      "rendering episode...\n",
      "Moviepy - Building video models/her/renders/train/episode_60.0.mp4.\n",
      "Moviepy - Writing video models/her/renders/train/episode_60.0.mp4\n",
      "\n"
     ]
    },
    {
     "name": "stderr",
     "output_type": "stream",
     "text": [
      "                                                   "
     ]
    },
    {
     "name": "stdout",
     "output_type": "stream",
     "text": [
      "Moviepy - Done !\n",
      "Moviepy - video ready models/her/renders/train/episode_60.0.mp4\n",
      "episode rendered\n",
      "Environment 0: Episode 1/1 Score: -50.0 Avg Score: -50.0\n"
     ]
    },
    {
     "name": "stderr",
     "output_type": "stream",
     "text": [
      "\r"
     ]
    },
    {
     "name": "stdout",
     "output_type": "stream",
     "text": [
      "Environment 3: episode 8, score -50.0, avg_score -49.166666666666664\n",
      "Environment 4: episode 8, score -50.0, avg_score -49.18032786885246\n",
      "Environment 5: episode 8, score -50.0, avg_score -49.193548387096776\n",
      "Environment 6: episode 8, score -50.0, avg_score -49.20634920634921\n",
      "Environment 7: episode 8, score 0.0, avg_score -48.4375\n",
      "Environment 0: episode 9, score -50.0, avg_score -48.46153846153846\n",
      "Environment 1: episode 9, score -50.0, avg_score -48.484848484848484\n",
      "Environment 2: episode 9, score -50.0, avg_score -48.507462686567166\n",
      "Environment 3: episode 9, score -50.0, avg_score -48.529411764705884\n",
      "Environment 4: episode 9, score -50.0, avg_score -48.55072463768116\n",
      "Environment 5: episode 9, score -50.0, avg_score -48.57142857142857\n",
      "Environment 6: episode 9, score -50.0, avg_score -48.59154929577465\n",
      "Environment 7: episode 9, score -50.0, avg_score -48.611111111111114\n",
      "Environment 0: episode 10, score -50.0, avg_score -48.63013698630137\n",
      "Environment 1: episode 10, score -50.0, avg_score -48.648648648648646\n",
      "Environment 2: episode 10, score -50.0, avg_score -48.666666666666664\n",
      "Environment 3: episode 10, score -50.0, avg_score -48.68421052631579\n",
      "Environment 4: episode 10, score -50.0, avg_score -48.701298701298704\n",
      "Environment 5: episode 10, score -50.0, avg_score -48.717948717948715\n",
      "Environment 6: episode 10, score -50.0, avg_score -48.734177215189874\n",
      "Rendering episode 80.0 during training...\n",
      "rendering episode...\n",
      "Moviepy - Building video models/her/renders/train/episode_80.0.mp4.\n",
      "Moviepy - Writing video models/her/renders/train/episode_80.0.mp4\n",
      "\n"
     ]
    },
    {
     "name": "stderr",
     "output_type": "stream",
     "text": [
      "                                                   "
     ]
    },
    {
     "name": "stdout",
     "output_type": "stream",
     "text": [
      "Moviepy - Done !\n",
      "Moviepy - video ready models/her/renders/train/episode_80.0.mp4\n",
      "episode rendered\n",
      "Environment 0: Episode 1/1 Score: -50.0 Avg Score: -50.0\n"
     ]
    },
    {
     "name": "stderr",
     "output_type": "stream",
     "text": [
      "\r"
     ]
    },
    {
     "name": "stdout",
     "output_type": "stream",
     "text": [
      "Environment 7: episode 10, score 0.0, avg_score -48.125\n",
      "Environment 0: episode 11, score -50.0, avg_score -48.148148148148145\n",
      "Environment 1: episode 11, score -50.0, avg_score -48.170731707317074\n",
      "Environment 2: episode 11, score -50.0, avg_score -48.19277108433735\n",
      "Environment 3: episode 11, score 0.0, avg_score -47.61904761904762\n",
      "Environment 4: episode 11, score -50.0, avg_score -47.64705882352941\n",
      "Environment 5: episode 11, score -50.0, avg_score -47.674418604651166\n",
      "Environment 6: episode 11, score -46.0, avg_score -47.6551724137931\n",
      "Environment 7: episode 11, score -50.0, avg_score -47.68181818181818\n",
      "Environment 0: episode 12, score -50.0, avg_score -47.70786516853933\n",
      "Environment 1: episode 12, score -50.0, avg_score -47.733333333333334\n",
      "Environment 2: episode 12, score -50.0, avg_score -47.75824175824176\n",
      "Environment 3: episode 12, score -50.0, avg_score -47.78260869565217\n",
      "Environment 4: episode 12, score -50.0, avg_score -47.806451612903224\n",
      "Environment 5: episode 12, score -50.0, avg_score -47.829787234042556\n",
      "Environment 6: episode 12, score -50.0, avg_score -47.85263157894737\n",
      "Environment 7: episode 12, score -50.0, avg_score -47.875\n",
      "Environment 0: episode 13, score -50.0, avg_score -47.896907216494846\n",
      "Environment 1: episode 13, score 0.0, avg_score -47.40816326530612\n",
      "Environment 2: episode 13, score -50.0, avg_score -47.43434343434343\n",
      "Rendering episode 100.0 during training...\n",
      "rendering episode...\n",
      "Moviepy - Building video models/her/renders/train/episode_100.0.mp4.\n",
      "Moviepy - Writing video models/her/renders/train/episode_100.0.mp4\n",
      "\n"
     ]
    },
    {
     "name": "stderr",
     "output_type": "stream",
     "text": [
      "                                                             "
     ]
    },
    {
     "name": "stdout",
     "output_type": "stream",
     "text": [
      "Moviepy - Done !\n",
      "Moviepy - video ready models/her/renders/train/episode_100.0.mp4\n",
      "episode rendered\n",
      "Environment 0: Episode 1/1 Score: -50.0 Avg Score: -50.0\n"
     ]
    },
    {
     "name": "stderr",
     "output_type": "stream",
     "text": [
      "\r"
     ]
    },
    {
     "name": "stdout",
     "output_type": "stream",
     "text": [
      "Environment 3: episode 13, score -50.0, avg_score -47.46\n",
      "Environment 4: episode 13, score -50.0, avg_score -47.46\n",
      "Environment 5: episode 13, score -50.0, avg_score -47.46\n",
      "Environment 6: episode 13, score -50.0, avg_score -47.46\n",
      "Environment 7: episode 13, score 0.0, avg_score -46.96\n",
      "Environment 0: episode 14, score -50.0, avg_score -46.96\n",
      "Environment 1: episode 14, score -50.0, avg_score -46.96\n",
      "Environment 2: episode 14, score -50.0, avg_score -46.96\n",
      "Environment 3: episode 14, score -50.0, avg_score -46.96\n",
      "Environment 4: episode 14, score -50.0, avg_score -46.96\n",
      "Environment 5: episode 14, score -50.0, avg_score -46.96\n",
      "Environment 6: episode 14, score -50.0, avg_score -46.96\n",
      "Environment 7: episode 14, score -50.0, avg_score -46.96\n",
      "Environment 0: episode 15, score -50.0, avg_score -46.96\n",
      "Environment 1: episode 15, score -50.0, avg_score -46.96\n",
      "Environment 2: episode 15, score -50.0, avg_score -46.96\n",
      "Environment 3: episode 15, score -50.0, avg_score -46.96\n",
      "Environment 4: episode 15, score -50.0, avg_score -46.96\n",
      "Environment 5: episode 15, score -50.0, avg_score -46.96\n",
      "Environment 6: episode 15, score -50.0, avg_score -46.96\n",
      "Rendering episode 120.0 during training...\n",
      "rendering episode...\n",
      "Moviepy - Building video models/her/renders/train/episode_120.0.mp4.\n",
      "Moviepy - Writing video models/her/renders/train/episode_120.0.mp4\n",
      "\n"
     ]
    },
    {
     "name": "stderr",
     "output_type": "stream",
     "text": [
      "                                                   "
     ]
    },
    {
     "name": "stdout",
     "output_type": "stream",
     "text": [
      "Moviepy - Done !\n",
      "Moviepy - video ready models/her/renders/train/episode_120.0.mp4\n",
      "episode rendered\n",
      "Environment 0: Episode 1/1 Score: -50.0 Avg Score: -50.0\n"
     ]
    },
    {
     "name": "stderr",
     "output_type": "stream",
     "text": [
      "\r"
     ]
    },
    {
     "name": "stdout",
     "output_type": "stream",
     "text": [
      "Environment 7: episode 15, score -50.0, avg_score -46.96\n",
      "Environment 0: episode 16, score -50.0, avg_score -46.96\n",
      "Environment 1: episode 16, score -50.0, avg_score -46.96\n",
      "Environment 2: episode 16, score -50.0, avg_score -46.96\n",
      "Environment 3: episode 16, score -50.0, avg_score -46.96\n",
      "Environment 4: episode 16, score -50.0, avg_score -46.96\n",
      "Environment 5: episode 16, score -50.0, avg_score -46.96\n",
      "Environment 6: episode 16, score -50.0, avg_score -46.96\n",
      "Environment 7: episode 16, score -50.0, avg_score -46.96\n",
      "Environment 0: episode 17, score -50.0, avg_score -46.96\n",
      "Environment 1: episode 17, score 0.0, avg_score -46.46\n",
      "Environment 2: episode 17, score -50.0, avg_score -46.46\n",
      "Environment 3: episode 17, score -50.0, avg_score -46.46\n",
      "Environment 4: episode 17, score -50.0, avg_score -46.46\n",
      "Environment 5: episode 17, score -50.0, avg_score -46.46\n",
      "Environment 6: episode 17, score -50.0, avg_score -46.46\n",
      "Environment 7: episode 17, score -50.0, avg_score -46.46\n",
      "Environment 0: episode 18, score -50.0, avg_score -46.46\n",
      "Environment 1: episode 18, score -50.0, avg_score -46.46\n",
      "Environment 2: episode 18, score -50.0, avg_score -46.46\n",
      "Rendering episode 140.0 during training...\n",
      "rendering episode...\n",
      "Moviepy - Building video models/her/renders/train/episode_140.0.mp4.\n",
      "Moviepy - Writing video models/her/renders/train/episode_140.0.mp4\n",
      "\n"
     ]
    },
    {
     "name": "stderr",
     "output_type": "stream",
     "text": [
      "                                                   "
     ]
    },
    {
     "name": "stdout",
     "output_type": "stream",
     "text": [
      "Moviepy - Done !\n",
      "Moviepy - video ready models/her/renders/train/episode_140.0.mp4\n",
      "episode rendered\n",
      "Environment 0: Episode 1/1 Score: -50.0 Avg Score: -50.0\n"
     ]
    },
    {
     "name": "stderr",
     "output_type": "stream",
     "text": [
      "\r"
     ]
    },
    {
     "name": "stdout",
     "output_type": "stream",
     "text": [
      "Environment 3: episode 18, score -50.0, avg_score -46.46\n",
      "Environment 4: episode 18, score -50.0, avg_score -46.46\n",
      "Environment 5: episode 18, score -50.0, avg_score -46.46\n",
      "Environment 6: episode 18, score -50.0, avg_score -46.46\n",
      "Environment 7: episode 18, score -50.0, avg_score -46.46\n",
      "Environment 0: episode 19, score -50.0, avg_score -46.46\n",
      "Environment 1: episode 19, score -50.0, avg_score -46.46\n",
      "Environment 2: episode 19, score -50.0, avg_score -46.46\n",
      "Environment 3: episode 19, score -50.0, avg_score -46.46\n",
      "Environment 4: episode 19, score -50.0, avg_score -46.46\n",
      "Environment 5: episode 19, score -50.0, avg_score -46.96\n",
      "Environment 6: episode 19, score -50.0, avg_score -46.96\n",
      "Environment 7: episode 19, score 0.0, avg_score -46.46\n",
      "Environment 0: episode 20, score -50.0, avg_score -46.46\n",
      "Environment 1: episode 20, score -50.0, avg_score -46.46\n",
      "Environment 2: episode 20, score -50.0, avg_score -46.46\n",
      "Environment 3: episode 20, score -50.0, avg_score -46.46\n",
      "Environment 4: episode 20, score -50.0, avg_score -46.46\n",
      "Environment 5: episode 20, score -50.0, avg_score -46.46\n",
      "Environment 6: episode 20, score -50.0, avg_score -46.46\n",
      "Rendering episode 160.0 during training...\n",
      "rendering episode...\n",
      "Moviepy - Building video models/her/renders/train/episode_160.0.mp4.\n",
      "Moviepy - Writing video models/her/renders/train/episode_160.0.mp4\n",
      "\n"
     ]
    },
    {
     "name": "stderr",
     "output_type": "stream",
     "text": [
      "                                                             "
     ]
    },
    {
     "name": "stdout",
     "output_type": "stream",
     "text": [
      "Moviepy - Done !\n",
      "Moviepy - video ready models/her/renders/train/episode_160.0.mp4\n",
      "episode rendered\n",
      "Environment 0: Episode 1/1 Score: -50.0 Avg Score: -50.0\n"
     ]
    },
    {
     "name": "stderr",
     "output_type": "stream",
     "text": [
      "\r"
     ]
    },
    {
     "name": "stdout",
     "output_type": "stream",
     "text": [
      "Environment 7: episode 20, score -50.0, avg_score -46.46\n",
      "Environment 0: episode 21, score -50.0, avg_score -46.46\n",
      "Environment 1: episode 21, score -50.0, avg_score -46.46\n",
      "Environment 2: episode 21, score -50.0, avg_score -46.46\n",
      "Environment 3: episode 21, score -50.0, avg_score -46.96\n",
      "Environment 4: episode 21, score -50.0, avg_score -46.96\n",
      "Environment 5: episode 21, score -50.0, avg_score -46.96\n",
      "Environment 6: episode 21, score -50.0, avg_score -46.96\n",
      "Environment 7: episode 21, score -50.0, avg_score -46.96\n",
      "Environment 0: episode 22, score -50.0, avg_score -46.96\n",
      "Environment 1: episode 22, score -50.0, avg_score -46.96\n",
      "Environment 2: episode 22, score -50.0, avg_score -46.96\n",
      "Environment 3: episode 22, score -50.0, avg_score -46.96\n",
      "Environment 4: episode 22, score -50.0, avg_score -46.96\n",
      "Environment 5: episode 22, score -50.0, avg_score -46.96\n",
      "Environment 6: episode 22, score -50.0, avg_score -46.96\n",
      "Environment 7: episode 22, score 0.0, avg_score -46.46\n",
      "Environment 0: episode 23, score -50.0, avg_score -46.46\n",
      "Environment 1: episode 23, score 0.0, avg_score -45.96\n",
      "Environment 2: episode 23, score -50.0, avg_score -45.96\n",
      "Rendering episode 180.0 during training...\n",
      "rendering episode...\n",
      "Moviepy - Building video models/her/renders/train/episode_180.0.mp4.\n",
      "Moviepy - Writing video models/her/renders/train/episode_180.0.mp4\n",
      "\n"
     ]
    },
    {
     "name": "stderr",
     "output_type": "stream",
     "text": [
      "                                                             "
     ]
    },
    {
     "name": "stdout",
     "output_type": "stream",
     "text": [
      "Moviepy - Done !\n",
      "Moviepy - video ready models/her/renders/train/episode_180.0.mp4\n",
      "episode rendered\n",
      "Environment 0: Episode 1/1 Score: -50.0 Avg Score: -50.0\n"
     ]
    },
    {
     "name": "stderr",
     "output_type": "stream",
     "text": [
      "\r"
     ]
    },
    {
     "name": "stdout",
     "output_type": "stream",
     "text": [
      "Environment 3: episode 23, score -50.0, avg_score -46.46\n",
      "Environment 4: episode 23, score -50.0, avg_score -46.46\n",
      "Environment 5: episode 23, score -50.0, avg_score -46.46\n",
      "Environment 6: episode 23, score -50.0, avg_score -46.46\n",
      "Environment 7: episode 23, score -50.0, avg_score -46.96\n",
      "Environment 0: episode 24, score -50.0, avg_score -46.96\n",
      "Environment 1: episode 24, score -50.0, avg_score -46.96\n",
      "Environment 2: episode 24, score -50.0, avg_score -47.0\n",
      "Environment 3: episode 24, score -50.0, avg_score -47.0\n",
      "Environment 4: episode 24, score -50.0, avg_score -47.0\n",
      "Environment 5: episode 24, score -50.0, avg_score -47.0\n",
      "Environment 6: episode 24, score -50.0, avg_score -47.0\n",
      "Environment 7: episode 24, score -50.0, avg_score -47.0\n",
      "Environment 0: episode 25, score -50.0, avg_score -47.0\n",
      "Environment 1: episode 25, score -50.0, avg_score -47.0\n",
      "Environment 2: episode 25, score -50.0, avg_score -47.0\n",
      "Environment 3: episode 25, score -50.0, avg_score -47.0\n",
      "Environment 4: episode 25, score -50.0, avg_score -47.0\n",
      "Environment 5: episode 25, score -50.0, avg_score -47.5\n",
      "Environment 6: episode 25, score -50.0, avg_score -47.5\n",
      "Rendering episode 200.0 during training...\n",
      "rendering episode...\n",
      "Moviepy - Building video models/her/renders/train/episode_200.0.mp4.\n",
      "Moviepy - Writing video models/her/renders/train/episode_200.0.mp4\n",
      "\n"
     ]
    },
    {
     "name": "stderr",
     "output_type": "stream",
     "text": [
      "                                                             "
     ]
    },
    {
     "name": "stdout",
     "output_type": "stream",
     "text": [
      "Moviepy - Done !\n",
      "Moviepy - video ready models/her/renders/train/episode_200.0.mp4\n",
      "episode rendered\n",
      "Environment 0: Episode 1/1 Score: -50.0 Avg Score: -50.0\n"
     ]
    },
    {
     "name": "stderr",
     "output_type": "stream",
     "text": [
      "\r"
     ]
    },
    {
     "name": "stdout",
     "output_type": "stream",
     "text": [
      "Environment 7: episode 25, score -50.0, avg_score -47.5\n",
      "Environment 0: episode 26, score -50.0, avg_score -47.5\n",
      "Environment 1: episode 26, score -50.0, avg_score -47.5\n",
      "Environment 2: episode 26, score -50.0, avg_score -47.5\n",
      "Environment 3: episode 26, score -50.0, avg_score -48.0\n",
      "Environment 4: episode 26, score -50.0, avg_score -48.0\n",
      "Environment 5: episode 26, score -50.0, avg_score -48.0\n",
      "Environment 6: episode 26, score -50.0, avg_score -48.0\n",
      "Environment 7: episode 26, score -50.0, avg_score -48.0\n",
      "Environment 0: episode 27, score -50.0, avg_score -48.0\n",
      "Environment 1: episode 27, score 0.0, avg_score -47.5\n",
      "Environment 2: episode 27, score -50.0, avg_score -47.5\n",
      "Environment 3: episode 27, score -50.0, avg_score -47.5\n",
      "Environment 4: episode 27, score -50.0, avg_score -47.5\n",
      "Environment 5: episode 27, score -50.0, avg_score -47.5\n",
      "Environment 6: episode 27, score -50.0, avg_score -47.5\n",
      "Environment 7: episode 27, score -50.0, avg_score -47.5\n",
      "Environment 0: episode 28, score -50.0, avg_score -47.5\n",
      "Environment 1: episode 28, score -50.0, avg_score -47.5\n",
      "Environment 2: episode 28, score -50.0, avg_score -47.5\n",
      "Rendering episode 220.0 during training...\n",
      "rendering episode...\n",
      "Moviepy - Building video models/her/renders/train/episode_220.0.mp4.\n",
      "Moviepy - Writing video models/her/renders/train/episode_220.0.mp4\n",
      "\n"
     ]
    },
    {
     "name": "stderr",
     "output_type": "stream",
     "text": [
      "                                                             "
     ]
    },
    {
     "name": "stdout",
     "output_type": "stream",
     "text": [
      "Moviepy - Done !\n",
      "Moviepy - video ready models/her/renders/train/episode_220.0.mp4\n",
      "episode rendered\n",
      "Environment 0: Episode 1/1 Score: -50.0 Avg Score: -50.0\n"
     ]
    },
    {
     "name": "stderr",
     "output_type": "stream",
     "text": [
      "\r"
     ]
    },
    {
     "name": "stdout",
     "output_type": "stream",
     "text": [
      "Environment 3: episode 28, score -50.0, avg_score -47.5\n",
      "Environment 4: episode 28, score -50.0, avg_score -47.5\n",
      "Environment 5: episode 28, score -50.0, avg_score -47.5\n",
      "Environment 6: episode 28, score -50.0, avg_score -47.5\n",
      "Environment 7: episode 28, score -50.0, avg_score -47.5\n",
      "Environment 0: episode 29, score -50.0, avg_score -47.5\n",
      "Environment 1: episode 29, score -50.0, avg_score -47.5\n",
      "Environment 2: episode 29, score -50.0, avg_score -47.5\n",
      "Environment 3: episode 29, score -50.0, avg_score -47.5\n",
      "Environment 4: episode 29, score -50.0, avg_score -47.5\n",
      "Environment 5: episode 29, score -50.0, avg_score -48.0\n",
      "Environment 6: episode 29, score -50.0, avg_score -48.0\n",
      "Environment 7: episode 29, score -50.0, avg_score -48.0\n",
      "Environment 0: episode 30, score -50.0, avg_score -48.0\n",
      "Environment 1: episode 30, score -50.0, avg_score -48.0\n",
      "Environment 2: episode 30, score -50.0, avg_score -48.0\n",
      "Environment 3: episode 30, score 0.0, avg_score -47.5\n",
      "Environment 4: episode 30, score -50.0, avg_score -47.5\n",
      "Environment 5: episode 30, score -50.0, avg_score -47.5\n",
      "Environment 6: episode 30, score -50.0, avg_score -47.5\n",
      "Rendering episode 240.0 during training...\n",
      "rendering episode...\n",
      "Moviepy - Building video models/her/renders/train/episode_240.0.mp4.\n",
      "Moviepy - Writing video models/her/renders/train/episode_240.0.mp4\n",
      "\n"
     ]
    },
    {
     "name": "stderr",
     "output_type": "stream",
     "text": [
      "                                                             "
     ]
    },
    {
     "name": "stdout",
     "output_type": "stream",
     "text": [
      "Moviepy - Done !\n",
      "Moviepy - video ready models/her/renders/train/episode_240.0.mp4\n",
      "episode rendered\n",
      "Environment 0: Episode 1/1 Score: -50.0 Avg Score: -50.0\n"
     ]
    },
    {
     "name": "stderr",
     "output_type": "stream",
     "text": [
      "\r"
     ]
    },
    {
     "name": "stdout",
     "output_type": "stream",
     "text": [
      "Environment 7: episode 30, score -50.0, avg_score -47.5\n",
      "Environment 0: episode 31, score -50.0, avg_score -47.5\n",
      "Environment 1: episode 31, score -50.0, avg_score -47.5\n",
      "Environment 2: episode 31, score -50.0, avg_score -47.5\n",
      "Environment 3: episode 31, score -50.0, avg_score -47.5\n",
      "Environment 4: episode 31, score -50.0, avg_score -47.5\n",
      "Environment 5: episode 31, score -50.0, avg_score -47.5\n",
      "Environment 6: episode 31, score -50.0, avg_score -47.5\n",
      "Environment 7: episode 31, score -50.0, avg_score -47.5\n",
      "Environment 0: episode 32, score -50.0, avg_score -47.5\n",
      "Environment 1: episode 32, score -50.0, avg_score -47.5\n",
      "Environment 2: episode 32, score -50.0, avg_score -47.5\n",
      "Environment 3: episode 32, score -50.0, avg_score -48.0\n",
      "Environment 4: episode 32, score -50.0, avg_score -48.0\n",
      "Environment 5: episode 32, score -50.0, avg_score -48.0\n",
      "Environment 6: episode 32, score 0.0, avg_score -47.5\n",
      "Environment 7: episode 32, score -50.0, avg_score -47.5\n",
      "Environment 0: episode 33, score -50.0, avg_score -47.5\n",
      "Environment 1: episode 33, score -50.0, avg_score -47.5\n",
      "Environment 2: episode 33, score -50.0, avg_score -47.5\n",
      "Rendering episode 260.0 during training...\n",
      "rendering episode...\n",
      "Moviepy - Building video models/her/renders/train/episode_260.0.mp4.\n",
      "Moviepy - Writing video models/her/renders/train/episode_260.0.mp4\n",
      "\n"
     ]
    },
    {
     "name": "stderr",
     "output_type": "stream",
     "text": [
      "                                                             "
     ]
    },
    {
     "name": "stdout",
     "output_type": "stream",
     "text": [
      "Moviepy - Done !\n",
      "Moviepy - video ready models/her/renders/train/episode_260.0.mp4\n",
      "episode rendered\n",
      "Environment 0: Episode 1/1 Score: 0.0 Avg Score: 0.0\n"
     ]
    },
    {
     "name": "stderr",
     "output_type": "stream",
     "text": [
      "\r"
     ]
    },
    {
     "name": "stdout",
     "output_type": "stream",
     "text": [
      "Environment 3: episode 33, score -50.0, avg_score -47.5\n",
      "Environment 4: episode 33, score -50.0, avg_score -47.5\n",
      "Environment 5: episode 33, score -50.0, avg_score -47.5\n",
      "Environment 6: episode 33, score -50.0, avg_score -47.5\n",
      "Environment 7: episode 33, score -50.0, avg_score -47.5\n",
      "Environment 0: episode 34, score -50.0, avg_score -47.5\n",
      "Environment 1: episode 34, score -50.0, avg_score -47.5\n",
      "Environment 2: episode 34, score -50.0, avg_score -47.5\n",
      "Environment 3: episode 34, score -50.0, avg_score -47.5\n",
      "Environment 4: episode 34, score -50.0, avg_score -47.5\n",
      "Environment 5: episode 34, score -50.0, avg_score -47.5\n",
      "Environment 6: episode 34, score -50.0, avg_score -47.5\n",
      "Environment 7: episode 34, score -50.0, avg_score -47.5\n",
      "Environment 0: episode 35, score -50.0, avg_score -47.5\n",
      "Environment 1: episode 35, score 0.0, avg_score -47.0\n",
      "Environment 2: episode 35, score -50.0, avg_score -47.0\n",
      "Environment 3: episode 35, score -50.0, avg_score -47.5\n",
      "Environment 4: episode 35, score -50.0, avg_score -47.5\n",
      "Environment 5: episode 35, score -50.0, avg_score -48.0\n",
      "Environment 6: episode 35, score -50.0, avg_score -48.0\n",
      "Rendering episode 280.0 during training...\n",
      "rendering episode...\n",
      "Moviepy - Building video models/her/renders/train/episode_280.0.mp4.\n",
      "Moviepy - Writing video models/her/renders/train/episode_280.0.mp4\n",
      "\n"
     ]
    },
    {
     "name": "stderr",
     "output_type": "stream",
     "text": [
      "                                                             "
     ]
    },
    {
     "name": "stdout",
     "output_type": "stream",
     "text": [
      "Moviepy - Done !\n",
      "Moviepy - video ready models/her/renders/train/episode_280.0.mp4\n",
      "episode rendered\n",
      "Environment 0: Episode 1/1 Score: -50.0 Avg Score: -50.0\n"
     ]
    },
    {
     "name": "stderr",
     "output_type": "stream",
     "text": [
      "\r"
     ]
    },
    {
     "name": "stdout",
     "output_type": "stream",
     "text": [
      "Environment 7: episode 35, score -50.0, avg_score -48.0\n",
      "Environment 0: episode 36, score -50.0, avg_score -48.0\n",
      "Environment 1: episode 36, score -50.0, avg_score -48.0\n",
      "Environment 2: episode 36, score -50.0, avg_score -48.0\n",
      "Environment 3: episode 36, score -50.0, avg_score -48.0\n",
      "Environment 4: episode 36, score -50.0, avg_score -48.0\n",
      "Environment 5: episode 36, score -50.0, avg_score -48.0\n",
      "Environment 6: episode 36, score -50.0, avg_score -48.0\n",
      "Environment 7: episode 36, score -50.0, avg_score -48.0\n",
      "Environment 0: episode 37, score -50.0, avg_score -48.0\n",
      "Environment 1: episode 37, score -50.0, avg_score -48.0\n",
      "Environment 2: episode 37, score -50.0, avg_score -48.0\n",
      "Environment 3: episode 37, score -50.0, avg_score -48.0\n",
      "Environment 4: episode 37, score -50.0, avg_score -48.0\n",
      "Environment 5: episode 37, score -50.0, avg_score -48.0\n",
      "Environment 6: episode 37, score -50.0, avg_score -48.0\n",
      "Environment 7: episode 37, score 0.0, avg_score -47.5\n",
      "Environment 0: episode 38, score -50.0, avg_score -47.5\n",
      "Environment 1: episode 38, score -50.0, avg_score -47.5\n",
      "Environment 2: episode 38, score -50.0, avg_score -47.5\n",
      "Rendering episode 300.0 during training...\n",
      "rendering episode...\n",
      "Moviepy - Building video models/her/renders/train/episode_300.0.mp4.\n",
      "Moviepy - Writing video models/her/renders/train/episode_300.0.mp4\n",
      "\n"
     ]
    },
    {
     "name": "stderr",
     "output_type": "stream",
     "text": [
      "                                                             "
     ]
    },
    {
     "name": "stdout",
     "output_type": "stream",
     "text": [
      "Moviepy - Done !\n",
      "Moviepy - video ready models/her/renders/train/episode_300.0.mp4\n",
      "episode rendered\n",
      "Environment 0: Episode 1/1 Score: -50.0 Avg Score: -50.0\n"
     ]
    },
    {
     "name": "stderr",
     "output_type": "stream",
     "text": [
      "\r"
     ]
    },
    {
     "name": "stdout",
     "output_type": "stream",
     "text": [
      "Environment 3: episode 38, score -50.0, avg_score -47.5\n",
      "Environment 4: episode 38, score -50.0, avg_score -47.5\n",
      "Environment 5: episode 38, score -50.0, avg_score -47.5\n",
      "Environment 6: episode 38, score -50.0, avg_score -47.5\n",
      "Environment 7: episode 38, score -50.0, avg_score -47.5\n",
      "Environment 0: episode 39, score -50.0, avg_score -47.5\n",
      "Environment 1: episode 39, score 0.0, avg_score -47.0\n",
      "Environment 2: episode 39, score -50.0, avg_score -47.0\n",
      "Environment 3: episode 39, score 0.0, avg_score -46.5\n",
      "Environment 4: episode 39, score -50.0, avg_score -46.5\n",
      "Environment 5: episode 39, score -50.0, avg_score -47.0\n",
      "Environment 6: episode 39, score -50.0, avg_score -47.0\n",
      "Environment 7: episode 39, score -50.0, avg_score -47.0\n",
      "Environment 0: episode 40, score -50.0, avg_score -47.0\n",
      "Environment 1: episode 40, score -50.0, avg_score -47.0\n",
      "Environment 2: episode 40, score -50.0, avg_score -47.0\n",
      "Environment 3: episode 40, score -50.0, avg_score -47.0\n",
      "Environment 4: episode 40, score -50.0, avg_score -47.0\n",
      "Environment 5: episode 40, score -50.0, avg_score -47.0\n",
      "Environment 6: episode 40, score -50.0, avg_score -47.0\n",
      "Rendering episode 320.0 during training...\n",
      "rendering episode...\n",
      "Moviepy - Building video models/her/renders/train/episode_320.0.mp4.\n",
      "Moviepy - Writing video models/her/renders/train/episode_320.0.mp4\n",
      "\n"
     ]
    },
    {
     "name": "stderr",
     "output_type": "stream",
     "text": [
      "                                                             "
     ]
    },
    {
     "name": "stdout",
     "output_type": "stream",
     "text": [
      "Moviepy - Done !\n",
      "Moviepy - video ready models/her/renders/train/episode_320.0.mp4\n",
      "episode rendered\n",
      "Environment 0: Episode 1/1 Score: -50.0 Avg Score: -50.0\n"
     ]
    },
    {
     "name": "stderr",
     "output_type": "stream",
     "text": [
      "\r"
     ]
    },
    {
     "name": "stdout",
     "output_type": "stream",
     "text": [
      "Environment 7: episode 40, score -50.0, avg_score -47.0\n",
      "Environment 0: episode 41, score -50.0, avg_score -47.0\n",
      "Environment 1: episode 41, score -50.0, avg_score -47.0\n",
      "Environment 2: episode 41, score -50.0, avg_score -47.0\n",
      "Environment 3: episode 41, score -50.0, avg_score -47.0\n",
      "Environment 4: episode 41, score -50.0, avg_score -47.0\n",
      "Environment 5: episode 41, score -50.0, avg_score -47.0\n",
      "Environment 6: episode 41, score -50.0, avg_score -47.0\n",
      "Environment 7: episode 41, score -50.0, avg_score -47.0\n",
      "Environment 0: episode 42, score 0.0, avg_score -46.5\n",
      "Environment 1: episode 42, score -50.0, avg_score -46.5\n",
      "Environment 2: episode 42, score -50.0, avg_score -46.5\n",
      "Environment 3: episode 42, score -50.0, avg_score -46.5\n",
      "Environment 4: episode 42, score -50.0, avg_score -46.5\n",
      "Environment 5: episode 42, score -50.0, avg_score -46.5\n",
      "Environment 6: episode 42, score -50.0, avg_score -46.5\n",
      "Environment 7: episode 42, score -50.0, avg_score -47.0\n",
      "Environment 0: episode 43, score 0.0, avg_score -46.5\n",
      "Environment 1: episode 43, score -50.0, avg_score -46.5\n",
      "Environment 2: episode 43, score -50.0, avg_score -46.5\n",
      "Rendering episode 340.0 during training...\n",
      "rendering episode...\n",
      "Moviepy - Building video models/her/renders/train/episode_340.0.mp4.\n",
      "Moviepy - Writing video models/her/renders/train/episode_340.0.mp4\n",
      "\n"
     ]
    },
    {
     "name": "stderr",
     "output_type": "stream",
     "text": [
      "                                                             "
     ]
    },
    {
     "name": "stdout",
     "output_type": "stream",
     "text": [
      "Moviepy - Done !\n",
      "Moviepy - video ready models/her/renders/train/episode_340.0.mp4\n",
      "episode rendered\n",
      "Environment 0: Episode 1/1 Score: -50.0 Avg Score: -50.0\n"
     ]
    },
    {
     "name": "stderr",
     "output_type": "stream",
     "text": [
      "\r"
     ]
    },
    {
     "name": "stdout",
     "output_type": "stream",
     "text": [
      "Environment 3: episode 43, score -50.0, avg_score -46.5\n",
      "Environment 4: episode 43, score -50.0, avg_score -46.5\n",
      "Environment 5: episode 43, score -50.0, avg_score -46.5\n",
      "Environment 6: episode 43, score -50.0, avg_score -46.5\n",
      "Environment 7: episode 43, score -50.0, avg_score -46.5\n",
      "Environment 0: episode 44, score -50.0, avg_score -46.5\n",
      "Environment 1: episode 44, score -50.0, avg_score -46.5\n",
      "Environment 2: episode 44, score -50.0, avg_score -46.5\n",
      "Environment 3: episode 44, score -50.0, avg_score -46.5\n",
      "Environment 4: episode 44, score -50.0, avg_score -46.5\n",
      "Environment 5: episode 44, score -50.0, avg_score -46.5\n",
      "Environment 6: episode 44, score -50.0, avg_score -46.5\n",
      "Environment 7: episode 44, score -50.0, avg_score -46.5\n",
      "Environment 0: episode 45, score -50.0, avg_score -46.5\n",
      "Environment 1: episode 45, score -50.0, avg_score -46.5\n",
      "Environment 2: episode 45, score -50.0, avg_score -47.0\n",
      "Environment 3: episode 45, score -50.0, avg_score -47.0\n",
      "Environment 4: episode 45, score -50.0, avg_score -47.0\n",
      "Environment 5: episode 45, score -50.0, avg_score -47.0\n",
      "Environment 6: episode 45, score -50.0, avg_score -47.0\n",
      "Rendering episode 360.0 during training...\n",
      "rendering episode...\n",
      "Moviepy - Building video models/her/renders/train/episode_360.0.mp4.\n",
      "Moviepy - Writing video models/her/renders/train/episode_360.0.mp4\n",
      "\n"
     ]
    },
    {
     "name": "stderr",
     "output_type": "stream",
     "text": [
      "                                                             "
     ]
    },
    {
     "name": "stdout",
     "output_type": "stream",
     "text": [
      "Moviepy - Done !\n",
      "Moviepy - video ready models/her/renders/train/episode_360.0.mp4\n",
      "episode rendered\n",
      "Environment 0: Episode 1/1 Score: -50.0 Avg Score: -50.0\n"
     ]
    },
    {
     "name": "stderr",
     "output_type": "stream",
     "text": [
      "\r"
     ]
    },
    {
     "name": "stdout",
     "output_type": "stream",
     "text": [
      "Environment 7: episode 45, score 0.0, avg_score -46.5\n",
      "Environment 0: episode 46, score -50.0, avg_score -46.5\n",
      "Environment 1: episode 46, score -50.0, avg_score -46.5\n",
      "Environment 2: episode 46, score -50.0, avg_score -46.5\n",
      "Environment 3: episode 46, score -50.0, avg_score -46.5\n",
      "Environment 4: episode 46, score -50.0, avg_score -46.5\n",
      "Environment 5: episode 46, score -50.0, avg_score -46.5\n",
      "Environment 6: episode 46, score -50.0, avg_score -46.5\n",
      "Environment 7: episode 46, score -50.0, avg_score -46.5\n",
      "Environment 0: episode 47, score -50.0, avg_score -46.5\n",
      "Environment 1: episode 47, score -50.0, avg_score -46.5\n",
      "Environment 2: episode 47, score -50.0, avg_score -46.5\n",
      "Environment 3: episode 47, score -50.0, avg_score -46.5\n",
      "Environment 4: episode 47, score -50.0, avg_score -46.5\n",
      "Environment 5: episode 47, score -50.0, avg_score -47.0\n",
      "Environment 6: episode 47, score -50.0, avg_score -47.0\n",
      "Environment 7: episode 47, score -50.0, avg_score -47.0\n",
      "Environment 0: episode 48, score 0.0, avg_score -46.5\n",
      "Environment 1: episode 48, score -50.0, avg_score -46.5\n",
      "Environment 2: episode 48, score -50.0, avg_score -46.5\n",
      "Rendering episode 380.0 during training...\n",
      "rendering episode...\n",
      "Moviepy - Building video models/her/renders/train/episode_380.0.mp4.\n",
      "Moviepy - Writing video models/her/renders/train/episode_380.0.mp4\n",
      "\n"
     ]
    },
    {
     "name": "stderr",
     "output_type": "stream",
     "text": [
      "                                                             "
     ]
    },
    {
     "name": "stdout",
     "output_type": "stream",
     "text": [
      "Moviepy - Done !\n",
      "Moviepy - video ready models/her/renders/train/episode_380.0.mp4\n",
      "episode rendered\n",
      "Environment 0: Episode 1/1 Score: -50.0 Avg Score: -50.0\n"
     ]
    },
    {
     "name": "stderr",
     "output_type": "stream",
     "text": [
      "\r"
     ]
    },
    {
     "name": "stdout",
     "output_type": "stream",
     "text": [
      "Environment 3: episode 48, score -50.0, avg_score -46.5\n",
      "Environment 4: episode 48, score -50.0, avg_score -46.5\n",
      "Environment 5: episode 48, score -50.0, avg_score -46.5\n",
      "Environment 6: episode 48, score -50.0, avg_score -46.5\n",
      "Environment 7: episode 48, score -50.0, avg_score -46.5\n",
      "Environment 0: episode 49, score -50.0, avg_score -46.5\n",
      "Environment 1: episode 49, score -50.0, avg_score -46.5\n",
      "Environment 2: episode 49, score -50.0, avg_score -46.5\n",
      "Environment 3: episode 49, score -50.0, avg_score -46.5\n",
      "Environment 4: episode 49, score -50.0, avg_score -46.5\n",
      "Environment 5: episode 49, score -50.0, avg_score -46.5\n",
      "Environment 6: episode 49, score 0.0, avg_score -46.0\n",
      "Environment 7: episode 49, score -50.0, avg_score -46.0\n",
      "Environment 0: episode 50, score -50.0, avg_score -46.0\n",
      "Environment 1: episode 50, score -50.0, avg_score -46.0\n",
      "Environment 2: episode 50, score -50.0, avg_score -46.0\n",
      "Environment 3: episode 50, score 0.0, avg_score -46.0\n",
      "Environment 4: episode 50, score -50.0, avg_score -46.0\n",
      "Environment 5: episode 50, score -50.0, avg_score -46.0\n",
      "Environment 6: episode 50, score -50.0, avg_score -46.0\n",
      "Rendering episode 400.0 during training...\n",
      "rendering episode...\n",
      "Moviepy - Building video models/her/renders/train/episode_400.0.mp4.\n",
      "Moviepy - Writing video models/her/renders/train/episode_400.0.mp4\n",
      "\n"
     ]
    },
    {
     "name": "stderr",
     "output_type": "stream",
     "text": [
      "                                                             "
     ]
    },
    {
     "name": "stdout",
     "output_type": "stream",
     "text": [
      "Moviepy - Done !\n",
      "Moviepy - video ready models/her/renders/train/episode_400.0.mp4\n",
      "episode rendered\n",
      "Environment 0: Episode 1/1 Score: -50.0 Avg Score: -50.0\n"
     ]
    },
    {
     "name": "stderr",
     "output_type": "stream",
     "text": [
      "\r"
     ]
    },
    {
     "name": "stdout",
     "output_type": "stream",
     "text": [
      "Environment 7: episode 50, score -50.0, avg_score -46.0\n",
      "Environment 0: episode 51, score -50.0, avg_score -46.0\n",
      "Environment 1: episode 51, score -50.0, avg_score -46.0\n",
      "Environment 2: episode 51, score -50.0, avg_score -46.0\n",
      "Environment 3: episode 51, score -50.0, avg_score -46.0\n",
      "Environment 4: episode 51, score -50.0, avg_score -46.0\n",
      "Environment 5: episode 51, score -50.0, avg_score -46.5\n",
      "Environment 6: episode 51, score -50.0, avg_score -46.5\n",
      "Environment 7: episode 51, score -50.0, avg_score -47.0\n",
      "Environment 0: episode 52, score -50.0, avg_score -47.0\n",
      "Environment 1: episode 52, score -50.0, avg_score -47.0\n",
      "Environment 2: episode 52, score -50.0, avg_score -47.0\n",
      "Environment 3: episode 52, score -50.0, avg_score -47.0\n",
      "Environment 4: episode 52, score -50.0, avg_score -47.0\n",
      "Environment 5: episode 52, score -50.0, avg_score -47.0\n",
      "Environment 6: episode 52, score -50.0, avg_score -47.0\n",
      "Environment 7: episode 52, score -50.0, avg_score -47.0\n",
      "Environment 0: episode 53, score -50.0, avg_score -47.0\n",
      "Environment 1: episode 53, score -50.0, avg_score -47.0\n",
      "Environment 2: episode 53, score -50.0, avg_score -47.0\n",
      "Rendering episode 420.0 during training...\n",
      "rendering episode...\n",
      "Moviepy - Building video models/her/renders/train/episode_420.0.mp4.\n",
      "Moviepy - Writing video models/her/renders/train/episode_420.0.mp4\n",
      "\n"
     ]
    },
    {
     "name": "stderr",
     "output_type": "stream",
     "text": [
      "                                                             "
     ]
    },
    {
     "name": "stdout",
     "output_type": "stream",
     "text": [
      "Moviepy - Done !\n",
      "Moviepy - video ready models/her/renders/train/episode_420.0.mp4\n",
      "episode rendered\n",
      "Environment 0: Episode 1/1 Score: -50.0 Avg Score: -50.0\n"
     ]
    },
    {
     "name": "stderr",
     "output_type": "stream",
     "text": [
      "\r"
     ]
    },
    {
     "name": "stdout",
     "output_type": "stream",
     "text": [
      "Environment 3: episode 53, score -50.0, avg_score -47.0\n",
      "Environment 4: episode 53, score -50.0, avg_score -47.0\n",
      "Environment 5: episode 53, score -50.0, avg_score -47.0\n",
      "Environment 6: episode 53, score -50.0, avg_score -47.0\n",
      "Environment 7: episode 53, score -50.0, avg_score -47.0\n",
      "Environment 0: episode 54, score -50.0, avg_score -47.0\n",
      "Environment 1: episode 54, score -50.0, avg_score -47.0\n",
      "Environment 2: episode 54, score -50.0, avg_score -47.0\n",
      "Environment 3: episode 54, score -50.0, avg_score -47.0\n",
      "Environment 4: episode 54, score -50.0, avg_score -47.5\n",
      "Environment 5: episode 54, score -50.0, avg_score -47.5\n",
      "Environment 6: episode 54, score -50.0, avg_score -47.5\n",
      "Environment 7: episode 54, score -50.0, avg_score -47.5\n",
      "Environment 0: episode 55, score -50.0, avg_score -47.5\n",
      "Environment 1: episode 55, score -50.0, avg_score -47.5\n",
      "Environment 2: episode 55, score -50.0, avg_score -47.5\n",
      "Environment 3: episode 55, score -50.0, avg_score -47.5\n",
      "Environment 4: episode 55, score -50.0, avg_score -48.0\n",
      "Environment 5: episode 55, score -50.0, avg_score -48.0\n",
      "Environment 6: episode 55, score -50.0, avg_score -48.0\n",
      "Rendering episode 440.0 during training...\n",
      "rendering episode...\n",
      "Moviepy - Building video models/her/renders/train/episode_440.0.mp4.\n",
      "Moviepy - Writing video models/her/renders/train/episode_440.0.mp4\n",
      "\n"
     ]
    },
    {
     "name": "stderr",
     "output_type": "stream",
     "text": [
      "                                                             "
     ]
    },
    {
     "name": "stdout",
     "output_type": "stream",
     "text": [
      "Moviepy - Done !\n",
      "Moviepy - video ready models/her/renders/train/episode_440.0.mp4\n",
      "episode rendered\n",
      "Environment 0: Episode 1/1 Score: -50.0 Avg Score: -50.0\n"
     ]
    },
    {
     "name": "stderr",
     "output_type": "stream",
     "text": [
      "\r"
     ]
    },
    {
     "name": "stdout",
     "output_type": "stream",
     "text": [
      "Environment 7: episode 55, score -50.0, avg_score -48.0\n",
      "Environment 0: episode 56, score -50.0, avg_score -48.0\n",
      "Environment 1: episode 56, score -50.0, avg_score -48.0\n",
      "Environment 2: episode 56, score -50.0, avg_score -48.0\n",
      "Environment 3: episode 56, score -50.0, avg_score -48.0\n",
      "Environment 4: episode 56, score -50.0, avg_score -48.0\n",
      "Environment 5: episode 56, score -50.0, avg_score -48.0\n",
      "Environment 6: episode 56, score -50.0, avg_score -48.0\n",
      "Environment 7: episode 56, score -50.0, avg_score -48.0\n",
      "Environment 0: episode 57, score -50.0, avg_score -48.0\n",
      "Environment 1: episode 57, score -50.0, avg_score -48.0\n",
      "Environment 2: episode 57, score -50.0, avg_score -48.0\n",
      "Environment 3: episode 57, score -50.0, avg_score -48.0\n",
      "Environment 4: episode 57, score -50.0, avg_score -48.0\n",
      "Environment 5: episode 57, score -50.0, avg_score -48.0\n",
      "Environment 6: episode 57, score 0.0, avg_score -47.5\n",
      "Environment 7: episode 57, score -50.0, avg_score -47.5\n",
      "Environment 0: episode 58, score -50.0, avg_score -47.5\n",
      "Environment 1: episode 58, score -50.0, avg_score -47.5\n",
      "Environment 2: episode 58, score -50.0, avg_score -47.5\n",
      "Rendering episode 460.0 during training...\n",
      "rendering episode...\n",
      "Moviepy - Building video models/her/renders/train/episode_460.0.mp4.\n",
      "Moviepy - Writing video models/her/renders/train/episode_460.0.mp4\n",
      "\n"
     ]
    },
    {
     "name": "stderr",
     "output_type": "stream",
     "text": [
      "                                                             "
     ]
    },
    {
     "name": "stdout",
     "output_type": "stream",
     "text": [
      "Moviepy - Done !\n",
      "Moviepy - video ready models/her/renders/train/episode_460.0.mp4\n",
      "episode rendered\n",
      "Environment 0: Episode 1/1 Score: -50.0 Avg Score: -50.0\n"
     ]
    },
    {
     "name": "stderr",
     "output_type": "stream",
     "text": [
      "\r"
     ]
    },
    {
     "name": "stdout",
     "output_type": "stream",
     "text": [
      "Environment 3: episode 58, score -50.0, avg_score -48.0\n",
      "Environment 4: episode 58, score -50.0, avg_score -48.0\n",
      "Environment 5: episode 58, score -50.0, avg_score -48.0\n",
      "Environment 6: episode 58, score -50.0, avg_score -48.0\n",
      "Environment 7: episode 58, score -50.0, avg_score -48.0\n",
      "Environment 0: episode 59, score -50.0, avg_score -48.0\n",
      "Environment 1: episode 59, score -50.0, avg_score -48.0\n",
      "Environment 2: episode 59, score -50.0, avg_score -48.0\n",
      "Environment 3: episode 59, score -50.0, avg_score -48.0\n",
      "Environment 4: episode 59, score -50.0, avg_score -48.0\n",
      "Environment 5: episode 59, score -50.0, avg_score -48.0\n",
      "Environment 6: episode 59, score -50.0, avg_score -48.0\n",
      "Environment 7: episode 59, score -50.0, avg_score -48.0\n",
      "Environment 0: episode 60, score -50.0, avg_score -48.0\n",
      "Environment 1: episode 60, score -50.0, avg_score -48.0\n",
      "Environment 2: episode 60, score -50.0, avg_score -48.0\n",
      "Environment 3: episode 60, score 0.0, avg_score -47.5\n",
      "Environment 4: episode 60, score -50.0, avg_score -48.0\n",
      "Environment 5: episode 60, score -50.0, avg_score -48.0\n",
      "Environment 6: episode 60, score -50.0, avg_score -48.0\n",
      "Rendering episode 480.0 during training...\n",
      "rendering episode...\n",
      "Moviepy - Building video models/her/renders/train/episode_480.0.mp4.\n",
      "Moviepy - Writing video models/her/renders/train/episode_480.0.mp4\n",
      "\n"
     ]
    },
    {
     "name": "stderr",
     "output_type": "stream",
     "text": [
      "                                                             "
     ]
    },
    {
     "name": "stdout",
     "output_type": "stream",
     "text": [
      "Moviepy - Done !\n",
      "Moviepy - video ready models/her/renders/train/episode_480.0.mp4\n",
      "episode rendered\n",
      "Environment 0: Episode 1/1 Score: -50.0 Avg Score: -50.0\n"
     ]
    },
    {
     "name": "stderr",
     "output_type": "stream",
     "text": [
      "\r"
     ]
    },
    {
     "name": "stdout",
     "output_type": "stream",
     "text": [
      "Environment 7: episode 60, score -50.0, avg_score -48.0\n",
      "Environment 0: episode 61, score -50.0, avg_score -48.0\n",
      "Environment 1: episode 61, score -50.0, avg_score -48.0\n",
      "Environment 2: episode 61, score -50.0, avg_score -48.0\n",
      "Environment 3: episode 61, score -50.0, avg_score -48.0\n",
      "Environment 4: episode 61, score -50.0, avg_score -48.0\n",
      "Environment 5: episode 61, score -50.0, avg_score -48.0\n",
      "Environment 6: episode 61, score -50.0, avg_score -48.0\n",
      "Environment 7: episode 61, score -50.0, avg_score -48.0\n",
      "Environment 0: episode 62, score 0.0, avg_score -47.5\n",
      "Environment 1: episode 62, score -50.0, avg_score -47.5\n",
      "Environment 2: episode 62, score -50.0, avg_score -48.0\n",
      "Environment 3: episode 62, score -50.0, avg_score -48.0\n",
      "Environment 4: episode 62, score -50.0, avg_score -48.0\n",
      "Environment 5: episode 62, score -50.0, avg_score -48.0\n",
      "Environment 6: episode 62, score -50.0, avg_score -48.0\n",
      "Environment 7: episode 62, score -50.0, avg_score -48.5\n",
      "Environment 0: episode 63, score -50.0, avg_score -48.5\n",
      "Environment 1: episode 63, score -50.0, avg_score -48.5\n",
      "Environment 2: episode 63, score -50.0, avg_score -48.5\n",
      "Rendering episode 500.0 during training...\n",
      "rendering episode...\n",
      "Moviepy - Building video models/her/renders/train/episode_500.0.mp4.\n",
      "Moviepy - Writing video models/her/renders/train/episode_500.0.mp4\n",
      "\n"
     ]
    },
    {
     "name": "stderr",
     "output_type": "stream",
     "text": [
      "                                                             "
     ]
    },
    {
     "name": "stdout",
     "output_type": "stream",
     "text": [
      "Moviepy - Done !\n",
      "Moviepy - video ready models/her/renders/train/episode_500.0.mp4\n",
      "episode rendered\n",
      "Environment 0: Episode 1/1 Score: -50.0 Avg Score: -50.0\n"
     ]
    },
    {
     "name": "stderr",
     "output_type": "stream",
     "text": [
      "\r"
     ]
    },
    {
     "name": "stdout",
     "output_type": "stream",
     "text": [
      "Environment 3: episode 63, score -50.0, avg_score -48.5\n",
      "Environment 4: episode 63, score 0.0, avg_score -48.0\n",
      "Environment 5: episode 63, score -50.0, avg_score -48.0\n",
      "Environment 6: episode 63, score -50.0, avg_score -48.0\n",
      "Environment 7: episode 63, score -50.0, avg_score -48.0\n",
      "Environment 0: episode 64, score -50.0, avg_score -48.0\n",
      "Environment 1: episode 64, score -50.0, avg_score -48.0\n",
      "Environment 2: episode 64, score -50.0, avg_score -48.0\n",
      "Environment 3: episode 64, score -50.0, avg_score -48.0\n",
      "Environment 4: episode 64, score -50.0, avg_score -48.0\n",
      "Environment 5: episode 64, score -50.0, avg_score -48.0\n",
      "Environment 6: episode 64, score -50.0, avg_score -48.0\n",
      "Environment 7: episode 64, score -50.0, avg_score -48.0\n",
      "Environment 0: episode 65, score -50.0, avg_score -48.0\n",
      "Environment 1: episode 65, score -50.0, avg_score -48.0\n",
      "Environment 2: episode 65, score -50.0, avg_score -48.0\n",
      "Environment 3: episode 65, score -50.0, avg_score -48.0\n",
      "Environment 4: episode 65, score -50.0, avg_score -48.0\n",
      "Environment 5: episode 65, score -50.0, avg_score -48.0\n",
      "Environment 6: episode 65, score 0.0, avg_score -47.5\n",
      "Rendering episode 520.0 during training...\n",
      "rendering episode...\n",
      "Moviepy - Building video models/her/renders/train/episode_520.0.mp4.\n",
      "Moviepy - Writing video models/her/renders/train/episode_520.0.mp4\n",
      "\n"
     ]
    },
    {
     "name": "stderr",
     "output_type": "stream",
     "text": [
      "                                                             "
     ]
    },
    {
     "name": "stdout",
     "output_type": "stream",
     "text": [
      "Moviepy - Done !\n",
      "Moviepy - video ready models/her/renders/train/episode_520.0.mp4\n",
      "episode rendered\n",
      "Environment 0: Episode 1/1 Score: -50.0 Avg Score: -50.0\n"
     ]
    },
    {
     "name": "stderr",
     "output_type": "stream",
     "text": [
      "\r"
     ]
    },
    {
     "name": "stdout",
     "output_type": "stream",
     "text": [
      "Environment 7: episode 65, score -50.0, avg_score -47.5\n",
      "Environment 0: episode 66, score -50.0, avg_score -47.5\n",
      "Environment 1: episode 66, score -50.0, avg_score -47.5\n",
      "Environment 2: episode 66, score -50.0, avg_score -47.5\n",
      "Environment 3: episode 66, score -50.0, avg_score -47.5\n",
      "Environment 4: episode 66, score -50.0, avg_score -47.5\n",
      "Environment 5: episode 66, score -50.0, avg_score -47.5\n",
      "Environment 6: episode 66, score -50.0, avg_score -47.5\n",
      "Environment 7: episode 66, score -50.0, avg_score -47.5\n",
      "Environment 0: episode 67, score -50.0, avg_score -47.5\n",
      "Environment 1: episode 67, score -50.0, avg_score -47.5\n",
      "Environment 2: episode 67, score -50.0, avg_score -47.5\n",
      "Environment 3: episode 67, score -50.0, avg_score -47.5\n",
      "Environment 4: episode 67, score -50.0, avg_score -47.5\n",
      "Environment 5: episode 67, score -50.0, avg_score -47.5\n",
      "Environment 6: episode 67, score -50.0, avg_score -47.5\n",
      "Environment 7: episode 67, score -50.0, avg_score -47.5\n",
      "Environment 0: episode 68, score -50.0, avg_score -47.5\n",
      "Environment 1: episode 68, score -50.0, avg_score -47.5\n",
      "Environment 2: episode 68, score -50.0, avg_score -47.5\n",
      "Rendering episode 540.0 during training...\n",
      "rendering episode...\n",
      "Moviepy - Building video models/her/renders/train/episode_540.0.mp4.\n",
      "Moviepy - Writing video models/her/renders/train/episode_540.0.mp4\n",
      "\n"
     ]
    },
    {
     "name": "stderr",
     "output_type": "stream",
     "text": [
      "                                                             "
     ]
    },
    {
     "name": "stdout",
     "output_type": "stream",
     "text": [
      "Moviepy - Done !\n",
      "Moviepy - video ready models/her/renders/train/episode_540.0.mp4\n",
      "episode rendered\n",
      "Environment 0: Episode 1/1 Score: 0.0 Avg Score: 0.0\n"
     ]
    },
    {
     "name": "stderr",
     "output_type": "stream",
     "text": [
      "\r"
     ]
    },
    {
     "name": "stdout",
     "output_type": "stream",
     "text": [
      "Environment 3: episode 68, score -50.0, avg_score -47.5\n",
      "Environment 4: episode 68, score -50.0, avg_score -47.5\n",
      "Environment 5: episode 68, score -50.0, avg_score -47.5\n",
      "Environment 6: episode 68, score -50.0, avg_score -47.5\n",
      "Environment 7: episode 68, score -50.0, avg_score -47.5\n",
      "Environment 0: episode 69, score -50.0, avg_score -47.5\n",
      "Environment 1: episode 69, score -50.0, avg_score -47.5\n",
      "Environment 2: episode 69, score -50.0, avg_score -47.5\n",
      "Environment 3: episode 69, score -50.0, avg_score -47.5\n",
      "Environment 4: episode 69, score -50.0, avg_score -47.5\n",
      "Environment 5: episode 69, score -50.0, avg_score -47.5\n",
      "Environment 6: episode 69, score -50.0, avg_score -47.5\n",
      "Environment 7: episode 69, score -50.0, avg_score -47.5\n",
      "Environment 0: episode 70, score -50.0, avg_score -47.5\n",
      "Environment 1: episode 70, score -50.0, avg_score -47.5\n",
      "Environment 2: episode 70, score -50.0, avg_score -48.0\n",
      "Environment 3: episode 70, score -50.0, avg_score -48.0\n",
      "Environment 4: episode 70, score -50.0, avg_score -48.0\n",
      "Environment 5: episode 70, score -50.0, avg_score -48.0\n",
      "Environment 6: episode 70, score -50.0, avg_score -48.0\n",
      "Rendering episode 560.0 during training...\n",
      "rendering episode...\n",
      "Moviepy - Building video models/her/renders/train/episode_560.0.mp4.\n",
      "Moviepy - Writing video models/her/renders/train/episode_560.0.mp4\n",
      "\n"
     ]
    },
    {
     "name": "stderr",
     "output_type": "stream",
     "text": [
      "                                                             "
     ]
    },
    {
     "name": "stdout",
     "output_type": "stream",
     "text": [
      "Moviepy - Done !\n",
      "Moviepy - video ready models/her/renders/train/episode_560.0.mp4\n",
      "episode rendered\n",
      "Environment 0: Episode 1/1 Score: -50.0 Avg Score: -50.0\n"
     ]
    },
    {
     "name": "stderr",
     "output_type": "stream",
     "text": [
      "\r"
     ]
    },
    {
     "name": "stdout",
     "output_type": "stream",
     "text": [
      "Environment 7: episode 70, score -50.0, avg_score -48.0\n",
      "Environment 0: episode 71, score -50.0, avg_score -48.0\n",
      "Environment 1: episode 71, score -50.0, avg_score -48.0\n",
      "Environment 2: episode 71, score -50.0, avg_score -48.0\n",
      "Environment 3: episode 71, score -50.0, avg_score -48.0\n",
      "Environment 4: episode 71, score -50.0, avg_score -48.0\n",
      "Environment 5: episode 71, score 0.0, avg_score -47.5\n",
      "Environment 6: episode 71, score -50.0, avg_score -47.5\n",
      "Environment 7: episode 71, score -50.0, avg_score -47.5\n",
      "Environment 0: episode 72, score -50.0, avg_score -47.5\n",
      "Environment 1: episode 72, score -50.0, avg_score -47.5\n",
      "Environment 2: episode 72, score -50.0, avg_score -47.5\n",
      "Environment 3: episode 72, score -50.0, avg_score -47.5\n",
      "Environment 4: episode 72, score -50.0, avg_score -47.5\n",
      "Environment 5: episode 72, score -50.0, avg_score -47.5\n",
      "Environment 6: episode 72, score -50.0, avg_score -47.5\n",
      "Environment 7: episode 72, score -50.0, avg_score -48.0\n",
      "Environment 0: episode 73, score -50.0, avg_score -48.0\n",
      "Environment 1: episode 73, score -50.0, avg_score -48.0\n",
      "Environment 2: episode 73, score -50.0, avg_score -48.0\n",
      "Rendering episode 580.0 during training...\n",
      "rendering episode...\n",
      "Moviepy - Building video models/her/renders/train/episode_580.0.mp4.\n",
      "Moviepy - Writing video models/her/renders/train/episode_580.0.mp4\n",
      "\n"
     ]
    },
    {
     "name": "stderr",
     "output_type": "stream",
     "text": [
      "                                                             "
     ]
    },
    {
     "name": "stdout",
     "output_type": "stream",
     "text": [
      "Moviepy - Done !\n",
      "Moviepy - video ready models/her/renders/train/episode_580.0.mp4\n",
      "episode rendered\n",
      "Environment 0: Episode 1/1 Score: -50.0 Avg Score: -50.0\n"
     ]
    },
    {
     "name": "stderr",
     "output_type": "stream",
     "text": [
      "\r"
     ]
    },
    {
     "name": "stdout",
     "output_type": "stream",
     "text": [
      "Environment 3: episode 73, score -50.0, avg_score -48.0\n",
      "Environment 4: episode 73, score -50.0, avg_score -48.0\n",
      "Environment 5: episode 73, score -50.0, avg_score -48.0\n",
      "Environment 6: episode 73, score -50.0, avg_score -48.0\n",
      "Environment 7: episode 73, score 0.0, avg_score -47.5\n",
      "Environment 0: episode 74, score -50.0, avg_score -47.5\n",
      "Environment 1: episode 74, score -50.0, avg_score -47.5\n",
      "Environment 2: episode 74, score -50.0, avg_score -47.5\n",
      "Environment 3: episode 74, score -50.0, avg_score -47.5\n",
      "Environment 4: episode 74, score -50.0, avg_score -48.0\n",
      "Environment 5: episode 74, score -50.0, avg_score -48.0\n",
      "Environment 6: episode 74, score -50.0, avg_score -48.0\n",
      "Environment 7: episode 74, score -50.0, avg_score -48.0\n",
      "Environment 0: episode 75, score -50.0, avg_score -48.0\n",
      "Environment 1: episode 75, score -50.0, avg_score -48.0\n",
      "Environment 2: episode 75, score -50.0, avg_score -48.0\n",
      "Environment 3: episode 75, score -50.0, avg_score -48.0\n",
      "Environment 4: episode 75, score -50.0, avg_score -48.0\n",
      "Environment 5: episode 75, score -50.0, avg_score -48.0\n",
      "Environment 6: episode 75, score -50.0, avg_score -48.0\n",
      "Rendering episode 600.0 during training...\n",
      "rendering episode...\n",
      "Moviepy - Building video models/her/renders/train/episode_600.0.mp4.\n",
      "Moviepy - Writing video models/her/renders/train/episode_600.0.mp4\n",
      "\n"
     ]
    },
    {
     "name": "stderr",
     "output_type": "stream",
     "text": [
      "                                                             \r"
     ]
    },
    {
     "name": "stdout",
     "output_type": "stream",
     "text": [
      "Moviepy - Done !\n",
      "Moviepy - video ready models/her/renders/train/episode_600.0.mp4\n",
      "episode rendered\n",
      "Environment 0: Episode 1/1 Score: -50.0 Avg Score: -50.0\n",
      "Environment 7: episode 75, score -50.0, avg_score -48.0\n",
      "Environment 0: episode 76, score -50.0, avg_score -48.5\n",
      "Environment 1: episode 76, score 0.0, avg_score -48.0\n",
      "Environment 2: episode 76, score -50.0, avg_score -48.0\n",
      "Environment 3: episode 76, score -50.0, avg_score -48.0\n",
      "Environment 4: episode 76, score -50.0, avg_score -48.0\n",
      "Environment 5: episode 76, score -50.0, avg_score -48.0\n",
      "Environment 6: episode 76, score -50.0, avg_score -48.0\n",
      "Environment 7: episode 76, score -50.0, avg_score -48.0\n",
      "Environment 0: episode 77, score -50.0, avg_score -48.0\n",
      "Environment 1: episode 77, score -50.0, avg_score -48.0\n",
      "Environment 2: episode 77, score -50.0, avg_score -48.0\n",
      "Environment 3: episode 77, score -50.0, avg_score -48.0\n",
      "Environment 4: episode 77, score -50.0, avg_score -48.0\n",
      "Environment 5: episode 77, score -50.0, avg_score -48.0\n",
      "Environment 6: episode 77, score -50.0, avg_score -48.0\n",
      "Environment 7: episode 77, score -50.0, avg_score -48.0\n",
      "Environment 0: episode 78, score -50.0, avg_score -48.0\n",
      "Environment 1: episode 78, score -50.0, avg_score -48.0\n",
      "Environment 2: episode 78, score -50.0, avg_score -48.5\n",
      "Rendering episode 620.0 during training...\n",
      "rendering episode...\n",
      "Moviepy - Building video models/her/renders/train/episode_620.0.mp4.\n",
      "Moviepy - Writing video models/her/renders/train/episode_620.0.mp4\n",
      "\n"
     ]
    },
    {
     "name": "stderr",
     "output_type": "stream",
     "text": [
      "                                                             \r"
     ]
    },
    {
     "name": "stdout",
     "output_type": "stream",
     "text": [
      "Moviepy - Done !\n",
      "Moviepy - video ready models/her/renders/train/episode_620.0.mp4\n",
      "episode rendered\n",
      "Environment 0: Episode 1/1 Score: -50.0 Avg Score: -50.0\n",
      "Environment 3: episode 78, score -50.0, avg_score -48.5\n",
      "Environment 4: episode 78, score -50.0, avg_score -48.5\n",
      "Environment 5: episode 78, score -50.0, avg_score -48.5\n",
      "Environment 6: episode 78, score -50.0, avg_score -48.5\n",
      "Environment 7: episode 78, score -50.0, avg_score -48.5\n",
      "Environment 0: episode 79, score -50.0, avg_score -48.5\n",
      "Environment 1: episode 79, score -50.0, avg_score -48.5\n",
      "Environment 2: episode 79, score -50.0, avg_score -48.5\n",
      "Environment 3: episode 79, score -50.0, avg_score -48.5\n",
      "Environment 4: episode 79, score -50.0, avg_score -48.5\n",
      "Environment 5: episode 79, score -50.0, avg_score -48.5\n",
      "Environment 6: episode 79, score -50.0, avg_score -48.5\n",
      "Environment 7: episode 79, score -50.0, avg_score -48.5\n",
      "Environment 0: episode 80, score -50.0, avg_score -48.5\n",
      "Environment 1: episode 80, score -50.0, avg_score -48.5\n",
      "Environment 2: episode 80, score -50.0, avg_score -48.5\n",
      "Environment 3: episode 80, score -50.0, avg_score -48.5\n",
      "Environment 4: episode 80, score -50.0, avg_score -48.5\n",
      "Environment 5: episode 80, score -50.0, avg_score -48.5\n",
      "Environment 6: episode 80, score -50.0, avg_score -48.5\n",
      "Rendering episode 640.0 during training...\n",
      "rendering episode...\n",
      "Moviepy - Building video models/her/renders/train/episode_640.0.mp4.\n",
      "Moviepy - Writing video models/her/renders/train/episode_640.0.mp4\n",
      "\n"
     ]
    },
    {
     "name": "stderr",
     "output_type": "stream",
     "text": [
      "                                                             "
     ]
    },
    {
     "name": "stdout",
     "output_type": "stream",
     "text": [
      "Moviepy - Done !\n",
      "Moviepy - video ready models/her/renders/train/episode_640.0.mp4\n",
      "episode rendered\n",
      "Environment 0: Episode 1/1 Score: -50.0 Avg Score: -50.0\n"
     ]
    },
    {
     "name": "stderr",
     "output_type": "stream",
     "text": [
      "\r"
     ]
    },
    {
     "name": "stdout",
     "output_type": "stream",
     "text": [
      "Environment 7: episode 80, score -50.0, avg_score -48.5\n",
      "Environment 0: episode 81, score -50.0, avg_score -48.5\n",
      "Environment 1: episode 81, score -50.0, avg_score -48.5\n",
      "Environment 2: episode 81, score -50.0, avg_score -48.5\n",
      "Environment 3: episode 81, score -50.0, avg_score -48.5\n",
      "Environment 4: episode 81, score -50.0, avg_score -48.5\n",
      "Environment 5: episode 81, score -50.0, avg_score -48.5\n",
      "Environment 6: episode 81, score -50.0, avg_score -48.5\n",
      "Environment 7: episode 81, score -50.0, avg_score -48.5\n",
      "Environment 0: episode 82, score -50.0, avg_score -48.5\n",
      "Environment 1: episode 82, score -50.0, avg_score -48.5\n",
      "Environment 2: episode 82, score -50.0, avg_score -48.5\n",
      "Environment 3: episode 82, score -50.0, avg_score -48.5\n",
      "Environment 4: episode 82, score -50.0, avg_score -48.5\n",
      "Environment 5: episode 82, score -50.0, avg_score -48.5\n",
      "Environment 6: episode 82, score -50.0, avg_score -48.5\n",
      "Environment 7: episode 82, score -50.0, avg_score -48.5\n",
      "Environment 0: episode 83, score -50.0, avg_score -48.5\n",
      "Environment 1: episode 83, score -50.0, avg_score -48.5\n",
      "Environment 2: episode 83, score -50.0, avg_score -48.5\n",
      "Rendering episode 660.0 during training...\n",
      "rendering episode...\n",
      "Moviepy - Building video models/her/renders/train/episode_660.0.mp4.\n",
      "Moviepy - Writing video models/her/renders/train/episode_660.0.mp4\n",
      "\n"
     ]
    },
    {
     "name": "stderr",
     "output_type": "stream",
     "text": [
      "                                                             \r"
     ]
    },
    {
     "name": "stdout",
     "output_type": "stream",
     "text": [
      "Moviepy - Done !\n",
      "Moviepy - video ready models/her/renders/train/episode_660.0.mp4\n",
      "episode rendered\n",
      "Environment 0: Episode 1/1 Score: -50.0 Avg Score: -50.0\n",
      "Environment 3: episode 83, score -50.0, avg_score -48.5\n",
      "Environment 4: episode 83, score -50.0, avg_score -48.5\n",
      "Environment 5: episode 83, score -50.0, avg_score -48.5\n",
      "Environment 6: episode 83, score -50.0, avg_score -48.5\n",
      "Environment 7: episode 83, score -50.0, avg_score -48.5\n",
      "Environment 0: episode 84, score -50.0, avg_score -48.5\n",
      "Environment 1: episode 84, score -50.0, avg_score -49.0\n",
      "Environment 2: episode 84, score -50.0, avg_score -49.0\n",
      "Environment 3: episode 84, score -50.0, avg_score -49.0\n",
      "Environment 4: episode 84, score -50.0, avg_score -49.0\n",
      "Environment 5: episode 84, score -50.0, avg_score -49.0\n",
      "Environment 6: episode 84, score -50.0, avg_score -49.0\n",
      "Environment 7: episode 84, score -50.0, avg_score -49.0\n",
      "Environment 0: episode 85, score -50.0, avg_score -49.0\n",
      "Environment 1: episode 85, score -50.0, avg_score -49.0\n",
      "Environment 2: episode 85, score -50.0, avg_score -49.0\n",
      "Environment 3: episode 85, score -50.0, avg_score -49.0\n",
      "Environment 4: episode 85, score -50.0, avg_score -49.0\n",
      "Environment 5: episode 85, score -50.0, avg_score -49.0\n",
      "Environment 6: episode 85, score -50.0, avg_score -49.0\n",
      "Rendering episode 680.0 during training...\n",
      "rendering episode...\n",
      "Moviepy - Building video models/her/renders/train/episode_680.0.mp4.\n",
      "Moviepy - Writing video models/her/renders/train/episode_680.0.mp4\n",
      "\n"
     ]
    },
    {
     "name": "stderr",
     "output_type": "stream",
     "text": [
      "                                                             "
     ]
    },
    {
     "name": "stdout",
     "output_type": "stream",
     "text": [
      "Moviepy - Done !\n",
      "Moviepy - video ready models/her/renders/train/episode_680.0.mp4\n",
      "episode rendered\n",
      "Environment 0: Episode 1/1 Score: -50.0 Avg Score: -50.0\n"
     ]
    },
    {
     "name": "stderr",
     "output_type": "stream",
     "text": [
      "\r"
     ]
    },
    {
     "name": "stdout",
     "output_type": "stream",
     "text": [
      "Environment 7: episode 85, score -50.0, avg_score -49.0\n",
      "Environment 0: episode 86, score -50.0, avg_score -49.0\n",
      "Environment 1: episode 86, score -50.0, avg_score -49.0\n",
      "Environment 2: episode 86, score -50.0, avg_score -49.0\n",
      "Environment 3: episode 86, score -50.0, avg_score -49.5\n",
      "Environment 4: episode 86, score 0.0, avg_score -49.0\n",
      "Environment 5: episode 86, score -50.0, avg_score -49.0\n",
      "Environment 6: episode 86, score -50.0, avg_score -49.0\n",
      "Environment 7: episode 86, score 0.0, avg_score -48.5\n",
      "Environment 0: episode 87, score -50.0, avg_score -48.5\n",
      "Environment 1: episode 87, score -50.0, avg_score -48.5\n",
      "Environment 2: episode 87, score -50.0, avg_score -48.5\n",
      "Environment 3: episode 87, score -50.0, avg_score -48.5\n",
      "Environment 4: episode 87, score -50.0, avg_score -48.5\n",
      "Environment 5: episode 87, score -50.0, avg_score -48.5\n",
      "Environment 6: episode 87, score -50.0, avg_score -48.5\n",
      "Environment 7: episode 87, score -50.0, avg_score -48.5\n",
      "Environment 0: episode 88, score -50.0, avg_score -48.5\n",
      "Environment 1: episode 88, score -50.0, avg_score -48.5\n",
      "Environment 2: episode 88, score -50.0, avg_score -48.5\n",
      "Rendering episode 700.0 during training...\n",
      "rendering episode...\n",
      "Moviepy - Building video models/her/renders/train/episode_700.0.mp4.\n",
      "Moviepy - Writing video models/her/renders/train/episode_700.0.mp4\n",
      "\n"
     ]
    },
    {
     "name": "stderr",
     "output_type": "stream",
     "text": [
      "                                                             "
     ]
    },
    {
     "name": "stdout",
     "output_type": "stream",
     "text": [
      "Moviepy - Done !\n",
      "Moviepy - video ready models/her/renders/train/episode_700.0.mp4\n",
      "episode rendered\n",
      "Environment 0: Episode 1/1 Score: -50.0 Avg Score: -50.0\n"
     ]
    },
    {
     "name": "stderr",
     "output_type": "stream",
     "text": [
      "\r"
     ]
    },
    {
     "name": "stdout",
     "output_type": "stream",
     "text": [
      "Environment 3: episode 88, score -50.0, avg_score -48.5\n",
      "Environment 4: episode 88, score -50.0, avg_score -48.5\n",
      "Environment 5: episode 88, score 0.0, avg_score -48.5\n",
      "Environment 6: episode 88, score -50.0, avg_score -48.5\n",
      "Environment 7: episode 88, score -50.0, avg_score -48.5\n",
      "Environment 0: episode 89, score -50.0, avg_score -48.5\n",
      "Environment 1: episode 89, score -50.0, avg_score -48.5\n",
      "Environment 2: episode 89, score -50.0, avg_score -48.5\n",
      "Environment 3: episode 89, score -50.0, avg_score -48.5\n",
      "Environment 4: episode 89, score -50.0, avg_score -48.5\n",
      "Environment 5: episode 89, score -50.0, avg_score -48.5\n",
      "Environment 6: episode 89, score -50.0, avg_score -48.5\n",
      "Environment 7: episode 89, score -50.0, avg_score -48.5\n",
      "Environment 0: episode 90, score -50.0, avg_score -48.5\n",
      "Environment 1: episode 90, score -50.0, avg_score -48.5\n",
      "Environment 2: episode 90, score -50.0, avg_score -48.5\n",
      "Environment 3: episode 90, score -50.0, avg_score -48.5\n",
      "Environment 4: episode 90, score -50.0, avg_score -48.5\n",
      "Environment 5: episode 90, score -50.0, avg_score -48.5\n",
      "Environment 6: episode 90, score -50.0, avg_score -48.5\n",
      "Rendering episode 720.0 during training...\n",
      "rendering episode...\n",
      "Moviepy - Building video models/her/renders/train/episode_720.0.mp4.\n",
      "Moviepy - Writing video models/her/renders/train/episode_720.0.mp4\n",
      "\n"
     ]
    },
    {
     "name": "stderr",
     "output_type": "stream",
     "text": [
      "                                                             "
     ]
    },
    {
     "name": "stdout",
     "output_type": "stream",
     "text": [
      "Moviepy - Done !\n",
      "Moviepy - video ready models/her/renders/train/episode_720.0.mp4\n",
      "episode rendered\n",
      "Environment 0: Episode 1/1 Score: -50.0 Avg Score: -50.0\n"
     ]
    },
    {
     "name": "stderr",
     "output_type": "stream",
     "text": [
      "\r"
     ]
    },
    {
     "name": "stdout",
     "output_type": "stream",
     "text": [
      "Environment 7: episode 90, score -50.0, avg_score -48.5\n",
      "Environment 0: episode 91, score -50.0, avg_score -48.5\n",
      "Environment 1: episode 91, score -50.0, avg_score -48.5\n",
      "Environment 2: episode 91, score -50.0, avg_score -48.5\n",
      "Environment 3: episode 91, score -50.0, avg_score -48.5\n",
      "Environment 4: episode 91, score -50.0, avg_score -48.5\n",
      "Environment 5: episode 91, score -50.0, avg_score -48.5\n",
      "Environment 6: episode 91, score -50.0, avg_score -48.5\n",
      "Environment 7: episode 91, score -50.0, avg_score -48.5\n",
      "Environment 0: episode 92, score -50.0, avg_score -48.5\n",
      "Environment 1: episode 92, score -50.0, avg_score -48.5\n",
      "Environment 2: episode 92, score -50.0, avg_score -48.5\n",
      "Environment 3: episode 92, score -50.0, avg_score -48.5\n",
      "Environment 4: episode 92, score -50.0, avg_score -48.5\n",
      "Environment 5: episode 92, score -50.0, avg_score -48.5\n",
      "Environment 6: episode 92, score -50.0, avg_score -48.5\n",
      "Environment 7: episode 92, score -50.0, avg_score -48.5\n",
      "Environment 0: episode 93, score -50.0, avg_score -48.5\n",
      "Environment 1: episode 93, score -50.0, avg_score -48.5\n",
      "Environment 2: episode 93, score -50.0, avg_score -48.5\n",
      "Rendering episode 740.0 during training...\n",
      "rendering episode...\n",
      "Moviepy - Building video models/her/renders/train/episode_740.0.mp4.\n",
      "Moviepy - Writing video models/her/renders/train/episode_740.0.mp4\n",
      "\n"
     ]
    },
    {
     "name": "stderr",
     "output_type": "stream",
     "text": [
      "                                                   "
     ]
    },
    {
     "name": "stdout",
     "output_type": "stream",
     "text": [
      "Moviepy - Done !\n",
      "Moviepy - video ready models/her/renders/train/episode_740.0.mp4\n",
      "episode rendered\n",
      "Environment 0: Episode 1/1 Score: -50.0 Avg Score: -50.0\n"
     ]
    },
    {
     "name": "stderr",
     "output_type": "stream",
     "text": [
      "\r"
     ]
    },
    {
     "name": "stdout",
     "output_type": "stream",
     "text": [
      "Environment 3: episode 93, score -50.0, avg_score -48.5\n",
      "Environment 4: episode 93, score -50.0, avg_score -48.5\n",
      "Environment 5: episode 93, score -50.0, avg_score -48.5\n",
      "Environment 6: episode 93, score -50.0, avg_score -48.5\n",
      "Environment 7: episode 93, score -50.0, avg_score -48.5\n",
      "Environment 0: episode 94, score -50.0, avg_score -48.5\n",
      "Environment 1: episode 94, score -50.0, avg_score -48.5\n",
      "Environment 2: episode 94, score -50.0, avg_score -48.5\n",
      "Environment 3: episode 94, score -50.0, avg_score -48.5\n",
      "Environment 4: episode 94, score -50.0, avg_score -48.5\n",
      "Environment 5: episode 94, score -50.0, avg_score -48.5\n",
      "Environment 6: episode 94, score -50.0, avg_score -48.5\n",
      "Environment 7: episode 94, score -50.0, avg_score -48.5\n",
      "Environment 0: episode 95, score -50.0, avg_score -48.5\n",
      "Environment 1: episode 95, score -50.0, avg_score -48.5\n",
      "Environment 2: episode 95, score -50.0, avg_score -48.5\n",
      "Environment 3: episode 95, score -50.0, avg_score -48.5\n",
      "Environment 4: episode 95, score -50.0, avg_score -48.5\n",
      "Environment 5: episode 95, score -50.0, avg_score -48.5\n",
      "Environment 6: episode 95, score -50.0, avg_score -48.5\n",
      "Rendering episode 760.0 during training...\n",
      "rendering episode...\n",
      "Moviepy - Building video models/her/renders/train/episode_760.0.mp4.\n",
      "Moviepy - Writing video models/her/renders/train/episode_760.0.mp4\n",
      "\n"
     ]
    },
    {
     "name": "stderr",
     "output_type": "stream",
     "text": [
      "                                                   "
     ]
    },
    {
     "name": "stdout",
     "output_type": "stream",
     "text": [
      "Moviepy - Done !\n",
      "Moviepy - video ready models/her/renders/train/episode_760.0.mp4\n",
      "episode rendered\n",
      "Environment 0: Episode 1/1 Score: -50.0 Avg Score: -50.0\n"
     ]
    },
    {
     "name": "stderr",
     "output_type": "stream",
     "text": [
      "\r"
     ]
    },
    {
     "name": "stdout",
     "output_type": "stream",
     "text": [
      "Environment 7: episode 95, score -50.0, avg_score -48.5\n",
      "Environment 0: episode 96, score -50.0, avg_score -48.5\n",
      "Environment 1: episode 96, score -50.0, avg_score -48.5\n",
      "Environment 2: episode 96, score -50.0, avg_score -48.5\n",
      "Environment 3: episode 96, score -50.0, avg_score -48.5\n",
      "Environment 4: episode 96, score -50.0, avg_score -48.5\n",
      "Environment 5: episode 96, score -50.0, avg_score -48.5\n",
      "Environment 6: episode 96, score -50.0, avg_score -48.5\n",
      "Environment 7: episode 96, score -50.0, avg_score -48.5\n",
      "Environment 0: episode 97, score -50.0, avg_score -48.5\n",
      "Environment 1: episode 97, score -50.0, avg_score -48.5\n",
      "Environment 2: episode 97, score -50.0, avg_score -48.5\n",
      "Environment 3: episode 97, score -50.0, avg_score -48.5\n",
      "Environment 4: episode 97, score -50.0, avg_score -48.5\n",
      "Environment 5: episode 97, score -50.0, avg_score -48.5\n",
      "Environment 6: episode 97, score -50.0, avg_score -48.5\n",
      "Environment 7: episode 97, score -50.0, avg_score -48.5\n",
      "Environment 0: episode 98, score -50.0, avg_score -48.5\n",
      "Environment 1: episode 98, score -50.0, avg_score -48.5\n",
      "Environment 2: episode 98, score -50.0, avg_score -48.5\n",
      "Rendering episode 780.0 during training...\n",
      "rendering episode...\n",
      "Moviepy - Building video models/her/renders/train/episode_780.0.mp4.\n",
      "Moviepy - Writing video models/her/renders/train/episode_780.0.mp4\n",
      "\n"
     ]
    },
    {
     "name": "stderr",
     "output_type": "stream",
     "text": [
      "                                                             "
     ]
    },
    {
     "name": "stdout",
     "output_type": "stream",
     "text": [
      "Moviepy - Done !\n",
      "Moviepy - video ready models/her/renders/train/episode_780.0.mp4\n",
      "episode rendered\n",
      "Environment 0: Episode 1/1 Score: -50.0 Avg Score: -50.0\n"
     ]
    },
    {
     "name": "stderr",
     "output_type": "stream",
     "text": [
      "\r"
     ]
    },
    {
     "name": "stdout",
     "output_type": "stream",
     "text": [
      "Environment 3: episode 98, score -50.0, avg_score -48.5\n",
      "Environment 4: episode 98, score -50.0, avg_score -48.5\n",
      "Environment 5: episode 98, score -50.0, avg_score -48.5\n",
      "Environment 6: episode 98, score -50.0, avg_score -48.5\n",
      "Environment 7: episode 98, score -50.0, avg_score -48.5\n",
      "Environment 0: episode 99, score 0.0, avg_score -48.5\n",
      "Environment 1: episode 99, score -50.0, avg_score -48.5\n",
      "Environment 2: episode 99, score -50.0, avg_score -48.5\n",
      "Environment 3: episode 99, score -50.0, avg_score -49.0\n",
      "Environment 4: episode 99, score -50.0, avg_score -49.0\n",
      "Environment 5: episode 99, score -50.0, avg_score -49.0\n",
      "Environment 6: episode 99, score -50.0, avg_score -49.0\n",
      "Environment 7: episode 99, score -50.0, avg_score -49.0\n",
      "Environment 0: episode 100, score -50.0, avg_score -49.0\n",
      "Environment 1: episode 100, score -50.0, avg_score -49.0\n",
      "Environment 2: episode 100, score -50.0, avg_score -49.0\n",
      "Environment 3: episode 100, score -50.0, avg_score -49.0\n",
      "Environment 4: episode 100, score -50.0, avg_score -49.0\n",
      "Environment 5: episode 100, score -50.0, avg_score -49.0\n",
      "Environment 6: episode 100, score -50.0, avg_score -49.0\n",
      "Rendering episode 800.0 during training...\n",
      "rendering episode...\n",
      "Moviepy - Building video models/her/renders/train/episode_800.0.mp4.\n",
      "Moviepy - Writing video models/her/renders/train/episode_800.0.mp4\n",
      "\n"
     ]
    },
    {
     "name": "stderr",
     "output_type": "stream",
     "text": [
      "                                                             "
     ]
    },
    {
     "name": "stdout",
     "output_type": "stream",
     "text": [
      "Moviepy - Done !\n",
      "Moviepy - video ready models/her/renders/train/episode_800.0.mp4\n",
      "episode rendered\n",
      "Environment 0: Episode 1/1 Score: -50.0 Avg Score: -50.0\n"
     ]
    },
    {
     "name": "stderr",
     "output_type": "stream",
     "text": [
      "\r"
     ]
    },
    {
     "name": "stdout",
     "output_type": "stream",
     "text": [
      "Environment 7: episode 100, score -50.0, avg_score -49.0\n",
      "Environment 0: episode 101, score -50.0, avg_score -49.0\n",
      "Environment 1: episode 101, score -50.0, avg_score -49.5\n",
      "Environment 2: episode 101, score -50.0, avg_score -49.5\n",
      "Environment 3: episode 101, score -50.0, avg_score -49.5\n",
      "Environment 4: episode 101, score -50.0, avg_score -49.5\n",
      "Environment 5: episode 101, score -50.0, avg_score -49.5\n",
      "Environment 6: episode 101, score -50.0, avg_score -49.5\n",
      "Environment 7: episode 101, score -50.0, avg_score -49.5\n",
      "Environment 0: episode 102, score -50.0, avg_score -49.5\n",
      "Environment 1: episode 102, score -50.0, avg_score -49.5\n",
      "Environment 2: episode 102, score -50.0, avg_score -49.5\n",
      "Environment 3: episode 102, score -50.0, avg_score -49.5\n",
      "Environment 4: episode 102, score -50.0, avg_score -49.5\n",
      "Environment 5: episode 102, score -50.0, avg_score -49.5\n",
      "Environment 6: episode 102, score -50.0, avg_score -49.5\n",
      "Environment 7: episode 102, score -50.0, avg_score -49.5\n",
      "Environment 0: episode 103, score -50.0, avg_score -49.5\n",
      "Environment 1: episode 103, score -50.0, avg_score -49.5\n",
      "Environment 2: episode 103, score -50.0, avg_score -49.5\n",
      "Rendering episode 820.0 during training...\n",
      "rendering episode...\n",
      "Moviepy - Building video models/her/renders/train/episode_820.0.mp4.\n",
      "Moviepy - Writing video models/her/renders/train/episode_820.0.mp4\n",
      "\n"
     ]
    },
    {
     "name": "stderr",
     "output_type": "stream",
     "text": [
      "                                                             "
     ]
    },
    {
     "name": "stdout",
     "output_type": "stream",
     "text": [
      "Moviepy - Done !\n",
      "Moviepy - video ready models/her/renders/train/episode_820.0.mp4\n",
      "episode rendered\n",
      "Environment 0: Episode 1/1 Score: -50.0 Avg Score: -50.0\n"
     ]
    },
    {
     "name": "stderr",
     "output_type": "stream",
     "text": [
      "\r"
     ]
    },
    {
     "name": "stdout",
     "output_type": "stream",
     "text": [
      "Environment 3: episode 103, score -50.0, avg_score -49.5\n",
      "Environment 4: episode 103, score -50.0, avg_score -49.5\n",
      "Environment 5: episode 103, score -50.0, avg_score -49.5\n",
      "Environment 6: episode 103, score -50.0, avg_score -49.5\n",
      "Environment 7: episode 103, score -50.0, avg_score -49.5\n",
      "Environment 0: episode 104, score -50.0, avg_score -49.5\n",
      "Environment 1: episode 104, score -50.0, avg_score -49.5\n",
      "Environment 2: episode 104, score -50.0, avg_score -49.5\n",
      "Environment 3: episode 104, score -50.0, avg_score -49.5\n",
      "Environment 4: episode 104, score -50.0, avg_score -49.5\n",
      "Environment 5: episode 104, score -50.0, avg_score -49.5\n",
      "Environment 6: episode 104, score -50.0, avg_score -49.5\n",
      "Environment 7: episode 104, score -50.0, avg_score -49.5\n",
      "Environment 0: episode 105, score -50.0, avg_score -49.5\n",
      "Environment 1: episode 105, score -50.0, avg_score -49.5\n",
      "Environment 2: episode 105, score -50.0, avg_score -49.5\n",
      "Environment 3: episode 105, score -50.0, avg_score -49.5\n",
      "Environment 4: episode 105, score 0.0, avg_score -49.0\n",
      "Environment 5: episode 105, score -50.0, avg_score -49.0\n",
      "Environment 6: episode 105, score -50.0, avg_score -49.0\n",
      "Rendering episode 840.0 during training...\n",
      "rendering episode...\n",
      "Moviepy - Building video models/her/renders/train/episode_840.0.mp4.\n",
      "Moviepy - Writing video models/her/renders/train/episode_840.0.mp4\n",
      "\n"
     ]
    },
    {
     "name": "stderr",
     "output_type": "stream",
     "text": [
      "                                                             "
     ]
    },
    {
     "name": "stdout",
     "output_type": "stream",
     "text": [
      "Moviepy - Done !\n",
      "Moviepy - video ready models/her/renders/train/episode_840.0.mp4\n",
      "episode rendered\n",
      "Environment 0: Episode 1/1 Score: -50.0 Avg Score: -50.0\n"
     ]
    },
    {
     "name": "stderr",
     "output_type": "stream",
     "text": [
      "\r"
     ]
    },
    {
     "name": "stdout",
     "output_type": "stream",
     "text": [
      "Environment 7: episode 105, score -50.0, avg_score -49.0\n",
      "Environment 0: episode 106, score -50.0, avg_score -49.0\n",
      "Environment 1: episode 106, score -50.0, avg_score -49.0\n",
      "Environment 2: episode 106, score -50.0, avg_score -49.0\n",
      "Environment 3: episode 106, score -50.0, avg_score -49.0\n",
      "Environment 4: episode 106, score -50.0, avg_score -49.0\n",
      "Environment 5: episode 106, score -50.0, avg_score -49.0\n",
      "Environment 6: episode 106, score -50.0, avg_score -49.0\n",
      "Environment 7: episode 106, score 0.0, avg_score -48.5\n",
      "Environment 0: episode 107, score -50.0, avg_score -48.5\n",
      "Environment 1: episode 107, score -50.0, avg_score -48.5\n",
      "Environment 2: episode 107, score -50.0, avg_score -48.5\n",
      "Environment 3: episode 107, score 0.0, avg_score -48.0\n",
      "Environment 4: episode 107, score -50.0, avg_score -48.0\n",
      "Environment 5: episode 107, score -50.0, avg_score -48.0\n",
      "Environment 6: episode 107, score -50.0, avg_score -48.0\n",
      "Environment 7: episode 107, score -50.0, avg_score -48.0\n",
      "Environment 0: episode 108, score -50.0, avg_score -48.0\n",
      "Environment 1: episode 108, score -50.0, avg_score -48.0\n",
      "Environment 2: episode 108, score -50.0, avg_score -48.0\n",
      "Rendering episode 860.0 during training...\n",
      "rendering episode...\n",
      "Moviepy - Building video models/her/renders/train/episode_860.0.mp4.\n",
      "Moviepy - Writing video models/her/renders/train/episode_860.0.mp4\n",
      "\n"
     ]
    },
    {
     "name": "stderr",
     "output_type": "stream",
     "text": [
      "                                                   "
     ]
    },
    {
     "name": "stdout",
     "output_type": "stream",
     "text": [
      "Moviepy - Done !\n",
      "Moviepy - video ready models/her/renders/train/episode_860.0.mp4\n",
      "episode rendered\n",
      "Environment 0: Episode 1/1 Score: -50.0 Avg Score: -50.0\n"
     ]
    },
    {
     "name": "stderr",
     "output_type": "stream",
     "text": [
      "\r"
     ]
    },
    {
     "name": "stdout",
     "output_type": "stream",
     "text": [
      "Environment 3: episode 108, score -50.0, avg_score -48.0\n",
      "Environment 4: episode 108, score -50.0, avg_score -48.0\n",
      "Environment 5: episode 108, score -50.0, avg_score -48.0\n",
      "Environment 6: episode 108, score -50.0, avg_score -48.0\n",
      "Environment 7: episode 108, score -50.0, avg_score -48.0\n",
      "Environment 0: episode 109, score -50.0, avg_score -48.0\n",
      "Environment 1: episode 109, score -50.0, avg_score -48.0\n",
      "Environment 2: episode 109, score -50.0, avg_score -48.0\n",
      "Environment 3: episode 109, score -50.0, avg_score -48.0\n",
      "Environment 4: episode 109, score -50.0, avg_score -48.0\n",
      "Environment 5: episode 109, score -50.0, avg_score -48.0\n",
      "Environment 6: episode 109, score -50.0, avg_score -48.0\n",
      "Environment 7: episode 109, score -50.0, avg_score -48.0\n",
      "Environment 0: episode 110, score -50.0, avg_score -48.0\n",
      "Environment 1: episode 110, score -50.0, avg_score -48.0\n",
      "Environment 2: episode 110, score -50.0, avg_score -48.0\n",
      "Environment 3: episode 110, score -50.0, avg_score -48.0\n",
      "Environment 4: episode 110, score -50.0, avg_score -48.0\n",
      "Environment 5: episode 110, score -50.0, avg_score -48.0\n",
      "Environment 6: episode 110, score -50.0, avg_score -48.0\n",
      "Rendering episode 880.0 during training...\n",
      "rendering episode...\n",
      "Moviepy - Building video models/her/renders/train/episode_880.0.mp4.\n",
      "Moviepy - Writing video models/her/renders/train/episode_880.0.mp4\n",
      "\n"
     ]
    },
    {
     "name": "stderr",
     "output_type": "stream",
     "text": [
      "                                                             "
     ]
    },
    {
     "name": "stdout",
     "output_type": "stream",
     "text": [
      "Moviepy - Done !\n",
      "Moviepy - video ready models/her/renders/train/episode_880.0.mp4\n",
      "episode rendered\n",
      "Environment 0: Episode 1/1 Score: -50.0 Avg Score: -50.0\n"
     ]
    },
    {
     "name": "stderr",
     "output_type": "stream",
     "text": [
      "\r"
     ]
    },
    {
     "name": "stdout",
     "output_type": "stream",
     "text": [
      "Environment 7: episode 110, score -50.0, avg_score -48.0\n",
      "Environment 0: episode 111, score -50.0, avg_score -48.0\n",
      "Environment 1: episode 111, score -50.0, avg_score -48.0\n",
      "Environment 2: episode 111, score -50.0, avg_score -48.0\n",
      "Environment 3: episode 111, score -50.0, avg_score -48.0\n",
      "Environment 4: episode 111, score -50.0, avg_score -48.5\n",
      "Environment 5: episode 111, score -50.0, avg_score -48.5\n",
      "Environment 6: episode 111, score -50.0, avg_score -48.5\n",
      "Environment 7: episode 111, score -50.0, avg_score -48.5\n",
      "Environment 0: episode 112, score -50.0, avg_score -48.5\n",
      "Environment 1: episode 112, score -50.0, avg_score -48.5\n",
      "Environment 2: episode 112, score -50.0, avg_score -48.5\n",
      "Environment 3: episode 112, score -50.0, avg_score -48.5\n",
      "Environment 4: episode 112, score -50.0, avg_score -48.5\n",
      "Environment 5: episode 112, score -50.0, avg_score -48.5\n",
      "Environment 6: episode 112, score -50.0, avg_score -48.5\n",
      "Environment 7: episode 112, score -50.0, avg_score -48.5\n",
      "Environment 0: episode 113, score -50.0, avg_score -48.5\n",
      "Environment 1: episode 113, score -50.0, avg_score -48.5\n",
      "Environment 2: episode 113, score -50.0, avg_score -48.5\n",
      "Rendering episode 900.0 during training...\n",
      "rendering episode...\n",
      "Moviepy - Building video models/her/renders/train/episode_900.0.mp4.\n",
      "Moviepy - Writing video models/her/renders/train/episode_900.0.mp4\n",
      "\n"
     ]
    },
    {
     "name": "stderr",
     "output_type": "stream",
     "text": [
      "                                                             \r"
     ]
    },
    {
     "name": "stdout",
     "output_type": "stream",
     "text": [
      "Moviepy - Done !\n",
      "Moviepy - video ready models/her/renders/train/episode_900.0.mp4\n",
      "episode rendered\n",
      "Environment 0: Episode 1/1 Score: -50.0 Avg Score: -50.0\n",
      "Environment 3: episode 113, score -50.0, avg_score -48.5\n",
      "Environment 4: episode 113, score -50.0, avg_score -48.5\n",
      "Environment 5: episode 113, score -50.0, avg_score -48.5\n",
      "Environment 6: episode 113, score -50.0, avg_score -48.5\n",
      "Environment 7: episode 113, score -50.0, avg_score -48.5\n",
      "Environment 0: episode 114, score -50.0, avg_score -48.5\n",
      "Environment 1: episode 114, score -50.0, avg_score -48.5\n",
      "Environment 2: episode 114, score -50.0, avg_score -48.5\n",
      "Environment 3: episode 114, score -50.0, avg_score -48.5\n",
      "Environment 4: episode 114, score -50.0, avg_score -48.5\n",
      "Environment 5: episode 114, score -50.0, avg_score -48.5\n",
      "Environment 6: episode 114, score -50.0, avg_score -48.5\n",
      "Environment 7: episode 114, score -50.0, avg_score -48.5\n",
      "Environment 0: episode 115, score -50.0, avg_score -48.5\n",
      "Environment 1: episode 115, score -50.0, avg_score -48.5\n",
      "Environment 2: episode 115, score -50.0, avg_score -48.5\n",
      "Environment 3: episode 115, score 0.0, avg_score -48.0\n",
      "Environment 4: episode 115, score -50.0, avg_score -48.0\n",
      "Environment 5: episode 115, score -50.0, avg_score -48.0\n",
      "Environment 6: episode 115, score -50.0, avg_score -48.0\n",
      "Rendering episode 920.0 during training...\n",
      "rendering episode...\n",
      "Moviepy - Building video models/her/renders/train/episode_920.0.mp4.\n",
      "Moviepy - Writing video models/her/renders/train/episode_920.0.mp4\n",
      "\n"
     ]
    },
    {
     "name": "stderr",
     "output_type": "stream",
     "text": [
      "                                                   "
     ]
    },
    {
     "name": "stdout",
     "output_type": "stream",
     "text": [
      "Moviepy - Done !\n",
      "Moviepy - video ready models/her/renders/train/episode_920.0.mp4\n",
      "episode rendered\n",
      "Environment 0: Episode 1/1 Score: -50.0 Avg Score: -50.0\n"
     ]
    },
    {
     "name": "stderr",
     "output_type": "stream",
     "text": [
      "\r"
     ]
    },
    {
     "name": "stdout",
     "output_type": "stream",
     "text": [
      "Environment 7: episode 115, score -50.0, avg_score -48.0\n",
      "Environment 0: episode 116, score -50.0, avg_score -48.0\n",
      "Environment 1: episode 116, score -50.0, avg_score -48.0\n",
      "Environment 2: episode 116, score -50.0, avg_score -48.0\n",
      "Environment 3: episode 116, score -50.0, avg_score -48.0\n",
      "Environment 4: episode 116, score -50.0, avg_score -48.0\n",
      "Environment 5: episode 116, score -50.0, avg_score -48.0\n",
      "Environment 6: episode 116, score -50.0, avg_score -48.0\n",
      "Environment 7: episode 116, score -50.0, avg_score -48.0\n",
      "Environment 0: episode 117, score -50.0, avg_score -48.0\n",
      "Environment 1: episode 117, score -50.0, avg_score -48.0\n",
      "Environment 2: episode 117, score -50.0, avg_score -48.0\n",
      "Environment 3: episode 117, score -50.0, avg_score -48.0\n",
      "Environment 4: episode 117, score -50.0, avg_score -48.0\n",
      "Environment 5: episode 117, score -50.0, avg_score -48.0\n",
      "Environment 6: episode 117, score -50.0, avg_score -48.0\n",
      "Environment 7: episode 117, score -50.0, avg_score -48.0\n",
      "Environment 0: episode 118, score -50.0, avg_score -48.5\n",
      "Environment 1: episode 118, score -50.0, avg_score -48.5\n",
      "Environment 2: episode 118, score 0.0, avg_score -48.0\n",
      "Rendering episode 940.0 during training...\n",
      "rendering episode...\n",
      "Moviepy - Building video models/her/renders/train/episode_940.0.mp4.\n",
      "Moviepy - Writing video models/her/renders/train/episode_940.0.mp4\n",
      "\n"
     ]
    },
    {
     "name": "stderr",
     "output_type": "stream",
     "text": [
      "                                                             "
     ]
    },
    {
     "name": "stdout",
     "output_type": "stream",
     "text": [
      "Moviepy - Done !\n",
      "Moviepy - video ready models/her/renders/train/episode_940.0.mp4\n",
      "episode rendered\n",
      "Environment 0: Episode 1/1 Score: -50.0 Avg Score: -50.0\n"
     ]
    },
    {
     "name": "stderr",
     "output_type": "stream",
     "text": [
      "\r"
     ]
    },
    {
     "name": "stdout",
     "output_type": "stream",
     "text": [
      "Environment 3: episode 118, score -50.0, avg_score -48.0\n",
      "Environment 4: episode 118, score -50.0, avg_score -48.0\n",
      "Environment 5: episode 118, score -50.0, avg_score -48.0\n",
      "Environment 6: episode 118, score -50.0, avg_score -48.0\n",
      "Environment 7: episode 118, score -50.0, avg_score -48.0\n",
      "Environment 0: episode 119, score -50.0, avg_score -48.0\n",
      "Environment 1: episode 119, score -50.0, avg_score -48.0\n",
      "Environment 2: episode 119, score -50.0, avg_score -48.0\n",
      "Environment 3: episode 119, score -50.0, avg_score -48.5\n",
      "Environment 4: episode 119, score 0.0, avg_score -48.0\n",
      "Environment 5: episode 119, score -50.0, avg_score -48.0\n",
      "Environment 6: episode 119, score 0.0, avg_score -47.5\n",
      "Environment 7: episode 119, score -50.0, avg_score -48.0\n",
      "Environment 0: episode 120, score -50.0, avg_score -48.0\n",
      "Environment 1: episode 120, score -50.0, avg_score -48.0\n",
      "Environment 2: episode 120, score -50.0, avg_score -48.0\n",
      "Environment 3: episode 120, score -50.0, avg_score -48.0\n",
      "Environment 4: episode 120, score -50.0, avg_score -48.0\n",
      "Environment 5: episode 120, score -50.0, avg_score -48.0\n",
      "Environment 6: episode 120, score -50.0, avg_score -48.0\n",
      "Rendering episode 960.0 during training...\n",
      "rendering episode...\n",
      "Moviepy - Building video models/her/renders/train/episode_960.0.mp4.\n",
      "Moviepy - Writing video models/her/renders/train/episode_960.0.mp4\n",
      "\n"
     ]
    },
    {
     "name": "stderr",
     "output_type": "stream",
     "text": [
      "                                                   "
     ]
    },
    {
     "name": "stdout",
     "output_type": "stream",
     "text": [
      "Moviepy - Done !\n",
      "Moviepy - video ready models/her/renders/train/episode_960.0.mp4\n",
      "episode rendered\n",
      "Environment 0: Episode 1/1 Score: -50.0 Avg Score: -50.0\n"
     ]
    },
    {
     "name": "stderr",
     "output_type": "stream",
     "text": [
      "\r"
     ]
    },
    {
     "name": "stdout",
     "output_type": "stream",
     "text": [
      "Environment 7: episode 120, score -50.0, avg_score -48.0\n",
      "Environment 0: episode 121, score -50.0, avg_score -48.0\n",
      "Environment 1: episode 121, score -50.0, avg_score -48.0\n",
      "Environment 2: episode 121, score -50.0, avg_score -48.0\n",
      "Environment 3: episode 121, score -50.0, avg_score -48.0\n",
      "Environment 4: episode 121, score -50.0, avg_score -48.0\n",
      "Environment 5: episode 121, score -50.0, avg_score -48.0\n",
      "Environment 6: episode 121, score -50.0, avg_score -48.0\n",
      "Environment 7: episode 121, score -50.0, avg_score -48.0\n",
      "Environment 0: episode 122, score -50.0, avg_score -48.0\n",
      "Environment 1: episode 122, score -50.0, avg_score -48.0\n",
      "Environment 2: episode 122, score -50.0, avg_score -48.0\n",
      "Environment 3: episode 122, score -50.0, avg_score -48.0\n",
      "Environment 4: episode 122, score -50.0, avg_score -48.0\n",
      "Environment 5: episode 122, score -50.0, avg_score -48.0\n",
      "Environment 6: episode 122, score -50.0, avg_score -48.0\n",
      "Environment 7: episode 122, score -50.0, avg_score -48.0\n",
      "Environment 0: episode 123, score -50.0, avg_score -48.0\n",
      "Environment 1: episode 123, score -50.0, avg_score -48.0\n",
      "Environment 2: episode 123, score -50.0, avg_score -48.0\n",
      "Rendering episode 980.0 during training...\n",
      "rendering episode...\n",
      "Moviepy - Building video models/her/renders/train/episode_980.0.mp4.\n",
      "Moviepy - Writing video models/her/renders/train/episode_980.0.mp4\n",
      "\n"
     ]
    },
    {
     "name": "stderr",
     "output_type": "stream",
     "text": [
      "                                                   "
     ]
    },
    {
     "name": "stdout",
     "output_type": "stream",
     "text": [
      "Moviepy - Done !\n",
      "Moviepy - video ready models/her/renders/train/episode_980.0.mp4\n",
      "episode rendered\n",
      "Environment 0: Episode 1/1 Score: -50.0 Avg Score: -50.0\n"
     ]
    },
    {
     "name": "stderr",
     "output_type": "stream",
     "text": [
      "\r"
     ]
    },
    {
     "name": "stdout",
     "output_type": "stream",
     "text": [
      "Environment 3: episode 123, score -50.0, avg_score -48.0\n",
      "Environment 4: episode 123, score -50.0, avg_score -48.0\n",
      "Environment 5: episode 123, score -50.0, avg_score -48.0\n",
      "Environment 6: episode 123, score -50.0, avg_score -48.0\n",
      "Environment 7: episode 123, score -50.0, avg_score -48.0\n",
      "Environment 0: episode 124, score -50.0, avg_score -48.0\n",
      "Environment 1: episode 124, score -50.0, avg_score -48.0\n",
      "Environment 2: episode 124, score -50.0, avg_score -48.0\n",
      "Environment 3: episode 124, score -50.0, avg_score -48.0\n",
      "Environment 4: episode 124, score -50.0, avg_score -48.0\n",
      "Environment 5: episode 124, score -50.0, avg_score -48.0\n",
      "Environment 6: episode 124, score -50.0, avg_score -48.0\n",
      "Environment 7: episode 124, score -50.0, avg_score -48.0\n",
      "Environment 0: episode 125, score -50.0, avg_score -48.0\n",
      "Environment 1: episode 125, score -50.0, avg_score -48.0\n",
      "Environment 2: episode 125, score -50.0, avg_score -48.0\n",
      "Environment 3: episode 125, score -50.0, avg_score -48.0\n",
      "Environment 4: episode 125, score -50.0, avg_score -48.0\n",
      "Environment 5: episode 125, score -50.0, avg_score -48.0\n",
      "Environment 6: episode 125, score -50.0, avg_score -48.0\n",
      "Rendering episode 1000.0 during training...\n",
      "rendering episode...\n",
      "Moviepy - Building video models/her/renders/train/episode_1000.0.mp4.\n",
      "Moviepy - Writing video models/her/renders/train/episode_1000.0.mp4\n",
      "\n"
     ]
    },
    {
     "name": "stderr",
     "output_type": "stream",
     "text": [
      "                                                             "
     ]
    },
    {
     "name": "stdout",
     "output_type": "stream",
     "text": [
      "Moviepy - Done !\n",
      "Moviepy - video ready models/her/renders/train/episode_1000.0.mp4\n",
      "episode rendered\n",
      "Environment 0: Episode 1/1 Score: -50.0 Avg Score: -50.0\n"
     ]
    },
    {
     "name": "stderr",
     "output_type": "stream",
     "text": [
      "\r"
     ]
    },
    {
     "name": "stdout",
     "output_type": "stream",
     "text": [
      "Environment 7: episode 125, score -50.0, avg_score -48.0\n"
     ]
    },
    {
     "data": {
      "text/html": [],
      "text/plain": [
       "<IPython.core.display.HTML object>"
      ]
     },
     "metadata": {},
     "output_type": "display_data"
    },
    {
     "data": {
      "text/html": [
       "<br>    <style><br>        .wandb-row {<br>            display: flex;<br>            flex-direction: row;<br>            flex-wrap: wrap;<br>            justify-content: flex-start;<br>            width: 100%;<br>        }<br>        .wandb-col {<br>            display: flex;<br>            flex-direction: column;<br>            flex-basis: 100%;<br>            flex: 1;<br>            padding: 10px;<br>        }<br>    </style><br><div class=\"wandb-row\"><div class=\"wandb-col\"><h3>Run history:</h3><br/><table class=\"wandb\"><tr><td>action_0</td><td>▄▄▅▃▂▅█▄▃▂▃▆▅▃▃▄▃▅▆▃▃▄▇▄▁▃▅▄▁▁▆▃▅▄▃▅▁▆▆▃</td></tr><tr><td>action_0_noise</td><td>▅▅▅▅▅▅▅▅▁▅▄▇▄▂▇▆▅▅▇█▃▅▃▇▆▅▅█▆▃▅▂▇█▇▅▂▂▄▅</td></tr><tr><td>action_1</td><td>▅█▄▆▅▄▁▃▄▂▇▁▃▄▃▄▂▆▅▅▄▄▄▅▂▄▁▃▆▂▁▄▅▄▃▃▅▄▃▅</td></tr><tr><td>action_1_noise</td><td>▅▅▅▅▅▅▅▅▅▅▂▁▃▃▅▇▅▂▆▆▂▆▅▅▁▄▆█▅▄▅▆▅▅▅▅▅▅▅▆</td></tr><tr><td>action_2</td><td>▆▄▂▅▅█▂▃▄▂▅▃▄▅▇▄▅▃▅▅▅▅▄▃▃▃▄▄▃▂▃▅▄▄▁▄▅▅▄▂</td></tr><tr><td>action_2_noise</td><td>▅▅▅▅▄▆▂▆▄▅▇▃▆▅▅▄▇▅▅▃▇▁▄▃▅▅▄▆▄▅▅▇█▇▅▅▆▅▄▅</td></tr><tr><td>action_3</td><td>▇▇▇▅▅▆█▄▄▆▄▇▂▅▄▄▂█▇▁▃▂▅▂▅▅▆▆▃▃▄▁▁▅▃▃▂▄▆▄</td></tr><tr><td>action_3_noise</td><td>▄▄▄▄▄▄▄▄▄▄▄▄█▄▃▅▁▃▃▄▄▄▇▃▄▄█▆▅▁▄▇▇▇▅▄▄▃▄▄</td></tr><tr><td>actor_loss</td><td>▇▄▃▃▆▆▇▃▄▄▂▄▁▆▇▄▄▇▆▂▄▅▅▃▅▅▃▄▁▄█▄▅▆▆▇▆▄▃█</td></tr><tr><td>actor_predictions</td><td>▅▁▅▃▁█▅▅▅▆▃▁▅█▆▄▃▆▅▅▅▆▅▄▅▃▃▆▅▅▄▆▇▃▄▄▆▅▆▃</td></tr><tr><td>best</td><td>▁▁▁▁▁██▁▁▁▁▁▁▁▁▁▁▁▁▁▁▁▁▁▁▁▁▁▁▁▁▁▁▁▁▁▁▁▁▁</td></tr><tr><td>critic_loss</td><td>▆█▂▃▂▁▂▃▁▄▁▁▂▁▂▁▅▁▄▁▁▁▁▂▁▂▃▂▁▁▂▂▂▂▁▂▂▂▁▄</td></tr><tr><td>critic_predictions</td><td>▄▁▃▅▃▅▅▅▅▇▆█▄▆▃▇▇▄▃▅▅▆▅▄▃▆▆█▅▅▆▄▅▅▄▃▃▅▄▄</td></tr><tr><td>episode</td><td>▁▁▁▂▂▂▂▂▂▃▃▃▃▃▃▃▃▄▄▄▄▄▄▅▅▅▅▆▆▆▆▆▇▇▇▇▇▇██</td></tr><tr><td>episode_reward</td><td>▁▁▁▁▁█▁▁▁▁▁▁▁▁▁▁▁▁▁▁▁▁▁▁▁█▁▁▁▁▁▁▁▁▁▁▁▁▁▁</td></tr><tr><td>goal distance</td><td>▃▃▃▃▁▁▅▁█▇▄█▄▄▆▅▃▅▂▆▅▅▂▆▄█▃▇▇▃▆▆▆▅▅▂▆▃▄▃</td></tr><tr><td>step_reward</td><td>▁█▂▂▁▃▁▁▁▂▁▂▁▁▁▂▁▂▁▁▁▂▂▂▁▂▁▁█▁▁▁▁▁▂▁█▁▃▁</td></tr><tr><td>success rate</td><td>▁▁█▇█▇▇█▇▇▇▇▇██████▇█▇▇▇▇▇▇▇▇▇▆▆▆▆▆▇▇▇▇▆</td></tr><tr><td>target_actor_predictions</td><td>▂▂▁▃▆▃▆▂▃▃▄▂▃▄▂▄▃▇▆▄▃▃█▃▅▁▂▆▂▆▄▂▇▅▅▄▅▆▇▅</td></tr><tr><td>target_critic_predictions</td><td>▁▇▄▆▆▅▆█▇▆▇█▇▇█▆▆▇▆▆▇▇▅▆▆▅▇▆▇▇▅▇▇▅▆▆▆▅▇▇</td></tr><tr><td>tolerance count</td><td>████████████████▅███████████▁█▆█████████</td></tr></table><br/></div><div class=\"wandb-col\"><h3>Run summary:</h3><br/><table class=\"wandb\"><tr><td>action_0</td><td>-0.15962</td></tr><tr><td>action_0_noise</td><td>-0.03015</td></tr><tr><td>action_1</td><td>0.0638</td></tr><tr><td>action_1_noise</td><td>-0.08183</td></tr><tr><td>action_2</td><td>-0.19211</td></tr><tr><td>action_2_noise</td><td>-0.0506</td></tr><tr><td>action_3</td><td>-0.1514</td></tr><tr><td>action_3_noise</td><td>-0.09034</td></tr><tr><td>actor_loss</td><td>1.2489</td></tr><tr><td>actor_predictions</td><td>-0.00256</td></tr><tr><td>best</td><td>0</td></tr><tr><td>critic_loss</td><td>0.15704</td></tr><tr><td>critic_predictions</td><td>-1.19902</td></tr><tr><td>episode</td><td>1000</td></tr><tr><td>episode_reward</td><td>-50</td></tr><tr><td>goal distance</td><td>0.20891</td></tr><tr><td>step_reward</td><td>-1</td></tr><tr><td>success rate</td><td>0.04209</td></tr><tr><td>target_actor_predictions</td><td>0.00079</td></tr><tr><td>target_critic_predictions</td><td>-1.19332</td></tr><tr><td>tolerance count</td><td>364</td></tr></table><br/></div></div>"
      ],
      "text/plain": [
       "<IPython.core.display.HTML object>"
      ]
     },
     "metadata": {},
     "output_type": "display_data"
    },
    {
     "data": {
      "text/html": [
       " View run <strong style=\"color:#cdcd00\">train-14</strong> at: <a href='https://wandb.ai/jasonhayes1987/FetchPickAndPlace-v4/runs/xszmti40' target=\"_blank\">https://wandb.ai/jasonhayes1987/FetchPickAndPlace-v4/runs/xszmti40</a><br> View project at: <a href='https://wandb.ai/jasonhayes1987/FetchPickAndPlace-v4' target=\"_blank\">https://wandb.ai/jasonhayes1987/FetchPickAndPlace-v4</a><br>Synced 5 W&B file(s), 52 media file(s), 0 artifact file(s) and 0 other file(s)"
      ],
      "text/plain": [
       "<IPython.core.display.HTML object>"
      ]
     },
     "metadata": {},
     "output_type": "display_data"
    },
    {
     "data": {
      "text/html": [
       "Find logs at: <code>./wandb/run-20250226_033547-xszmti40/logs</code>"
      ],
      "text/plain": [
       "<IPython.core.display.HTML object>"
      ]
     },
     "metadata": {},
     "output_type": "display_data"
    },
    {
     "name": "stderr",
     "output_type": "stream",
     "text": [
      "logging_config - ERROR - Error during HER train process: 'GymnasiumWrapper' object has no attribute 'close'\n",
      "Traceback (most recent call last):\n",
      "  File \"/workspaces/RL_Agents/src/app/rl_agents.py\", line 4481, in train\n",
      "    self.agent.env.close()\n",
      "AttributeError: 'GymnasiumWrapper' object has no attribute 'close'\n"
     ]
    }
   ],
   "source": [
    "her.train(1000, 40, 20, 8, 42)"
   ]
  },
  {
   "cell_type": "code",
   "execution_count": null,
   "metadata": {},
   "outputs": [],
   "source": [
    "for e in her.agent.env.env.envs:\n",
    "    e.close()"
   ]
  },
  {
   "cell_type": "code",
   "execution_count": null,
   "metadata": {},
   "outputs": [],
   "source": [
    "her.replay_buffer.device"
   ]
  },
  {
   "cell_type": "markdown",
   "metadata": {},
   "source": [
    "# Actor Critic"
   ]
  },
  {
   "cell_type": "code",
   "execution_count": null,
   "metadata": {},
   "outputs": [],
   "source": [
    "env = gym.make(\"CartPole-v1\")"
   ]
  },
  {
   "cell_type": "code",
   "execution_count": null,
   "metadata": {},
   "outputs": [],
   "source": [
    "dense_layers = [\n",
    "    (128, 'relu', \"kaiming normal\"),\n",
    "    (256, 'relu', \"kaiming normal\"),\n",
    "    ]\n",
    "\n"
   ]
  },
  {
   "cell_type": "code",
   "execution_count": null,
   "metadata": {},
   "outputs": [],
   "source": [
    "policy_model = models.PolicyModel(env=env, dense_layers=dense_layers, optimizer='Adam', learning_rate=0.001,)"
   ]
  },
  {
   "cell_type": "code",
   "execution_count": null,
   "metadata": {},
   "outputs": [],
   "source": [
    "for param in policy_model.parameters():\n",
    "    print(param)"
   ]
  },
  {
   "cell_type": "code",
   "execution_count": null,
   "metadata": {},
   "outputs": [],
   "source": [
    "value_model = models.ValueModel(env, dense_layers=dense_layers, optimizer='Adam', learning_rate=0.001)"
   ]
  },
  {
   "cell_type": "code",
   "execution_count": null,
   "metadata": {},
   "outputs": [],
   "source": [
    "value_model"
   ]
  },
  {
   "cell_type": "code",
   "execution_count": null,
   "metadata": {},
   "outputs": [],
   "source": [
    "for params in value_model.parameters():\n",
    "    print(params)"
   ]
  },
  {
   "cell_type": "code",
   "execution_count": null,
   "metadata": {},
   "outputs": [],
   "source": [
    "actor_critic = rl_agents.ActorCritic(env,\n",
    "                                     policy_model,\n",
    "                                     value_model,\n",
    "                                     discount=0.99,\n",
    "                                     policy_trace_decay=0.5,\n",
    "                                     value_trace_decay=0.5,\n",
    "                                     callbacks=[rl_callbacks.WandbCallback('CartPole-v1-Actor-Critic')])"
   ]
  },
  {
   "cell_type": "code",
   "execution_count": null,
   "metadata": {},
   "outputs": [],
   "source": [
    "actor_critic.train(200)"
   ]
  },
  {
   "cell_type": "code",
   "execution_count": null,
   "metadata": {},
   "outputs": [],
   "source": [
    "actor_critic.test(10, True, 1)"
   ]
  },
  {
   "cell_type": "markdown",
   "metadata": {},
   "source": [
    "# REINFORCE"
   ]
  },
  {
   "cell_type": "code",
   "execution_count": null,
   "metadata": {},
   "outputs": [],
   "source": [
    "env = gym.make(\"CartPole-v1\")"
   ]
  },
  {
   "cell_type": "code",
   "execution_count": null,
   "metadata": {},
   "outputs": [],
   "source": [
    "dense_layers = [\n",
    "    (128, 'relu', {\n",
    "                    \"kaiming normal\": {\n",
    "                        \"a\":1.0,\n",
    "                        \"mode\":'fan_in'\n",
    "                    }\n",
    "                },\n",
    "    ),\n",
    "    # (256, 'relu', {\n",
    "    #                 \"kaiming_normal\": {\n",
    "    #                     \"a\":0.0,\n",
    "    #                     \"mode\":'fan_in'\n",
    "    #                 }\n",
    "    #             },\n",
    "    # )\n",
    "    ]"
   ]
  },
  {
   "cell_type": "code",
   "execution_count": null,
   "metadata": {},
   "outputs": [],
   "source": [
    "dense_layers = [(128, 'relu', \"kaiming normal\")]"
   ]
  },
  {
   "cell_type": "code",
   "execution_count": null,
   "metadata": {},
   "outputs": [],
   "source": [
    "value_model = models.ValueModel(env, dense_layers, 'Adam', 0.001)"
   ]
  },
  {
   "cell_type": "code",
   "execution_count": null,
   "metadata": {},
   "outputs": [],
   "source": [
    "for param in value_model.parameters():\n",
    "    print(param)"
   ]
  },
  {
   "cell_type": "code",
   "execution_count": null,
   "metadata": {},
   "outputs": [],
   "source": [
    "policy_model = models.PolicyModel(env, dense_layers, 'Adam', 0.001)"
   ]
  },
  {
   "cell_type": "code",
   "execution_count": null,
   "metadata": {},
   "outputs": [],
   "source": [
    "for param in policy_model.parameters():\n",
    "    print(param)"
   ]
  },
  {
   "cell_type": "code",
   "execution_count": null,
   "metadata": {},
   "outputs": [],
   "source": [
    "reinforce = rl_agents.Reinforce(env, policy_model, value_model, 0.99, [rl_callbacks.WandbCallback('CartPole-v0_REINFORCE', chkpt_freq=100)])"
   ]
  },
  {
   "cell_type": "code",
   "execution_count": null,
   "metadata": {},
   "outputs": [],
   "source": [
    "reinforce.train(200, True, 50)"
   ]
  },
  {
   "cell_type": "code",
   "execution_count": null,
   "metadata": {},
   "outputs": [],
   "source": [
    "reinforce.test(10, True, 1)"
   ]
  },
  {
   "cell_type": "markdown",
   "metadata": {},
   "source": [
    "# DDPG w/CNN"
   ]
  },
  {
   "cell_type": "code",
   "execution_count": null,
   "metadata": {},
   "outputs": [],
   "source": [
    "env = gym.make('CarRacing-v2')"
   ]
  },
  {
   "cell_type": "code",
   "execution_count": null,
   "metadata": {},
   "outputs": [],
   "source": [
    "cnn_layers = [\n",
    "    # {\n",
    "    #     \"batchnorm\":\n",
    "    #     {\n",
    "    #         \"num_features\":3\n",
    "    #     }\n",
    "    # },\n",
    "    {\n",
    "        \"conv\":\n",
    "        {\n",
    "            \"out_channels\": 32,\n",
    "            \"kernel_size\": 7,\n",
    "            \"stride\": 3,\n",
    "            \"padding\": 'valid',\n",
    "            \"bias\": False\n",
    "        }\n",
    "    },\n",
    "    {\n",
    "        \"relu\":\n",
    "        {\n",
    "\n",
    "        }\n",
    "    },\n",
    "    {\n",
    "        \"batchnorm\":\n",
    "        {\n",
    "            \"num_features\":32\n",
    "        }\n",
    "    },\n",
    "    {\n",
    "        \"conv\":\n",
    "        {\n",
    "            \"out_channels\": 32,\n",
    "            \"kernel_size\": 5,\n",
    "            \"stride\": 3,\n",
    "            \"padding\": 'valid',\n",
    "            \"bias\": False,\n",
    "        }\n",
    "    },\n",
    "    {\n",
    "        \"relu\":\n",
    "        {\n",
    "\n",
    "        }\n",
    "    },\n",
    "    {\n",
    "        \"batchnorm\":\n",
    "        {\n",
    "            \"num_features\":32\n",
    "        }\n",
    "    },\n",
    "    {\n",
    "        \"conv\":\n",
    "        {\n",
    "            \"out_channels\": 32,\n",
    "            \"kernel_size\": 3,\n",
    "            \"stride\": 3,\n",
    "            \"padding\": 'valid',\n",
    "            \"bias\": False,\n",
    "        }\n",
    "    },\n",
    "]"
   ]
  },
  {
   "cell_type": "code",
   "execution_count": null,
   "metadata": {},
   "outputs": [],
   "source": [
    "cnn = cnn_models.CNN(cnn_layers, env)"
   ]
  },
  {
   "cell_type": "code",
   "execution_count": null,
   "metadata": {},
   "outputs": [],
   "source": [
    "cnn"
   ]
  },
  {
   "cell_type": "code",
   "execution_count": null,
   "metadata": {},
   "outputs": [],
   "source": [
    "# build actor\n",
    "\n",
    "dense_layers = [\n",
    "    (\n",
    "        64,\n",
    "        \"relu\",\n",
    "        {\n",
    "            \"variance scaling\": {\n",
    "                \"scale\": 1.0,\n",
    "                \"mode\": \"fan_in\",\n",
    "                \"distribution\": \"uniform\",\n",
    "            }\n",
    "        },\n",
    "    ),\n",
    "    (\n",
    "        64,\n",
    "        \"relu\",\n",
    "        {\n",
    "            \"variance scaling\": {\n",
    "                \"scale\": 1.0,\n",
    "                \"mode\": \"fan_in\",\n",
    "                \"distribution\": \"uniform\",\n",
    "            }\n",
    "        },\n",
    "    ),\n",
    "    (\n",
    "        64,\n",
    "        \"relu\",\n",
    "        {\n",
    "            \"variance scaling\": {\n",
    "                \"scale\": 1.0,\n",
    "                \"mode\": \"fan_in\",\n",
    "                \"distribution\": \"uniform\",\n",
    "            }\n",
    "        },\n",
    "    ),\n",
    "]\n",
    "\n",
    "actor = models.ActorModel(env, cnn_model=cnn, dense_layers=dense_layers, optimizer=\"Adam\", optimizer_params={'weight_decay':0.0}, learning_rate=0.0001, normalize=False)"
   ]
  },
  {
   "cell_type": "code",
   "execution_count": null,
   "metadata": {},
   "outputs": [],
   "source": [
    "actor"
   ]
  },
  {
   "cell_type": "code",
   "execution_count": null,
   "metadata": {},
   "outputs": [],
   "source": [
    "# build critic\n",
    "\n",
    "state_layers = [\n",
    "    \n",
    "]\n",
    "\n",
    "merged_layers = [\n",
    "    (\n",
    "        64,\n",
    "        \"relu\",\n",
    "        {\n",
    "            \"variance scaling\": {\n",
    "                \"scale\": 1.0,\n",
    "                \"mode\": \"fan_in\",\n",
    "                \"distribution\": \"uniform\",\n",
    "            }\n",
    "        },\n",
    "    ),\n",
    "    (\n",
    "        64,\n",
    "        \"relu\",\n",
    "        {\n",
    "            \"variance scaling\": {\n",
    "                \"scale\": 1.0,\n",
    "                \"mode\": \"fan_in\",\n",
    "                \"distribution\": \"uniform\",\n",
    "            }\n",
    "        },\n",
    "    ),\n",
    "    (\n",
    "        64,\n",
    "        \"relu\",\n",
    "        {\n",
    "            \"variance scaling\": {\n",
    "                \"scale\": 1.0,\n",
    "                \"mode\": \"fan_in\",\n",
    "                \"distribution\": \"uniform\",\n",
    "            }\n",
    "        },\n",
    "    )\n",
    "]\n",
    "\n",
    "\n",
    "critic = models.CriticModel(env=env, cnn_model=cnn, state_layers=state_layers, merged_layers=merged_layers, optimizer=\"Adam\", optimizer_params={'weight_decay':0.0}, learning_rate=0.0001, normalize=False)"
   ]
  },
  {
   "cell_type": "code",
   "execution_count": null,
   "metadata": {},
   "outputs": [],
   "source": [
    "critic"
   ]
  },
  {
   "cell_type": "code",
   "execution_count": null,
   "metadata": {},
   "outputs": [],
   "source": [
    "replay_buffer = helper.ReplayBuffer(env, 1000000, goal_shape=(1,))\n",
    "noise = helper.OUNoise(shape=env.action_space.shape, mean=0.0, theta=0.15, sigma=0.01, dt=1.0, device='cuda')"
   ]
  },
  {
   "cell_type": "code",
   "execution_count": null,
   "metadata": {},
   "outputs": [],
   "source": [
    "ddpg_agent = rl_agents.DDPG(\n",
    "    env,\n",
    "    actor,\n",
    "    critic,\n",
    "    discount=0.98,\n",
    "    tau=0.05,\n",
    "    action_epsilon=0.2,\n",
    "    replay_buffer=replay_buffer,\n",
    "    batch_size=128,\n",
    "    noise=noise,\n",
    "    callbacks=[rl_callbacks.WandbCallback(\"CarRacing-v2\")]\n",
    ")"
   ]
  },
  {
   "cell_type": "code",
   "execution_count": null,
   "metadata": {},
   "outputs": [],
   "source": [
    "ddpg_agent.train(1000, True, 10)"
   ]
  },
  {
   "cell_type": "code",
   "execution_count": null,
   "metadata": {},
   "outputs": [],
   "source": [
    "wandb.finish()"
   ]
  },
  {
   "cell_type": "code",
   "execution_count": null,
   "metadata": {},
   "outputs": [],
   "source": [
    "wandb.login()"
   ]
  },
  {
   "cell_type": "markdown",
   "metadata": {},
   "source": [
    "# HER"
   ]
  },
  {
   "cell_type": "code",
   "execution_count": null,
   "metadata": {},
   "outputs": [],
   "source": [
    "env = gym.make(\"Reacher-v4\")"
   ]
  },
  {
   "cell_type": "code",
   "execution_count": null,
   "metadata": {},
   "outputs": [],
   "source": [
    "_,_ = env.reset()"
   ]
  },
  {
   "cell_type": "code",
   "execution_count": null,
   "metadata": {},
   "outputs": [],
   "source": [
    "achieved_goal = gym_helper.reacher_achieved_goal(env)\n",
    "action = env.action_space.sample()\n",
    "env.step(action)\n",
    "print(f'observation: {env.get_wrapper_attr(\"_get_obs\")()}')\n",
    "print(f'distance to goal: {env.get_wrapper_attr(\"_get_obs\")()[8::]}')\n",
    "print(f'fingertip: {env.get_wrapper_attr(\"get_body_com\")(\"fingertip\")}')\n",
    "print(f'target: {env.get_wrapper_attr(\"get_body_com\")(\"target\")}')"
   ]
  },
  {
   "cell_type": "code",
   "execution_count": null,
   "metadata": {},
   "outputs": [],
   "source": [
    "next_achieved_goal = env.get_wrapper_attr(\"_get_obs\")()[8::]\n",
    "desired_goal = [0.0, 0.0, 0.0]"
   ]
  },
  {
   "cell_type": "code",
   "execution_count": null,
   "metadata": {},
   "outputs": [],
   "source": [
    "reward_func(env, action, achieved_goal, next_achieved_goal, desired_goal, 0.05)"
   ]
  },
  {
   "cell_type": "code",
   "execution_count": null,
   "metadata": {},
   "outputs": [],
   "source": [
    "desired_goal_func, achieved_goal_func, reward_func = gym_helper.get_her_goal_functions(env)"
   ]
  },
  {
   "cell_type": "code",
   "execution_count": null,
   "metadata": {},
   "outputs": [],
   "source": [
    "desired_goal_func(env).shape"
   ]
  },
  {
   "cell_type": "code",
   "execution_count": null,
   "metadata": {},
   "outputs": [],
   "source": [
    "# build actor\n",
    "\n",
    "dense_layers = [\n",
    "    (\n",
    "        256,\n",
    "        \"relu\",\n",
    "        {\n",
    "            \"variance scaling\": {\n",
    "                \"scale\": 1.0,\n",
    "                \"mode\": \"fan_in\",\n",
    "                \"distribution\": \"uniform\",\n",
    "            }\n",
    "        },\n",
    "    ),\n",
    "    (\n",
    "        256,\n",
    "        \"relu\",\n",
    "        {\n",
    "            \"variance scaling\": {\n",
    "                \"scale\": 1.0,\n",
    "                \"mode\": \"fan_in\",\n",
    "                \"distribution\": \"uniform\",\n",
    "            }\n",
    "        },\n",
    "    ),\n",
    "    (\n",
    "        256,\n",
    "        \"relu\",\n",
    "        {\n",
    "            \"variance scaling\": {\n",
    "                \"scale\": 1.0,\n",
    "                \"mode\": \"fan_in\",\n",
    "                \"distribution\": \"uniform\",\n",
    "            }\n",
    "        },\n",
    "    ),\n",
    "]\n",
    "\n",
    "actor = models.ActorModel(env,\n",
    "                          cnn_model=None,\n",
    "                          dense_layers=dense_layers,\n",
    "                          goal_shape=(3,),\n",
    "                          optimizer=\"Adam\",\n",
    "                          optimizer_params={'weight_decay':0.0},\n",
    "                          learning_rate=0.0001, normalize=False)"
   ]
  },
  {
   "cell_type": "code",
   "execution_count": null,
   "metadata": {},
   "outputs": [],
   "source": [
    "# build critic\n",
    "\n",
    "state_layers = [\n",
    "    \n",
    "]\n",
    "\n",
    "merged_layers = [\n",
    "    (\n",
    "        256,\n",
    "        \"relu\",\n",
    "        {\n",
    "            \"variance scaling\": {\n",
    "                \"scale\": 1.0,\n",
    "                \"mode\": \"fan_in\",\n",
    "                \"distribution\": \"uniform\",\n",
    "            }\n",
    "        },\n",
    "    ),\n",
    "    (\n",
    "        256,\n",
    "        \"relu\",\n",
    "        {\n",
    "            \"variance scaling\": {\n",
    "                \"scale\": 1.0,\n",
    "                \"mode\": \"fan_in\",\n",
    "                \"distribution\": \"uniform\",\n",
    "            }\n",
    "        },\n",
    "    ),\n",
    "    (\n",
    "        256,\n",
    "        \"relu\",\n",
    "        {\n",
    "            \"variance scaling\": {\n",
    "                \"scale\": 1.0,\n",
    "                \"mode\": \"fan_in\",\n",
    "                \"distribution\": \"uniform\",\n",
    "            }\n",
    "        },\n",
    "    )\n",
    "]\n",
    "\n",
    "\n",
    "critic = models.CriticModel(env=env,\n",
    "                            cnn_model=None,\n",
    "                            state_layers=state_layers,\n",
    "                            merged_layers=merged_layers,\n",
    "                            goal_shape=(3,),\n",
    "                            optimizer=\"Adam\",\n",
    "                            optimizer_params={'weight_decay':0.0},\n",
    "                            learning_rate=0.0001,\n",
    "                            normalize=False)"
   ]
  },
  {
   "cell_type": "code",
   "execution_count": null,
   "metadata": {},
   "outputs": [],
   "source": [
    "goal_shape = desired_goal_func(env).shape\n",
    "replay_buffer = helper.ReplayBuffer(env, 100000, goal_shape)\n",
    "# noise = helper.OUNoise(shape=env.action_space.shape,\n",
    "#                        mean=0.0,\n",
    "#                        theta=0.05,\n",
    "#                        sigma=0.15,\n",
    "#                        dt=1.0, device='cuda')\n",
    "\n",
    "noise=helper.NormalNoise(shape=env.action_space.shape,\n",
    "                         mean = 0.0,\n",
    "                         stddev=0.05,\n",
    "                         )"
   ]
  },
  {
   "cell_type": "code",
   "execution_count": null,
   "metadata": {},
   "outputs": [],
   "source": [
    "ddpg_agent = rl_agents.DDPG(env=env,\n",
    "                            actor_model=actor,\n",
    "                            critic_model=critic,\n",
    "                            discount=0.98,\n",
    "                            tau=0.05,\n",
    "                            action_epsilon=0.2,\n",
    "                            replay_buffer=replay_buffer,\n",
    "                            batch_size=256,\n",
    "                            noise=noise,\n",
    "                            callbacks=[rl_callbacks.WandbCallback('Reacher-v4')])"
   ]
  },
  {
   "cell_type": "code",
   "execution_count": null,
   "metadata": {},
   "outputs": [],
   "source": [
    "her = rl_agents.HER(ddpg_agent,\n",
    "                    strategy='future',\n",
    "                    num_goals=4,\n",
    "                    tolerance=0.001,\n",
    "                    desired_goal=desired_goal_func,\n",
    "                    achieved_goal=achieved_goal_func,\n",
    "                    reward_fn=reward_func)"
   ]
  },
  {
   "cell_type": "code",
   "execution_count": null,
   "metadata": {},
   "outputs": [],
   "source": [
    "her.train(10, 50, 16, 40, True, 1000)"
   ]
  },
  {
   "cell_type": "code",
   "execution_count": null,
   "metadata": {},
   "outputs": [],
   "source": [
    "wandb.finish()"
   ]
  },
  {
   "cell_type": "code",
   "execution_count": null,
   "metadata": {},
   "outputs": [],
   "source": [
    "her.test(10, True, 1)"
   ]
  },
  {
   "cell_type": "code",
   "execution_count": null,
   "metadata": {},
   "outputs": [],
   "source": [
    "her.save()"
   ]
  },
  {
   "cell_type": "code",
   "execution_count": null,
   "metadata": {},
   "outputs": [],
   "source": [
    "her.agent.goal_normalizer.running_std"
   ]
  },
  {
   "cell_type": "code",
   "execution_count": null,
   "metadata": {},
   "outputs": [],
   "source": [
    "loaded_her = rl_agents.HER.load(\"/workspaces/RL_Agents/pytorch/src/app/assets/models/her\")"
   ]
  },
  {
   "cell_type": "code",
   "execution_count": null,
   "metadata": {},
   "outputs": [],
   "source": [
    "loaded_her.agent.replay_buffer.sample(10)"
   ]
  },
  {
   "cell_type": "code",
   "execution_count": null,
   "metadata": {},
   "outputs": [],
   "source": [
    "loaded_her.agent.state_normalizer.running_cnt"
   ]
  },
  {
   "cell_type": "code",
   "execution_count": null,
   "metadata": {},
   "outputs": [],
   "source": [
    "loaded_her.get_config()"
   ]
  },
  {
   "cell_type": "code",
   "execution_count": null,
   "metadata": {},
   "outputs": [],
   "source": [
    "loaded_her.test(10, True, 1)"
   ]
  },
  {
   "cell_type": "code",
   "execution_count": null,
   "metadata": {},
   "outputs": [],
   "source": [
    "10e4"
   ]
  },
  {
   "cell_type": "markdown",
   "metadata": {},
   "source": [
    "# HER w/CNN"
   ]
  },
  {
   "cell_type": "code",
   "execution_count": null,
   "metadata": {},
   "outputs": [],
   "source": [
    "env = gym.make('CarRacing-v2')"
   ]
  },
  {
   "cell_type": "code",
   "execution_count": null,
   "metadata": {},
   "outputs": [],
   "source": [
    "_,_ = env.reset()"
   ]
  },
  {
   "cell_type": "code",
   "execution_count": null,
   "metadata": {},
   "outputs": [],
   "source": [
    "desired_goal_func, achieved_goal_func, reward_func = gym_helper.get_her_goal_functions(env)"
   ]
  },
  {
   "cell_type": "code",
   "execution_count": null,
   "metadata": {},
   "outputs": [],
   "source": [
    "desired_goal(env).shape"
   ]
  },
  {
   "cell_type": "code",
   "execution_count": null,
   "metadata": {},
   "outputs": [],
   "source": [
    "cnn_layers = [\n",
    "    # {\n",
    "    #     \"batchnorm\":\n",
    "    #     {\n",
    "    #         \"num_features\":3\n",
    "    #     }\n",
    "    # },\n",
    "    {\n",
    "        \"conv\":\n",
    "        {\n",
    "            \"out_channels\": 32,\n",
    "            \"kernel_size\": 7,\n",
    "            \"stride\": 3,\n",
    "            \"padding\": 'valid',\n",
    "            \"bias\": False\n",
    "        }\n",
    "    },\n",
    "    {\n",
    "        \"relu\":\n",
    "        {\n",
    "\n",
    "        }\n",
    "    },\n",
    "    {\n",
    "        \"batchnorm\":\n",
    "        {\n",
    "            \"num_features\":32\n",
    "        }\n",
    "    },\n",
    "    {\n",
    "        \"conv\":\n",
    "        {\n",
    "            \"out_channels\": 32,\n",
    "            \"kernel_size\": 5,\n",
    "            \"stride\": 3,\n",
    "            \"padding\": 'valid',\n",
    "            \"bias\": False,\n",
    "        }\n",
    "    },\n",
    "    {\n",
    "        \"relu\":\n",
    "        {\n",
    "\n",
    "        }\n",
    "    },\n",
    "    {\n",
    "        \"batchnorm\":\n",
    "        {\n",
    "            \"num_features\":32\n",
    "        }\n",
    "    },\n",
    "    {\n",
    "        \"conv\":\n",
    "        {\n",
    "            \"out_channels\": 32,\n",
    "            \"kernel_size\": 3,\n",
    "            \"stride\": 3,\n",
    "            \"padding\": 'valid',\n",
    "            \"bias\": False,\n",
    "        }\n",
    "    },\n",
    "]\n",
    "\n",
    "cnn = cnn_models.CNN(cnn_layers, env)"
   ]
  },
  {
   "cell_type": "code",
   "execution_count": null,
   "metadata": {},
   "outputs": [],
   "source": [
    "# build actor\n",
    "\n",
    "dense_layers = [\n",
    "    (\n",
    "        256,\n",
    "        \"relu\",\n",
    "        {\n",
    "            \"variance scaling\": {\n",
    "                \"scale\": 1.0,\n",
    "                \"mode\": \"fan_in\",\n",
    "                \"distribution\": \"uniform\",\n",
    "            }\n",
    "        },\n",
    "    ),\n",
    "    (\n",
    "        256,\n",
    "        \"relu\",\n",
    "        {\n",
    "            \"variance scaling\": {\n",
    "                \"scale\": 1.0,\n",
    "                \"mode\": \"fan_in\",\n",
    "                \"distribution\": \"uniform\",\n",
    "            }\n",
    "        },\n",
    "    ),\n",
    "    (\n",
    "        256,\n",
    "        \"relu\",\n",
    "        {\n",
    "            \"variance scaling\": {\n",
    "                \"scale\": 1.0,\n",
    "                \"mode\": \"fan_in\",\n",
    "                \"distribution\": \"uniform\",\n",
    "            }\n",
    "        },\n",
    "    ),\n",
    "]\n",
    "\n",
    "actor = models.ActorModel(env,\n",
    "                          cnn_model=cnn,\n",
    "                          dense_layers=dense_layers,\n",
    "                          goal_shape=(1,),\n",
    "                          optimizer=\"Adam\",\n",
    "                          optimizer_params={'weight_decay':0.0},\n",
    "                          learning_rate=0.001, normalize=False)"
   ]
  },
  {
   "cell_type": "code",
   "execution_count": null,
   "metadata": {},
   "outputs": [],
   "source": [
    "actor"
   ]
  },
  {
   "cell_type": "code",
   "execution_count": null,
   "metadata": {},
   "outputs": [],
   "source": [
    "# build critic\n",
    "\n",
    "state_layers = [\n",
    "    \n",
    "]\n",
    "\n",
    "merged_layers = [\n",
    "    (\n",
    "        256,\n",
    "        \"relu\",\n",
    "        {\n",
    "            \"variance scaling\": {\n",
    "                \"scale\": 1.0,\n",
    "                \"mode\": \"fan_in\",\n",
    "                \"distribution\": \"uniform\",\n",
    "            }\n",
    "        },\n",
    "    ),\n",
    "    (\n",
    "        256,\n",
    "        \"relu\",\n",
    "        {\n",
    "            \"variance scaling\": {\n",
    "                \"scale\": 1.0,\n",
    "                \"mode\": \"fan_in\",\n",
    "                \"distribution\": \"uniform\",\n",
    "            }\n",
    "        },\n",
    "    ),\n",
    "    (\n",
    "        256,\n",
    "        \"relu\",\n",
    "        {\n",
    "            \"variance scaling\": {\n",
    "                \"scale\": 1.0,\n",
    "                \"mode\": \"fan_in\",\n",
    "                \"distribution\": \"uniform\",\n",
    "            }\n",
    "        },\n",
    "    )\n",
    "]\n",
    "\n",
    "\n",
    "critic = models.CriticModel(env=env,\n",
    "                            cnn_model=cnn,\n",
    "                            state_layers=state_layers,\n",
    "                            merged_layers=merged_layers,\n",
    "                            goal_shape=(1,),\n",
    "                            optimizer=\"Adam\",\n",
    "                            optimizer_params={'weight_decay':0.0},\n",
    "                            learning_rate=0.001,\n",
    "                            normalize=False)"
   ]
  },
  {
   "cell_type": "code",
   "execution_count": null,
   "metadata": {},
   "outputs": [],
   "source": [
    "critic"
   ]
  },
  {
   "cell_type": "code",
   "execution_count": null,
   "metadata": {},
   "outputs": [],
   "source": [
    "goal_shape = desired_goal_func(env).shape\n",
    "replay_buffer = helper.ReplayBuffer(env, 100000, goal_shape)\n",
    "# noise = helper.OUNoise(shape=env.action_space.shape,\n",
    "#                        mean=0.0,\n",
    "#                        theta=0.05,\n",
    "#                        sigma=0.15,\n",
    "#                        dt=1.0, device='cuda')\n",
    "\n",
    "noise=helper.NormalNoise(shape=env.action_space.shape,\n",
    "                         mean = 0.0,\n",
    "                         stddev=0.05,\n",
    "                         )"
   ]
  },
  {
   "cell_type": "code",
   "execution_count": null,
   "metadata": {},
   "outputs": [],
   "source": [
    "ddpg_agent = rl_agents.DDPG(env=env,\n",
    "                            actor_model=actor,\n",
    "                            critic_model=critic,\n",
    "                            discount=0.98,\n",
    "                            tau=0.05,\n",
    "                            action_epsilon=0.2,\n",
    "                            replay_buffer=replay_buffer,\n",
    "                            batch_size=256,\n",
    "                            noise=noise,\n",
    "                            callbacks=[rl_callbacks.WandbCallback('CarRacing-v2')])"
   ]
  },
  {
   "cell_type": "code",
   "execution_count": null,
   "metadata": {},
   "outputs": [],
   "source": [
    "ddpg_agent.actor_model"
   ]
  },
  {
   "cell_type": "code",
   "execution_count": null,
   "metadata": {},
   "outputs": [],
   "source": [
    "her = rl_agents.HER(ddpg_agent,\n",
    "                    strategy='future',\n",
    "                    num_goals=4,\n",
    "                    tolerance=1,\n",
    "                    desired_goal=desired_goal_func,\n",
    "                    achieved_goal=achieved_goal_func,\n",
    "                    reward_fn=reward_func)"
   ]
  },
  {
   "cell_type": "code",
   "execution_count": null,
   "metadata": {},
   "outputs": [],
   "source": [
    "her.agent.actor_model"
   ]
  },
  {
   "cell_type": "code",
   "execution_count": null,
   "metadata": {},
   "outputs": [],
   "source": [
    "her.train(num_epochs=20,\n",
    "          num_cycles=50,\n",
    "          num_episodes=16,\n",
    "          num_updates=40,\n",
    "          render=True,\n",
    "          render_freq=20\n",
    "        )"
   ]
  },
  {
   "cell_type": "code",
   "execution_count": null,
   "metadata": {},
   "outputs": [],
   "source": [
    "her = rl_agents.HER.load(\"/workspaces/RL_Agents/pytorch/src/app/models/her\")"
   ]
  },
  {
   "cell_type": "code",
   "execution_count": null,
   "metadata": {},
   "outputs": [],
   "source": [
    "wandb.finish()"
   ]
  },
  {
   "cell_type": "code",
   "execution_count": null,
   "metadata": {},
   "outputs": [],
   "source": [
    "# reset environment\n",
    "state, _ = her.agent.env.reset()\n",
    "# instantiate empty lists to store current episode trajectory\n",
    "states, actions, next_states, dones, state_achieved_goals, \\\n",
    "next_state_achieved_goals, desired_goals = [], [], [], [], [], [], []\n",
    "# set desired goal\n",
    "desired_goal = her.desired_goal_func(her.agent.env)\n",
    "# set achieved goal\n",
    "state_achieved_goal = her.achieved_goal_func(her.agent.env)\n",
    "# add initial state and goals to local normalizer stats\n",
    "her.state_normalizer.update_local_stats(state)\n",
    "her.goal_normalizer.update_local_stats(desired_goal)\n",
    "her.goal_normalizer.update_local_stats(state_achieved_goal)\n",
    "# set done flag\n",
    "done = False\n",
    "# reset episode reward to 0\n",
    "episode_reward = 0\n",
    "# reset steps counter for the episode\n",
    "episode_steps = 0\n",
    "\n",
    "while not done:\n",
    "    # get normalized values for state and desired goal\n",
    "    state_norm = her.state_normalizer.normalize(state)\n",
    "    desired_goal_norm = her.goal_normalizer.normalize(desired_goal)\n",
    "    # get action\n",
    "    action = her.agent.get_action(state_norm, desired_goal_norm, grad=False)\n",
    "    # take action\n",
    "    next_state, reward, term, trunc, _ = her.agent.env.step(action)\n",
    "    # get next state achieved goal\n",
    "    next_state_achieved_goal = her.achieved_goal_func(her.agent.env)\n",
    "    # add next state and next state achieved goal to normalizers\n",
    "    her.state_normalizer.update_local_stats(next_state)\n",
    "    her.goal_normalizer.update_local_stats(next_state_achieved_goal)\n",
    "    # store trajectory in replay buffer (non normalized!)\n",
    "    her.agent.replay_buffer.add(state, action, reward, next_state, done,\\\n",
    "                                    state_achieved_goal, next_state_achieved_goal, desired_goal)\n",
    "    \n",
    "    # append step state, action, next state, and goals to respective lists\n",
    "    states.append(state)\n",
    "    actions.append(action)\n",
    "    next_states.append(next_state)\n",
    "    dones.append(done)\n",
    "    state_achieved_goals.append(state_achieved_goal)\n",
    "    next_state_achieved_goals.append(next_state_achieved_goal)\n",
    "    desired_goals.append(desired_goal)\n",
    "\n",
    "    # add to episode reward and increment steps counter\n",
    "    episode_reward += reward\n",
    "    episode_steps += 1\n",
    "    # update state and state achieved goal\n",
    "    state = next_state\n",
    "    state_achieved_goal = next_state_achieved_goal\n",
    "    # update done flag\n",
    "    if term or trunc:\n",
    "        done = True"
   ]
  },
  {
   "cell_type": "code",
   "execution_count": null,
   "metadata": {},
   "outputs": [],
   "source": [
    "# package episode states, actions, next states, and goals into trajectory tuple\n",
    "trajectory = (states, actions, next_states, dones, state_achieved_goals, next_state_achieved_goals, desired_goals)"
   ]
  },
  {
   "cell_type": "code",
   "execution_count": null,
   "metadata": {},
   "outputs": [],
   "source": [
    "states, actions, next_states, dones, state_achieved_goals, next_state_achieved_goals, desired_goals = trajectory"
   ]
  },
  {
   "cell_type": "code",
   "execution_count": null,
   "metadata": {},
   "outputs": [],
   "source": [
    "for idx, (s, a, ns, d, sag, nsag, dg) in enumerate(zip(states, actions, next_states, dones, state_achieved_goals, next_state_achieved_goals, desired_goals)):\n",
    "    print(f'a={a}, d={d}, sag={sag}, nsag={nsag}, dg={dg}')"
   ]
  },
  {
   "cell_type": "code",
   "execution_count": null,
   "metadata": {},
   "outputs": [],
   "source": [
    "strategy = \"future\"\n",
    "num_goals = 4\n",
    "\n",
    "# loop over each step in the trajectory to set new achieved goals, calculate new reward, and save to replay buffer\n",
    "for idx, (state, action, next_state, done, state_achieved_goal, next_state_achieved_goal, desired_goal) in enumerate(zip(states, actions, next_states, dones, state_achieved_goals, next_state_achieved_goals, desired_goals)):\n",
    "\n",
    "    if strategy == \"final\":\n",
    "        new_desired_goal = next_state_achieved_goals[-1]\n",
    "        new_reward = her.reward_fn(state_achieved_goal, next_state_achieved_goal, new_desired_goal)\n",
    "        print(f'transition: action={action}, reward={new_reward}, done={done}, state_achieved_goal={state_achieved_goal}, next_state_achieved_goal={next_state_achieved_goal}, desired_goal={new_desired_goal}')\n",
    "        her.agent.replay_buffer.add(state, action, new_reward, next_state, done, state_achieved_goal, next_state_achieved_goal, new_desired_goal)\n",
    "\n",
    "    if strategy == 'future':\n",
    "        for i in range(num_goals):\n",
    "            if idx + i + 1 >= len(states):\n",
    "                break\n",
    "            goal_idx = np.random.randint(idx + 1, len(states))\n",
    "            new_desired_goal = next_state_achieved_goals[goal_idx]\n",
    "            new_reward = her.reward_fn(state_achieved_goal, next_state_achieved_goal, new_desired_goal)\n",
    "            print(f'transition: action={action}, reward={new_reward}, done={done}, state_achieved_goal={state_achieved_goal}, next_state_achieved_goal={next_state_achieved_goal}, desired_goal={new_desired_goal}')\n",
    "            her.agent.replay_buffer.add(state, action, new_reward, next_state, done, state_achieved_goal, next_state_achieved_goal, new_desired_goal)\n",
    "    \n",
    "\n",
    "    \n"
   ]
  },
  {
   "cell_type": "code",
   "execution_count": null,
   "metadata": {},
   "outputs": [],
   "source": [
    "s, a, r, ns, d, sag, nsag, dg = her.agent.replay_buffer.sample(100)"
   ]
  },
  {
   "cell_type": "code",
   "execution_count": null,
   "metadata": {},
   "outputs": [],
   "source": [
    "for i in range(100):\n",
    "    print(f'{i}: a={a[i]}, r={r[i]}, d={d[i]}, sag={sag[i]}, nsag={nsag[i]}, dg={dg[i]} ')"
   ]
  },
  {
   "cell_type": "markdown",
   "metadata": {},
   "source": [
    "# HER Pendulum"
   ]
  },
  {
   "cell_type": "code",
   "execution_count": null,
   "metadata": {},
   "outputs": [],
   "source": [
    "env = gym.make('Pendulum-v1')"
   ]
  },
  {
   "cell_type": "code",
   "execution_count": null,
   "metadata": {},
   "outputs": [],
   "source": [
    "# build actor\n",
    "\n",
    "dense_layers = [\n",
    "    (\n",
    "        400,\n",
    "        \"relu\",\n",
    "        {\n",
    "            \"variance scaling\": {\n",
    "                \"scale\": 1.0,\n",
    "                \"mode\": \"fan_in\",\n",
    "                \"distribution\": \"uniform\",\n",
    "            }\n",
    "        },\n",
    "    ),\n",
    "    (\n",
    "        300,\n",
    "        \"relu\",\n",
    "        {\n",
    "            \"variance scaling\": {\n",
    "                \"scale\": 1.0,\n",
    "                \"mode\": \"fan_in\",\n",
    "                \"distribution\": \"uniform\",\n",
    "            }\n",
    "        },\n",
    "    )\n",
    "]\n",
    "\n",
    "actor = models.ActorModel(env, cnn_model=None, dense_layers=dense_layers, optimizer='Adam',\n",
    "                          optimizer_params={'weight_decay':0.01}, learning_rate=0.001, normalize=False)"
   ]
  },
  {
   "cell_type": "code",
   "execution_count": null,
   "metadata": {},
   "outputs": [],
   "source": [
    "# build critic\n",
    "\n",
    "state_layers = [\n",
    "    \n",
    "]\n",
    "\n",
    "merged_layers = [\n",
    "    (\n",
    "        64,\n",
    "        \"relu\",\n",
    "        {\n",
    "            \"kaiming uniform\": {\n",
    "                \n",
    "            }\n",
    "        },\n",
    "    ),\n",
    "    (\n",
    "        64,\n",
    "        \"relu\",\n",
    "        {\n",
    "            \"kaiming uniform\": {\n",
    "                \n",
    "            }\n",
    "        },\n",
    "    ),\n",
    "    (\n",
    "        64,\n",
    "        \"relu\",\n",
    "        {\n",
    "            \"kaiming uniform\": {\n",
    "                \n",
    "            }\n",
    "        },\n",
    "    )\n",
    "]\n",
    "\n",
    "\n",
    "critic = models.CriticModel(env=env, cnn_model=None, state_layers=state_layers, merged_layers=merged_layers, optimizer=\"Adam\", optimizer_params={'weight_decay':0.0}, learning_rate=0.001, normalize=False)"
   ]
  },
  {
   "cell_type": "code",
   "execution_count": null,
   "metadata": {},
   "outputs": [],
   "source": [
    "replay_buffer = helper.ReplayBuffer(env, 100000, (3,))\n",
    "noise = helper.OUNoise(shape=env.action_space.shape, dt=1.0, device='cuda')"
   ]
  },
  {
   "cell_type": "code",
   "execution_count": null,
   "metadata": {},
   "outputs": [],
   "source": [
    "ddpg_agent = rl_agents.DDPG(env=env,\n",
    "                            actor_model=actor,\n",
    "                            critic_model=critic,\n",
    "                            discount=0.99,\n",
    "                            tau=0.005,\n",
    "                            replay_buffer=replay_buffer,\n",
    "                            noise=noise,\n",
    "                            callbacks=[rl_callbacks.WandbCallback('Pendulum-v1')])"
   ]
  },
  {
   "cell_type": "code",
   "execution_count": null,
   "metadata": {},
   "outputs": [],
   "source": [
    "def desired_goal_func(env):\n",
    "    return np.array([0.0, 0.0, 0.0])\n",
    "\n",
    "def achieved_goal_func(env):\n",
    "    return env.get_wrapper_attr('_get_obs')()\n",
    "\n",
    "def reward_func(env):\n",
    "    pass"
   ]
  },
  {
   "cell_type": "code",
   "execution_count": null,
   "metadata": {},
   "outputs": [],
   "source": [
    "her = rl_agents.HER(\n",
    "    agent=ddpg_agent,\n",
    "    strategy='none',\n",
    "    desired_goal=desired_goal_func,\n",
    "    achieved_goal=achieved_goal_func,\n",
    "    reward_fn=reward_func,\n",
    "    normalizer_clip=10.0\n",
    ")"
   ]
  },
  {
   "cell_type": "code",
   "execution_count": null,
   "metadata": {},
   "outputs": [],
   "source": [
    "her.agent.critic_model"
   ]
  },
  {
   "cell_type": "code",
   "execution_count": null,
   "metadata": {},
   "outputs": [],
   "source": [
    "her.agent.target_critic_model"
   ]
  },
  {
   "cell_type": "code",
   "execution_count": null,
   "metadata": {},
   "outputs": [],
   "source": [
    "her.train(1,1,100,1)"
   ]
  },
  {
   "cell_type": "code",
   "execution_count": null,
   "metadata": {},
   "outputs": [],
   "source": [
    "wandb.finish()"
   ]
  },
  {
   "cell_type": "code",
   "execution_count": null,
   "metadata": {},
   "outputs": [],
   "source": [
    "state = env.observation_space.sample()\n",
    "state"
   ]
  },
  {
   "cell_type": "code",
   "execution_count": null,
   "metadata": {},
   "outputs": [],
   "source": [
    "her.agent.state_normalizer.normalize(state)"
   ]
  },
  {
   "cell_type": "code",
   "execution_count": null,
   "metadata": {},
   "outputs": [],
   "source": [
    "goal = her.desired_goal_func(her.agent.env)\n",
    "goal"
   ]
  },
  {
   "cell_type": "code",
   "execution_count": null,
   "metadata": {},
   "outputs": [],
   "source": [
    "her.agent.goal_normalizer.normalize(goal)"
   ]
  },
  {
   "cell_type": "code",
   "execution_count": null,
   "metadata": {},
   "outputs": [],
   "source": [
    "def remove_renders(folder_path):\n",
    "    # Iterate over the files in the folder\n",
    "    for filename in os.listdir(folder_path):\n",
    "        # Check if the file has a .mp4 or .meta.json extension\n",
    "        if filename.endswith(\".mp4\") or filename.endswith(\".meta.json\"):\n",
    "            # Construct the full file path\n",
    "            file_path = os.path.join(folder_path, filename)\n",
    "            # Remove the file\n",
    "            os.remove(file_path)"
   ]
  },
  {
   "cell_type": "code",
   "execution_count": null,
   "metadata": {},
   "outputs": [],
   "source": [
    "remove_renders(\"/workspaces/RL_Agents/pytorch/src/app/assets/models/ddpg/renders/training\")"
   ]
  },
  {
   "cell_type": "markdown",
   "metadata": {},
   "source": [
    "# HER Fetch-Reach (Robotics)"
   ]
  },
  {
   "cell_type": "code",
   "execution_count": null,
   "metadata": {},
   "outputs": [],
   "source": [
    "env = gym.make(\"FetchReach-v3\", max_episode_steps=50)"
   ]
  },
  {
   "cell_type": "code",
   "execution_count": null,
   "metadata": {},
   "outputs": [],
   "source": [
    "desired_goal_func, achieved_goal_func, reward_func = gym_helper.get_her_goal_functions(env)"
   ]
  },
  {
   "cell_type": "code",
   "execution_count": null,
   "metadata": {},
   "outputs": [],
   "source": [
    "achieved_goal_func(env)"
   ]
  },
  {
   "cell_type": "code",
   "execution_count": null,
   "metadata": {},
   "outputs": [],
   "source": [
    "env.get_wrapper_attr(\"_get_obs\")()"
   ]
  },
  {
   "cell_type": "code",
   "execution_count": null,
   "metadata": {},
   "outputs": [],
   "source": [
    "# reset env state\n",
    "env.reset()"
   ]
  },
  {
   "cell_type": "code",
   "execution_count": null,
   "metadata": {},
   "outputs": [],
   "source": [
    "goal_shape = desired_goal_func(env).shape"
   ]
  },
  {
   "cell_type": "code",
   "execution_count": null,
   "metadata": {},
   "outputs": [],
   "source": [
    "goal_shape"
   ]
  },
  {
   "cell_type": "code",
   "execution_count": null,
   "metadata": {},
   "outputs": [],
   "source": [
    "# build actor\n",
    "\n",
    "dense_layers = [\n",
    "    (\n",
    "        64,\n",
    "        \"relu\",\n",
    "        {\n",
    "            \"kaiming uniform\": {\n",
    "                \n",
    "            }\n",
    "        },\n",
    "    ),\n",
    "    (\n",
    "        64,\n",
    "        \"relu\",\n",
    "        {\n",
    "            \"kaiming uniform\": {\n",
    "                \n",
    "            }\n",
    "        },\n",
    "    ),\n",
    "    (\n",
    "        64,\n",
    "        \"relu\",\n",
    "        {\n",
    "            \"kaiming uniform\": {\n",
    "                \n",
    "            }\n",
    "        },\n",
    "    )\n",
    "]\n",
    "\n",
    "actor = models.ActorModel(env, cnn_model=None, dense_layers=dense_layers, goal_shape=goal_shape, optimizer='Adam',\n",
    "                          optimizer_params={'weight_decay':0.0}, learning_rate=0.00001, normalize_layers=False)"
   ]
  },
  {
   "cell_type": "code",
   "execution_count": null,
   "metadata": {},
   "outputs": [],
   "source": [
    "actor"
   ]
  },
  {
   "cell_type": "code",
   "execution_count": null,
   "metadata": {},
   "outputs": [],
   "source": [
    "# build critic\n",
    "\n",
    "state_layers = [\n",
    "    \n",
    "]\n",
    "\n",
    "merged_layers = [\n",
    "    (\n",
    "        64,\n",
    "        \"relu\",\n",
    "        {\n",
    "            \"kaiming uniform\": {\n",
    "                \n",
    "            }\n",
    "        },\n",
    "    ),\n",
    "    (\n",
    "        64,\n",
    "        \"relu\",\n",
    "        {\n",
    "            \"kaiming uniform\": {\n",
    "               \n",
    "            }\n",
    "        },\n",
    "    ),\n",
    "    (\n",
    "        64,\n",
    "        \"relu\",\n",
    "        {\n",
    "            \"kaiming uniform\": {\n",
    "                \n",
    "            }\n",
    "        },\n",
    "    ),\n",
    "]\n",
    "\n",
    "\n",
    "critic = models.CriticModel(env=env, cnn_model=None, state_layers=state_layers, merged_layers=merged_layers, goal_shape=goal_shape, optimizer=\"Adam\", optimizer_params={'weight_decay':0.0}, learning_rate=0.00001, normalize_layers=False)"
   ]
  },
  {
   "cell_type": "code",
   "execution_count": null,
   "metadata": {},
   "outputs": [],
   "source": [
    "critic"
   ]
  },
  {
   "cell_type": "code",
   "execution_count": null,
   "metadata": {},
   "outputs": [],
   "source": [
    "replay_buffer = helper.ReplayBuffer(env, 1000000, goal_shape)\n",
    "# noise = helper.OUNoise(shape=env.action_space.shape, dt=1.0, device='cuda')\n",
    "noise = helper.NormalNoise(shape=env.action_space.shape, mean=0.0, stddev=0.05)"
   ]
  },
  {
   "cell_type": "code",
   "execution_count": null,
   "metadata": {},
   "outputs": [],
   "source": [
    "ddpg_agent = rl_agents.DDPG(env=env,\n",
    "                            actor_model=actor,\n",
    "                            critic_model=critic,\n",
    "                            discount=0.98,\n",
    "                            tau=0.05,\n",
    "                            action_epsilon=0.2,\n",
    "                            replay_buffer=replay_buffer,\n",
    "                            batch_size=256,\n",
    "                            noise=noise,\n",
    "                            callbacks=[rl_callbacks.WandbCallback(\"FetchReach-v2\")])"
   ]
  },
  {
   "cell_type": "code",
   "execution_count": null,
   "metadata": {},
   "outputs": [],
   "source": [
    "ddpg_agent.critic_model"
   ]
  },
  {
   "cell_type": "code",
   "execution_count": null,
   "metadata": {},
   "outputs": [],
   "source": [
    "her = rl_agents.HER(\n",
    "    agent=ddpg_agent,\n",
    "    strategy='future',\n",
    "    tolerance=0.05,\n",
    "    num_goals=4,\n",
    "    desired_goal=desired_goal_func,\n",
    "    achieved_goal=achieved_goal_func,\n",
    "    reward_fn=reward_func,\n",
    "    normalizer_clip=5.0\n",
    ")"
   ]
  },
  {
   "cell_type": "code",
   "execution_count": null,
   "metadata": {},
   "outputs": [],
   "source": [
    "her.train(num_epochs=50,\n",
    "          num_cycles=50,\n",
    "          num_episodes=16,\n",
    "          num_updates=40,\n",
    "          render=True,\n",
    "          render_freq=1000)"
   ]
  },
  {
   "cell_type": "code",
   "execution_count": null,
   "metadata": {},
   "outputs": [],
   "source": [
    "states, action, rewards, next_states, dones, achieved_goals, next_achieved_goals, desired_goals = her.agent.replay_buffer.sample(2)"
   ]
  },
  {
   "cell_type": "code",
   "execution_count": null,
   "metadata": {},
   "outputs": [],
   "source": [
    "desired_goals"
   ]
  },
  {
   "cell_type": "code",
   "execution_count": null,
   "metadata": {},
   "outputs": [],
   "source": [
    "her.agent.env.get_wrapper_attr(\"distance_threshold\")"
   ]
  },
  {
   "cell_type": "code",
   "execution_count": null,
   "metadata": {},
   "outputs": [],
   "source": [
    "# get success\n",
    "her.agent.env.get_wrapper_attr(\"_is_success\")(achieved_goal_func(her.agent.env), desired_goal_func(her.agent.env))"
   ]
  },
  {
   "cell_type": "code",
   "execution_count": null,
   "metadata": {},
   "outputs": [],
   "source": [
    "her.agent.env.get_wrapper_attr(\"goal_distance\")(next_state_achieved_goal, desired_goal, None)"
   ]
  },
  {
   "cell_type": "code",
   "execution_count": null,
   "metadata": {},
   "outputs": [],
   "source": [
    "pusher_her = rl_agents.HER.load(\"/workspaces/RL_Agents/pytorch/src/app/assets/models/her\")"
   ]
  },
  {
   "cell_type": "code",
   "execution_count": null,
   "metadata": {},
   "outputs": [],
   "source": [
    "pusher_her.agent.env.reset()"
   ]
  },
  {
   "cell_type": "code",
   "execution_count": null,
   "metadata": {},
   "outputs": [],
   "source": [
    "pusher_her.get_config()"
   ]
  },
  {
   "cell_type": "code",
   "execution_count": null,
   "metadata": {},
   "outputs": [],
   "source": [
    "wandb.finish()"
   ]
  },
  {
   "cell_type": "code",
   "execution_count": null,
   "metadata": {},
   "outputs": [],
   "source": [
    "np.linalg.norm(pusher_her.agent.env.get_wrapper_attr(\"get_body_com\")(\"goal\") - pusher_her.agent.env.get_wrapper_attr(\"get_body_com\")(\"object\"))"
   ]
  },
  {
   "cell_type": "code",
   "execution_count": null,
   "metadata": {},
   "outputs": [],
   "source": [
    "pusher_her.agent.replay_buffer.get_config()"
   ]
  },
  {
   "cell_type": "code",
   "execution_count": null,
   "metadata": {},
   "outputs": [],
   "source": [
    "\n",
    "pusher_her.agent.replay_buffer.desired_goals"
   ]
  },
  {
   "cell_type": "code",
   "execution_count": null,
   "metadata": {},
   "outputs": [],
   "source": [
    "## TEST ENV\n",
    "env = gym.make(\"Pusher-v5\", render_mode=\"rgb_array\")"
   ]
  },
  {
   "cell_type": "code",
   "execution_count": null,
   "metadata": {},
   "outputs": [],
   "source": [
    "env = gym.wrappers.RecordVideo(\n",
    "                    env,\n",
    "                    \"/renders/training\",\n",
    "                    episode_trigger=lambda x: True,\n",
    "                )\n"
   ]
  },
  {
   "cell_type": "code",
   "execution_count": null,
   "metadata": {},
   "outputs": [],
   "source": [
    "state, _ = env.reset()\n",
    "\n",
    "for i in range(1000):\n",
    "# take action\n",
    "    next_state, reward, term, trunc, _ = env.step(env.action_space.sample())\n",
    "env.close()"
   ]
  },
  {
   "cell_type": "markdown",
   "metadata": {},
   "source": [
    "# HER Fetch Push (Robitics)"
   ]
  },
  {
   "cell_type": "code",
   "execution_count": null,
   "metadata": {},
   "outputs": [],
   "source": [
    "env = gym.make('FetchPush-v2')"
   ]
  },
  {
   "cell_type": "code",
   "execution_count": null,
   "metadata": {},
   "outputs": [],
   "source": [
    "desired_goal_func, achieved_goal_func, reward_func = gym_helper.get_her_goal_functions(env)"
   ]
  },
  {
   "cell_type": "code",
   "execution_count": null,
   "metadata": {},
   "outputs": [],
   "source": [
    "# reset env state\n",
    "env.reset()"
   ]
  },
  {
   "cell_type": "code",
   "execution_count": null,
   "metadata": {},
   "outputs": [],
   "source": [
    "goal_shape = desired_goal_func(env).shape"
   ]
  },
  {
   "cell_type": "code",
   "execution_count": null,
   "metadata": {},
   "outputs": [],
   "source": [
    "# build actor\n",
    "\n",
    "dense_layers = [\n",
    "    (\n",
    "        64,\n",
    "        \"relu\",\n",
    "        {\n",
    "            \"kaiming uniform\": {\n",
    "                \n",
    "            }\n",
    "        },\n",
    "    ),\n",
    "    (\n",
    "        64,\n",
    "        \"relu\",\n",
    "        {\n",
    "            \"kaiming uniform\": {\n",
    "                \n",
    "            }\n",
    "        },\n",
    "    ),\n",
    "    (\n",
    "        64,\n",
    "        \"relu\",\n",
    "        {\n",
    "            \"kaiming uniform\": {\n",
    "                \n",
    "            }\n",
    "        },\n",
    "    )\n",
    "]\n",
    "\n",
    "actor = models.ActorModel(env, cnn_model=None, dense_layers=dense_layers, goal_shape=goal_shape, optimizer='Adam',\n",
    "                          optimizer_params={'weight_decay':0.0}, learning_rate=0.00001, normalize_layers=False)"
   ]
  },
  {
   "cell_type": "code",
   "execution_count": null,
   "metadata": {},
   "outputs": [],
   "source": [
    "# build critic\n",
    "\n",
    "state_layers = [\n",
    "    \n",
    "]\n",
    "\n",
    "merged_layers = [\n",
    "    (\n",
    "        64,\n",
    "        \"relu\",\n",
    "        {\n",
    "            \"kaiming uniform\": {\n",
    "                \n",
    "            }\n",
    "        },\n",
    "    ),\n",
    "    (\n",
    "        64,\n",
    "        \"relu\",\n",
    "        {\n",
    "            \"kaiming uniform\": {\n",
    "               \n",
    "            }\n",
    "        },\n",
    "    ),\n",
    "    (\n",
    "        64,\n",
    "        \"relu\",\n",
    "        {\n",
    "            \"kaiming uniform\": {\n",
    "                \n",
    "            }\n",
    "        },\n",
    "    ),\n",
    "]\n",
    "\n",
    "\n",
    "critic = models.CriticModel(env=env, cnn_model=None, state_layers=state_layers, merged_layers=merged_layers, goal_shape=goal_shape, optimizer=\"Adam\", optimizer_params={'weight_decay':0.0}, learning_rate=0.00001, normalize_layers=False)"
   ]
  },
  {
   "cell_type": "code",
   "execution_count": null,
   "metadata": {},
   "outputs": [],
   "source": [
    "replay_buffer = helper.ReplayBuffer(env, 1000000, goal_shape)\n",
    "# noise = helper.OUNoise(shape=env.action_space.shape, dt=1.0, device='cuda')\n",
    "noise = helper.NormalNoise(shape=env.action_space.shape, mean=0.0, stddev=0.05)"
   ]
  },
  {
   "cell_type": "code",
   "execution_count": null,
   "metadata": {},
   "outputs": [],
   "source": [
    "ddpg_agent = rl_agents.DDPG(env=env,\n",
    "                            actor_model=actor,\n",
    "                            critic_model=critic,\n",
    "                            discount=0.98,\n",
    "                            tau=0.05,\n",
    "                            action_epsilon=0.3,\n",
    "                            replay_buffer=replay_buffer,\n",
    "                            batch_size=128,\n",
    "                            noise=noise,\n",
    "                            callbacks=[rl_callbacks.WandbCallback(\"FetchPush-v2\")],\n",
    "                            save_dir=\"fetch_push/models/ddpg/\"\n",
    "                            )"
   ]
  },
  {
   "cell_type": "code",
   "execution_count": null,
   "metadata": {},
   "outputs": [],
   "source": [
    "her = rl_agents.HER(\n",
    "    agent=ddpg_agent,\n",
    "    strategy='final',\n",
    "    tolerance=0.05,\n",
    "    num_goals=4,\n",
    "    desired_goal=desired_goal_func,\n",
    "    achieved_goal=achieved_goal_func,\n",
    "    reward_fn=reward_func,\n",
    "    normalizer_clip=5.0,\n",
    "    save_dir=\"fetch_push/models/her/\"\n",
    ")"
   ]
  },
  {
   "cell_type": "code",
   "execution_count": null,
   "metadata": {},
   "outputs": [],
   "source": [
    "her.train(num_epochs=50,\n",
    "          num_cycles=50,\n",
    "          num_episodes=16,\n",
    "          num_updates=40,\n",
    "          render=True,\n",
    "          render_freq=1000)"
   ]
  },
  {
   "cell_type": "markdown",
   "metadata": {},
   "source": [
    "# TESTING MULTITHREADING"
   ]
  },
  {
   "cell_type": "code",
   "execution_count": null,
   "metadata": {},
   "outputs": [],
   "source": [
    "env = gym.make('FetchPush-v2')"
   ]
  },
  {
   "cell_type": "code",
   "execution_count": null,
   "metadata": {},
   "outputs": [],
   "source": [
    "desired_goal_func, achieved_goal_func, reward_func = gym_helper.get_her_goal_functions(env)"
   ]
  },
  {
   "cell_type": "code",
   "execution_count": null,
   "metadata": {},
   "outputs": [],
   "source": [
    "# reset env state\n",
    "env.reset()"
   ]
  },
  {
   "cell_type": "code",
   "execution_count": null,
   "metadata": {},
   "outputs": [],
   "source": [
    "goal_shape = desired_goal_func(env).shape"
   ]
  },
  {
   "cell_type": "code",
   "execution_count": null,
   "metadata": {},
   "outputs": [],
   "source": [
    "# build actor\n",
    "\n",
    "dense_layers = [\n",
    "    (\n",
    "        64,\n",
    "        \"relu\",\n",
    "        {\n",
    "            \"kaiming uniform\": {\n",
    "                \n",
    "            }\n",
    "        },\n",
    "    ),\n",
    "    (\n",
    "        64,\n",
    "        \"relu\",\n",
    "        {\n",
    "            \"kaiming uniform\": {\n",
    "                \n",
    "            }\n",
    "        },\n",
    "    ),\n",
    "    (\n",
    "        64,\n",
    "        \"relu\",\n",
    "        {\n",
    "            \"kaiming uniform\": {\n",
    "                \n",
    "            }\n",
    "        },\n",
    "    )\n",
    "]\n",
    "\n",
    "actor = models.ActorModel(env, cnn_model=None, dense_layers=dense_layers, goal_shape=goal_shape, optimizer='Adam',\n",
    "                          optimizer_params={'weight_decay':0.0}, learning_rate=0.00001, normalize_layers=False)"
   ]
  },
  {
   "cell_type": "code",
   "execution_count": null,
   "metadata": {},
   "outputs": [],
   "source": [
    "# build critic\n",
    "\n",
    "state_layers = [\n",
    "    \n",
    "]\n",
    "\n",
    "merged_layers = [\n",
    "    (\n",
    "        64,\n",
    "        \"relu\",\n",
    "        {\n",
    "            \"kaiming uniform\": {\n",
    "                \n",
    "            }\n",
    "        },\n",
    "    ),\n",
    "    (\n",
    "        64,\n",
    "        \"relu\",\n",
    "        {\n",
    "            \"kaiming uniform\": {\n",
    "               \n",
    "            }\n",
    "        },\n",
    "    ),\n",
    "    (\n",
    "        64,\n",
    "        \"relu\",\n",
    "        {\n",
    "            \"kaiming uniform\": {\n",
    "                \n",
    "            }\n",
    "        },\n",
    "    ),\n",
    "]\n",
    "\n",
    "\n",
    "critic = models.CriticModel(env=env, cnn_model=None, state_layers=state_layers, merged_layers=merged_layers, goal_shape=goal_shape, optimizer=\"Adam\", optimizer_params={'weight_decay':0.0}, learning_rate=0.00001, normalize_layers=False)"
   ]
  },
  {
   "cell_type": "code",
   "execution_count": null,
   "metadata": {},
   "outputs": [],
   "source": [
    "replay_buffer = helper.ReplayBuffer(env, 1000000, goal_shape)\n",
    "# noise = helper.OUNoise(shape=env.action_space.shape, dt=1.0, device='cuda')\n",
    "noise = helper.NormalNoise(shape=env.action_space.shape, mean=0.0, stddev=0.05)"
   ]
  },
  {
   "cell_type": "code",
   "execution_count": null,
   "metadata": {},
   "outputs": [],
   "source": [
    "ddpg_agent = rl_agents.DDPG(env=env,\n",
    "                            actor_model=actor,\n",
    "                            critic_model=critic,\n",
    "                            discount=0.98,\n",
    "                            tau=0.05,\n",
    "                            action_epsilon=0.3,\n",
    "                            replay_buffer=replay_buffer,\n",
    "                            batch_size=128,\n",
    "                            noise=noise,\n",
    "                            callbacks=[rl_callbacks.WandbCallback(\"FetchPush-v2\")],\n",
    "                            save_dir=\"fetch_push/models/ddpg/\"\n",
    "                            )"
   ]
  },
  {
   "cell_type": "code",
   "execution_count": null,
   "metadata": {},
   "outputs": [],
   "source": [
    "her = rl_agents.HER(\n",
    "    agent=ddpg_agent,\n",
    "    strategy='final',\n",
    "    num_workers=4,\n",
    "    tolerance=0.05,\n",
    "    num_goals=4,\n",
    "    desired_goal=desired_goal_func,\n",
    "    achieved_goal=achieved_goal_func,\n",
    "    reward_fn=reward_func,\n",
    "    normalizer_clip=5.0,\n",
    "    save_dir=\"fetch_push/models/her/\"\n",
    ")"
   ]
  },
  {
   "cell_type": "code",
   "execution_count": null,
   "metadata": {},
   "outputs": [],
   "source": [
    "her.train()"
   ]
  },
  {
   "cell_type": "markdown",
   "metadata": {},
   "source": [
    "# TESTING"
   ]
  },
  {
   "cell_type": "code",
   "execution_count": null,
   "metadata": {},
   "outputs": [],
   "source": [
    "# load config\n",
    "config_path = \"/workspaces/RL_Agents/pytorch/src/app/HER_Test/her/config.json\"\n",
    "with open(config_path, 'r') as file:\n",
    "    config = json.load(file)"
   ]
  },
  {
   "cell_type": "code",
   "execution_count": null,
   "metadata": {},
   "outputs": [],
   "source": [
    "config"
   ]
  },
  {
   "cell_type": "code",
   "execution_count": null,
   "metadata": {},
   "outputs": [],
   "source": [
    "agent = rl_agents.HER.load(config)"
   ]
  },
  {
   "cell_type": "code",
   "execution_count": null,
   "metadata": {},
   "outputs": [],
   "source": [
    "for callback in agent.agent.callbacks:\n",
    "    print(callback._sweep)"
   ]
  },
  {
   "cell_type": "markdown",
   "metadata": {},
   "source": [
    "# Co Occurence"
   ]
  },
  {
   "cell_type": "code",
   "execution_count": null,
   "metadata": {},
   "outputs": [],
   "source": [
    "import subprocess"
   ]
  },
  {
   "cell_type": "code",
   "execution_count": null,
   "metadata": {},
   "outputs": [],
   "source": [
    "# Define the path to your JSON configuration file\n",
    "config_file_path = 'assets/wandb_config.json'\n",
    "\n",
    "# Read the JSON configuration file\n",
    "with open(config_file_path, 'r') as file:\n",
    "    wandb_config = json.load(file)\n",
    "\n",
    "# Print the configuration to verify it has been loaded correctly\n",
    "print(wandb_config)"
   ]
  },
  {
   "cell_type": "code",
   "execution_count": null,
   "metadata": {},
   "outputs": [],
   "source": [
    "# Define the path to your JSON configuration file\n",
    "config_file_path = 'assets/sweep_config.json'\n",
    "\n",
    "# Read the JSON configuration file\n",
    "with open(config_file_path, 'r') as file:\n",
    "    sweep_config = json.load(file)\n",
    "\n",
    "# Print the configuration to verify it has been loaded correctly\n",
    "print(sweep_config)"
   ]
  },
  {
   "cell_type": "code",
   "execution_count": null,
   "metadata": {},
   "outputs": [],
   "source": [
    "# Save the updated configuration to a train config file\n",
    "os.makedirs('sweep', exist_ok=True)\n",
    "train_config_path = os.path.join(os.getcwd(), 'sweep/train_config.json')\n",
    "with open(train_config_path, 'w') as f:\n",
    "    json.dump(sweep_config, f)\n",
    "\n",
    "# Save and Set the sweep config path\n",
    "sweep_config_path = os.path.join(os.getcwd(), 'sweep/sweep_config.json')\n",
    "with open(sweep_config_path, 'w') as f:\n",
    "    json.dump(wandb_config, f)"
   ]
  },
  {
   "cell_type": "code",
   "execution_count": null,
   "metadata": {},
   "outputs": [],
   "source": [
    "command = ['python', 'sweep.py']\n",
    "\n",
    "# Set the environment variable\n",
    "os.environ['WANDB_DISABLE_SERVICE'] = 'true'\n",
    "\n",
    "subprocess.Popen(command)"
   ]
  },
  {
   "cell_type": "code",
   "execution_count": null,
   "metadata": {},
   "outputs": [],
   "source": [
    "# Set the environment variable\n",
    "os.environ['WANDB_DISABLE_SERVICE'] = 'true'"
   ]
  },
  {
   "cell_type": "code",
   "execution_count": null,
   "metadata": {},
   "outputs": [],
   "source": [
    "# Define the path to your JSON configuration file\n",
    "config_file_path = 'sweep/sweep_config.json'\n",
    "\n",
    "# Read the JSON configuration file\n",
    "with open(config_file_path, 'r') as file:\n",
    "    sweep_config = json.load(file)\n",
    "\n",
    "# Print the configuration to verify it has been loaded correctly\n",
    "print(sweep_config)"
   ]
  },
  {
   "cell_type": "code",
   "execution_count": null,
   "metadata": {},
   "outputs": [],
   "source": [
    "# Define the path to your JSON configuration file\n",
    "config_file_path = 'sweep/train_config.json'\n",
    "\n",
    "# Read the JSON configuration file\n",
    "with open(config_file_path, 'r') as file:\n",
    "    train_config = json.load(file)\n",
    "\n",
    "# Print the configuration to verify it has been loaded correctly\n",
    "print(train_config)"
   ]
  },
  {
   "cell_type": "code",
   "execution_count": null,
   "metadata": {},
   "outputs": [],
   "source": [
    "sweep_id = wandb.sweep(sweep=sweep_config, project=sweep_config[\"project\"])\n",
    "# loop over num wandb agents\n",
    "num_agents = 1\n",
    "# for agent in range(num_agents):\n",
    "wandb.agent(\n",
    "    sweep_id,\n",
    "    function=lambda: wandb_support._run_sweep(sweep_config, train_config,),\n",
    "    count=train_config['num_sweeps'],\n",
    "    project=sweep_config[\"project\"],\n",
    ")"
   ]
  },
  {
   "cell_type": "code",
   "execution_count": null,
   "metadata": {},
   "outputs": [],
   "source": [
    "sweep_config"
   ]
  },
  {
   "cell_type": "markdown",
   "metadata": {},
   "source": [
    "# PPO"
   ]
  },
  {
   "cell_type": "code",
   "execution_count": null,
   "metadata": {},
   "outputs": [],
   "source": [
    "from pathlib import Path\n",
    "from typing import List, Tuple\n",
    "import torch.nn.functional as F\n",
    "from torch.distributions import Categorical, Beta, Normal, kl_divergence\n",
    "import time\n",
    "import cv2"
   ]
  },
  {
   "cell_type": "code",
   "execution_count": null,
   "metadata": {},
   "outputs": [],
   "source": [
    "# PARAMS\n",
    "# env_id = 'Pendulum-v1'\n",
    "# env_id = 'LunarLanderContinuous-v3'\n",
    "env_id = 'BipedalWalker-v3'\n",
    "policy_lr = 3e-4\n",
    "value_lr = 2e-5\n",
    "entropy_coeff = 0.1\n",
    "kl_coeff = 0.1\n",
    "loss = 'kl'\n",
    "timesteps = 100_000\n",
    "num_envs = 10\n",
    "device = 'cuda'\n",
    "\n",
    "seed = 42\n",
    "env = gym.make_vec(env_id, num_envs)\n",
    "# env = gym.make('BipedalWalker-v3')\n",
    "# _,_ = env.reset()\n",
    "# sample = env.action_space.sample()\n",
    "# if isinstance(sample, np.int64) or isinstance(sample, np.int32):\n",
    "#     print(f'discrete action space of size {env.action_space.n}')\n",
    "# elif isinstance(sample, np.ndarray):\n",
    "#     print(f'continuous action space of size {env.action_space.shape}')\n",
    "\n",
    "T.manual_seed(seed)\n",
    "T.cuda.manual_seed(seed)\n",
    "np.random.seed(seed)\n",
    "gym.utils.seeding.np_random.seed = seed\n",
    "# Build policy model\n",
    "dense_layers = [(128,\"tanh\",{\"default\":{}}),(128,\"tanh\",{\"default\":{}})]\n",
    "policy = StochasticContinuousPolicy(env, num_envs, dense_layers, learning_rate=policy_lr, distribution='Beta', device=device)\n",
    "dense_layers = [(128,\"tanh\",{\"default\":{}}),(128,\"tanh\",{\"default\":{}})]\n",
    "value_function = ValueModel(env, dense_layers, learning_rate=value_lr, device=device)\n",
    "ppo_agent_hybrid1 = PPO(env, policy, value_function, distribution='Beta', discount=0.99, gae_coefficient=0.95, policy_clip=0.2, entropy_coefficient=entropy_coeff, kl_coefficient=kl_coeff, loss=loss)\n",
    "hybrid_train_info_1 = ppo_agent_hybrid1.train(timesteps=timesteps, trajectory_length=2048, batch_size=640, learning_epochs=10, num_envs=num_envs)\n",
    "\n",
    "# seed = 43\n",
    "# env = gym.make(env_id)\n",
    "# T.manual_seed(seed)\n",
    "# T.cuda.manual_seed(seed)\n",
    "# np.random.seed(seed)\n",
    "# gym.utils.seeding.np_random.seed = seed\n",
    "# # Build policy model\n",
    "# dense_layers = [(128,\"tanh\",{\"default\":{}}),(128,\"tanh\",{\"default\":{}})]\n",
    "# policy = StochasticContinuousPolicy(env, dense_layers, learning_rate=3e-4)\n",
    "# dense_layers = [(128,\"tanh\",{\"default\":{}}),(128,\"tanh\",{\"default\":{}})]\n",
    "# value_function = ValueModel(env, dense_layers, learning_rate=3e-4)\n",
    "# ppo_agent_hybrid2 = PPO(env, policy, value_function, distribution='Beta', discount=0.99, gae_coefficient=0.95, policy_clip=0.2, entropy_coefficient=entropy_coeff, kl_coefficient=kl_coeff, loss=loss)\n",
    "# hybrid_train_info_2 = ppo_agent_hybrid2.train(timesteps=timesteps, trajectory_length=2048, batch_size=64, learning_epochs=10)\n",
    "\n",
    "# seed = 44\n",
    "# env = gym.make(env_id)\n",
    "# T.manual_seed(seed)\n",
    "# T.cuda.manual_seed(seed)\n",
    "# np.random.seed(seed)\n",
    "# gym.utils.seeding.np_random.seed = seed\n",
    "# # Build policy model\n",
    "# dense_layers = [(128,\"tanh\",{\"default\":{}}),(128,\"tanh\",{\"default\":{}})]\n",
    "# policy = StochasticContinuousPolicy(env, dense_layers, learning_rate=3e-4)\n",
    "# dense_layers = [(128,\"tanh\",{\"default\":{}}),(128,\"tanh\",{\"default\":{}})]\n",
    "# value_function = ValueModel(env, dense_layers, learning_rate=3e-4)\n",
    "# ppo_agent_hybrid3 = PPO(env, policy, value_function, distribution='Beta', discount=0.99, gae_coefficient=0.95, policy_clip=0.2, entropy_coefficient=entropy_coeff, kl_coefficient=kl_coeff, loss=loss)\n",
    "# hybrid_train_info_3 = ppo_agent_hybrid3.train(timesteps=timesteps, trajectory_length=2048, batch_size=64, learning_epochs=10)\n",
    "# hybrid_test_info = ppo_agent_hybrid.test(1000, 'PPO_hybrid', 100)"
   ]
  },
  {
   "cell_type": "code",
   "execution_count": null,
   "metadata": {},
   "outputs": [],
   "source": [
    "# PARAMS\n",
    "# env_id = 'Pendulum-v1'\n",
    "# env_id = 'LunarLanderContinuous-v3'\n",
    "env_id = 'BipedalWalker-v3'\n",
    "policy_lr = 3e-4\n",
    "value_lr = 2e-5\n",
    "entropy_coeff = 0.1\n",
    "kl_coeff = 0.01\n",
    "loss = 'kl'\n",
    "timesteps = 100_000\n",
    "num_envs = 10\n",
    "device = 'cuda'\n",
    "\n",
    "seed = 42\n",
    "env = gym.make_vec(env_id, num_envs)\n",
    "# env = gym.make('BipedalWalker-v3')\n",
    "# _,_ = env.reset()\n",
    "# sample = env.action_space.sample()\n",
    "# if isinstance(sample, np.int64) or isinstance(sample, np.int32):\n",
    "#     print(f'discrete action space of size {env.action_space.n}')\n",
    "# elif isinstance(sample, np.ndarray):\n",
    "#     print(f'continuous action space of size {env.action_space.shape}')\n",
    "\n",
    "T.manual_seed(seed)\n",
    "T.cuda.manual_seed(seed)\n",
    "np.random.seed(seed)\n",
    "gym.utils.seeding.np_random.seed = seed\n",
    "# Build policy model\n",
    "dense_layers = [(128,\"tanh\",{\"default\":{}}),(128,\"tanh\",{\"default\":{}})]\n",
    "policy = StochasticContinuousPolicy(env, num_envs, dense_layers, learning_rate=policy_lr, distribution='Beta', device=device)\n",
    "dense_layers = [(128,\"tanh\",{\"default\":{}}),(128,\"tanh\",{\"default\":{}})]\n",
    "value_function = ValueModel(env, dense_layers, learning_rate=value_lr, device=device)\n",
    "ppo_agent_hybrid2 = PPO(env, policy, value_function, distribution='Beta', discount=0.99, gae_coefficient=0.95, policy_clip=0.2, entropy_coefficient=entropy_coeff, kl_coefficient=kl_coeff, loss=loss)\n",
    "hybrid_train_info_2 = ppo_agent_hybrid2.train(timesteps=timesteps, trajectory_length=2048, batch_size=640, learning_epochs=10, num_envs=num_envs)\n",
    "\n",
    "# seed = 43\n",
    "# env = gym.make(env_id)\n",
    "# T.manual_seed(seed)\n",
    "# T.cuda.manual_seed(seed)\n",
    "# np.random.seed(seed)\n",
    "# gym.utils.seeding.np_random.seed = seed\n",
    "# # Build policy model\n",
    "# dense_layers = [(128,\"tanh\",{\"default\":{}}),(128,\"tanh\",{\"default\":{}})]\n",
    "# policy = StochasticContinuousPolicy(env, dense_layers, learning_rate=3e-4)\n",
    "# dense_layers = [(128,\"tanh\",{\"default\":{}}),(128,\"tanh\",{\"default\":{}})]\n",
    "# value_function = ValueModel(env, dense_layers, learning_rate=3e-4)\n",
    "# ppo_agent_hybrid2 = PPO(env, policy, value_function, distribution='Beta', discount=0.99, gae_coefficient=0.95, policy_clip=0.2, entropy_coefficient=entropy_coeff, kl_coefficient=kl_coeff, loss=loss)\n",
    "# hybrid_train_info_2 = ppo_agent_hybrid2.train(timesteps=timesteps, trajectory_length=2048, batch_size=64, learning_epochs=10)\n",
    "\n",
    "# seed = 44\n",
    "# env = gym.make(env_id)\n",
    "# T.manual_seed(seed)\n",
    "# T.cuda.manual_seed(seed)\n",
    "# np.random.seed(seed)\n",
    "# gym.utils.seeding.np_random.seed = seed\n",
    "# # Build policy model\n",
    "# dense_layers = [(128,\"tanh\",{\"default\":{}}),(128,\"tanh\",{\"default\":{}})]\n",
    "# policy = StochasticContinuousPolicy(env, dense_layers, learning_rate=3e-4)\n",
    "# dense_layers = [(128,\"tanh\",{\"default\":{}}),(128,\"tanh\",{\"default\":{}})]\n",
    "# value_function = ValueModel(env, dense_layers, learning_rate=3e-4)\n",
    "# ppo_agent_hybrid3 = PPO(env, policy, value_function, distribution='Beta', discount=0.99, gae_coefficient=0.95, policy_clip=0.2, entropy_coefficient=entropy_coeff, kl_coefficient=kl_coeff, loss=loss)\n",
    "# hybrid_train_info_3 = ppo_agent_hybrid3.train(timesteps=timesteps, trajectory_length=2048, batch_size=64, learning_epochs=10)\n",
    "# hybrid_test_info = ppo_agent_hybrid.test(1000, 'PPO_hybrid', 100)"
   ]
  },
  {
   "cell_type": "code",
   "execution_count": null,
   "metadata": {},
   "outputs": [],
   "source": [
    "## PARAMS ##\n",
    "# env_id = 'Pendulum-v1'\n",
    "# env_id = 'LunarLanderContinuous-v3'\n",
    "# env_id = 'BipedalWalker-v3'\n",
    "env_id = 'Humanoid-v5'\n",
    "# env_id = \"Reacher-v5\"\n",
    "# env_id = \"Walker2d-v5\"\n",
    "# env_id = 'ALE/SpaceInvaders-ram-v5'\n",
    "# env_id = \"CarRacing-v2\"\n",
    "# env_id = \"BipedalWalkerHardcore-v3\"\n",
    "\n",
    "timesteps = 1_000_000\n",
    "trajectory_length = 2000\n",
    "batch_size = 64\n",
    "learning_epochs = 10\n",
    "num_envs = 16\n",
    "policy_lr = 3e-4\n",
    "value_lr = 2e-5\n",
    "policy_clip = 0.2\n",
    "entropy_coeff = 0.001\n",
    "loss = 'hybrid'\n",
    "kl_coeff = 0.0\n",
    "normalize_advantages = True\n",
    "normalize_values = False\n",
    "norm_clip = np.inf\n",
    "grad_clip = 40.0\n",
    "reward_clip = 1.0\n",
    "lambda_ = 0.0\n",
    "distribution = 'beta'\n",
    "device = 'cuda'\n",
    "\n",
    "# Render Settings\n",
    "render_freq = 100\n",
    "\n",
    "## WANDB ##\n",
    "project_name = 'Humanoid-v5'\n",
    "run_name = None\n",
    "callbacks = [WandbCallback(project_name, run_name)]\n",
    "# callbacks = []\n",
    "\n",
    "seed = 42\n",
    "env = gym.make(env_id)\n",
    "\n",
    "save_dir = 'Humanoid'\n",
    "# env = gym.make('BipedalWalker-v3')\n",
    "# _,_ = env.reset()\n",
    "# sample = env.action_space.sample()\n",
    "# if isinstance(sample, np.int64) or isinstance(sample, np.int32):\n",
    "#     print(f'discrete action space of size {env.action_space.n}')\n",
    "# elif isinstance(sample, np.ndarray):\n",
    "#     print(f'continuous action space of size {env.action_space.shape}')\n",
    "\n",
    "# T.manual_seed(seed)\n",
    "# T.cuda.manual_seed(seed)\n",
    "# np.random.seed(seed)\n",
    "# gym.utils.seeding.np_random.seed = seed\n",
    "\n",
    "# Build policy model\n",
    "# dense_layers = [(64,\"tanh\",{\"default\":{}}),(64,\"tanh\",{\"default\":{}})]\n",
    "layer_config = [\n",
    "    # {'type': 'cnn', 'params': {'out_channels': 32, 'kernel_size': (8, 8), 'stride': 4, 'padding': 0}},\n",
    "    # {'type': 'cnn', 'params': {'out_channels': 64, 'kernel_size': (4, 4), 'stride': 2, 'padding': 0}},\n",
    "    # {'type': 'cnn', 'params': {'out_channels': 64, 'kernel_size': (3, 3), 'stride': 1, 'padding': 0}},\n",
    "    # {'type': 'flatten'},\n",
    "    {'type': 'dense', 'params': {'units': 128, 'kernel': 'default', 'kernel params':{}}},\n",
    "    {'type': 'tanh'},\n",
    "    {'type': 'dense', 'params': {'units': 64, 'kernel': 'default', 'kernel params':{}}},\n",
    "    {'type': 'tanh'},\n",
    "]\n",
    "output_layer_kernel = {'type': 'dense', 'params': {'kernel': 'default', 'kernel params':{}}},\n",
    "policy = StochasticContinuousPolicy(env, layer_config, output_layer_kernel, learning_rate=policy_lr, distribution=distribution, device=device)\n",
    "# dense_layers = [(64,\"tanh\",{\"default\":{}}),(64,\"tanh\",{\"default\":{}})]\n",
    "value_function = ValueModel(env, layer_config, output_layer_kernel, learning_rate=value_lr, device=device)\n",
    "ppo = PPO(env, policy, value_function, distribution=distribution, discount=0.99, gae_coefficient=0.95, policy_clip=policy_clip, entropy_coefficient=entropy_coeff,\n",
    "          loss=loss, kl_coefficient=kl_coeff, normalize_advantages=normalize_advantages, normalize_values=normalize_values, value_normalizer_clip=norm_clip, policy_grad_clip=grad_clip,\n",
    "          reward_clip=reward_clip, lambda_=lambda_, callbacks=callbacks, save_dir=save_dir,device=device)\n",
    "hybrid_train_info_2 = ppo.train(timesteps=timesteps, trajectory_length=trajectory_length, batch_size=batch_size, learning_epochs=learning_epochs, num_envs=num_envs, seed=seed, render_freq=render_freq)\n",
    "# ppo.test(10,\"ppo_test\", 1)\n"
   ]
  },
  {
   "cell_type": "code",
   "execution_count": null,
   "metadata": {},
   "outputs": [],
   "source": [
    "config_file_path = '/workspaces/RL_Agents/src/app/pong_v5_3/ppo/config.json'\n",
    "with open(config_file_path, 'r') as file:\n",
    "    config = json.load(file)"
   ]
  },
  {
   "cell_type": "code",
   "execution_count": null,
   "metadata": {},
   "outputs": [],
   "source": [
    "config['wrappers']"
   ]
  },
  {
   "cell_type": "code",
   "execution_count": null,
   "metadata": {},
   "outputs": [],
   "source": [
    "pong = PPO.load(config, False)"
   ]
  },
  {
   "cell_type": "code",
   "execution_count": null,
   "metadata": {},
   "outputs": [],
   "source": [
    "pong.env.env = pong.env._initialize_env(num_envs=2)"
   ]
  },
  {
   "cell_type": "code",
   "execution_count": null,
   "metadata": {},
   "outputs": [],
   "source": [
    "pong.env.action_space"
   ]
  },
  {
   "cell_type": "code",
   "execution_count": null,
   "metadata": {},
   "outputs": [],
   "source": [
    "num_envs = 2\n",
    "action_shape = (3,1)\n",
    "obs_shape = (3,)\n",
    "\n",
    "observation_space = gym.spaces.Box(low=0, high=1, shape=(num_envs, *obs_shape))\n",
    "action_space = gym.spaces.Box(low=0, high=1, shape=(num_envs, *action_shape)) if len(action_shape) > 1 else gym.spaces.MultiDiscrete([action_shape[0] for n in range(num_envs)])\n",
    "single_observation_space = gym.spaces.Box(low=0, high=1, shape=obs_shape)\n",
    "single_action_space = gym.spaces.Box(low=0, high=1, shape=action_shape) if len(action_shape) > 1 else gym.spaces.Discrete(action_shape[0])"
   ]
  },
  {
   "cell_type": "code",
   "execution_count": null,
   "metadata": {},
   "outputs": [],
   "source": [
    "action_space"
   ]
  },
  {
   "cell_type": "code",
   "execution_count": null,
   "metadata": {},
   "outputs": [],
   "source": [
    "single_obs = T.tensor(single_observation_space.sample())\n",
    "state, info = (T.stack([single_obs for _ in range(observation_space.shape[0])]), {})"
   ]
  },
  {
   "cell_type": "code",
   "execution_count": null,
   "metadata": {},
   "outputs": [],
   "source": [
    "state"
   ]
  },
  {
   "cell_type": "code",
   "execution_count": null,
   "metadata": {},
   "outputs": [],
   "source": [
    "observation = T.stack([single_obs for _ in range(observation_space.shape[0])])\n",
    "reward = T.zeros(observation_space.shape[0])\n",
    "terminated = T.zeros(observation_space.shape[0], dtype=T.bool)\n",
    "truncated = T.zeros(observation_space.shape[0], dtype=T.bool)\n",
    "info = {}"
   ]
  },
  {
   "cell_type": "code",
   "execution_count": null,
   "metadata": {},
   "outputs": [],
   "source": [
    "vec_env = gym.make_vec(\"LunarLanderContinuous-v3\", 2)"
   ]
  },
  {
   "cell_type": "code",
   "execution_count": null,
   "metadata": {},
   "outputs": [],
   "source": [
    "T.ones(vec_env.single_action_space.shape).dim()"
   ]
  },
  {
   "cell_type": "code",
   "execution_count": null,
   "metadata": {},
   "outputs": [],
   "source": [
    "from torch.distributions import Normal\n",
    "\n",
    "num_envs = 2\n",
    "expected_mu = T.stack([T.tensor([1.65, 1.65, 1.65]) for t in range(num_envs)])\n",
    "expected_sigma = T.stack([T.tensor([3.9, 3.9, 3.9]) for t in range(num_envs)])\n",
    "expected_dist = Normal(expected_mu, expected_sigma)"
   ]
  },
  {
   "cell_type": "code",
   "execution_count": null,
   "metadata": {},
   "outputs": [],
   "source": [
    "expected_dist.sample().shape"
   ]
  },
  {
   "cell_type": "code",
   "execution_count": null,
   "metadata": {},
   "outputs": [],
   "source": [
    "pong.train(2000000, 128, 32, 3, 12, 42)"
   ]
  },
  {
   "cell_type": "code",
   "execution_count": null,
   "metadata": {},
   "outputs": [],
   "source": [
    "scores = np.zeros(4)"
   ]
  },
  {
   "cell_type": "code",
   "execution_count": null,
   "metadata": {},
   "outputs": [],
   "source": [
    "scores[1] = 1\n",
    "scores"
   ]
  },
  {
   "cell_type": "code",
   "execution_count": null,
   "metadata": {},
   "outputs": [],
   "source": [
    "import gymnasium.wrappers as base_wrappers\n",
    "\n",
    "WRAPPER_REGISTRY = {\n",
    "    \"AtariPreprocessing\": {\n",
    "        \"cls\": base_wrappers.AtariPreprocessing,\n",
    "        \"default_params\": {\n",
    "            \"frame_skip\": 1,\n",
    "            \"grayscale_obs\": True,\n",
    "            \"scale_obs\": True\n",
    "        }\n",
    "    },\n",
    "    \"TimeLimit\": {\n",
    "        \"cls\": base_wrappers.TimeLimit,\n",
    "        \"default_params\": {\n",
    "            \"max_episode_steps\": 1000\n",
    "        }\n",
    "    },\n",
    "    \"TimeAwareObservation\": {\n",
    "        \"cls\": base_wrappers.TimeAwareObservation,\n",
    "        \"default_params\": {\n",
    "            \"flatten\": False,\n",
    "            \"normalize_time\": False\n",
    "        }\n",
    "    },\n",
    "    \"FrameStackObservation\": {\n",
    "        \"cls\": base_wrappers.FrameStackObservation,\n",
    "        \"default_params\": {\n",
    "            \"stack_size\": 4\n",
    "        }\n",
    "    },\n",
    "    \"ResizeObservation\": {\n",
    "        \"cls\": base_wrappers.ResizeObservation,\n",
    "        \"default_params\": {\n",
    "            \"shape\": 84\n",
    "        }\n",
    "    }\n",
    "}"
   ]
  },
  {
   "cell_type": "code",
   "execution_count": null,
   "metadata": {},
   "outputs": [],
   "source": [
    "wrappers = [\n",
    "    {'type': \"AtariPreprocessing\", 'params': {'frame_skip':1, 'grayscale_obs':True, 'scale_obs':True}},\n",
    "    {'type': \"FrameStackObservation\", 'params': {'stack_size':4}},\n",
    "]"
   ]
  },
  {
   "cell_type": "code",
   "execution_count": null,
   "metadata": {},
   "outputs": [],
   "source": [
    "def wrap_env(vec_env, wrappers):\n",
    "    wrapper_list = []\n",
    "    for wrapper in wrappers:\n",
    "        if wrapper['type'] in WRAPPER_REGISTRY:\n",
    "            print(f'wrapper type:{wrapper[\"type\"]}')\n",
    "            # Use a copy of default_params to avoid modifying the registry\n",
    "            default_params = WRAPPER_REGISTRY[wrapper['type']][\"default_params\"].copy()\n",
    "            \n",
    "            if wrapper['type'] == \"ResizeObservation\":\n",
    "                # Ensure shape is a tuple for ResizeObservation\n",
    "                default_params['shape'] = (default_params['shape'], default_params['shape']) if isinstance(default_params['shape'], int) else default_params['shape']\n",
    "            \n",
    "            print(f'default params:{default_params}')\n",
    "            override_params = wrapper.get(\"params\", {})\n",
    "            \n",
    "            if wrapper['type'] == \"ResizeObservation\":\n",
    "                # Ensure override_params shape is a tuple\n",
    "                if 'shape' in override_params:\n",
    "                    override_params['shape'] = (override_params['shape'], override_params['shape']) if isinstance(override_params['shape'], int) else override_params['shape']\n",
    "            \n",
    "            print(f'override params:{override_params}')\n",
    "            final_params = {**default_params, **override_params}\n",
    "            print(f'final params:{final_params}')\n",
    "            \n",
    "            def wrapper_factory(env, cls=WRAPPER_REGISTRY[wrapper['type']][\"cls\"], params=final_params):\n",
    "                return cls(env, **params)\n",
    "            \n",
    "            wrapper_list.append(wrapper_factory)\n",
    "    \n",
    "    # Define apply_wrappers outside the loop\n",
    "    def apply_wrappers(env):\n",
    "        for wrapper in wrapper_list:\n",
    "            env = wrapper(env)\n",
    "            print(f'length of obs space:{len(env.observation_space.shape)}')\n",
    "            print(f'env obs space shape:{env.observation_space.shape}')\n",
    "        return env\n",
    "    \n",
    "    print(f'wrapper list:{wrapper_list}')\n",
    "    envs = [lambda: apply_wrappers(gym.make(vec_env.spec.id, render_mode=\"rgb_array\")) for _ in range(vec_env.num_envs)]    \n",
    "    return SyncVectorEnv(envs)"
   ]
  },
  {
   "cell_type": "code",
   "execution_count": null,
   "metadata": {},
   "outputs": [],
   "source": [
    "vec_env = gym.make_vec(\"ALE/Pong-v5\", render_mode=\"rgb_array\", num_envs=8)\n",
    "wrapped_vec = wrap_env(vec_env, wrappers)"
   ]
  },
  {
   "cell_type": "code",
   "execution_count": null,
   "metadata": {},
   "outputs": [],
   "source": [
    "wrapped_vec.single_observation_space"
   ]
  },
  {
   "cell_type": "code",
   "execution_count": null,
   "metadata": {},
   "outputs": [],
   "source": [
    "for env in wrapped_vec.envs:\n",
    "    print(env.spec)"
   ]
  },
  {
   "cell_type": "code",
   "execution_count": null,
   "metadata": {},
   "outputs": [],
   "source": [
    "def format_wrappers(wrapper_store):\n",
    "    wrappers_dict = {}\n",
    "    for key, value in wrapper_store.items():\n",
    "        # Split the key into wrapper type and parameter name\n",
    "        parts = key.split('_param:')\n",
    "        print(f'parts:{parts}')\n",
    "        wrapper_type = parts[0].split('wrapper:')[1]\n",
    "        print(f'wrapper_type:{wrapper_type}')\n",
    "        param_name = parts[1]\n",
    "        print(f'param name:{param_name}')\n",
    "        \n",
    "        # If the wrapper type already exists in the dictionary, append to its params\n",
    "        if wrapper_type not in wrappers_dict:\n",
    "            wrappers_dict[wrapper_type] = {'type': wrapper_type, 'params': {}}\n",
    "        \n",
    "        wrappers_dict[wrapper_type]['params'][param_name] = value\n",
    "    \n",
    "    # Convert the dictionary to a list of dictionaries\n",
    "    formatted_wrappers = list(wrappers_dict.values())\n",
    "    \n",
    "    return formatted_wrappers"
   ]
  },
  {
   "cell_type": "code",
   "execution_count": null,
   "metadata": {},
   "outputs": [],
   "source": [
    "wrapper_params = {'wrapper:AtariPreprocessing_param:frame_skip': 1, 'wrapper:AtariPreprocessing_param:grayscale_obs': True, 'wrapper:AtariPreprocessing_param:scale_obs': True, 'wrapper:FrameStackObservation_param:stack_size': 4}"
   ]
  },
  {
   "cell_type": "code",
   "execution_count": null,
   "metadata": {},
   "outputs": [],
   "source": [
    "formatted_wrappers = format_wrappers(wrapper_params)"
   ]
  },
  {
   "cell_type": "code",
   "execution_count": null,
   "metadata": {},
   "outputs": [],
   "source": [
    "formatted_wrappers"
   ]
  },
  {
   "cell_type": "code",
   "execution_count": null,
   "metadata": {},
   "outputs": [],
   "source": [
    "wrapper_params = {'wrapper:AtariPreprocessing_param:frame_skip': 1, 'wrapper:AtariPreprocessing_param:grayscale_obs': True, 'wrapper:AtariPreprocessing_param:scale_obs': True, 'wrapper:FrameStackObservation_param:stack_size': 4}\n",
    "formatted_wrappers = dash_utils.format_wrappers(wrapper_params)\n",
    "#DEBUG\n",
    "print(f'formatted wrappers:{formatted_wrappers}')\n",
    "env = dash_utils.instantiate_envwrapper_obj(\"gymnasium\", \"ALE/Pong-v5\", formatted_wrappers)"
   ]
  },
  {
   "cell_type": "code",
   "execution_count": null,
   "metadata": {},
   "outputs": [],
   "source": [
    "config_file_path = '/workspaces/RL_Agents/src/app/humanoid_v5_2/ppo/config.json'\n",
    "with open(config_file_path, 'r') as file:\n",
    "    config = json.load(file)\n",
    "ppo = PPO.load(config, False)"
   ]
  },
  {
   "cell_type": "code",
   "execution_count": null,
   "metadata": {},
   "outputs": [],
   "source": [
    "ppo.get_config()"
   ]
  },
  {
   "cell_type": "code",
   "execution_count": null,
   "metadata": {},
   "outputs": [],
   "source": [
    "ppo.env.env = ppo.env._initialize_env(0, 8, 42)"
   ]
  },
  {
   "cell_type": "code",
   "execution_count": null,
   "metadata": {},
   "outputs": [],
   "source": [
    "for env in ppo.env.env.envs:\n",
    "    print(env.spec.pprint)"
   ]
  },
  {
   "cell_type": "code",
   "execution_count": null,
   "metadata": {},
   "outputs": [],
   "source": [
    "ppo.get_config()"
   ]
  },
  {
   "cell_type": "code",
   "execution_count": null,
   "metadata": {},
   "outputs": [],
   "source": [
    "ppo.callbacks = []"
   ]
  },
  {
   "cell_type": "code",
   "execution_count": null,
   "metadata": {},
   "outputs": [],
   "source": [
    "ppo.train(2_000_000, 128, 64, 10, 8, 42, render_freq=100)"
   ]
  },
  {
   "cell_type": "code",
   "execution_count": null,
   "metadata": {},
   "outputs": [],
   "source": [
    "# states, _ = ppo.env.reset()\n",
    "steps = 10\n",
    "all_states = []\n",
    "all_next_states = []\n",
    "for step in range(steps):\n",
    "    actions, log_probs = ppo.get_action(states)\n",
    "    next_states, rewards, terms, truncs, infos = ppo.env.step(actions)\n",
    "    all_states.append(states)\n",
    "    all_next_states.append(next_states)\n",
    "    states = next_states"
   ]
  },
  {
   "cell_type": "code",
   "execution_count": null,
   "metadata": {},
   "outputs": [],
   "source": [
    "for step, step_states in enumerate(all_states):\n",
    "    print(f'step states shape:{step_states.shape}')\n",
    "    for i in range(len(step_states)):\n",
    "        for j in range(i + 1, len(step_states)):  # Compare each environment with others\n",
    "            print(f'step state {i} shape:{step_states[i].shape}')\n",
    "            print(f'step state {j} shape:{step_states[j].shape}')\n",
    "            assert np.allclose(step_states[i], step_states[j]), f\"Environments {i} and {j} differ at step {step}\""
   ]
  },
  {
   "cell_type": "code",
   "execution_count": null,
   "metadata": {},
   "outputs": [],
   "source": [
    "for i in range(len(all_states)):\n",
    "    for j in range(i + 1, len(all_states)):  # Note the change here\n",
    "        print(np.allclose(all_states[i], all_states[j]))"
   ]
  },
  {
   "cell_type": "code",
   "execution_count": null,
   "metadata": {},
   "outputs": [],
   "source": [
    "all_obs = []\n",
    "obs = np.ones((8,1,84,84))\n",
    "for _ in range(10):\n",
    "    all_obs.append(obs)\n",
    "# all_obs = np.array(all_obs)\n",
    "all_obs = T.stack([T.tensor(s, dtype=T.float32) for s in all_obs])"
   ]
  },
  {
   "cell_type": "code",
   "execution_count": null,
   "metadata": {},
   "outputs": [],
   "source": [
    "all_obs.shape"
   ]
  },
  {
   "cell_type": "code",
   "execution_count": null,
   "metadata": {},
   "outputs": [],
   "source": [
    "action_space = gym.spaces.Box(low=0, high=1, shape=(2, 3))"
   ]
  },
  {
   "cell_type": "code",
   "execution_count": null,
   "metadata": {},
   "outputs": [],
   "source": [
    "np.all"
   ]
  },
  {
   "cell_type": "code",
   "execution_count": null,
   "metadata": {},
   "outputs": [],
   "source": [
    "all_advantages = []\n",
    "all_returns = []\n",
    "all_values = []\n",
    "advantage = T.ones(128)\n",
    "return_ = T.ones(128)\n",
    "value = T.ones(128)\n",
    "num_envs = 2\n",
    "\n",
    "for _ in range(num_envs):\n",
    "    all_advantages.append(advantage)\n",
    "    all_returns.append(return_)\n",
    "    all_values.append(value)\n",
    "\n",
    "advantages = T.stack(all_advantages, dim=1)\n",
    "returns = T.stack(all_returns, dim=1)\n",
    "values = T.stack(all_values, dim=1)"
   ]
  },
  {
   "cell_type": "code",
   "execution_count": null,
   "metadata": {},
   "outputs": [],
   "source": [
    "advantages.shape"
   ]
  },
  {
   "cell_type": "code",
   "execution_count": null,
   "metadata": {},
   "outputs": [],
   "source": [
    "states, _ = pong.env.reset()\n",
    "states.shape"
   ]
  },
  {
   "cell_type": "code",
   "execution_count": null,
   "metadata": {},
   "outputs": [],
   "source": [
    "ns, r, term, trunc, _ = pong.env.step(pong.env.action_space.sample())"
   ]
  },
  {
   "cell_type": "code",
   "execution_count": null,
   "metadata": {},
   "outputs": [],
   "source": [
    "r.shape"
   ]
  },
  {
   "cell_type": "code",
   "execution_count": null,
   "metadata": {},
   "outputs": [],
   "source": [
    "pong.env.single_observation_space.shape"
   ]
  },
  {
   "cell_type": "code",
   "execution_count": null,
   "metadata": {},
   "outputs": [],
   "source": [
    "pong.env.observation_space.shape"
   ]
  },
  {
   "cell_type": "code",
   "execution_count": null,
   "metadata": {},
   "outputs": [],
   "source": [
    "pong.env.env.envs[0].spec"
   ]
  },
  {
   "cell_type": "code",
   "execution_count": null,
   "metadata": {},
   "outputs": [],
   "source": [
    "states, _ = pong.env.reset()\n",
    "states = T.tensor(states)\n",
    "dist, _ = pong.policy_model(states)\n",
    "sample = dist.sample()\n",
    "sample.shape"
   ]
  },
  {
   "cell_type": "code",
   "execution_count": null,
   "metadata": {},
   "outputs": [],
   "source": [
    "pong.policy_model"
   ]
  },
  {
   "cell_type": "code",
   "execution_count": null,
   "metadata": {},
   "outputs": [],
   "source": [
    "pong.env.reset()"
   ]
  },
  {
   "cell_type": "code",
   "execution_count": null,
   "metadata": {},
   "outputs": [],
   "source": [
    "def clip_reward(reward):\n",
    "    \"\"\"\n",
    "    Clip rewards to the specified range.\n",
    "\n",
    "    Args:\n",
    "        reward (float): Reward to clip.\n",
    "\n",
    "    Returns:\n",
    "        float: Clipped reward.\n",
    "    \"\"\"\n",
    "    if reward > 1:\n",
    "        return 1\n",
    "    elif reward < -1:\n",
    "        return -1\n",
    "    else:\n",
    "        return reward"
   ]
  },
  {
   "cell_type": "code",
   "execution_count": null,
   "metadata": {},
   "outputs": [],
   "source": [
    "env = gym.make_vec(\"ALE/Pong-v5\", 1)"
   ]
  },
  {
   "cell_type": "code",
   "execution_count": null,
   "metadata": {},
   "outputs": [],
   "source": [
    "states, _ = env.reset()"
   ]
  },
  {
   "cell_type": "code",
   "execution_count": null,
   "metadata": {},
   "outputs": [],
   "source": [
    "all_rewards = []\n",
    "all_dones = []\n",
    "for _ in range(10):\n",
    "    next_states, rewards, terms, truncs, infos = env.step(env.action_space.sample())\n",
    "    all_rewards.append(rewards)\n",
    "    all_dones.append(np.logical_or(terms, truncs))\n",
    "rewards = T.stack([T.tensor(r, dtype=T.float32) for r in all_rewards])\n",
    "dones = T.stack([T.tensor(d, dtype=T.float32) for d in all_dones])"
   ]
  },
  {
   "cell_type": "code",
   "execution_count": null,
   "metadata": {},
   "outputs": [],
   "source": [
    "dones.shape"
   ]
  },
  {
   "cell_type": "code",
   "execution_count": null,
   "metadata": {},
   "outputs": [],
   "source": [
    "rewards[:,0].shape"
   ]
  },
  {
   "cell_type": "code",
   "execution_count": null,
   "metadata": {},
   "outputs": [],
   "source": [
    "[clip_reward(reward) for reward in rewards]"
   ]
  },
  {
   "cell_type": "code",
   "execution_count": 12,
   "metadata": {},
   "outputs": [
    {
     "data": {
      "image/png": "[encoded data removed]",
      "text/plain": [
       "<Figure size 1000x600 with 1 Axes>"
      ]
     },
     "metadata": {},
     "output_type": "display_data"
    }
   ],
   "source": [
    "T_max = 6000  # Total steps\n",
    "eta_max = 1.0  # Initial noise stddev\n",
    "eta_min = 0.1  # Minimum noise stddev\n",
    "\n",
    "t = np.linspace(0, T_max, 1000)  # Sample points\n",
    "value = eta_min + 0.5 * (eta_max - eta_min) * (1 + np.cos(t * np.pi / T_max))\n",
    "\n",
    "plt.figure(figsize=(10, 6))\n",
    "plt.plot(t, value, 'b-', label='Cosine Annealing (stddev)')\n",
    "plt.axhline(y=eta_max, color='r', linestyle='--', label='Initial (1.0)')\n",
    "plt.axhline(y=eta_min, color='g', linestyle='--', label='Minimum (0.1)')\n",
    "plt.xlabel('Steps')\n",
    "plt.ylabel('Noise StdDev')\n",
    "plt.title('Cosine Annealing Curve for Noise (stddev)')\n",
    "plt.legend()\n",
    "plt.grid(True)\n",
    "plt.show()"
   ]
  },
  {
   "cell_type": "code",
   "execution_count": 3,
   "metadata": {},
   "outputs": [
    {
     "name": "stdout",
     "output_type": "stream",
     "text": [
      "['/workspaces/RL_Agents/src/app', '/opt/conda/envs/rl_env/lib/python310.zip', '/opt/conda/envs/rl_env/lib/python3.10', '/opt/conda/envs/rl_env/lib/python3.10/lib-dynload', '', '/opt/conda/envs/rl_env/lib/python3.10/site-packages']\n",
      "MCP found at: /opt/conda/envs/rl_env/lib/python3.10/site-packages/mcp/__init__.py\n"
     ]
    }
   ],
   "source": [
    "import sys\n",
    "print(sys.path)  # Shows all directories Python checks for imports\n",
    "\n",
    "# Try to find mcp specifically\n",
    "try:\n",
    "    import mcp\n",
    "    print(f\"MCP found at: {mcp.__file__}\")\n",
    "except ImportError:\n",
    "    print(\"MCP not found\")"
   ]
  },
  {
   "cell_type": "code",
   "execution_count": 2,
   "metadata": {},
   "outputs": [
    {
     "name": "stdout",
     "output_type": "stream",
     "text": [
      "['CallToolRequest', 'ClientCapabilities', 'ClientNotification', 'ClientRequest', 'ClientResult', 'ClientSession', 'CompleteRequest', 'CreateMessageRequest', 'CreateMessageResult', 'ErrorData', 'GetPromptRequest', 'GetPromptResult', 'Implementation', 'IncludeContext', 'InitializeRequest', 'InitializeResult', 'InitializedNotification', 'JSONRPCError', 'JSONRPCRequest', 'JSONRPCResponse', 'ListPromptsRequest', 'ListPromptsResult', 'ListResourcesRequest', 'ListResourcesResult', 'ListToolsResult', 'LoggingLevel', 'LoggingMessageNotification', 'McpError', 'Notification', 'PingRequest', 'ProgressNotification', 'PromptsCapability', 'ReadResourceRequest', 'ReadResourceResult', 'Resource', 'ResourceUpdatedNotification', 'ResourcesCapability', 'RootsCapability', 'SamplingMessage', 'SamplingRole', 'ServerCapabilities', 'ServerNotification', 'ServerRequest', 'ServerResult', 'ServerSession', 'SetLevelRequest', 'StdioServerParameters', 'StopReason', 'SubscribeRequest', 'Tool', 'ToolsCapability', 'UnsubscribeRequest', '__all__', '__builtins__', '__cached__', '__doc__', '__file__', '__loader__', '__name__', '__package__', '__path__', '__spec__', 'client', 'server', 'shared', 'stdio_client', 'stdio_server', 'types']\n"
     ]
    }
   ],
   "source": [
    "import mcp\n",
    "print(dir(mcp))  # This will show all available attributes/modules in mcp"
   ]
  },
  {
   "cell_type": "code",
   "execution_count": null,
   "metadata": {},
   "outputs": [],
   "source": []
  }
 ],
 "metadata": {
  "kernelspec": {
   "display_name": "rl_env",
   "language": "python",
   "name": "python3"
  },
  "language_info": {
   "codemirror_mode": {
    "name": "ipython",
    "version": 3
   },
   "file_extension": ".py",
   "mimetype": "text/x-python",
   "name": "python",
   "nbconvert_exporter": "python",
   "pygments_lexer": "ipython3",
   "version": "3.10.16"
  }
 },
 "nbformat": 4,
 "nbformat_minor": 2
}
