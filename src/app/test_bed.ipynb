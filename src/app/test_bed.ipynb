{
 "cells": [
  {
   "cell_type": "code",
   "execution_count": null,
   "metadata": {},
   "outputs": [],
   "source": [
    "import numpy as np\n",
    "import numba\n",
    "import umap\n",
    "import pynndescent\n",
    "\n",
    "print(\"NumPy version:\", np.__version__)\n",
    "print(\"Numba version:\", numba.__version__)\n",
    "print(\"UMAP version:\", umap.__version__)\n",
    "print(\"PyNNDescent version:\", pynndescent.__version__)\n"
   ]
  },
  {
   "cell_type": "code",
   "execution_count": 1,
   "metadata": {},
   "outputs": [],
   "source": [
    "import os\n",
    "import json\n",
    "import ale_py\n",
    "\n",
    "import torch as T\n",
    "import torch.nn as nn\n",
    "from torch import optim\n",
    "import numpy as np\n",
    "# import pandas as pd\n",
    "# from umap import UMAP\n",
    "\n",
    "\n",
    "import torch_utils\n",
    "from torch import distributions\n",
    "\n",
    "import gymnasium as gym\n",
    "import gymnasium_robotics as gym_robo\n",
    "from gymnasium.vector import VectorEnv, SyncVectorEnv\n",
    "# import models\n",
    "from models import ValueModel, StochasticContinuousPolicy, ActorModel, CriticModel, StochasticDiscretePolicy\n",
    "from rl_agents import PPO, DDPG, Reinforce, ActorCritic, TD3, HER\n",
    "import rl_callbacks\n",
    "from rl_callbacks import WandbCallback\n",
    "# from helper import Normalizer\n",
    "from buffer import ReplayBuffer\n",
    "from noise import NormalNoise\n",
    "import gym_helper\n",
    "import wandb_support\n",
    "import wandb\n",
    "import gym_helper\n",
    "import dash_utils\n",
    "from env_wrapper import EnvWrapper, GymnasiumWrapper\n",
    "\n",
    "# from mpi4py import MPI"
   ]
  },
  {
   "cell_type": "code",
   "execution_count": null,
   "metadata": {},
   "outputs": [],
   "source": [
    "import mujoco"
   ]
  },
  {
   "cell_type": "code",
   "execution_count": null,
   "metadata": {},
   "outputs": [],
   "source": [
    "print(f'mujoco version: {mujoco.__version__}')"
   ]
  },
  {
   "cell_type": "code",
   "execution_count": null,
   "metadata": {},
   "outputs": [],
   "source": [
    "mujoco.MjModel"
   ]
  },
  {
   "cell_type": "code",
   "execution_count": null,
   "metadata": {},
   "outputs": [],
   "source": [
    "gym_robo.__version__"
   ]
  },
  {
   "cell_type": "code",
   "execution_count": null,
   "metadata": {},
   "outputs": [],
   "source": [
    "def check_cuda():\n",
    "    cuda_available = T.cuda.is_available()\n",
    "    if cuda_available:\n",
    "        print(\"CUDA is available.\")\n",
    "        num_gpus = T.cuda.device_count()\n",
    "        print(f\"Number of GPUs detected: {num_gpus}\")\n",
    "        \n",
    "        for i in range(num_gpus):\n",
    "            gpu_name = T.cuda.get_device_name(i)\n",
    "            gpu_memory = T.cuda.get_device_properties(i).total_memory / (1024 ** 3)  # Convert bytes to GB\n",
    "            print(f\"GPU {i}: {gpu_name}\")\n",
    "            print(f\"Total memory: {gpu_memory:.2f} GB\")\n",
    "    else:\n",
    "        print(\"CUDA is not available.\")\n",
    "\n",
    "check_cuda()"
   ]
  },
  {
   "cell_type": "code",
   "execution_count": null,
   "metadata": {},
   "outputs": [],
   "source": [
    "def get_default_device():\n",
    "    \"\"\"Returns the default device for computations, GPU if available, otherwise CPU\"\"\"\n",
    "    if torch.cuda.is_available():\n",
    "        return torch.device('cuda')\n",
    "    else:\n",
    "        return torch.device('cpu')\n",
    "\n",
    "device = get_default_device()\n",
    "print(f\"Using device: {device}\")"
   ]
  },
  {
   "cell_type": "markdown",
   "metadata": {},
   "source": [
    "# TEST"
   ]
  },
  {
   "cell_type": "code",
   "execution_count": null,
   "metadata": {},
   "outputs": [],
   "source": [
    "gym_robo.register_robotics_envs()"
   ]
  },
  {
   "cell_type": "code",
   "execution_count": null,
   "metadata": {},
   "outputs": [],
   "source": [
    "gym.envs.registration.registry"
   ]
  },
  {
   "cell_type": "code",
   "execution_count": null,
   "metadata": {},
   "outputs": [],
   "source": [
    "wandb.login(key='758ac5ba01e12a3df504d2db2fec8ba4f391f7e6')"
   ]
  },
  {
   "cell_type": "code",
   "execution_count": null,
   "metadata": {},
   "outputs": [],
   "source": [
    "env = gym.make('FetchPush-v2', max_episode_steps=100, render_mode='rgb_array')\n",
    "env = gym.wrappers.RecordVideo(env, 'test/', episode_trigger=lambda i: i%1==0)\n",
    "\n",
    "episodes = 10\n",
    "\n",
    "\n",
    "for episode in range(episodes):\n",
    "    done = False\n",
    "    obs, _ = env.reset()\n",
    "    while not done:\n",
    "        obs, r, term, trunc, dict = env.step(env.action_space.sample())\n",
    "        if term or trunc:\n",
    "            done = True\n",
    "env.close()"
   ]
  },
  {
   "cell_type": "code",
   "execution_count": null,
   "metadata": {},
   "outputs": [],
   "source": [
    "env = gym.make(\"FetchReach-v2\")\n",
    "env.reset()\n",
    "obs, reward, terminated, truncated, info = env.step(env.action_space.sample())\n",
    "\n",
    "# The following always has to hold:\n",
    "assert reward == env.compute_reward(obs[\"achieved_goal\"], obs[\"desired_goal\"], info)\n",
    "assert truncated == env.compute_truncated(obs[\"achieved_goal\"], obs[\"desired_goal\"], info)\n",
    "assert terminated == env.compute_terminated(obs[\"achieved_goal\"], obs[\"desired_goal\"], info)"
   ]
  },
  {
   "cell_type": "code",
   "execution_count": null,
   "metadata": {},
   "outputs": [],
   "source": [
    "env.compute_reward()"
   ]
  },
  {
   "cell_type": "code",
   "execution_count": null,
   "metadata": {},
   "outputs": [],
   "source": [
    "env = gym.make('FetchPush-v2', render_mode='rgb_array')"
   ]
  },
  {
   "cell_type": "code",
   "execution_count": null,
   "metadata": {},
   "outputs": [],
   "source": [
    "if hasattr(env, \"distance_threshold\"):\n",
    "    print('true')\n",
    "else:\n",
    "    print('false')"
   ]
  },
  {
   "cell_type": "code",
   "execution_count": null,
   "metadata": {},
   "outputs": [],
   "source": [
    "if env.get_wrapper_attr(\"distance_threshold\"):\n",
    "    print('true')"
   ]
  },
  {
   "cell_type": "code",
   "execution_count": null,
   "metadata": {},
   "outputs": [],
   "source": [
    "print(dir(env))\n"
   ]
  },
  {
   "cell_type": "markdown",
   "metadata": {},
   "source": [
    "# DDPG"
   ]
  },
  {
   "cell_type": "code",
   "execution_count": null,
   "metadata": {},
   "outputs": [],
   "source": [
    "# env = gym.make('BipedalWalker-v3')\n",
    "env = gym.make('Pendulum-v1')\n",
    "env_spec = env.spec\n",
    "env_wrap = GymnasiumWrapper(env_spec)"
   ]
  },
  {
   "cell_type": "code",
   "execution_count": null,
   "metadata": {},
   "outputs": [],
   "source": [
    "for e in env_wrap.env.envs:\n",
    "    print(e.spec)"
   ]
  },
  {
   "cell_type": "code",
   "execution_count": null,
   "metadata": {},
   "outputs": [],
   "source": [
    "# build actor\n",
    "device = 'cuda'\n",
    "optimizer = {'type': 'Adam','params': { 'lr': 0.001 }}\n",
    "\n",
    "layer_config = [\n",
    "    {'type': 'dense', 'params': {'units': 400, 'kernel': 'variance_scaling', 'kernel params':{\"scale\": 1.0, \"mode\": \"fan_in\", \"distribution\": \"uniform\"}}},\n",
    "    {'type': 'relu'},\n",
    "    {'type': 'dense', 'params': {'units': 300, 'kernel': 'variance_scaling', 'kernel params':{\"scale\": 1.0, \"mode\": \"fan_in\", \"distribution\": \"uniform\"}}},\n",
    "    {'type': 'relu'},\n",
    "]\n",
    "output_layer_config = [{'type': 'dense', 'params': {'kernel': 'default', 'kernel params':{}}}]\n",
    "\n",
    "actor = ActorModel(env_wrap, layer_config, output_layer_config, device=device)"
   ]
  },
  {
   "cell_type": "code",
   "execution_count": null,
   "metadata": {},
   "outputs": [],
   "source": [
    "actor"
   ]
  },
  {
   "cell_type": "code",
   "execution_count": null,
   "metadata": {},
   "outputs": [],
   "source": [
    "# build critic\n",
    "\n",
    "state_layer_config = [\n",
    "    {'type': 'dense', 'params': {'units': 400, 'kernel': 'variance_scaling', 'kernel params':{\"scale\": 1.0, \"mode\": \"fan_in\", \"distribution\": \"uniform\"}}},\n",
    "    {'type': 'relu'}\n",
    "]\n",
    "\n",
    "merged_layer_config = [\n",
    "    {'type': 'dense', 'params': {'units': 300, 'kernel': 'variance_scaling', 'kernel params':{\"scale\": 1.0, \"mode\": \"fan_in\", \"distribution\": \"uniform\"}}},\n",
    "    {'type': 'relu'},\n",
    "]\n",
    "# output_layer_config = {'type': 'dense', 'params': {'kernel': 'default', 'kernel params':{}}},\n",
    "\n",
    "critic = CriticModel(env_wrap, state_layers=state_layer_config, merged_layers=merged_layer_config,\n",
    "                    output_layer_kernel=output_layer_config, optimizer_params=optimizer, device=device)"
   ]
  },
  {
   "cell_type": "code",
   "execution_count": null,
   "metadata": {},
   "outputs": [],
   "source": [
    "critic"
   ]
  },
  {
   "cell_type": "code",
   "execution_count": null,
   "metadata": {},
   "outputs": [],
   "source": [
    "replay_buffer = ReplayBuffer(env_wrap, 100000, device=device)\n",
    "noise = NormalNoise(shape=env_wrap.action_space.shape, device=device)"
   ]
  },
  {
   "cell_type": "code",
   "execution_count": null,
   "metadata": {},
   "outputs": [],
   "source": [
    "replay_buffer.get_config()"
   ]
  },
  {
   "cell_type": "code",
   "execution_count": null,
   "metadata": {},
   "outputs": [],
   "source": [
    "noise.get_config()"
   ]
  },
  {
   "cell_type": "code",
   "execution_count": null,
   "metadata": {},
   "outputs": [],
   "source": [
    "ddpg_agent = DDPG(env=env_wrap,\n",
    "                actor_model=actor,\n",
    "                critic_model=critic,\n",
    "                replay_buffer=replay_buffer,\n",
    "                discount=0.99,\n",
    "                tau=0.005,\n",
    "                action_epsilon=0.2,\n",
    "                noise=noise,\n",
    "                callbacks=[rl_callbacks.WandbCallback('Pendulum-v1')],\n",
    "                device=device)"
   ]
  },
  {
   "cell_type": "code",
   "execution_count": null,
   "metadata": {},
   "outputs": [],
   "source": [
    "ddpg_agent.critic_model"
   ]
  },
  {
   "cell_type": "code",
   "execution_count": null,
   "metadata": {},
   "outputs": [],
   "source": [
    "ddpg_agent.target_critic_model"
   ]
  },
  {
   "cell_type": "code",
   "execution_count": null,
   "metadata": {},
   "outputs": [],
   "source": [
    "ddpg_agent.train(1000, 8, 42, 50)"
   ]
  },
  {
   "cell_type": "code",
   "execution_count": null,
   "metadata": {},
   "outputs": [],
   "source": [
    "ddpg_agent.test(10, True, 1)"
   ]
  },
  {
   "cell_type": "code",
   "execution_count": null,
   "metadata": {},
   "outputs": [],
   "source": [
    "config_file_path = '/workspaces/RL_Agents/src/app/models/ddpg/config.json'\n",
    "with open(config_file_path, 'r') as file:\n",
    "    config = json.load(file)"
   ]
  },
  {
   "cell_type": "code",
   "execution_count": null,
   "metadata": {},
   "outputs": [],
   "source": [
    "ddpg = DDPG.load(config)"
   ]
  },
  {
   "cell_type": "code",
   "execution_count": null,
   "metadata": {},
   "outputs": [],
   "source": [
    "ddpg.get_config()"
   ]
  },
  {
   "cell_type": "code",
   "execution_count": null,
   "metadata": {},
   "outputs": [],
   "source": [
    "ddpg.test(10, 1)"
   ]
  },
  {
   "cell_type": "markdown",
   "metadata": {},
   "source": [
    "# TD3"
   ]
  },
  {
   "cell_type": "code",
   "execution_count": null,
   "metadata": {},
   "outputs": [],
   "source": [
    "# env = gym.make('BipedalWalker-v3')\n",
    "env = gym.make('Pendulum-v1')\n",
    "env_spec = env.spec\n",
    "env_wrap = GymnasiumWrapper(env_spec)"
   ]
  },
  {
   "cell_type": "code",
   "execution_count": null,
   "metadata": {},
   "outputs": [],
   "source": [
    "# build actor\n",
    "device = 'cuda'\n",
    "optimizer = {'type': 'Adam','params': { 'lr': 0.001 }}\n",
    "\n",
    "layer_config = [\n",
    "    {'type': 'dense', 'params': {'units': 400, 'kernel': 'variance_scaling', 'kernel params':{\"scale\": 1.0, \"mode\": \"fan_in\", \"distribution\": \"uniform\"}}},\n",
    "    {'type': 'relu'},\n",
    "    {'type': 'dense', 'params': {'units': 300, 'kernel': 'variance_scaling', 'kernel params':{\"scale\": 1.0, \"mode\": \"fan_in\", \"distribution\": \"uniform\"}}},\n",
    "    {'type': 'relu'},\n",
    "]\n",
    "output_layer_config = [{'type': 'dense', 'params': {'kernel': 'default', 'kernel params':{}}}]\n",
    "\n",
    "actor = ActorModel(env_wrap, layer_config, output_layer_config, device=device)"
   ]
  },
  {
   "cell_type": "code",
   "execution_count": null,
   "metadata": {},
   "outputs": [],
   "source": [
    "# build critic\n",
    "\n",
    "state_layer_config = [\n",
    "    {'type': 'dense', 'params': {'units': 400, 'kernel': 'variance_scaling', 'kernel params':{\"scale\": 1.0, \"mode\": \"fan_in\", \"distribution\": \"uniform\"}}},\n",
    "    {'type': 'relu'}\n",
    "]\n",
    "\n",
    "merged_layer_config = [\n",
    "    {'type': 'dense', 'params': {'units': 300, 'kernel': 'variance_scaling', 'kernel params':{\"scale\": 1.0, \"mode\": \"fan_in\", \"distribution\": \"uniform\"}}},\n",
    "    {'type': 'relu'},\n",
    "]\n",
    "# output_layer_config = {'type': 'dense', 'params': {'kernel': 'default', 'kernel params':{}}},\n",
    "\n",
    "critic = CriticModel(env_wrap, state_layers=state_layer_config, merged_layers=merged_layer_config,\n",
    "                    output_layer_kernel=output_layer_config, optimizer_params=optimizer, device=device)"
   ]
  },
  {
   "cell_type": "code",
   "execution_count": null,
   "metadata": {},
   "outputs": [],
   "source": [
    "replay_buffer = ReplayBuffer(env_wrap, 100000, device=device)\n",
    "noise = NormalNoise(shape=env_wrap.action_space.shape, device=device)"
   ]
  },
  {
   "cell_type": "code",
   "execution_count": null,
   "metadata": {},
   "outputs": [],
   "source": [
    "td3 = TD3(\n",
    "    env=env_wrap,\n",
    "    actor_model=actor,\n",
    "    critic_model=critic,\n",
    "    discount=0.99,\n",
    "    tau=0.005,\n",
    "    action_epsilon=0.2,\n",
    "    replay_buffer=replay_buffer,\n",
    "    noise=noise,\n",
    "    callbacks=[rl_callbacks.WandbCallback('Pendulum-v1')],\n",
    "    device='cuda'\n",
    ")"
   ]
  },
  {
   "cell_type": "code",
   "execution_count": null,
   "metadata": {},
   "outputs": [],
   "source": [
    "td3.get_config()"
   ]
  },
  {
   "cell_type": "code",
   "execution_count": null,
   "metadata": {},
   "outputs": [],
   "source": [
    "td3.train(200, 8, 42, 50)"
   ]
  },
  {
   "cell_type": "code",
   "execution_count": null,
   "metadata": {},
   "outputs": [],
   "source": [
    "float(td3.env.action_space.low[-1])"
   ]
  },
  {
   "cell_type": "markdown",
   "metadata": {},
   "source": [
    "# HER/DDPG"
   ]
  },
  {
   "cell_type": "code",
   "execution_count": null,
   "metadata": {},
   "outputs": [],
   "source": [
    "print(f'gym robotics version: {gym_robo.__version__}')"
   ]
  },
  {
   "cell_type": "code",
   "execution_count": 4,
   "metadata": {},
   "outputs": [],
   "source": [
    "env = gym.make('FetchReach-v3')\n",
    "env_spec = env.spec\n",
    "env_wrap = GymnasiumWrapper(env_spec)"
   ]
  },
  {
   "cell_type": "code",
   "execution_count": 5,
   "metadata": {},
   "outputs": [],
   "source": [
    "# build actor\n",
    "device = 'cuda'\n",
    "optimizer = {'type': 'Adam','params': { 'lr': 0.001 }}\n",
    "\n",
    "layer_config = [\n",
    "    {'type': 'dense', 'params': {'units': 256, 'kernel': 'variance_scaling', 'kernel params':{\"scale\": 1.0, \"mode\": \"fan_in\", \"distribution\": \"uniform\"}}},\n",
    "    {'type': 'relu'},\n",
    "    {'type': 'dense', 'params': {'units': 256, 'kernel': 'variance_scaling', 'kernel params':{\"scale\": 1.0, \"mode\": \"fan_in\", \"distribution\": \"uniform\"}}},\n",
    "    {'type': 'relu'},\n",
    "    {'type': 'dense', 'params': {'units': 256, 'kernel': 'variance_scaling', 'kernel params':{\"scale\": 1.0, \"mode\": \"fan_in\", \"distribution\": \"uniform\"}}},\n",
    "    {'type': 'relu'},\n",
    "]\n",
    "output_layer_config = [{'type': 'dense', 'params': {'kernel': 'uniform', 'kernel params':{'a':-3e-3, 'b':3e-3}}}]\n",
    "\n",
    "actor = ActorModel(env_wrap, layer_config, output_layer_config, device=device)"
   ]
  },
  {
   "cell_type": "code",
   "execution_count": 6,
   "metadata": {},
   "outputs": [],
   "source": [
    "# build critic\n",
    "\n",
    "state_layer_config = [\n",
    "    {'type': 'dense', 'params': {'units': 256, 'kernel': 'variance_scaling', 'kernel params':{\"scale\": 1.0, \"mode\": \"fan_in\", \"distribution\": \"uniform\"}}},\n",
    "    {'type': 'relu'}\n",
    "]\n",
    "\n",
    "merged_layer_config = [\n",
    "    {'type': 'dense', 'params': {'units': 256, 'kernel': 'variance_scaling', 'kernel params':{\"scale\": 1.0, \"mode\": \"fan_in\", \"distribution\": \"uniform\"}}},\n",
    "    {'type': 'relu'},\n",
    "    {'type': 'dense', 'params': {'units': 256, 'kernel': 'variance_scaling', 'kernel params':{\"scale\": 1.0, \"mode\": \"fan_in\", \"distribution\": \"uniform\"}}},\n",
    "    {'type': 'relu'},\n",
    "]\n",
    "# output_layer_config = {'type': 'dense', 'params': {'kernel': 'default', 'kernel params':{}}},\n",
    "\n",
    "critic = CriticModel(env_wrap, state_layers=state_layer_config, merged_layers=merged_layer_config,\n",
    "                    output_layer_kernel=output_layer_config, optimizer_params=optimizer, device=device)"
   ]
  },
  {
   "cell_type": "code",
   "execution_count": 7,
   "metadata": {},
   "outputs": [],
   "source": [
    "replay_buffer = ReplayBuffer(env_wrap, 100000, goal_shape=env.observation_space['desired_goal'].shape, device=device)\n",
    "noise = NormalNoise(shape=env_wrap.action_space.shape, mean=0.0, stddev=0.05, device=device)"
   ]
  },
  {
   "cell_type": "code",
   "execution_count": 8,
   "metadata": {},
   "outputs": [],
   "source": [
    "ddpg_agent = DDPG(env=env_wrap,\n",
    "                actor_model=actor,\n",
    "                critic_model=critic,\n",
    "                replay_buffer=replay_buffer,\n",
    "                discount=0.99,\n",
    "                tau=0.05,\n",
    "                action_epsilon=0.2,\n",
    "                batch_size=256,\n",
    "                noise=noise,\n",
    "                warmup=0,\n",
    "                callbacks=[rl_callbacks.WandbCallback('FetchReach-v3')],\n",
    "                device=device)"
   ]
  },
  {
   "cell_type": "code",
   "execution_count": 9,
   "metadata": {},
   "outputs": [],
   "source": [
    "her = HER(\n",
    "    agent=ddpg_agent,\n",
    "    tolerance=0.5,\n",
    ")"
   ]
  },
  {
   "cell_type": "code",
   "execution_count": null,
   "metadata": {},
   "outputs": [],
   "source": [
    "for i in range(len(her.agent.env.env.envs)):\n",
    "    base = her.agent.env.get_base_env(i)\n",
    "    print(f'tolerance: {base.distance_threshold}')"
   ]
  },
  {
   "cell_type": "code",
   "execution_count": 10,
   "metadata": {},
   "outputs": [
    {
     "name": "stderr",
     "output_type": "stream",
     "text": [
      "\u001b[34m\u001b[1mwandb\u001b[0m: Using wandb-core as the SDK backend.  Please refer to https://wandb.me/wandb-core for more information.\n",
      "\u001b[34m\u001b[1mwandb\u001b[0m: Currently logged in as: \u001b[33mjasonhayes1987\u001b[0m to \u001b[32mhttps://api.wandb.ai\u001b[0m. Use \u001b[1m`wandb login --relogin`\u001b[0m to force relogin\n"
     ]
    },
    {
     "data": {
      "text/html": [
       "Tracking run with wandb version 0.19.7"
      ],
      "text/plain": [
       "<IPython.core.display.HTML object>"
      ]
     },
     "metadata": {},
     "output_type": "display_data"
    },
    {
     "data": {
      "text/html": [
       "Run data is saved locally in <code>/workspaces/RL_Agents/src/app/wandb/run-20250224_022127-s9yx0gbp</code>"
      ],
      "text/plain": [
       "<IPython.core.display.HTML object>"
      ]
     },
     "metadata": {},
     "output_type": "display_data"
    },
    {
     "data": {
      "text/html": [
       "Syncing run <strong><a href='https://wandb.ai/jasonhayes1987/FetchReach-v3/runs/s9yx0gbp' target=\"_blank\">train-4</a></strong> to <a href='https://wandb.ai/jasonhayes1987/FetchReach-v3' target=\"_blank\">Weights & Biases</a> (<a href='https://wandb.me/developer-guide' target=\"_blank\">docs</a>)<br>"
      ],
      "text/plain": [
       "<IPython.core.display.HTML object>"
      ]
     },
     "metadata": {},
     "output_type": "display_data"
    },
    {
     "data": {
      "text/html": [
       " View project at <a href='https://wandb.ai/jasonhayes1987/FetchReach-v3' target=\"_blank\">https://wandb.ai/jasonhayes1987/FetchReach-v3</a>"
      ],
      "text/plain": [
       "<IPython.core.display.HTML object>"
      ]
     },
     "metadata": {},
     "output_type": "display_data"
    },
    {
     "data": {
      "text/html": [
       " View run at <a href='https://wandb.ai/jasonhayes1987/FetchReach-v3/runs/s9yx0gbp' target=\"_blank\">https://wandb.ai/jasonhayes1987/FetchReach-v3/runs/s9yx0gbp</a>"
      ],
      "text/plain": [
       "<IPython.core.display.HTML object>"
      ]
     },
     "metadata": {},
     "output_type": "display_data"
    },
    {
     "name": "stderr",
     "output_type": "stream",
     "text": [
      "\u001b[34m\u001b[1mwandb\u001b[0m: logging graph, to disable use `wandb.watch(log_graph=False)`\n",
      "\u001b[34m\u001b[1mwandb\u001b[0m: logging graph, to disable use `wandb.watch(log_graph=False)`\n"
     ]
    },
    {
     "name": "stdout",
     "output_type": "stream",
     "text": [
      "Environment 0: episode 1, score -50.0, avg_score -50.0\n",
      "Environment 1: episode 1, score -50.0, avg_score -50.0\n",
      "Environment 2: episode 1, score -50.0, avg_score -50.0\n",
      "Environment 3: episode 1, score -50.0, avg_score -50.0\n",
      "Environment 4: episode 1, score -50.0, avg_score -50.0\n",
      "Environment 5: episode 1, score -50.0, avg_score -50.0\n",
      "Environment 6: episode 1, score -50.0, avg_score -50.0\n",
      "Environment 7: episode 1, score -50.0, avg_score -50.0\n",
      "0 reward found at step 51: [0. 0. 0. 0. 0. 0. 0. 0.]\n",
      "Environment 0: episode 2, score -50.0, avg_score -50.0\n",
      "Environment 1: episode 2, score -50.0, avg_score -50.0\n",
      "Environment 2: episode 2, score -50.0, avg_score -50.0\n",
      "Environment 3: episode 2, score -50.0, avg_score -50.0\n",
      "Environment 4: episode 2, score -50.0, avg_score -50.0\n",
      "Environment 5: episode 2, score -50.0, avg_score -50.0\n",
      "Environment 6: episode 2, score -50.0, avg_score -50.0\n",
      "Environment 7: episode 2, score -50.0, avg_score -50.0\n",
      "0 reward found at step 102: [0. 0. 0. 0. 0. 0. 0. 0.]\n",
      "Environment 0: episode 3, score -50.0, avg_score -50.0\n",
      "Environment 1: episode 3, score -50.0, avg_score -50.0\n",
      "Environment 2: episode 3, score -50.0, avg_score -50.0\n",
      "Environment 3: episode 3, score -50.0, avg_score -50.0\n",
      "Environment 4: episode 3, score -50.0, avg_score -50.0\n",
      "Environment 5: episode 3, score -50.0, avg_score -50.0\n",
      "Environment 6: episode 3, score -50.0, avg_score -50.0\n",
      "Environment 7: episode 3, score -50.0, avg_score -50.0\n",
      "0 reward found at step 153: [0. 0. 0. 0. 0. 0. 0. 0.]\n",
      "Environment 0: episode 4, score -50.0, avg_score -50.0\n",
      "Environment 1: episode 4, score -50.0, avg_score -50.0\n",
      "Environment 2: episode 4, score -50.0, avg_score -50.0\n",
      "Environment 3: episode 4, score -50.0, avg_score -50.0\n",
      "Environment 4: episode 4, score -50.0, avg_score -50.0\n",
      "Environment 5: episode 4, score -50.0, avg_score -50.0\n",
      "Environment 6: episode 4, score -50.0, avg_score -50.0\n",
      "Environment 7: episode 4, score -50.0, avg_score -50.0\n",
      "0 reward found at step 204: [0. 0. 0. 0. 0. 0. 0. 0.]\n",
      "Environment 0: episode 5, score -50.0, avg_score -50.0\n",
      "Environment 1: episode 5, score -50.0, avg_score -50.0\n",
      "Environment 2: episode 5, score -50.0, avg_score -50.0\n",
      "Environment 3: episode 5, score -50.0, avg_score -50.0\n",
      "Environment 4: episode 5, score -50.0, avg_score -50.0\n",
      "Environment 5: episode 5, score -50.0, avg_score -50.0\n",
      "Environment 6: episode 5, score -50.0, avg_score -50.0\n",
      "Environment 7: episode 5, score -50.0, avg_score -50.0\n",
      "0 reward found at step 255: [0. 0. 0. 0. 0. 0. 0. 0.]\n",
      "Environment 0: episode 6, score -50.0, avg_score -50.0\n",
      "Environment 1: episode 6, score -50.0, avg_score -50.0\n",
      "Environment 2: episode 6, score -50.0, avg_score -50.0\n",
      "Environment 3: episode 6, score -50.0, avg_score -50.0\n",
      "Environment 4: episode 6, score -50.0, avg_score -50.0\n",
      "Environment 5: episode 6, score -50.0, avg_score -50.0\n",
      "Environment 6: episode 6, score -50.0, avg_score -50.0\n",
      "Environment 7: episode 6, score -50.0, avg_score -50.0\n",
      "0 reward found at step 306: [0. 0. 0. 0. 0. 0. 0. 0.]\n",
      "Environment 0: episode 7, score -50.0, avg_score -50.0\n",
      "Environment 1: episode 7, score -50.0, avg_score -50.0\n",
      "Environment 2: episode 7, score -50.0, avg_score -50.0\n",
      "Environment 3: episode 7, score -50.0, avg_score -50.0\n",
      "Environment 4: episode 7, score -50.0, avg_score -50.0\n",
      "Environment 5: episode 7, score -50.0, avg_score -50.0\n",
      "Environment 6: episode 7, score -50.0, avg_score -50.0\n",
      "Environment 7: episode 7, score -50.0, avg_score -50.0\n",
      "0 reward found at step 357: [0. 0. 0. 0. 0. 0. 0. 0.]\n",
      "Environment 0: episode 8, score -50.0, avg_score -50.0\n",
      "Environment 1: episode 8, score -50.0, avg_score -50.0\n",
      "Environment 2: episode 8, score -50.0, avg_score -50.0\n",
      "Environment 3: episode 8, score -50.0, avg_score -50.0\n",
      "Environment 4: episode 8, score -50.0, avg_score -50.0\n",
      "Environment 5: episode 8, score -50.0, avg_score -50.0\n",
      "Environment 6: episode 8, score -50.0, avg_score -50.0\n",
      "Environment 7: episode 8, score -50.0, avg_score -50.0\n",
      "0 reward found at step 408: [0. 0. 0. 0. 0. 0. 0. 0.]\n",
      "Environment 0: episode 9, score -50.0, avg_score -50.0\n",
      "Environment 1: episode 9, score -50.0, avg_score -50.0\n",
      "Environment 2: episode 9, score -50.0, avg_score -50.0\n",
      "Environment 3: episode 9, score -50.0, avg_score -50.0\n",
      "Environment 4: episode 9, score -50.0, avg_score -50.0\n",
      "Environment 5: episode 9, score -50.0, avg_score -50.0\n",
      "Environment 6: episode 9, score -50.0, avg_score -50.0\n",
      "Environment 7: episode 9, score -50.0, avg_score -50.0\n",
      "0 reward found at step 459: [0. 0. 0. 0. 0. 0. 0. 0.]\n",
      "Environment 0: episode 10, score -50.0, avg_score -50.0\n",
      "Environment 1: episode 10, score -50.0, avg_score -50.0\n",
      "Environment 2: episode 10, score -50.0, avg_score -50.0\n",
      "Environment 3: episode 10, score -50.0, avg_score -50.0\n",
      "Environment 4: episode 10, score -50.0, avg_score -50.0\n",
      "Environment 5: episode 10, score -50.0, avg_score -50.0\n",
      "Environment 6: episode 10, score -50.0, avg_score -50.0\n",
      "Environment 7: episode 10, score -50.0, avg_score -50.0\n",
      "0 reward found at step 510: [0. 0. 0. 0. 0. 0. 0. 0.]\n",
      "Environment 0: episode 11, score -50.0, avg_score -50.0\n",
      "Environment 1: episode 11, score -50.0, avg_score -50.0\n",
      "Environment 2: episode 11, score -50.0, avg_score -50.0\n",
      "Environment 3: episode 11, score -50.0, avg_score -50.0\n",
      "Environment 4: episode 11, score -50.0, avg_score -50.0\n",
      "Environment 5: episode 11, score -50.0, avg_score -50.0\n",
      "Environment 6: episode 11, score -50.0, avg_score -50.0\n",
      "Environment 7: episode 11, score -50.0, avg_score -50.0\n",
      "0 reward found at step 561: [0. 0. 0. 0. 0. 0. 0. 0.]\n",
      "Environment 0: episode 12, score -50.0, avg_score -50.0\n",
      "Environment 1: episode 12, score -50.0, avg_score -50.0\n",
      "Environment 2: episode 12, score -50.0, avg_score -50.0\n",
      "Environment 3: episode 12, score -50.0, avg_score -50.0\n",
      "Environment 4: episode 12, score -50.0, avg_score -50.0\n",
      "Environment 5: episode 12, score -50.0, avg_score -50.0\n",
      "Environment 6: episode 12, score -50.0, avg_score -50.0\n",
      "Environment 7: episode 12, score -50.0, avg_score -50.0\n",
      "0 reward found at step 612: [0. 0. 0. 0. 0. 0. 0. 0.]\n",
      "Environment 0: episode 13, score -50.0, avg_score -50.0\n",
      "Environment 1: episode 13, score -50.0, avg_score -50.0\n",
      "Environment 2: episode 13, score -50.0, avg_score -50.0\n",
      "Environment 3: episode 13, score -50.0, avg_score -50.0\n",
      "Environment 4: episode 13, score -50.0, avg_score -50.0\n",
      "Environment 5: episode 13, score -50.0, avg_score -50.0\n",
      "Environment 6: episode 13, score -50.0, avg_score -50.0\n",
      "Environment 7: episode 13, score -50.0, avg_score -50.0\n",
      "0 reward found at step 663: [0. 0. 0. 0. 0. 0. 0. 0.]\n",
      "Environment 0: episode 14, score -50.0, avg_score -50.0\n",
      "Environment 1: episode 14, score -50.0, avg_score -50.0\n",
      "Environment 2: episode 14, score -50.0, avg_score -50.0\n",
      "Environment 3: episode 14, score -50.0, avg_score -50.0\n",
      "Environment 4: episode 14, score -50.0, avg_score -50.0\n",
      "Environment 5: episode 14, score -50.0, avg_score -50.0\n",
      "Environment 6: episode 14, score -50.0, avg_score -50.0\n",
      "Environment 7: episode 14, score -50.0, avg_score -50.0\n",
      "0 reward found at step 714: [0. 0. 0. 0. 0. 0. 0. 0.]\n",
      "Environment 0: episode 15, score -50.0, avg_score -50.0\n",
      "Environment 1: episode 15, score -50.0, avg_score -50.0\n",
      "Environment 2: episode 15, score -50.0, avg_score -50.0\n",
      "Environment 3: episode 15, score -50.0, avg_score -50.0\n",
      "Environment 4: episode 15, score -50.0, avg_score -50.0\n",
      "Environment 5: episode 15, score -50.0, avg_score -50.0\n",
      "Environment 6: episode 15, score -50.0, avg_score -50.0\n",
      "Environment 7: episode 15, score -50.0, avg_score -50.0\n",
      "0 reward found at step 765: [0. 0. 0. 0. 0. 0. 0. 0.]\n",
      "Environment 0: episode 16, score -50.0, avg_score -50.0\n",
      "Environment 1: episode 16, score -50.0, avg_score -50.0\n",
      "Environment 2: episode 16, score -50.0, avg_score -50.0\n",
      "Environment 3: episode 16, score -50.0, avg_score -50.0\n",
      "Environment 4: episode 16, score -50.0, avg_score -50.0\n",
      "Environment 5: episode 16, score -50.0, avg_score -50.0\n",
      "Environment 6: episode 16, score -50.0, avg_score -50.0\n",
      "Environment 7: episode 16, score -50.0, avg_score -50.0\n",
      "0 reward found at step 816: [0. 0. 0. 0. 0. 0. 0. 0.]\n",
      "Environment 0: episode 17, score -50.0, avg_score -50.0\n",
      "Environment 1: episode 17, score -50.0, avg_score -50.0\n",
      "Environment 2: episode 17, score -50.0, avg_score -50.0\n",
      "Environment 3: episode 17, score -50.0, avg_score -50.0\n",
      "Environment 4: episode 17, score -50.0, avg_score -50.0\n",
      "Environment 5: episode 17, score -50.0, avg_score -50.0\n",
      "Environment 6: episode 17, score -50.0, avg_score -50.0\n",
      "Environment 7: episode 17, score -50.0, avg_score -50.0\n",
      "0 reward found at step 867: [0. 0. 0. 0. 0. 0. 0. 0.]\n",
      "Environment 0: episode 18, score -50.0, avg_score -50.0\n",
      "Environment 1: episode 18, score -50.0, avg_score -50.0\n",
      "Environment 2: episode 18, score -50.0, avg_score -50.0\n",
      "Environment 3: episode 18, score -50.0, avg_score -50.0\n",
      "Environment 4: episode 18, score -50.0, avg_score -50.0\n",
      "Environment 5: episode 18, score -50.0, avg_score -50.0\n",
      "Environment 6: episode 18, score -50.0, avg_score -50.0\n",
      "Environment 7: episode 18, score -50.0, avg_score -50.0\n",
      "0 reward found at step 918: [0. 0. 0. 0. 0. 0. 0. 0.]\n",
      "Environment 0: episode 19, score -50.0, avg_score -50.0\n",
      "Environment 1: episode 19, score -50.0, avg_score -50.0\n",
      "Environment 2: episode 19, score -50.0, avg_score -50.0\n",
      "Environment 3: episode 19, score -50.0, avg_score -50.0\n",
      "Environment 4: episode 19, score -50.0, avg_score -50.0\n",
      "Environment 5: episode 19, score -50.0, avg_score -50.0\n",
      "Environment 6: episode 19, score -50.0, avg_score -50.0\n",
      "Environment 7: episode 19, score -50.0, avg_score -50.0\n",
      "0 reward found at step 969: [0. 0. 0. 0. 0. 0. 0. 0.]\n",
      "Environment 0: episode 20, score -50.0, avg_score -50.0\n",
      "Environment 1: episode 20, score -50.0, avg_score -50.0\n",
      "Environment 2: episode 20, score -50.0, avg_score -50.0\n",
      "Environment 3: episode 20, score -50.0, avg_score -50.0\n",
      "Environment 4: episode 20, score -50.0, avg_score -50.0\n",
      "Environment 5: episode 20, score -50.0, avg_score -50.0\n",
      "Environment 6: episode 20, score -50.0, avg_score -50.0\n",
      "Environment 7: episode 20, score -50.0, avg_score -50.0\n",
      "0 reward found at step 1020: [0. 0. 0. 0. 0. 0. 0. 0.]\n",
      "Environment 0: episode 21, score -50.0, avg_score -50.0\n",
      "Environment 1: episode 21, score -50.0, avg_score -50.0\n",
      "Environment 2: episode 21, score -50.0, avg_score -50.0\n",
      "Environment 3: episode 21, score -50.0, avg_score -50.0\n",
      "Environment 4: episode 21, score -50.0, avg_score -50.0\n",
      "Environment 5: episode 21, score -50.0, avg_score -50.0\n",
      "Environment 6: episode 21, score -50.0, avg_score -50.0\n",
      "Environment 7: episode 21, score -50.0, avg_score -50.0\n",
      "0 reward found at step 1071: [0. 0. 0. 0. 0. 0. 0. 0.]\n",
      "Environment 0: episode 22, score -50.0, avg_score -50.0\n",
      "Environment 1: episode 22, score -50.0, avg_score -50.0\n",
      "Environment 2: episode 22, score -50.0, avg_score -50.0\n",
      "Environment 3: episode 22, score -50.0, avg_score -50.0\n",
      "Environment 4: episode 22, score -50.0, avg_score -50.0\n",
      "Environment 5: episode 22, score -50.0, avg_score -50.0\n",
      "Environment 6: episode 22, score -50.0, avg_score -50.0\n",
      "Environment 7: episode 22, score -50.0, avg_score -50.0\n",
      "0 reward found at step 1122: [0. 0. 0. 0. 0. 0. 0. 0.]\n",
      "Environment 0: episode 23, score -50.0, avg_score -50.0\n",
      "Environment 1: episode 23, score -50.0, avg_score -50.0\n",
      "Environment 2: episode 23, score -50.0, avg_score -50.0\n",
      "Environment 3: episode 23, score -50.0, avg_score -50.0\n",
      "Environment 4: episode 23, score -50.0, avg_score -50.0\n",
      "Environment 5: episode 23, score -50.0, avg_score -50.0\n",
      "Environment 6: episode 23, score -50.0, avg_score -50.0\n",
      "Environment 7: episode 23, score -50.0, avg_score -50.0\n",
      "0 reward found at step 1173: [0. 0. 0. 0. 0. 0. 0. 0.]\n",
      "Environment 0: episode 24, score -50.0, avg_score -50.0\n",
      "Environment 1: episode 24, score -50.0, avg_score -50.0\n",
      "Environment 2: episode 24, score -50.0, avg_score -50.0\n",
      "Environment 3: episode 24, score -50.0, avg_score -50.0\n",
      "Environment 4: episode 24, score -50.0, avg_score -50.0\n",
      "Environment 5: episode 24, score -50.0, avg_score -50.0\n",
      "Environment 6: episode 24, score -50.0, avg_score -50.0\n",
      "Environment 7: episode 24, score -50.0, avg_score -50.0\n",
      "0 reward found at step 1224: [0. 0. 0. 0. 0. 0. 0. 0.]\n",
      "Environment 0: episode 25, score -50.0, avg_score -50.0\n",
      "Environment 1: episode 25, score -50.0, avg_score -50.0\n",
      "Environment 2: episode 25, score -50.0, avg_score -50.0\n",
      "Environment 3: episode 25, score -50.0, avg_score -50.0\n",
      "Environment 4: episode 25, score -50.0, avg_score -50.0\n",
      "Environment 5: episode 25, score -50.0, avg_score -50.0\n",
      "Environment 6: episode 25, score -50.0, avg_score -50.0\n",
      "Environment 7: episode 25, score -50.0, avg_score -50.0\n",
      "0 reward found at step 1275: [0. 0. 0. 0. 0. 0. 0. 0.]\n",
      "Environment 0: episode 26, score -50.0, avg_score -50.0\n",
      "Environment 1: episode 26, score -50.0, avg_score -50.0\n",
      "Environment 2: episode 26, score -50.0, avg_score -50.0\n",
      "Environment 3: episode 26, score -50.0, avg_score -50.0\n",
      "Environment 4: episode 26, score -50.0, avg_score -50.0\n",
      "Environment 5: episode 26, score -50.0, avg_score -50.0\n",
      "Environment 6: episode 26, score -50.0, avg_score -50.0\n",
      "Environment 7: episode 26, score -50.0, avg_score -50.0\n",
      "0 reward found at step 1326: [0. 0. 0. 0. 0. 0. 0. 0.]\n",
      "Environment 0: episode 27, score -50.0, avg_score -50.0\n",
      "Environment 1: episode 27, score -50.0, avg_score -50.0\n",
      "Environment 2: episode 27, score -50.0, avg_score -50.0\n",
      "Environment 3: episode 27, score -50.0, avg_score -50.0\n",
      "Environment 4: episode 27, score -50.0, avg_score -50.0\n",
      "Environment 5: episode 27, score -50.0, avg_score -50.0\n",
      "Environment 6: episode 27, score -50.0, avg_score -50.0\n",
      "Environment 7: episode 27, score -50.0, avg_score -50.0\n",
      "0 reward found at step 1377: [0. 0. 0. 0. 0. 0. 0. 0.]\n",
      "Environment 0: episode 28, score -50.0, avg_score -50.0\n",
      "Environment 1: episode 28, score -50.0, avg_score -50.0\n",
      "Environment 2: episode 28, score -50.0, avg_score -50.0\n",
      "Environment 3: episode 28, score -50.0, avg_score -50.0\n",
      "Environment 4: episode 28, score -50.0, avg_score -50.0\n",
      "Environment 5: episode 28, score -50.0, avg_score -50.0\n",
      "Environment 6: episode 28, score -50.0, avg_score -50.0\n",
      "Environment 7: episode 28, score -50.0, avg_score -50.0\n",
      "0 reward found at step 1428: [0. 0. 0. 0. 0. 0. 0. 0.]\n",
      "Environment 0: episode 29, score -50.0, avg_score -50.0\n",
      "Environment 1: episode 29, score -50.0, avg_score -50.0\n",
      "Environment 2: episode 29, score -50.0, avg_score -50.0\n",
      "Environment 3: episode 29, score -50.0, avg_score -50.0\n",
      "Environment 4: episode 29, score -50.0, avg_score -50.0\n",
      "Environment 5: episode 29, score -50.0, avg_score -50.0\n",
      "Environment 6: episode 29, score -50.0, avg_score -50.0\n",
      "Environment 7: episode 29, score -50.0, avg_score -50.0\n",
      "0 reward found at step 1479: [0. 0. 0. 0. 0. 0. 0. 0.]\n",
      "Environment 0: episode 30, score -50.0, avg_score -50.0\n",
      "Environment 1: episode 30, score -50.0, avg_score -50.0\n",
      "Environment 2: episode 30, score -50.0, avg_score -50.0\n",
      "Environment 3: episode 30, score -50.0, avg_score -50.0\n",
      "Environment 4: episode 30, score -50.0, avg_score -50.0\n",
      "Environment 5: episode 30, score -50.0, avg_score -50.0\n",
      "Environment 6: episode 30, score -50.0, avg_score -50.0\n",
      "Environment 7: episode 30, score -50.0, avg_score -50.0\n",
      "0 reward found at step 1530: [0. 0. 0. 0. 0. 0. 0. 0.]\n",
      "Environment 0: episode 31, score -50.0, avg_score -50.0\n",
      "Environment 1: episode 31, score -50.0, avg_score -50.0\n",
      "Environment 2: episode 31, score -50.0, avg_score -50.0\n",
      "Environment 3: episode 31, score -50.0, avg_score -50.0\n",
      "Environment 4: episode 31, score -50.0, avg_score -50.0\n",
      "Environment 5: episode 31, score -50.0, avg_score -50.0\n",
      "Environment 6: episode 31, score -50.0, avg_score -50.0\n",
      "Environment 7: episode 31, score -50.0, avg_score -50.0\n",
      "0 reward found at step 1581: [0. 0. 0. 0. 0. 0. 0. 0.]\n",
      "Environment 0: episode 32, score -50.0, avg_score -50.0\n",
      "Environment 1: episode 32, score -50.0, avg_score -50.0\n",
      "Environment 2: episode 32, score -50.0, avg_score -50.0\n",
      "Environment 3: episode 32, score -50.0, avg_score -50.0\n",
      "Environment 4: episode 32, score -50.0, avg_score -50.0\n",
      "Environment 5: episode 32, score -50.0, avg_score -50.0\n",
      "Environment 6: episode 32, score -50.0, avg_score -50.0\n",
      "Environment 7: episode 32, score -50.0, avg_score -50.0\n",
      "0 reward found at step 1632: [0. 0. 0. 0. 0. 0. 0. 0.]\n",
      "Environment 0: episode 33, score -50.0, avg_score -50.0\n",
      "Environment 1: episode 33, score -50.0, avg_score -50.0\n",
      "Environment 2: episode 33, score -50.0, avg_score -50.0\n",
      "Environment 3: episode 33, score -50.0, avg_score -50.0\n",
      "Environment 4: episode 33, score -50.0, avg_score -50.0\n",
      "Environment 5: episode 33, score -50.0, avg_score -50.0\n",
      "Environment 6: episode 33, score -50.0, avg_score -50.0\n",
      "Environment 7: episode 33, score -50.0, avg_score -50.0\n",
      "0 reward found at step 1683: [0. 0. 0. 0. 0. 0. 0. 0.]\n",
      "Environment 0: episode 34, score -50.0, avg_score -50.0\n",
      "Environment 1: episode 34, score -50.0, avg_score -50.0\n",
      "Environment 2: episode 34, score -50.0, avg_score -50.0\n",
      "Environment 3: episode 34, score -50.0, avg_score -50.0\n",
      "Environment 4: episode 34, score -50.0, avg_score -50.0\n",
      "Environment 5: episode 34, score -50.0, avg_score -50.0\n",
      "Environment 6: episode 34, score -50.0, avg_score -50.0\n",
      "Environment 7: episode 34, score -50.0, avg_score -50.0\n",
      "0 reward found at step 1734: [0. 0. 0. 0. 0. 0. 0. 0.]\n",
      "Environment 0: episode 35, score -50.0, avg_score -50.0\n",
      "Environment 1: episode 35, score -50.0, avg_score -50.0\n",
      "Environment 2: episode 35, score -50.0, avg_score -50.0\n",
      "Environment 3: episode 35, score -50.0, avg_score -50.0\n",
      "Environment 4: episode 35, score -50.0, avg_score -50.0\n",
      "Environment 5: episode 35, score -50.0, avg_score -50.0\n",
      "Environment 6: episode 35, score -50.0, avg_score -50.0\n",
      "Environment 7: episode 35, score -50.0, avg_score -50.0\n",
      "0 reward found at step 1785: [0. 0. 0. 0. 0. 0. 0. 0.]\n",
      "Environment 0: episode 36, score -50.0, avg_score -50.0\n",
      "Environment 1: episode 36, score -50.0, avg_score -50.0\n",
      "Environment 2: episode 36, score -50.0, avg_score -50.0\n",
      "Environment 3: episode 36, score -50.0, avg_score -50.0\n",
      "Environment 4: episode 36, score -50.0, avg_score -50.0\n",
      "Environment 5: episode 36, score -50.0, avg_score -50.0\n",
      "Environment 6: episode 36, score -50.0, avg_score -50.0\n",
      "Environment 7: episode 36, score -50.0, avg_score -50.0\n",
      "0 reward found at step 1836: [0. 0. 0. 0. 0. 0. 0. 0.]\n",
      "Environment 0: episode 37, score -50.0, avg_score -50.0\n",
      "Environment 1: episode 37, score -50.0, avg_score -50.0\n",
      "Environment 2: episode 37, score -50.0, avg_score -50.0\n",
      "Environment 3: episode 37, score -50.0, avg_score -50.0\n",
      "Environment 4: episode 37, score -50.0, avg_score -50.0\n",
      "Environment 5: episode 37, score -50.0, avg_score -50.0\n",
      "Environment 6: episode 37, score -50.0, avg_score -50.0\n",
      "Environment 7: episode 37, score -50.0, avg_score -50.0\n",
      "0 reward found at step 1887: [0. 0. 0. 0. 0. 0. 0. 0.]\n",
      "Environment 0: episode 38, score -50.0, avg_score -50.0\n",
      "Environment 1: episode 38, score -50.0, avg_score -50.0\n",
      "Environment 2: episode 38, score -50.0, avg_score -50.0\n",
      "Environment 3: episode 38, score -50.0, avg_score -50.0\n",
      "Environment 4: episode 38, score -50.0, avg_score -50.0\n",
      "Environment 5: episode 38, score -50.0, avg_score -50.0\n",
      "Environment 6: episode 38, score -50.0, avg_score -50.0\n",
      "Environment 7: episode 38, score -50.0, avg_score -50.0\n",
      "0 reward found at step 1938: [0. 0. 0. 0. 0. 0. 0. 0.]\n",
      "Environment 0: episode 39, score -50.0, avg_score -50.0\n",
      "Environment 1: episode 39, score -50.0, avg_score -50.0\n",
      "Environment 2: episode 39, score -50.0, avg_score -50.0\n",
      "Environment 3: episode 39, score -50.0, avg_score -50.0\n",
      "Environment 4: episode 39, score -50.0, avg_score -50.0\n",
      "Environment 5: episode 39, score -50.0, avg_score -50.0\n",
      "Environment 6: episode 39, score -50.0, avg_score -50.0\n",
      "Environment 7: episode 39, score -50.0, avg_score -50.0\n",
      "0 reward found at step 1989: [0. 0. 0. 0. 0. 0. 0. 0.]\n",
      "Environment 0: episode 40, score -50.0, avg_score -50.0\n",
      "Environment 1: episode 40, score -50.0, avg_score -50.0\n",
      "Environment 2: episode 40, score -50.0, avg_score -50.0\n",
      "Environment 3: episode 40, score -50.0, avg_score -50.0\n",
      "Environment 4: episode 40, score -50.0, avg_score -50.0\n",
      "Environment 5: episode 40, score -50.0, avg_score -50.0\n",
      "Environment 6: episode 40, score -50.0, avg_score -50.0\n",
      "Environment 7: episode 40, score -50.0, avg_score -50.0\n",
      "0 reward found at step 2040: [0. 0. 0. 0. 0. 0. 0. 0.]\n",
      "Environment 0: episode 41, score -50.0, avg_score -50.0\n",
      "Environment 1: episode 41, score -50.0, avg_score -50.0\n",
      "Environment 2: episode 41, score -50.0, avg_score -50.0\n",
      "Environment 3: episode 41, score -50.0, avg_score -50.0\n",
      "Environment 4: episode 41, score -50.0, avg_score -50.0\n",
      "Environment 5: episode 41, score -50.0, avg_score -50.0\n",
      "Environment 6: episode 41, score -50.0, avg_score -50.0\n",
      "Environment 7: episode 41, score -50.0, avg_score -50.0\n",
      "0 reward found at step 2091: [0. 0. 0. 0. 0. 0. 0. 0.]\n",
      "Environment 0: episode 42, score -50.0, avg_score -50.0\n",
      "Environment 1: episode 42, score -50.0, avg_score -50.0\n",
      "Environment 2: episode 42, score -50.0, avg_score -50.0\n",
      "Environment 3: episode 42, score -50.0, avg_score -50.0\n",
      "Environment 4: episode 42, score -50.0, avg_score -50.0\n",
      "Environment 5: episode 42, score -50.0, avg_score -50.0\n",
      "Environment 6: episode 42, score -50.0, avg_score -50.0\n",
      "Environment 7: episode 42, score -50.0, avg_score -50.0\n",
      "0 reward found at step 2142: [0. 0. 0. 0. 0. 0. 0. 0.]\n",
      "Environment 0: episode 43, score -50.0, avg_score -50.0\n",
      "Environment 1: episode 43, score -50.0, avg_score -50.0\n",
      "Environment 2: episode 43, score -50.0, avg_score -50.0\n",
      "Environment 3: episode 43, score -50.0, avg_score -50.0\n",
      "Environment 4: episode 43, score -50.0, avg_score -50.0\n",
      "Environment 5: episode 43, score -50.0, avg_score -50.0\n",
      "Environment 6: episode 43, score -50.0, avg_score -50.0\n",
      "Environment 7: episode 43, score -50.0, avg_score -50.0\n",
      "0 reward found at step 2193: [0. 0. 0. 0. 0. 0. 0. 0.]\n",
      "Environment 0: episode 44, score -50.0, avg_score -50.0\n",
      "Environment 1: episode 44, score -50.0, avg_score -50.0\n",
      "Environment 2: episode 44, score -50.0, avg_score -50.0\n",
      "Environment 3: episode 44, score -50.0, avg_score -50.0\n",
      "Environment 4: episode 44, score -50.0, avg_score -50.0\n",
      "Environment 5: episode 44, score -50.0, avg_score -50.0\n",
      "Environment 6: episode 44, score -50.0, avg_score -50.0\n",
      "Environment 7: episode 44, score -50.0, avg_score -50.0\n",
      "0 reward found at step 2244: [0. 0. 0. 0. 0. 0. 0. 0.]\n",
      "Environment 0: episode 45, score -50.0, avg_score -50.0\n",
      "Environment 1: episode 45, score -50.0, avg_score -50.0\n",
      "Environment 2: episode 45, score -50.0, avg_score -50.0\n",
      "Environment 3: episode 45, score -50.0, avg_score -50.0\n",
      "Environment 4: episode 45, score -50.0, avg_score -50.0\n",
      "Environment 5: episode 45, score -50.0, avg_score -50.0\n",
      "Environment 6: episode 45, score -50.0, avg_score -50.0\n",
      "Environment 7: episode 45, score -50.0, avg_score -50.0\n",
      "0 reward found at step 2295: [0. 0. 0. 0. 0. 0. 0. 0.]\n",
      "Environment 0: episode 46, score -50.0, avg_score -50.0\n",
      "Environment 1: episode 46, score -50.0, avg_score -50.0\n",
      "Environment 2: episode 46, score -50.0, avg_score -50.0\n",
      "Environment 3: episode 46, score -50.0, avg_score -50.0\n",
      "Environment 4: episode 46, score -50.0, avg_score -50.0\n",
      "Environment 5: episode 46, score -50.0, avg_score -50.0\n",
      "Environment 6: episode 46, score -50.0, avg_score -50.0\n",
      "Environment 7: episode 46, score -50.0, avg_score -50.0\n",
      "0 reward found at step 2346: [0. 0. 0. 0. 0. 0. 0. 0.]\n",
      "Environment 0: episode 47, score -50.0, avg_score -50.0\n",
      "Environment 1: episode 47, score -50.0, avg_score -50.0\n",
      "Environment 2: episode 47, score -50.0, avg_score -50.0\n",
      "Environment 3: episode 47, score -50.0, avg_score -50.0\n",
      "Environment 4: episode 47, score -50.0, avg_score -50.0\n",
      "Environment 5: episode 47, score -50.0, avg_score -50.0\n",
      "Environment 6: episode 47, score -50.0, avg_score -50.0\n",
      "Environment 7: episode 47, score -50.0, avg_score -50.0\n",
      "0 reward found at step 2397: [0. 0. 0. 0. 0. 0. 0. 0.]\n",
      "Environment 0: episode 48, score -50.0, avg_score -50.0\n",
      "Environment 1: episode 48, score -50.0, avg_score -50.0\n",
      "Environment 2: episode 48, score -50.0, avg_score -50.0\n",
      "Environment 3: episode 48, score -50.0, avg_score -50.0\n",
      "Environment 4: episode 48, score -50.0, avg_score -50.0\n",
      "Environment 5: episode 48, score -50.0, avg_score -50.0\n",
      "Environment 6: episode 48, score -50.0, avg_score -50.0\n",
      "Environment 7: episode 48, score -50.0, avg_score -50.0\n",
      "0 reward found at step 2448: [0. 0. 0. 0. 0. 0. 0. 0.]\n",
      "Environment 0: episode 49, score -50.0, avg_score -50.0\n",
      "Environment 1: episode 49, score -50.0, avg_score -50.0\n",
      "Environment 2: episode 49, score -50.0, avg_score -50.0\n",
      "Environment 3: episode 49, score -50.0, avg_score -50.0\n",
      "Environment 4: episode 49, score -50.0, avg_score -50.0\n",
      "Environment 5: episode 49, score -50.0, avg_score -50.0\n",
      "Environment 6: episode 49, score -50.0, avg_score -50.0\n",
      "Environment 7: episode 49, score -50.0, avg_score -50.0\n",
      "0 reward found at step 2499: [0. 0. 0. 0. 0. 0. 0. 0.]\n",
      "Environment 0: episode 50, score -50.0, avg_score -50.0\n",
      "Environment 1: episode 50, score -50.0, avg_score -50.0\n",
      "Environment 2: episode 50, score -50.0, avg_score -50.0\n",
      "Environment 3: episode 50, score -50.0, avg_score -50.0\n",
      "Environment 4: episode 50, score -50.0, avg_score -50.0\n",
      "Environment 5: episode 50, score -50.0, avg_score -50.0\n",
      "Environment 6: episode 50, score -50.0, avg_score -50.0\n",
      "Environment 7: episode 50, score -50.0, avg_score -50.0\n",
      "0 reward found at step 2550: [0. 0. 0. 0. 0. 0. 0. 0.]\n",
      "Environment 0: episode 51, score -50.0, avg_score -50.0\n",
      "Environment 1: episode 51, score -50.0, avg_score -50.0\n",
      "Environment 2: episode 51, score -50.0, avg_score -50.0\n",
      "Environment 3: episode 51, score -50.0, avg_score -50.0\n",
      "Environment 4: episode 51, score -50.0, avg_score -50.0\n",
      "Environment 5: episode 51, score -50.0, avg_score -50.0\n",
      "Environment 6: episode 51, score -50.0, avg_score -50.0\n",
      "Environment 7: episode 51, score -50.0, avg_score -50.0\n",
      "0 reward found at step 2601: [0. 0. 0. 0. 0. 0. 0. 0.]\n",
      "Environment 0: episode 52, score -50.0, avg_score -50.0\n",
      "Environment 1: episode 52, score -50.0, avg_score -50.0\n",
      "Environment 2: episode 52, score -50.0, avg_score -50.0\n",
      "Environment 3: episode 52, score -50.0, avg_score -50.0\n",
      "Environment 4: episode 52, score -50.0, avg_score -50.0\n",
      "Environment 5: episode 52, score -50.0, avg_score -50.0\n",
      "Environment 6: episode 52, score -50.0, avg_score -50.0\n",
      "Environment 7: episode 52, score -50.0, avg_score -50.0\n",
      "0 reward found at step 2652: [0. 0. 0. 0. 0. 0. 0. 0.]\n",
      "Environment 0: episode 53, score -50.0, avg_score -50.0\n",
      "Environment 1: episode 53, score -50.0, avg_score -50.0\n",
      "Environment 2: episode 53, score -50.0, avg_score -50.0\n",
      "Environment 3: episode 53, score -50.0, avg_score -50.0\n",
      "Environment 4: episode 53, score -50.0, avg_score -50.0\n",
      "Environment 5: episode 53, score -50.0, avg_score -50.0\n",
      "Environment 6: episode 53, score -50.0, avg_score -50.0\n",
      "Environment 7: episode 53, score -50.0, avg_score -50.0\n",
      "0 reward found at step 2703: [0. 0. 0. 0. 0. 0. 0. 0.]\n",
      "Environment 0: episode 54, score -50.0, avg_score -50.0\n",
      "Environment 1: episode 54, score -50.0, avg_score -50.0\n",
      "Environment 2: episode 54, score -50.0, avg_score -50.0\n",
      "Environment 3: episode 54, score -50.0, avg_score -50.0\n",
      "Environment 4: episode 54, score -50.0, avg_score -50.0\n",
      "Environment 5: episode 54, score -50.0, avg_score -50.0\n",
      "Environment 6: episode 54, score -50.0, avg_score -50.0\n",
      "Environment 7: episode 54, score -50.0, avg_score -50.0\n",
      "0 reward found at step 2754: [0. 0. 0. 0. 0. 0. 0. 0.]\n",
      "Environment 0: episode 55, score -50.0, avg_score -50.0\n",
      "Environment 1: episode 55, score -50.0, avg_score -50.0\n",
      "Environment 2: episode 55, score -50.0, avg_score -50.0\n",
      "Environment 3: episode 55, score -50.0, avg_score -50.0\n",
      "Environment 4: episode 55, score -50.0, avg_score -50.0\n",
      "Environment 5: episode 55, score -50.0, avg_score -50.0\n",
      "Environment 6: episode 55, score -50.0, avg_score -50.0\n",
      "Environment 7: episode 55, score -50.0, avg_score -50.0\n",
      "0 reward found at step 2805: [0. 0. 0. 0. 0. 0. 0. 0.]\n",
      "Environment 0: episode 56, score -50.0, avg_score -50.0\n",
      "Environment 1: episode 56, score -50.0, avg_score -50.0\n",
      "Environment 2: episode 56, score -50.0, avg_score -50.0\n",
      "Environment 3: episode 56, score -50.0, avg_score -50.0\n",
      "Environment 4: episode 56, score -50.0, avg_score -50.0\n",
      "Environment 5: episode 56, score -50.0, avg_score -50.0\n",
      "Environment 6: episode 56, score -50.0, avg_score -50.0\n",
      "Environment 7: episode 56, score -50.0, avg_score -50.0\n",
      "0 reward found at step 2856: [0. 0. 0. 0. 0. 0. 0. 0.]\n",
      "Environment 0: episode 57, score -50.0, avg_score -50.0\n",
      "Environment 1: episode 57, score -50.0, avg_score -50.0\n",
      "Environment 2: episode 57, score -50.0, avg_score -50.0\n",
      "Environment 3: episode 57, score -50.0, avg_score -50.0\n",
      "Environment 4: episode 57, score -50.0, avg_score -50.0\n",
      "Environment 5: episode 57, score -50.0, avg_score -50.0\n",
      "Environment 6: episode 57, score -50.0, avg_score -50.0\n",
      "Environment 7: episode 57, score -50.0, avg_score -50.0\n",
      "0 reward found at step 2907: [0. 0. 0. 0. 0. 0. 0. 0.]\n",
      "Environment 0: episode 58, score -50.0, avg_score -50.0\n",
      "Environment 1: episode 58, score -50.0, avg_score -50.0\n",
      "Environment 2: episode 58, score -50.0, avg_score -50.0\n",
      "Environment 3: episode 58, score -50.0, avg_score -50.0\n",
      "Environment 4: episode 58, score -50.0, avg_score -50.0\n",
      "Environment 5: episode 58, score -50.0, avg_score -50.0\n",
      "Environment 6: episode 58, score -50.0, avg_score -50.0\n",
      "Environment 7: episode 58, score -50.0, avg_score -50.0\n",
      "0 reward found at step 2958: [0. 0. 0. 0. 0. 0. 0. 0.]\n",
      "Environment 0: episode 59, score -50.0, avg_score -50.0\n",
      "Environment 1: episode 59, score -50.0, avg_score -50.0\n",
      "Environment 2: episode 59, score -50.0, avg_score -50.0\n",
      "Environment 3: episode 59, score -50.0, avg_score -50.0\n",
      "Environment 4: episode 59, score -50.0, avg_score -50.0\n",
      "Environment 5: episode 59, score -50.0, avg_score -50.0\n",
      "Environment 6: episode 59, score -50.0, avg_score -50.0\n",
      "Environment 7: episode 59, score -50.0, avg_score -50.0\n",
      "0 reward found at step 3009: [0. 0. 0. 0. 0. 0. 0. 0.]\n",
      "Environment 0: episode 60, score -50.0, avg_score -50.0\n",
      "Environment 1: episode 60, score -50.0, avg_score -50.0\n",
      "Environment 2: episode 60, score -50.0, avg_score -50.0\n",
      "Environment 3: episode 60, score -50.0, avg_score -50.0\n",
      "Environment 4: episode 60, score -50.0, avg_score -50.0\n",
      "Environment 5: episode 60, score -50.0, avg_score -50.0\n",
      "Environment 6: episode 60, score -50.0, avg_score -50.0\n",
      "Environment 7: episode 60, score -50.0, avg_score -50.0\n",
      "0 reward found at step 3060: [0. 0. 0. 0. 0. 0. 0. 0.]\n",
      "Environment 0: episode 61, score -50.0, avg_score -50.0\n",
      "Environment 1: episode 61, score -50.0, avg_score -50.0\n",
      "Environment 2: episode 61, score -50.0, avg_score -50.0\n",
      "Environment 3: episode 61, score -50.0, avg_score -50.0\n",
      "Environment 4: episode 61, score -50.0, avg_score -50.0\n",
      "Environment 5: episode 61, score -50.0, avg_score -50.0\n",
      "Environment 6: episode 61, score -50.0, avg_score -50.0\n",
      "Environment 7: episode 61, score -50.0, avg_score -50.0\n",
      "0 reward found at step 3111: [0. 0. 0. 0. 0. 0. 0. 0.]\n",
      "Environment 0: episode 62, score -50.0, avg_score -50.0\n",
      "Environment 1: episode 62, score -50.0, avg_score -50.0\n",
      "Environment 2: episode 62, score -50.0, avg_score -50.0\n",
      "Environment 3: episode 62, score -50.0, avg_score -50.0\n",
      "Environment 4: episode 62, score -50.0, avg_score -50.0\n",
      "Environment 5: episode 62, score -50.0, avg_score -50.0\n",
      "Environment 6: episode 62, score -50.0, avg_score -50.0\n",
      "Environment 7: episode 62, score -50.0, avg_score -50.0\n",
      "0 reward found at step 3162: [0. 0. 0. 0. 0. 0. 0. 0.]\n",
      "Environment 0: episode 63, score -50.0, avg_score -50.0\n",
      "Environment 1: episode 63, score -50.0, avg_score -50.0\n",
      "Environment 2: episode 63, score -50.0, avg_score -50.0\n",
      "Environment 3: episode 63, score -50.0, avg_score -50.0\n",
      "Environment 4: episode 63, score -50.0, avg_score -50.0\n",
      "Environment 5: episode 63, score -50.0, avg_score -50.0\n",
      "Environment 6: episode 63, score -50.0, avg_score -50.0\n",
      "Environment 7: episode 63, score -50.0, avg_score -50.0\n",
      "0 reward found at step 3213: [0. 0. 0. 0. 0. 0. 0. 0.]\n",
      "Environment 0: episode 64, score -50.0, avg_score -50.0\n",
      "Environment 1: episode 64, score -50.0, avg_score -50.0\n",
      "Environment 2: episode 64, score -50.0, avg_score -50.0\n",
      "Environment 3: episode 64, score -50.0, avg_score -50.0\n",
      "Environment 4: episode 64, score -50.0, avg_score -50.0\n",
      "Environment 5: episode 64, score -50.0, avg_score -50.0\n",
      "Environment 6: episode 64, score -50.0, avg_score -50.0\n",
      "Environment 7: episode 64, score -50.0, avg_score -50.0\n",
      "0 reward found at step 3264: [0. 0. 0. 0. 0. 0. 0. 0.]\n",
      "Environment 0: episode 65, score -50.0, avg_score -50.0\n",
      "Environment 1: episode 65, score -50.0, avg_score -50.0\n",
      "Environment 2: episode 65, score -50.0, avg_score -50.0\n",
      "Environment 3: episode 65, score -50.0, avg_score -50.0\n",
      "Environment 4: episode 65, score -50.0, avg_score -50.0\n",
      "Environment 5: episode 65, score -50.0, avg_score -50.0\n",
      "Environment 6: episode 65, score -50.0, avg_score -50.0\n",
      "Environment 7: episode 65, score -50.0, avg_score -50.0\n",
      "0 reward found at step 3315: [0. 0. 0. 0. 0. 0. 0. 0.]\n",
      "Environment 0: episode 66, score -50.0, avg_score -50.0\n",
      "Environment 1: episode 66, score -50.0, avg_score -50.0\n",
      "Environment 2: episode 66, score -50.0, avg_score -50.0\n",
      "Environment 3: episode 66, score -50.0, avg_score -50.0\n",
      "Environment 4: episode 66, score -50.0, avg_score -50.0\n",
      "Environment 5: episode 66, score -50.0, avg_score -50.0\n",
      "Environment 6: episode 66, score -50.0, avg_score -50.0\n",
      "Environment 7: episode 66, score -50.0, avg_score -50.0\n",
      "0 reward found at step 3366: [0. 0. 0. 0. 0. 0. 0. 0.]\n",
      "Environment 0: episode 67, score -50.0, avg_score -50.0\n",
      "Environment 1: episode 67, score -50.0, avg_score -50.0\n",
      "Environment 2: episode 67, score -50.0, avg_score -50.0\n",
      "Environment 3: episode 67, score -50.0, avg_score -50.0\n",
      "Environment 4: episode 67, score -50.0, avg_score -50.0\n",
      "Environment 5: episode 67, score -50.0, avg_score -50.0\n",
      "Environment 6: episode 67, score -50.0, avg_score -50.0\n",
      "Environment 7: episode 67, score -50.0, avg_score -50.0\n",
      "0 reward found at step 3417: [0. 0. 0. 0. 0. 0. 0. 0.]\n",
      "Environment 0: episode 68, score -50.0, avg_score -50.0\n",
      "Environment 1: episode 68, score -50.0, avg_score -50.0\n",
      "Environment 2: episode 68, score -50.0, avg_score -50.0\n",
      "Environment 3: episode 68, score -50.0, avg_score -50.0\n",
      "Environment 4: episode 68, score -50.0, avg_score -50.0\n",
      "Environment 5: episode 68, score -50.0, avg_score -50.0\n",
      "Environment 6: episode 68, score -50.0, avg_score -50.0\n",
      "Environment 7: episode 68, score -50.0, avg_score -50.0\n",
      "0 reward found at step 3468: [0. 0. 0. 0. 0. 0. 0. 0.]\n",
      "Environment 0: episode 69, score -50.0, avg_score -50.0\n",
      "Environment 1: episode 69, score -50.0, avg_score -50.0\n",
      "Environment 2: episode 69, score -50.0, avg_score -50.0\n",
      "Environment 3: episode 69, score -50.0, avg_score -50.0\n",
      "Environment 4: episode 69, score -50.0, avg_score -50.0\n",
      "Environment 5: episode 69, score -50.0, avg_score -50.0\n",
      "Environment 6: episode 69, score -50.0, avg_score -50.0\n",
      "Environment 7: episode 69, score -50.0, avg_score -50.0\n",
      "0 reward found at step 3519: [0. 0. 0. 0. 0. 0. 0. 0.]\n",
      "Environment 0: episode 70, score -50.0, avg_score -50.0\n",
      "Environment 1: episode 70, score -50.0, avg_score -50.0\n",
      "Environment 2: episode 70, score -50.0, avg_score -50.0\n",
      "Environment 3: episode 70, score -50.0, avg_score -50.0\n",
      "Environment 4: episode 70, score -50.0, avg_score -50.0\n",
      "Environment 5: episode 70, score -50.0, avg_score -50.0\n",
      "Environment 6: episode 70, score -50.0, avg_score -50.0\n",
      "Environment 7: episode 70, score -50.0, avg_score -50.0\n",
      "0 reward found at step 3570: [0. 0. 0. 0. 0. 0. 0. 0.]\n",
      "Environment 0: episode 71, score -50.0, avg_score -50.0\n",
      "Environment 1: episode 71, score -50.0, avg_score -50.0\n",
      "Environment 2: episode 71, score -50.0, avg_score -50.0\n",
      "Environment 3: episode 71, score -50.0, avg_score -50.0\n",
      "Environment 4: episode 71, score -50.0, avg_score -50.0\n",
      "Environment 5: episode 71, score -50.0, avg_score -50.0\n",
      "Environment 6: episode 71, score -50.0, avg_score -50.0\n",
      "Environment 7: episode 71, score -50.0, avg_score -50.0\n",
      "0 reward found at step 3621: [0. 0. 0. 0. 0. 0. 0. 0.]\n",
      "Environment 0: episode 72, score -50.0, avg_score -50.0\n",
      "Environment 1: episode 72, score -50.0, avg_score -50.0\n",
      "Environment 2: episode 72, score -50.0, avg_score -50.0\n",
      "Environment 3: episode 72, score -50.0, avg_score -50.0\n",
      "Environment 4: episode 72, score -50.0, avg_score -50.0\n",
      "Environment 5: episode 72, score -50.0, avg_score -50.0\n",
      "Environment 6: episode 72, score -50.0, avg_score -50.0\n",
      "Environment 7: episode 72, score -50.0, avg_score -50.0\n",
      "0 reward found at step 3672: [0. 0. 0. 0. 0. 0. 0. 0.]\n",
      "Environment 0: episode 73, score -50.0, avg_score -50.0\n",
      "Environment 1: episode 73, score -50.0, avg_score -50.0\n",
      "Environment 2: episode 73, score -50.0, avg_score -50.0\n",
      "Environment 3: episode 73, score -50.0, avg_score -50.0\n",
      "Environment 4: episode 73, score -50.0, avg_score -50.0\n",
      "Environment 5: episode 73, score -50.0, avg_score -50.0\n",
      "Environment 6: episode 73, score -50.0, avg_score -50.0\n",
      "Environment 7: episode 73, score -50.0, avg_score -50.0\n",
      "0 reward found at step 3723: [0. 0. 0. 0. 0. 0. 0. 0.]\n",
      "Environment 0: episode 74, score -50.0, avg_score -50.0\n",
      "Environment 1: episode 74, score -50.0, avg_score -50.0\n",
      "Environment 2: episode 74, score -50.0, avg_score -50.0\n",
      "Environment 3: episode 74, score -50.0, avg_score -50.0\n",
      "Environment 4: episode 74, score -50.0, avg_score -50.0\n",
      "Environment 5: episode 74, score -50.0, avg_score -50.0\n",
      "Environment 6: episode 74, score -50.0, avg_score -50.0\n",
      "Environment 7: episode 74, score -50.0, avg_score -50.0\n",
      "0 reward found at step 3774: [0. 0. 0. 0. 0. 0. 0. 0.]\n",
      "Environment 0: episode 75, score -50.0, avg_score -50.0\n",
      "Environment 1: episode 75, score -50.0, avg_score -50.0\n",
      "Environment 2: episode 75, score -50.0, avg_score -50.0\n",
      "Environment 3: episode 75, score -50.0, avg_score -50.0\n",
      "Environment 4: episode 75, score -50.0, avg_score -50.0\n",
      "Environment 5: episode 75, score -50.0, avg_score -50.0\n",
      "Environment 6: episode 75, score -50.0, avg_score -50.0\n",
      "Environment 7: episode 75, score -50.0, avg_score -50.0\n",
      "0 reward found at step 3825: [0. 0. 0. 0. 0. 0. 0. 0.]\n",
      "Environment 0: episode 76, score -50.0, avg_score -50.0\n",
      "Environment 1: episode 76, score -50.0, avg_score -50.0\n",
      "Environment 2: episode 76, score -50.0, avg_score -50.0\n",
      "Environment 3: episode 76, score -50.0, avg_score -50.0\n",
      "Environment 4: episode 76, score -50.0, avg_score -50.0\n",
      "Environment 5: episode 76, score -50.0, avg_score -50.0\n",
      "Environment 6: episode 76, score -50.0, avg_score -50.0\n",
      "Environment 7: episode 76, score -50.0, avg_score -50.0\n",
      "0 reward found at step 3876: [0. 0. 0. 0. 0. 0. 0. 0.]\n",
      "Environment 0: episode 77, score -50.0, avg_score -50.0\n",
      "Environment 1: episode 77, score -50.0, avg_score -50.0\n",
      "Environment 2: episode 77, score -50.0, avg_score -50.0\n",
      "Environment 3: episode 77, score -50.0, avg_score -50.0\n",
      "Environment 4: episode 77, score -50.0, avg_score -50.0\n",
      "Environment 5: episode 77, score -50.0, avg_score -50.0\n",
      "Environment 6: episode 77, score -50.0, avg_score -50.0\n",
      "Environment 7: episode 77, score -50.0, avg_score -50.0\n",
      "0 reward found at step 3927: [0. 0. 0. 0. 0. 0. 0. 0.]\n",
      "Environment 0: episode 78, score -50.0, avg_score -50.0\n",
      "Environment 1: episode 78, score -50.0, avg_score -50.0\n",
      "Environment 2: episode 78, score -50.0, avg_score -50.0\n",
      "Environment 3: episode 78, score -50.0, avg_score -50.0\n",
      "Environment 4: episode 78, score -50.0, avg_score -50.0\n",
      "Environment 5: episode 78, score -50.0, avg_score -50.0\n",
      "Environment 6: episode 78, score -50.0, avg_score -50.0\n",
      "Environment 7: episode 78, score -50.0, avg_score -50.0\n",
      "0 reward found at step 3978: [0. 0. 0. 0. 0. 0. 0. 0.]\n",
      "Environment 0: episode 79, score -50.0, avg_score -50.0\n",
      "Environment 1: episode 79, score -50.0, avg_score -50.0\n",
      "Environment 2: episode 79, score -50.0, avg_score -50.0\n",
      "Environment 3: episode 79, score -50.0, avg_score -50.0\n",
      "Environment 4: episode 79, score -50.0, avg_score -50.0\n",
      "Environment 5: episode 79, score -50.0, avg_score -50.0\n",
      "Environment 6: episode 79, score -50.0, avg_score -50.0\n",
      "Environment 7: episode 79, score -50.0, avg_score -50.0\n",
      "0 reward found at step 4029: [0. 0. 0. 0. 0. 0. 0. 0.]\n",
      "Environment 0: episode 80, score -50.0, avg_score -50.0\n",
      "Environment 1: episode 80, score -50.0, avg_score -50.0\n",
      "Environment 2: episode 80, score -50.0, avg_score -50.0\n",
      "Environment 3: episode 80, score -50.0, avg_score -50.0\n",
      "Environment 4: episode 80, score -50.0, avg_score -50.0\n",
      "Environment 5: episode 80, score -50.0, avg_score -50.0\n",
      "Environment 6: episode 80, score -50.0, avg_score -50.0\n",
      "Environment 7: episode 80, score -50.0, avg_score -50.0\n",
      "0 reward found at step 4080: [0. 0. 0. 0. 0. 0. 0. 0.]\n",
      "Environment 0: episode 81, score -50.0, avg_score -50.0\n",
      "Environment 1: episode 81, score -50.0, avg_score -50.0\n",
      "Environment 2: episode 81, score -50.0, avg_score -50.0\n",
      "Environment 3: episode 81, score -50.0, avg_score -50.0\n",
      "Environment 4: episode 81, score -50.0, avg_score -50.0\n",
      "Environment 5: episode 81, score -50.0, avg_score -50.0\n",
      "Environment 6: episode 81, score -50.0, avg_score -50.0\n",
      "Environment 7: episode 81, score -50.0, avg_score -50.0\n",
      "0 reward found at step 4131: [0. 0. 0. 0. 0. 0. 0. 0.]\n",
      "Environment 0: episode 82, score -50.0, avg_score -50.0\n",
      "Environment 1: episode 82, score -50.0, avg_score -50.0\n",
      "Environment 2: episode 82, score -50.0, avg_score -50.0\n",
      "Environment 3: episode 82, score -50.0, avg_score -50.0\n",
      "Environment 4: episode 82, score -50.0, avg_score -50.0\n",
      "Environment 5: episode 82, score -50.0, avg_score -50.0\n",
      "Environment 6: episode 82, score -50.0, avg_score -50.0\n",
      "Environment 7: episode 82, score -50.0, avg_score -50.0\n",
      "0 reward found at step 4182: [0. 0. 0. 0. 0. 0. 0. 0.]\n",
      "Environment 0: episode 83, score -50.0, avg_score -50.0\n",
      "Environment 1: episode 83, score -50.0, avg_score -50.0\n",
      "Environment 2: episode 83, score -50.0, avg_score -50.0\n",
      "Environment 3: episode 83, score -50.0, avg_score -50.0\n",
      "Environment 4: episode 83, score -50.0, avg_score -50.0\n",
      "Environment 5: episode 83, score -50.0, avg_score -50.0\n",
      "Environment 6: episode 83, score -50.0, avg_score -50.0\n",
      "Environment 7: episode 83, score -50.0, avg_score -50.0\n",
      "0 reward found at step 4233: [0. 0. 0. 0. 0. 0. 0. 0.]\n",
      "Environment 0: episode 84, score -50.0, avg_score -50.0\n",
      "Environment 1: episode 84, score -50.0, avg_score -50.0\n",
      "Environment 2: episode 84, score -50.0, avg_score -50.0\n",
      "Environment 3: episode 84, score -50.0, avg_score -50.0\n",
      "Environment 4: episode 84, score -50.0, avg_score -50.0\n",
      "Environment 5: episode 84, score -50.0, avg_score -50.0\n",
      "Environment 6: episode 84, score -50.0, avg_score -50.0\n",
      "Environment 7: episode 84, score -50.0, avg_score -50.0\n",
      "0 reward found at step 4284: [0. 0. 0. 0. 0. 0. 0. 0.]\n",
      "Environment 0: episode 85, score -50.0, avg_score -50.0\n",
      "Environment 1: episode 85, score -50.0, avg_score -50.0\n",
      "Environment 2: episode 85, score -50.0, avg_score -50.0\n",
      "Environment 3: episode 85, score -50.0, avg_score -50.0\n",
      "Environment 4: episode 85, score -50.0, avg_score -50.0\n",
      "Environment 5: episode 85, score -50.0, avg_score -50.0\n",
      "Environment 6: episode 85, score -50.0, avg_score -50.0\n",
      "Environment 7: episode 85, score -50.0, avg_score -50.0\n",
      "0 reward found at step 4335: [0. 0. 0. 0. 0. 0. 0. 0.]\n",
      "Environment 0: episode 86, score -50.0, avg_score -50.0\n",
      "Environment 1: episode 86, score -50.0, avg_score -50.0\n",
      "Environment 2: episode 86, score -50.0, avg_score -50.0\n",
      "Environment 3: episode 86, score -50.0, avg_score -50.0\n",
      "Environment 4: episode 86, score -50.0, avg_score -50.0\n",
      "Environment 5: episode 86, score -50.0, avg_score -50.0\n",
      "Environment 6: episode 86, score -50.0, avg_score -50.0\n",
      "Environment 7: episode 86, score -50.0, avg_score -50.0\n",
      "0 reward found at step 4386: [0. 0. 0. 0. 0. 0. 0. 0.]\n",
      "Environment 0: episode 87, score -50.0, avg_score -50.0\n",
      "Environment 1: episode 87, score -50.0, avg_score -50.0\n",
      "Environment 2: episode 87, score -50.0, avg_score -50.0\n",
      "Environment 3: episode 87, score -50.0, avg_score -50.0\n",
      "Environment 4: episode 87, score -50.0, avg_score -50.0\n",
      "Environment 5: episode 87, score -50.0, avg_score -50.0\n",
      "Environment 6: episode 87, score -50.0, avg_score -50.0\n",
      "Environment 7: episode 87, score -50.0, avg_score -50.0\n",
      "0 reward found at step 4437: [0. 0. 0. 0. 0. 0. 0. 0.]\n",
      "Environment 0: episode 88, score -50.0, avg_score -50.0\n",
      "Environment 1: episode 88, score -50.0, avg_score -50.0\n",
      "Environment 2: episode 88, score -50.0, avg_score -50.0\n",
      "Environment 3: episode 88, score -50.0, avg_score -50.0\n",
      "Environment 4: episode 88, score -50.0, avg_score -50.0\n",
      "Environment 5: episode 88, score -50.0, avg_score -50.0\n",
      "Environment 6: episode 88, score -50.0, avg_score -50.0\n",
      "Environment 7: episode 88, score -50.0, avg_score -50.0\n",
      "0 reward found at step 4488: [0. 0. 0. 0. 0. 0. 0. 0.]\n",
      "Environment 0: episode 89, score -50.0, avg_score -50.0\n",
      "Environment 1: episode 89, score -50.0, avg_score -50.0\n",
      "Environment 2: episode 89, score -50.0, avg_score -50.0\n",
      "Environment 3: episode 89, score -50.0, avg_score -50.0\n",
      "Environment 4: episode 89, score -50.0, avg_score -50.0\n",
      "Environment 5: episode 89, score -50.0, avg_score -50.0\n",
      "Environment 6: episode 89, score -50.0, avg_score -50.0\n",
      "Environment 7: episode 89, score -50.0, avg_score -50.0\n",
      "0 reward found at step 4539: [0. 0. 0. 0. 0. 0. 0. 0.]\n",
      "Environment 0: episode 90, score -50.0, avg_score -50.0\n",
      "Environment 1: episode 90, score -50.0, avg_score -50.0\n",
      "Environment 2: episode 90, score -50.0, avg_score -50.0\n",
      "Environment 3: episode 90, score -50.0, avg_score -50.0\n",
      "Environment 4: episode 90, score -50.0, avg_score -50.0\n",
      "Environment 5: episode 90, score -50.0, avg_score -50.0\n",
      "Environment 6: episode 90, score -50.0, avg_score -50.0\n",
      "Environment 7: episode 90, score -50.0, avg_score -50.0\n",
      "0 reward found at step 4590: [0. 0. 0. 0. 0. 0. 0. 0.]\n",
      "Environment 0: episode 91, score -50.0, avg_score -50.0\n",
      "Environment 1: episode 91, score -50.0, avg_score -50.0\n",
      "Environment 2: episode 91, score -50.0, avg_score -50.0\n",
      "Environment 3: episode 91, score -50.0, avg_score -50.0\n",
      "Environment 4: episode 91, score -50.0, avg_score -50.0\n",
      "Environment 5: episode 91, score -50.0, avg_score -50.0\n",
      "Environment 6: episode 91, score -50.0, avg_score -50.0\n",
      "Environment 7: episode 91, score -50.0, avg_score -50.0\n",
      "0 reward found at step 4641: [0. 0. 0. 0. 0. 0. 0. 0.]\n",
      "Environment 0: episode 92, score -50.0, avg_score -50.0\n",
      "Environment 1: episode 92, score -50.0, avg_score -50.0\n",
      "Environment 2: episode 92, score -50.0, avg_score -50.0\n",
      "Environment 3: episode 92, score -50.0, avg_score -50.0\n",
      "Environment 4: episode 92, score -50.0, avg_score -50.0\n",
      "Environment 5: episode 92, score -50.0, avg_score -50.0\n",
      "Environment 6: episode 92, score -50.0, avg_score -50.0\n",
      "Environment 7: episode 92, score -50.0, avg_score -50.0\n",
      "0 reward found at step 4692: [0. 0. 0. 0. 0. 0. 0. 0.]\n",
      "Environment 0: episode 93, score -50.0, avg_score -50.0\n",
      "Environment 1: episode 93, score -50.0, avg_score -50.0\n",
      "Environment 2: episode 93, score -50.0, avg_score -50.0\n",
      "Environment 3: episode 93, score -50.0, avg_score -50.0\n",
      "Environment 4: episode 93, score -50.0, avg_score -50.0\n",
      "Environment 5: episode 93, score -50.0, avg_score -50.0\n",
      "Environment 6: episode 93, score -50.0, avg_score -50.0\n",
      "Environment 7: episode 93, score -50.0, avg_score -50.0\n",
      "0 reward found at step 4743: [0. 0. 0. 0. 0. 0. 0. 0.]\n",
      "Environment 0: episode 94, score -50.0, avg_score -50.0\n",
      "Environment 1: episode 94, score -50.0, avg_score -50.0\n",
      "Environment 2: episode 94, score -50.0, avg_score -50.0\n",
      "Environment 3: episode 94, score -50.0, avg_score -50.0\n",
      "Environment 4: episode 94, score -50.0, avg_score -50.0\n",
      "Environment 5: episode 94, score -50.0, avg_score -50.0\n",
      "Environment 6: episode 94, score -50.0, avg_score -50.0\n",
      "Environment 7: episode 94, score -50.0, avg_score -50.0\n",
      "0 reward found at step 4794: [0. 0. 0. 0. 0. 0. 0. 0.]\n",
      "Environment 0: episode 95, score -50.0, avg_score -50.0\n",
      "Environment 1: episode 95, score -50.0, avg_score -50.0\n",
      "Environment 2: episode 95, score -50.0, avg_score -50.0\n",
      "Environment 3: episode 95, score -50.0, avg_score -50.0\n",
      "Environment 4: episode 95, score -50.0, avg_score -50.0\n",
      "Environment 5: episode 95, score -50.0, avg_score -50.0\n",
      "Environment 6: episode 95, score -50.0, avg_score -50.0\n",
      "Environment 7: episode 95, score -50.0, avg_score -50.0\n",
      "0 reward found at step 4845: [0. 0. 0. 0. 0. 0. 0. 0.]\n",
      "Environment 0: episode 96, score -50.0, avg_score -50.0\n",
      "Environment 1: episode 96, score -50.0, avg_score -50.0\n",
      "Environment 2: episode 96, score -50.0, avg_score -50.0\n",
      "Environment 3: episode 96, score -50.0, avg_score -50.0\n",
      "Environment 4: episode 96, score -50.0, avg_score -50.0\n",
      "Environment 5: episode 96, score -50.0, avg_score -50.0\n",
      "Environment 6: episode 96, score -50.0, avg_score -50.0\n",
      "Environment 7: episode 96, score -50.0, avg_score -50.0\n",
      "0 reward found at step 4896: [0. 0. 0. 0. 0. 0. 0. 0.]\n",
      "Environment 0: episode 97, score -50.0, avg_score -50.0\n",
      "Environment 1: episode 97, score -50.0, avg_score -50.0\n",
      "Environment 2: episode 97, score -50.0, avg_score -50.0\n",
      "Environment 3: episode 97, score -50.0, avg_score -50.0\n",
      "Environment 4: episode 97, score -50.0, avg_score -50.0\n",
      "Environment 5: episode 97, score -50.0, avg_score -50.0\n",
      "Environment 6: episode 97, score -50.0, avg_score -50.0\n",
      "Environment 7: episode 97, score -50.0, avg_score -50.0\n",
      "0 reward found at step 4947: [0. 0. 0. 0. 0. 0. 0. 0.]\n",
      "Environment 0: episode 98, score -50.0, avg_score -50.0\n",
      "Environment 1: episode 98, score -50.0, avg_score -50.0\n",
      "Environment 2: episode 98, score -50.0, avg_score -50.0\n",
      "Environment 3: episode 98, score -50.0, avg_score -50.0\n",
      "Environment 4: episode 98, score -50.0, avg_score -50.0\n",
      "Environment 5: episode 98, score -50.0, avg_score -50.0\n",
      "Environment 6: episode 98, score -50.0, avg_score -50.0\n",
      "Environment 7: episode 98, score -50.0, avg_score -50.0\n",
      "0 reward found at step 4998: [0. 0. 0. 0. 0. 0. 0. 0.]\n"
     ]
    },
    {
     "ename": "KeyboardInterrupt",
     "evalue": "",
     "output_type": "error",
     "traceback": [
      "\u001b[0;31m---------------------------------------------------------------------------\u001b[0m",
      "\u001b[0;31mKeyboardInterrupt\u001b[0m                         Traceback (most recent call last)",
      "Cell \u001b[0;32mIn[10], line 1\u001b[0m\n\u001b[0;32m----> 1\u001b[0m \u001b[43mher\u001b[49m\u001b[38;5;241;43m.\u001b[39;49m\u001b[43mtrain\u001b[49m\u001b[43m(\u001b[49m\u001b[38;5;241;43m10\u001b[39;49m\u001b[43m,\u001b[49m\u001b[43m \u001b[49m\u001b[38;5;241;43m50\u001b[39;49m\u001b[43m,\u001b[49m\u001b[43m \u001b[49m\u001b[38;5;241;43m16\u001b[39;49m\u001b[43m,\u001b[49m\u001b[43m \u001b[49m\u001b[38;5;241;43m40\u001b[39;49m\u001b[43m,\u001b[49m\u001b[43m \u001b[49m\u001b[38;5;241;43m20\u001b[39;49m\u001b[43m,\u001b[49m\u001b[43m \u001b[49m\u001b[38;5;241;43m8\u001b[39;49m\u001b[43m,\u001b[49m\u001b[43m \u001b[49m\u001b[38;5;241;43m42\u001b[39;49m\u001b[43m)\u001b[49m\n",
      "File \u001b[0;32m/workspaces/RL_Agents/src/app/rl_agents.py:4368\u001b[0m, in \u001b[0;36mHER.train\u001b[0;34m(self, num_epochs, num_cycles, num_episodes, num_updates, render_freq, num_envs, seed)\u001b[0m\n\u001b[1;32m   4366\u001b[0m \u001b[38;5;28;01mif\u001b[39;00m \u001b[38;5;28mself\u001b[39m\u001b[38;5;241m.\u001b[39magent\u001b[38;5;241m.\u001b[39mreplay_buffer\u001b[38;5;241m.\u001b[39mcounter \u001b[38;5;241m>\u001b[39m \u001b[38;5;28mself\u001b[39m\u001b[38;5;241m.\u001b[39magent\u001b[38;5;241m.\u001b[39mbatch_size:\n\u001b[1;32m   4367\u001b[0m     \u001b[38;5;28;01mfor\u001b[39;00m _ \u001b[38;5;129;01min\u001b[39;00m \u001b[38;5;28mrange\u001b[39m(num_updates):\n\u001b[0;32m-> 4368\u001b[0m         actor_loss, critic_loss \u001b[38;5;241m=\u001b[39m \u001b[38;5;28;43mself\u001b[39;49m\u001b[38;5;241;43m.\u001b[39;49m\u001b[43magent\u001b[49m\u001b[38;5;241;43m.\u001b[39;49m\u001b[43mlearn\u001b[49m\u001b[43m(\u001b[49m\n\u001b[1;32m   4369\u001b[0m \u001b[43m            \u001b[49m\u001b[38;5;66;43;03m# replay_buffer=self.replay_buffer,\u001b[39;49;00m\n\u001b[1;32m   4370\u001b[0m \u001b[43m            \u001b[49m\u001b[43mstate_normalizer\u001b[49m\u001b[38;5;241;43m=\u001b[39;49m\u001b[38;5;28;43mself\u001b[39;49m\u001b[38;5;241;43m.\u001b[39;49m\u001b[43mstate_normalizer\u001b[49m\u001b[43m,\u001b[49m\n\u001b[1;32m   4371\u001b[0m \u001b[43m            \u001b[49m\u001b[43mgoal_normalizer\u001b[49m\u001b[38;5;241;43m=\u001b[39;49m\u001b[38;5;28;43mself\u001b[39;49m\u001b[38;5;241;43m.\u001b[39;49m\u001b[43mgoal_normalizer\u001b[49m\n\u001b[1;32m   4372\u001b[0m \u001b[43m        \u001b[49m\u001b[43m)\u001b[49m\n\u001b[1;32m   4373\u001b[0m         \u001b[38;5;28mself\u001b[39m\u001b[38;5;241m.\u001b[39magent\u001b[38;5;241m.\u001b[39m_train_step_config\u001b[38;5;241m.\u001b[39mupdate({\n\u001b[1;32m   4374\u001b[0m             \u001b[38;5;124m\"\u001b[39m\u001b[38;5;124mactor_loss\u001b[39m\u001b[38;5;124m\"\u001b[39m: actor_loss,\n\u001b[1;32m   4375\u001b[0m             \u001b[38;5;124m\"\u001b[39m\u001b[38;5;124mcritic_loss\u001b[39m\u001b[38;5;124m\"\u001b[39m: critic_loss\n\u001b[1;32m   4376\u001b[0m         })\n\u001b[1;32m   4377\u001b[0m         \u001b[38;5;66;03m# if isinstance(self.agent, DDPG):\u001b[39;00m\n\u001b[1;32m   4378\u001b[0m         \u001b[38;5;66;03m#     self.agent.soft_update(self.agent.actor_model, self.agent.target_actor_model)\u001b[39;00m\n\u001b[1;32m   4379\u001b[0m         \u001b[38;5;66;03m#     self.agent.soft_update(self.agent.critic_model, self.agent.target_critic_model)\u001b[39;00m\n\u001b[1;32m   4380\u001b[0m \n\u001b[1;32m   4381\u001b[0m \u001b[38;5;66;03m# Update states\u001b[39;00m\n",
      "File \u001b[0;32m/workspaces/RL_Agents/src/app/rl_agents.py:1567\u001b[0m, in \u001b[0;36mDDPG.learn\u001b[0;34m(self, state_normalizer, goal_normalizer)\u001b[0m\n\u001b[1;32m   1564\u001b[0m \u001b[38;5;28mself\u001b[39m\u001b[38;5;241m.\u001b[39mcritic_model\u001b[38;5;241m.\u001b[39moptimizer\u001b[38;5;241m.\u001b[39mstep()\n\u001b[1;32m   1566\u001b[0m \u001b[38;5;66;03m# update actor\u001b[39;00m\n\u001b[0;32m-> 1567\u001b[0m pre_act_values, action_values \u001b[38;5;241m=\u001b[39m \u001b[38;5;28;43mself\u001b[39;49m\u001b[38;5;241;43m.\u001b[39;49m\u001b[43mactor_model\u001b[49m\u001b[43m(\u001b[49m\u001b[43mstates\u001b[49m\u001b[43m,\u001b[49m\u001b[43m \u001b[49m\u001b[43mdesired_goals\u001b[49m\u001b[43m)\u001b[49m\n\u001b[1;32m   1568\u001b[0m critic_values \u001b[38;5;241m=\u001b[39m \u001b[38;5;28mself\u001b[39m\u001b[38;5;241m.\u001b[39mcritic_model(states, action_values, desired_goals)\n\u001b[1;32m   1569\u001b[0m actor_loss \u001b[38;5;241m=\u001b[39m \u001b[38;5;241m-\u001b[39mcritic_values\u001b[38;5;241m.\u001b[39mmean()\n",
      "File \u001b[0;32m/opt/conda/envs/rl_env/lib/python3.10/site-packages/torch/nn/modules/module.py:1736\u001b[0m, in \u001b[0;36mModule._wrapped_call_impl\u001b[0;34m(self, *args, **kwargs)\u001b[0m\n\u001b[1;32m   1734\u001b[0m     \u001b[38;5;28;01mreturn\u001b[39;00m \u001b[38;5;28mself\u001b[39m\u001b[38;5;241m.\u001b[39m_compiled_call_impl(\u001b[38;5;241m*\u001b[39margs, \u001b[38;5;241m*\u001b[39m\u001b[38;5;241m*\u001b[39mkwargs)  \u001b[38;5;66;03m# type: ignore[misc]\u001b[39;00m\n\u001b[1;32m   1735\u001b[0m \u001b[38;5;28;01melse\u001b[39;00m:\n\u001b[0;32m-> 1736\u001b[0m     \u001b[38;5;28;01mreturn\u001b[39;00m \u001b[38;5;28;43mself\u001b[39;49m\u001b[38;5;241;43m.\u001b[39;49m\u001b[43m_call_impl\u001b[49m\u001b[43m(\u001b[49m\u001b[38;5;241;43m*\u001b[39;49m\u001b[43margs\u001b[49m\u001b[43m,\u001b[49m\u001b[43m \u001b[49m\u001b[38;5;241;43m*\u001b[39;49m\u001b[38;5;241;43m*\u001b[39;49m\u001b[43mkwargs\u001b[49m\u001b[43m)\u001b[49m\n",
      "File \u001b[0;32m/opt/conda/envs/rl_env/lib/python3.10/site-packages/torch/nn/modules/module.py:1844\u001b[0m, in \u001b[0;36mModule._call_impl\u001b[0;34m(self, *args, **kwargs)\u001b[0m\n\u001b[1;32m   1841\u001b[0m     \u001b[38;5;28;01mreturn\u001b[39;00m inner()\n\u001b[1;32m   1843\u001b[0m \u001b[38;5;28;01mtry\u001b[39;00m:\n\u001b[0;32m-> 1844\u001b[0m     \u001b[38;5;28;01mreturn\u001b[39;00m \u001b[43minner\u001b[49m\u001b[43m(\u001b[49m\u001b[43m)\u001b[49m\n\u001b[1;32m   1845\u001b[0m \u001b[38;5;28;01mexcept\u001b[39;00m \u001b[38;5;167;01mException\u001b[39;00m:\n\u001b[1;32m   1846\u001b[0m     \u001b[38;5;66;03m# run always called hooks if they have not already been run\u001b[39;00m\n\u001b[1;32m   1847\u001b[0m     \u001b[38;5;66;03m# For now only forward hooks have the always_call option but perhaps\u001b[39;00m\n\u001b[1;32m   1848\u001b[0m     \u001b[38;5;66;03m# this functionality should be added to full backward hooks as well.\u001b[39;00m\n\u001b[1;32m   1849\u001b[0m     \u001b[38;5;28;01mfor\u001b[39;00m hook_id, hook \u001b[38;5;129;01min\u001b[39;00m _global_forward_hooks\u001b[38;5;241m.\u001b[39mitems():\n",
      "File \u001b[0;32m/opt/conda/envs/rl_env/lib/python3.10/site-packages/torch/nn/modules/module.py:1790\u001b[0m, in \u001b[0;36mModule._call_impl.<locals>.inner\u001b[0;34m()\u001b[0m\n\u001b[1;32m   1787\u001b[0m     bw_hook \u001b[38;5;241m=\u001b[39m BackwardHook(\u001b[38;5;28mself\u001b[39m, full_backward_hooks, backward_pre_hooks)\n\u001b[1;32m   1788\u001b[0m     args \u001b[38;5;241m=\u001b[39m bw_hook\u001b[38;5;241m.\u001b[39msetup_input_hook(args)\n\u001b[0;32m-> 1790\u001b[0m result \u001b[38;5;241m=\u001b[39m \u001b[43mforward_call\u001b[49m\u001b[43m(\u001b[49m\u001b[38;5;241;43m*\u001b[39;49m\u001b[43margs\u001b[49m\u001b[43m,\u001b[49m\u001b[43m \u001b[49m\u001b[38;5;241;43m*\u001b[39;49m\u001b[38;5;241;43m*\u001b[39;49m\u001b[43mkwargs\u001b[49m\u001b[43m)\u001b[49m\n\u001b[1;32m   1791\u001b[0m \u001b[38;5;28;01mif\u001b[39;00m _global_forward_hooks \u001b[38;5;129;01mor\u001b[39;00m \u001b[38;5;28mself\u001b[39m\u001b[38;5;241m.\u001b[39m_forward_hooks:\n\u001b[1;32m   1792\u001b[0m     \u001b[38;5;28;01mfor\u001b[39;00m hook_id, hook \u001b[38;5;129;01min\u001b[39;00m (\n\u001b[1;32m   1793\u001b[0m         \u001b[38;5;241m*\u001b[39m_global_forward_hooks\u001b[38;5;241m.\u001b[39mitems(),\n\u001b[1;32m   1794\u001b[0m         \u001b[38;5;241m*\u001b[39m\u001b[38;5;28mself\u001b[39m\u001b[38;5;241m.\u001b[39m_forward_hooks\u001b[38;5;241m.\u001b[39mitems(),\n\u001b[1;32m   1795\u001b[0m     ):\n\u001b[1;32m   1796\u001b[0m         \u001b[38;5;66;03m# mark that always called hook is run\u001b[39;00m\n",
      "File \u001b[0;32m/workspaces/RL_Agents/src/app/models.py:930\u001b[0m, in \u001b[0;36mActorModel.forward\u001b[0;34m(self, x, goal)\u001b[0m\n\u001b[1;32m    927\u001b[0m \u001b[38;5;28;01mfor\u001b[39;00m layer \u001b[38;5;129;01min\u001b[39;00m \u001b[38;5;28mself\u001b[39m\u001b[38;5;241m.\u001b[39mlayers\u001b[38;5;241m.\u001b[39mvalues():\n\u001b[1;32m    928\u001b[0m     x \u001b[38;5;241m=\u001b[39m layer(x)\n\u001b[0;32m--> 930\u001b[0m mu \u001b[38;5;241m=\u001b[39m \u001b[38;5;28;43mself\u001b[39;49m\u001b[38;5;241;43m.\u001b[39;49m\u001b[43moutput_layer\u001b[49m\u001b[43m[\u001b[49m\u001b[38;5;124;43m\"\u001b[39;49m\u001b[38;5;124;43mactor_mu\u001b[39;49m\u001b[38;5;124;43m\"\u001b[39;49m\u001b[43m]\u001b[49m\u001b[43m(\u001b[49m\u001b[43mx\u001b[49m\u001b[43m)\u001b[49m\n\u001b[1;32m    931\u001b[0m pi \u001b[38;5;241m=\u001b[39m \u001b[38;5;28mself\u001b[39m\u001b[38;5;241m.\u001b[39moutput_layer[\u001b[38;5;124m\"\u001b[39m\u001b[38;5;124mactor_pi\u001b[39m\u001b[38;5;124m\"\u001b[39m](mu)\n\u001b[1;32m    932\u001b[0m pi \u001b[38;5;241m=\u001b[39m pi \u001b[38;5;241m*\u001b[39m T\u001b[38;5;241m.\u001b[39mtensor(\u001b[38;5;28mself\u001b[39m\u001b[38;5;241m.\u001b[39menv\u001b[38;5;241m.\u001b[39msingle_action_space\u001b[38;5;241m.\u001b[39mhigh, dtype\u001b[38;5;241m=\u001b[39mT\u001b[38;5;241m.\u001b[39mfloat32, device\u001b[38;5;241m=\u001b[39m\u001b[38;5;28mself\u001b[39m\u001b[38;5;241m.\u001b[39mdevice)\n",
      "File \u001b[0;32m/opt/conda/envs/rl_env/lib/python3.10/site-packages/torch/nn/modules/module.py:1736\u001b[0m, in \u001b[0;36mModule._wrapped_call_impl\u001b[0;34m(self, *args, **kwargs)\u001b[0m\n\u001b[1;32m   1734\u001b[0m     \u001b[38;5;28;01mreturn\u001b[39;00m \u001b[38;5;28mself\u001b[39m\u001b[38;5;241m.\u001b[39m_compiled_call_impl(\u001b[38;5;241m*\u001b[39margs, \u001b[38;5;241m*\u001b[39m\u001b[38;5;241m*\u001b[39mkwargs)  \u001b[38;5;66;03m# type: ignore[misc]\u001b[39;00m\n\u001b[1;32m   1735\u001b[0m \u001b[38;5;28;01melse\u001b[39;00m:\n\u001b[0;32m-> 1736\u001b[0m     \u001b[38;5;28;01mreturn\u001b[39;00m \u001b[38;5;28;43mself\u001b[39;49m\u001b[38;5;241;43m.\u001b[39;49m\u001b[43m_call_impl\u001b[49m\u001b[43m(\u001b[49m\u001b[38;5;241;43m*\u001b[39;49m\u001b[43margs\u001b[49m\u001b[43m,\u001b[49m\u001b[43m \u001b[49m\u001b[38;5;241;43m*\u001b[39;49m\u001b[38;5;241;43m*\u001b[39;49m\u001b[43mkwargs\u001b[49m\u001b[43m)\u001b[49m\n",
      "File \u001b[0;32m/opt/conda/envs/rl_env/lib/python3.10/site-packages/torch/nn/modules/module.py:1844\u001b[0m, in \u001b[0;36mModule._call_impl\u001b[0;34m(self, *args, **kwargs)\u001b[0m\n\u001b[1;32m   1841\u001b[0m     \u001b[38;5;28;01mreturn\u001b[39;00m inner()\n\u001b[1;32m   1843\u001b[0m \u001b[38;5;28;01mtry\u001b[39;00m:\n\u001b[0;32m-> 1844\u001b[0m     \u001b[38;5;28;01mreturn\u001b[39;00m \u001b[43minner\u001b[49m\u001b[43m(\u001b[49m\u001b[43m)\u001b[49m\n\u001b[1;32m   1845\u001b[0m \u001b[38;5;28;01mexcept\u001b[39;00m \u001b[38;5;167;01mException\u001b[39;00m:\n\u001b[1;32m   1846\u001b[0m     \u001b[38;5;66;03m# run always called hooks if they have not already been run\u001b[39;00m\n\u001b[1;32m   1847\u001b[0m     \u001b[38;5;66;03m# For now only forward hooks have the always_call option but perhaps\u001b[39;00m\n\u001b[1;32m   1848\u001b[0m     \u001b[38;5;66;03m# this functionality should be added to full backward hooks as well.\u001b[39;00m\n\u001b[1;32m   1849\u001b[0m     \u001b[38;5;28;01mfor\u001b[39;00m hook_id, hook \u001b[38;5;129;01min\u001b[39;00m _global_forward_hooks\u001b[38;5;241m.\u001b[39mitems():\n",
      "File \u001b[0;32m/opt/conda/envs/rl_env/lib/python3.10/site-packages/torch/nn/modules/module.py:1790\u001b[0m, in \u001b[0;36mModule._call_impl.<locals>.inner\u001b[0;34m()\u001b[0m\n\u001b[1;32m   1787\u001b[0m     bw_hook \u001b[38;5;241m=\u001b[39m BackwardHook(\u001b[38;5;28mself\u001b[39m, full_backward_hooks, backward_pre_hooks)\n\u001b[1;32m   1788\u001b[0m     args \u001b[38;5;241m=\u001b[39m bw_hook\u001b[38;5;241m.\u001b[39msetup_input_hook(args)\n\u001b[0;32m-> 1790\u001b[0m result \u001b[38;5;241m=\u001b[39m \u001b[43mforward_call\u001b[49m\u001b[43m(\u001b[49m\u001b[38;5;241;43m*\u001b[39;49m\u001b[43margs\u001b[49m\u001b[43m,\u001b[49m\u001b[43m \u001b[49m\u001b[38;5;241;43m*\u001b[39;49m\u001b[38;5;241;43m*\u001b[39;49m\u001b[43mkwargs\u001b[49m\u001b[43m)\u001b[49m\n\u001b[1;32m   1791\u001b[0m \u001b[38;5;28;01mif\u001b[39;00m _global_forward_hooks \u001b[38;5;129;01mor\u001b[39;00m \u001b[38;5;28mself\u001b[39m\u001b[38;5;241m.\u001b[39m_forward_hooks:\n\u001b[1;32m   1792\u001b[0m     \u001b[38;5;28;01mfor\u001b[39;00m hook_id, hook \u001b[38;5;129;01min\u001b[39;00m (\n\u001b[1;32m   1793\u001b[0m         \u001b[38;5;241m*\u001b[39m_global_forward_hooks\u001b[38;5;241m.\u001b[39mitems(),\n\u001b[1;32m   1794\u001b[0m         \u001b[38;5;241m*\u001b[39m\u001b[38;5;28mself\u001b[39m\u001b[38;5;241m.\u001b[39m_forward_hooks\u001b[38;5;241m.\u001b[39mitems(),\n\u001b[1;32m   1795\u001b[0m     ):\n\u001b[1;32m   1796\u001b[0m         \u001b[38;5;66;03m# mark that always called hook is run\u001b[39;00m\n",
      "File \u001b[0;32m/opt/conda/envs/rl_env/lib/python3.10/site-packages/torch/nn/modules/linear.py:125\u001b[0m, in \u001b[0;36mLinear.forward\u001b[0;34m(self, input)\u001b[0m\n\u001b[1;32m    124\u001b[0m \u001b[38;5;28;01mdef\u001b[39;00m\u001b[38;5;250m \u001b[39m\u001b[38;5;21mforward\u001b[39m(\u001b[38;5;28mself\u001b[39m, \u001b[38;5;28minput\u001b[39m: Tensor) \u001b[38;5;241m-\u001b[39m\u001b[38;5;241m>\u001b[39m Tensor:\n\u001b[0;32m--> 125\u001b[0m     \u001b[38;5;28;01mreturn\u001b[39;00m \u001b[43mF\u001b[49m\u001b[38;5;241;43m.\u001b[39;49m\u001b[43mlinear\u001b[49m\u001b[43m(\u001b[49m\u001b[38;5;28;43minput\u001b[39;49m\u001b[43m,\u001b[49m\u001b[43m \u001b[49m\u001b[38;5;28;43mself\u001b[39;49m\u001b[38;5;241;43m.\u001b[39;49m\u001b[43mweight\u001b[49m\u001b[43m,\u001b[49m\u001b[43m \u001b[49m\u001b[38;5;28;43mself\u001b[39;49m\u001b[38;5;241;43m.\u001b[39;49m\u001b[43mbias\u001b[49m\u001b[43m)\u001b[49m\n",
      "\u001b[0;31mKeyboardInterrupt\u001b[0m: "
     ]
    }
   ],
   "source": [
    "her.train(10, 50, 16, 40, 20, 8, 42)"
   ]
  },
  {
   "cell_type": "code",
   "execution_count": null,
   "metadata": {},
   "outputs": [],
   "source": [
    "her.agent.env.get_base_env().distance_threshold"
   ]
  },
  {
   "cell_type": "code",
   "execution_count": null,
   "metadata": {},
   "outputs": [],
   "source": [
    "her.replay_buffer.device"
   ]
  },
  {
   "cell_type": "markdown",
   "metadata": {},
   "source": [
    "# Actor Critic"
   ]
  },
  {
   "cell_type": "code",
   "execution_count": null,
   "metadata": {},
   "outputs": [],
   "source": [
    "env = gym.make(\"CartPole-v1\")"
   ]
  },
  {
   "cell_type": "code",
   "execution_count": null,
   "metadata": {},
   "outputs": [],
   "source": [
    "dense_layers = [\n",
    "    (128, 'relu', \"kaiming normal\"),\n",
    "    (256, 'relu', \"kaiming normal\"),\n",
    "    ]\n",
    "\n"
   ]
  },
  {
   "cell_type": "code",
   "execution_count": null,
   "metadata": {},
   "outputs": [],
   "source": [
    "policy_model = models.PolicyModel(env=env, dense_layers=dense_layers, optimizer='Adam', learning_rate=0.001,)"
   ]
  },
  {
   "cell_type": "code",
   "execution_count": null,
   "metadata": {},
   "outputs": [],
   "source": [
    "for param in policy_model.parameters():\n",
    "    print(param)"
   ]
  },
  {
   "cell_type": "code",
   "execution_count": null,
   "metadata": {},
   "outputs": [],
   "source": [
    "value_model = models.ValueModel(env, dense_layers=dense_layers, optimizer='Adam', learning_rate=0.001)"
   ]
  },
  {
   "cell_type": "code",
   "execution_count": null,
   "metadata": {},
   "outputs": [],
   "source": [
    "value_model"
   ]
  },
  {
   "cell_type": "code",
   "execution_count": null,
   "metadata": {},
   "outputs": [],
   "source": [
    "for params in value_model.parameters():\n",
    "    print(params)"
   ]
  },
  {
   "cell_type": "code",
   "execution_count": null,
   "metadata": {},
   "outputs": [],
   "source": [
    "actor_critic = rl_agents.ActorCritic(env,\n",
    "                                     policy_model,\n",
    "                                     value_model,\n",
    "                                     discount=0.99,\n",
    "                                     policy_trace_decay=0.5,\n",
    "                                     value_trace_decay=0.5,\n",
    "                                     callbacks=[rl_callbacks.WandbCallback('CartPole-v1-Actor-Critic')])"
   ]
  },
  {
   "cell_type": "code",
   "execution_count": null,
   "metadata": {},
   "outputs": [],
   "source": [
    "actor_critic.train(200)"
   ]
  },
  {
   "cell_type": "code",
   "execution_count": null,
   "metadata": {},
   "outputs": [],
   "source": [
    "actor_critic.test(10, True, 1)"
   ]
  },
  {
   "cell_type": "markdown",
   "metadata": {},
   "source": [
    "# REINFORCE"
   ]
  },
  {
   "cell_type": "code",
   "execution_count": null,
   "metadata": {},
   "outputs": [],
   "source": [
    "env = gym.make(\"CartPole-v1\")"
   ]
  },
  {
   "cell_type": "code",
   "execution_count": null,
   "metadata": {},
   "outputs": [],
   "source": [
    "dense_layers = [\n",
    "    (128, 'relu', {\n",
    "                    \"kaiming normal\": {\n",
    "                        \"a\":1.0,\n",
    "                        \"mode\":'fan_in'\n",
    "                    }\n",
    "                },\n",
    "    ),\n",
    "    # (256, 'relu', {\n",
    "    #                 \"kaiming_normal\": {\n",
    "    #                     \"a\":0.0,\n",
    "    #                     \"mode\":'fan_in'\n",
    "    #                 }\n",
    "    #             },\n",
    "    # )\n",
    "    ]"
   ]
  },
  {
   "cell_type": "code",
   "execution_count": null,
   "metadata": {},
   "outputs": [],
   "source": [
    "dense_layers = [(128, 'relu', \"kaiming normal\")]"
   ]
  },
  {
   "cell_type": "code",
   "execution_count": null,
   "metadata": {},
   "outputs": [],
   "source": [
    "value_model = models.ValueModel(env, dense_layers, 'Adam', 0.001)"
   ]
  },
  {
   "cell_type": "code",
   "execution_count": null,
   "metadata": {},
   "outputs": [],
   "source": [
    "for param in value_model.parameters():\n",
    "    print(param)"
   ]
  },
  {
   "cell_type": "code",
   "execution_count": null,
   "metadata": {},
   "outputs": [],
   "source": [
    "policy_model = models.PolicyModel(env, dense_layers, 'Adam', 0.001)"
   ]
  },
  {
   "cell_type": "code",
   "execution_count": null,
   "metadata": {},
   "outputs": [],
   "source": [
    "for param in policy_model.parameters():\n",
    "    print(param)"
   ]
  },
  {
   "cell_type": "code",
   "execution_count": null,
   "metadata": {},
   "outputs": [],
   "source": [
    "reinforce = rl_agents.Reinforce(env, policy_model, value_model, 0.99, [rl_callbacks.WandbCallback('CartPole-v0_REINFORCE', chkpt_freq=100)])"
   ]
  },
  {
   "cell_type": "code",
   "execution_count": null,
   "metadata": {},
   "outputs": [],
   "source": [
    "reinforce.train(200, True, 50)"
   ]
  },
  {
   "cell_type": "code",
   "execution_count": null,
   "metadata": {},
   "outputs": [],
   "source": [
    "reinforce.test(10, True, 1)"
   ]
  },
  {
   "cell_type": "markdown",
   "metadata": {},
   "source": [
    "# DDPG w/CNN"
   ]
  },
  {
   "cell_type": "code",
   "execution_count": null,
   "metadata": {},
   "outputs": [],
   "source": [
    "env = gym.make('CarRacing-v2')"
   ]
  },
  {
   "cell_type": "code",
   "execution_count": null,
   "metadata": {},
   "outputs": [],
   "source": [
    "cnn_layers = [\n",
    "    # {\n",
    "    #     \"batchnorm\":\n",
    "    #     {\n",
    "    #         \"num_features\":3\n",
    "    #     }\n",
    "    # },\n",
    "    {\n",
    "        \"conv\":\n",
    "        {\n",
    "            \"out_channels\": 32,\n",
    "            \"kernel_size\": 7,\n",
    "            \"stride\": 3,\n",
    "            \"padding\": 'valid',\n",
    "            \"bias\": False\n",
    "        }\n",
    "    },\n",
    "    {\n",
    "        \"relu\":\n",
    "        {\n",
    "\n",
    "        }\n",
    "    },\n",
    "    {\n",
    "        \"batchnorm\":\n",
    "        {\n",
    "            \"num_features\":32\n",
    "        }\n",
    "    },\n",
    "    {\n",
    "        \"conv\":\n",
    "        {\n",
    "            \"out_channels\": 32,\n",
    "            \"kernel_size\": 5,\n",
    "            \"stride\": 3,\n",
    "            \"padding\": 'valid',\n",
    "            \"bias\": False,\n",
    "        }\n",
    "    },\n",
    "    {\n",
    "        \"relu\":\n",
    "        {\n",
    "\n",
    "        }\n",
    "    },\n",
    "    {\n",
    "        \"batchnorm\":\n",
    "        {\n",
    "            \"num_features\":32\n",
    "        }\n",
    "    },\n",
    "    {\n",
    "        \"conv\":\n",
    "        {\n",
    "            \"out_channels\": 32,\n",
    "            \"kernel_size\": 3,\n",
    "            \"stride\": 3,\n",
    "            \"padding\": 'valid',\n",
    "            \"bias\": False,\n",
    "        }\n",
    "    },\n",
    "]"
   ]
  },
  {
   "cell_type": "code",
   "execution_count": null,
   "metadata": {},
   "outputs": [],
   "source": [
    "cnn = cnn_models.CNN(cnn_layers, env)"
   ]
  },
  {
   "cell_type": "code",
   "execution_count": null,
   "metadata": {},
   "outputs": [],
   "source": [
    "cnn"
   ]
  },
  {
   "cell_type": "code",
   "execution_count": null,
   "metadata": {},
   "outputs": [],
   "source": [
    "# build actor\n",
    "\n",
    "dense_layers = [\n",
    "    (\n",
    "        64,\n",
    "        \"relu\",\n",
    "        {\n",
    "            \"variance scaling\": {\n",
    "                \"scale\": 1.0,\n",
    "                \"mode\": \"fan_in\",\n",
    "                \"distribution\": \"uniform\",\n",
    "            }\n",
    "        },\n",
    "    ),\n",
    "    (\n",
    "        64,\n",
    "        \"relu\",\n",
    "        {\n",
    "            \"variance scaling\": {\n",
    "                \"scale\": 1.0,\n",
    "                \"mode\": \"fan_in\",\n",
    "                \"distribution\": \"uniform\",\n",
    "            }\n",
    "        },\n",
    "    ),\n",
    "    (\n",
    "        64,\n",
    "        \"relu\",\n",
    "        {\n",
    "            \"variance scaling\": {\n",
    "                \"scale\": 1.0,\n",
    "                \"mode\": \"fan_in\",\n",
    "                \"distribution\": \"uniform\",\n",
    "            }\n",
    "        },\n",
    "    ),\n",
    "]\n",
    "\n",
    "actor = models.ActorModel(env, cnn_model=cnn, dense_layers=dense_layers, optimizer=\"Adam\", optimizer_params={'weight_decay':0.0}, learning_rate=0.0001, normalize=False)"
   ]
  },
  {
   "cell_type": "code",
   "execution_count": null,
   "metadata": {},
   "outputs": [],
   "source": [
    "actor"
   ]
  },
  {
   "cell_type": "code",
   "execution_count": null,
   "metadata": {},
   "outputs": [],
   "source": [
    "# build critic\n",
    "\n",
    "state_layers = [\n",
    "    \n",
    "]\n",
    "\n",
    "merged_layers = [\n",
    "    (\n",
    "        64,\n",
    "        \"relu\",\n",
    "        {\n",
    "            \"variance scaling\": {\n",
    "                \"scale\": 1.0,\n",
    "                \"mode\": \"fan_in\",\n",
    "                \"distribution\": \"uniform\",\n",
    "            }\n",
    "        },\n",
    "    ),\n",
    "    (\n",
    "        64,\n",
    "        \"relu\",\n",
    "        {\n",
    "            \"variance scaling\": {\n",
    "                \"scale\": 1.0,\n",
    "                \"mode\": \"fan_in\",\n",
    "                \"distribution\": \"uniform\",\n",
    "            }\n",
    "        },\n",
    "    ),\n",
    "    (\n",
    "        64,\n",
    "        \"relu\",\n",
    "        {\n",
    "            \"variance scaling\": {\n",
    "                \"scale\": 1.0,\n",
    "                \"mode\": \"fan_in\",\n",
    "                \"distribution\": \"uniform\",\n",
    "            }\n",
    "        },\n",
    "    )\n",
    "]\n",
    "\n",
    "\n",
    "critic = models.CriticModel(env=env, cnn_model=cnn, state_layers=state_layers, merged_layers=merged_layers, optimizer=\"Adam\", optimizer_params={'weight_decay':0.0}, learning_rate=0.0001, normalize=False)"
   ]
  },
  {
   "cell_type": "code",
   "execution_count": null,
   "metadata": {},
   "outputs": [],
   "source": [
    "critic"
   ]
  },
  {
   "cell_type": "code",
   "execution_count": null,
   "metadata": {},
   "outputs": [],
   "source": [
    "replay_buffer = helper.ReplayBuffer(env, 1000000, goal_shape=(1,))\n",
    "noise = helper.OUNoise(shape=env.action_space.shape, mean=0.0, theta=0.15, sigma=0.01, dt=1.0, device='cuda')"
   ]
  },
  {
   "cell_type": "code",
   "execution_count": null,
   "metadata": {},
   "outputs": [],
   "source": [
    "ddpg_agent = rl_agents.DDPG(\n",
    "    env,\n",
    "    actor,\n",
    "    critic,\n",
    "    discount=0.98,\n",
    "    tau=0.05,\n",
    "    action_epsilon=0.2,\n",
    "    replay_buffer=replay_buffer,\n",
    "    batch_size=128,\n",
    "    noise=noise,\n",
    "    callbacks=[rl_callbacks.WandbCallback(\"CarRacing-v2\")]\n",
    ")"
   ]
  },
  {
   "cell_type": "code",
   "execution_count": null,
   "metadata": {},
   "outputs": [],
   "source": [
    "ddpg_agent.train(1000, True, 10)"
   ]
  },
  {
   "cell_type": "code",
   "execution_count": null,
   "metadata": {},
   "outputs": [],
   "source": [
    "wandb.finish()"
   ]
  },
  {
   "cell_type": "code",
   "execution_count": null,
   "metadata": {},
   "outputs": [],
   "source": [
    "wandb.login()"
   ]
  },
  {
   "cell_type": "markdown",
   "metadata": {},
   "source": [
    "# HER"
   ]
  },
  {
   "cell_type": "code",
   "execution_count": null,
   "metadata": {},
   "outputs": [],
   "source": [
    "env = gym.make(\"Reacher-v4\")"
   ]
  },
  {
   "cell_type": "code",
   "execution_count": null,
   "metadata": {},
   "outputs": [],
   "source": [
    "_,_ = env.reset()"
   ]
  },
  {
   "cell_type": "code",
   "execution_count": null,
   "metadata": {},
   "outputs": [],
   "source": [
    "achieved_goal = gym_helper.reacher_achieved_goal(env)\n",
    "action = env.action_space.sample()\n",
    "env.step(action)\n",
    "print(f'observation: {env.get_wrapper_attr(\"_get_obs\")()}')\n",
    "print(f'distance to goal: {env.get_wrapper_attr(\"_get_obs\")()[8::]}')\n",
    "print(f'fingertip: {env.get_wrapper_attr(\"get_body_com\")(\"fingertip\")}')\n",
    "print(f'target: {env.get_wrapper_attr(\"get_body_com\")(\"target\")}')"
   ]
  },
  {
   "cell_type": "code",
   "execution_count": null,
   "metadata": {},
   "outputs": [],
   "source": [
    "next_achieved_goal = env.get_wrapper_attr(\"_get_obs\")()[8::]\n",
    "desired_goal = [0.0, 0.0, 0.0]"
   ]
  },
  {
   "cell_type": "code",
   "execution_count": null,
   "metadata": {},
   "outputs": [],
   "source": [
    "reward_func(env, action, achieved_goal, next_achieved_goal, desired_goal, 0.05)"
   ]
  },
  {
   "cell_type": "code",
   "execution_count": null,
   "metadata": {},
   "outputs": [],
   "source": [
    "desired_goal_func, achieved_goal_func, reward_func = gym_helper.get_her_goal_functions(env)"
   ]
  },
  {
   "cell_type": "code",
   "execution_count": null,
   "metadata": {},
   "outputs": [],
   "source": [
    "desired_goal_func(env).shape"
   ]
  },
  {
   "cell_type": "code",
   "execution_count": null,
   "metadata": {},
   "outputs": [],
   "source": [
    "# build actor\n",
    "\n",
    "dense_layers = [\n",
    "    (\n",
    "        256,\n",
    "        \"relu\",\n",
    "        {\n",
    "            \"variance scaling\": {\n",
    "                \"scale\": 1.0,\n",
    "                \"mode\": \"fan_in\",\n",
    "                \"distribution\": \"uniform\",\n",
    "            }\n",
    "        },\n",
    "    ),\n",
    "    (\n",
    "        256,\n",
    "        \"relu\",\n",
    "        {\n",
    "            \"variance scaling\": {\n",
    "                \"scale\": 1.0,\n",
    "                \"mode\": \"fan_in\",\n",
    "                \"distribution\": \"uniform\",\n",
    "            }\n",
    "        },\n",
    "    ),\n",
    "    (\n",
    "        256,\n",
    "        \"relu\",\n",
    "        {\n",
    "            \"variance scaling\": {\n",
    "                \"scale\": 1.0,\n",
    "                \"mode\": \"fan_in\",\n",
    "                \"distribution\": \"uniform\",\n",
    "            }\n",
    "        },\n",
    "    ),\n",
    "]\n",
    "\n",
    "actor = models.ActorModel(env,\n",
    "                          cnn_model=None,\n",
    "                          dense_layers=dense_layers,\n",
    "                          goal_shape=(3,),\n",
    "                          optimizer=\"Adam\",\n",
    "                          optimizer_params={'weight_decay':0.0},\n",
    "                          learning_rate=0.0001, normalize=False)"
   ]
  },
  {
   "cell_type": "code",
   "execution_count": null,
   "metadata": {},
   "outputs": [],
   "source": [
    "# build critic\n",
    "\n",
    "state_layers = [\n",
    "    \n",
    "]\n",
    "\n",
    "merged_layers = [\n",
    "    (\n",
    "        256,\n",
    "        \"relu\",\n",
    "        {\n",
    "            \"variance scaling\": {\n",
    "                \"scale\": 1.0,\n",
    "                \"mode\": \"fan_in\",\n",
    "                \"distribution\": \"uniform\",\n",
    "            }\n",
    "        },\n",
    "    ),\n",
    "    (\n",
    "        256,\n",
    "        \"relu\",\n",
    "        {\n",
    "            \"variance scaling\": {\n",
    "                \"scale\": 1.0,\n",
    "                \"mode\": \"fan_in\",\n",
    "                \"distribution\": \"uniform\",\n",
    "            }\n",
    "        },\n",
    "    ),\n",
    "    (\n",
    "        256,\n",
    "        \"relu\",\n",
    "        {\n",
    "            \"variance scaling\": {\n",
    "                \"scale\": 1.0,\n",
    "                \"mode\": \"fan_in\",\n",
    "                \"distribution\": \"uniform\",\n",
    "            }\n",
    "        },\n",
    "    )\n",
    "]\n",
    "\n",
    "\n",
    "critic = models.CriticModel(env=env,\n",
    "                            cnn_model=None,\n",
    "                            state_layers=state_layers,\n",
    "                            merged_layers=merged_layers,\n",
    "                            goal_shape=(3,),\n",
    "                            optimizer=\"Adam\",\n",
    "                            optimizer_params={'weight_decay':0.0},\n",
    "                            learning_rate=0.0001,\n",
    "                            normalize=False)"
   ]
  },
  {
   "cell_type": "code",
   "execution_count": null,
   "metadata": {},
   "outputs": [],
   "source": [
    "goal_shape = desired_goal_func(env).shape\n",
    "replay_buffer = helper.ReplayBuffer(env, 100000, goal_shape)\n",
    "# noise = helper.OUNoise(shape=env.action_space.shape,\n",
    "#                        mean=0.0,\n",
    "#                        theta=0.05,\n",
    "#                        sigma=0.15,\n",
    "#                        dt=1.0, device='cuda')\n",
    "\n",
    "noise=helper.NormalNoise(shape=env.action_space.shape,\n",
    "                         mean = 0.0,\n",
    "                         stddev=0.05,\n",
    "                         )"
   ]
  },
  {
   "cell_type": "code",
   "execution_count": null,
   "metadata": {},
   "outputs": [],
   "source": [
    "ddpg_agent = rl_agents.DDPG(env=env,\n",
    "                            actor_model=actor,\n",
    "                            critic_model=critic,\n",
    "                            discount=0.98,\n",
    "                            tau=0.05,\n",
    "                            action_epsilon=0.2,\n",
    "                            replay_buffer=replay_buffer,\n",
    "                            batch_size=256,\n",
    "                            noise=noise,\n",
    "                            callbacks=[rl_callbacks.WandbCallback('Reacher-v4')])"
   ]
  },
  {
   "cell_type": "code",
   "execution_count": null,
   "metadata": {},
   "outputs": [],
   "source": [
    "her = rl_agents.HER(ddpg_agent,\n",
    "                    strategy='future',\n",
    "                    num_goals=4,\n",
    "                    tolerance=0.001,\n",
    "                    desired_goal=desired_goal_func,\n",
    "                    achieved_goal=achieved_goal_func,\n",
    "                    reward_fn=reward_func)"
   ]
  },
  {
   "cell_type": "code",
   "execution_count": null,
   "metadata": {},
   "outputs": [],
   "source": [
    "her.train(10, 50, 16, 40, True, 1000)"
   ]
  },
  {
   "cell_type": "code",
   "execution_count": null,
   "metadata": {},
   "outputs": [],
   "source": [
    "wandb.finish()"
   ]
  },
  {
   "cell_type": "code",
   "execution_count": null,
   "metadata": {},
   "outputs": [],
   "source": [
    "her.test(10, True, 1)"
   ]
  },
  {
   "cell_type": "code",
   "execution_count": null,
   "metadata": {},
   "outputs": [],
   "source": [
    "her.save()"
   ]
  },
  {
   "cell_type": "code",
   "execution_count": null,
   "metadata": {},
   "outputs": [],
   "source": [
    "her.agent.goal_normalizer.running_std"
   ]
  },
  {
   "cell_type": "code",
   "execution_count": null,
   "metadata": {},
   "outputs": [],
   "source": [
    "loaded_her = rl_agents.HER.load(\"/workspaces/RL_Agents/pytorch/src/app/assets/models/her\")"
   ]
  },
  {
   "cell_type": "code",
   "execution_count": null,
   "metadata": {},
   "outputs": [],
   "source": [
    "loaded_her.agent.replay_buffer.sample(10)"
   ]
  },
  {
   "cell_type": "code",
   "execution_count": null,
   "metadata": {},
   "outputs": [],
   "source": [
    "loaded_her.agent.state_normalizer.running_cnt"
   ]
  },
  {
   "cell_type": "code",
   "execution_count": null,
   "metadata": {},
   "outputs": [],
   "source": [
    "loaded_her.get_config()"
   ]
  },
  {
   "cell_type": "code",
   "execution_count": null,
   "metadata": {},
   "outputs": [],
   "source": [
    "loaded_her.test(10, True, 1)"
   ]
  },
  {
   "cell_type": "code",
   "execution_count": null,
   "metadata": {},
   "outputs": [],
   "source": [
    "10e4"
   ]
  },
  {
   "cell_type": "markdown",
   "metadata": {},
   "source": [
    "# HER w/CNN"
   ]
  },
  {
   "cell_type": "code",
   "execution_count": null,
   "metadata": {},
   "outputs": [],
   "source": [
    "env = gym.make('CarRacing-v2')"
   ]
  },
  {
   "cell_type": "code",
   "execution_count": null,
   "metadata": {},
   "outputs": [],
   "source": [
    "_,_ = env.reset()"
   ]
  },
  {
   "cell_type": "code",
   "execution_count": null,
   "metadata": {},
   "outputs": [],
   "source": [
    "desired_goal_func, achieved_goal_func, reward_func = gym_helper.get_her_goal_functions(env)"
   ]
  },
  {
   "cell_type": "code",
   "execution_count": null,
   "metadata": {},
   "outputs": [],
   "source": [
    "desired_goal(env).shape"
   ]
  },
  {
   "cell_type": "code",
   "execution_count": null,
   "metadata": {},
   "outputs": [],
   "source": [
    "cnn_layers = [\n",
    "    # {\n",
    "    #     \"batchnorm\":\n",
    "    #     {\n",
    "    #         \"num_features\":3\n",
    "    #     }\n",
    "    # },\n",
    "    {\n",
    "        \"conv\":\n",
    "        {\n",
    "            \"out_channels\": 32,\n",
    "            \"kernel_size\": 7,\n",
    "            \"stride\": 3,\n",
    "            \"padding\": 'valid',\n",
    "            \"bias\": False\n",
    "        }\n",
    "    },\n",
    "    {\n",
    "        \"relu\":\n",
    "        {\n",
    "\n",
    "        }\n",
    "    },\n",
    "    {\n",
    "        \"batchnorm\":\n",
    "        {\n",
    "            \"num_features\":32\n",
    "        }\n",
    "    },\n",
    "    {\n",
    "        \"conv\":\n",
    "        {\n",
    "            \"out_channels\": 32,\n",
    "            \"kernel_size\": 5,\n",
    "            \"stride\": 3,\n",
    "            \"padding\": 'valid',\n",
    "            \"bias\": False,\n",
    "        }\n",
    "    },\n",
    "    {\n",
    "        \"relu\":\n",
    "        {\n",
    "\n",
    "        }\n",
    "    },\n",
    "    {\n",
    "        \"batchnorm\":\n",
    "        {\n",
    "            \"num_features\":32\n",
    "        }\n",
    "    },\n",
    "    {\n",
    "        \"conv\":\n",
    "        {\n",
    "            \"out_channels\": 32,\n",
    "            \"kernel_size\": 3,\n",
    "            \"stride\": 3,\n",
    "            \"padding\": 'valid',\n",
    "            \"bias\": False,\n",
    "        }\n",
    "    },\n",
    "]\n",
    "\n",
    "cnn = cnn_models.CNN(cnn_layers, env)"
   ]
  },
  {
   "cell_type": "code",
   "execution_count": null,
   "metadata": {},
   "outputs": [],
   "source": [
    "# build actor\n",
    "\n",
    "dense_layers = [\n",
    "    (\n",
    "        256,\n",
    "        \"relu\",\n",
    "        {\n",
    "            \"variance scaling\": {\n",
    "                \"scale\": 1.0,\n",
    "                \"mode\": \"fan_in\",\n",
    "                \"distribution\": \"uniform\",\n",
    "            }\n",
    "        },\n",
    "    ),\n",
    "    (\n",
    "        256,\n",
    "        \"relu\",\n",
    "        {\n",
    "            \"variance scaling\": {\n",
    "                \"scale\": 1.0,\n",
    "                \"mode\": \"fan_in\",\n",
    "                \"distribution\": \"uniform\",\n",
    "            }\n",
    "        },\n",
    "    ),\n",
    "    (\n",
    "        256,\n",
    "        \"relu\",\n",
    "        {\n",
    "            \"variance scaling\": {\n",
    "                \"scale\": 1.0,\n",
    "                \"mode\": \"fan_in\",\n",
    "                \"distribution\": \"uniform\",\n",
    "            }\n",
    "        },\n",
    "    ),\n",
    "]\n",
    "\n",
    "actor = models.ActorModel(env,\n",
    "                          cnn_model=cnn,\n",
    "                          dense_layers=dense_layers,\n",
    "                          goal_shape=(1,),\n",
    "                          optimizer=\"Adam\",\n",
    "                          optimizer_params={'weight_decay':0.0},\n",
    "                          learning_rate=0.001, normalize=False)"
   ]
  },
  {
   "cell_type": "code",
   "execution_count": null,
   "metadata": {},
   "outputs": [],
   "source": [
    "actor"
   ]
  },
  {
   "cell_type": "code",
   "execution_count": null,
   "metadata": {},
   "outputs": [],
   "source": [
    "# build critic\n",
    "\n",
    "state_layers = [\n",
    "    \n",
    "]\n",
    "\n",
    "merged_layers = [\n",
    "    (\n",
    "        256,\n",
    "        \"relu\",\n",
    "        {\n",
    "            \"variance scaling\": {\n",
    "                \"scale\": 1.0,\n",
    "                \"mode\": \"fan_in\",\n",
    "                \"distribution\": \"uniform\",\n",
    "            }\n",
    "        },\n",
    "    ),\n",
    "    (\n",
    "        256,\n",
    "        \"relu\",\n",
    "        {\n",
    "            \"variance scaling\": {\n",
    "                \"scale\": 1.0,\n",
    "                \"mode\": \"fan_in\",\n",
    "                \"distribution\": \"uniform\",\n",
    "            }\n",
    "        },\n",
    "    ),\n",
    "    (\n",
    "        256,\n",
    "        \"relu\",\n",
    "        {\n",
    "            \"variance scaling\": {\n",
    "                \"scale\": 1.0,\n",
    "                \"mode\": \"fan_in\",\n",
    "                \"distribution\": \"uniform\",\n",
    "            }\n",
    "        },\n",
    "    )\n",
    "]\n",
    "\n",
    "\n",
    "critic = models.CriticModel(env=env,\n",
    "                            cnn_model=cnn,\n",
    "                            state_layers=state_layers,\n",
    "                            merged_layers=merged_layers,\n",
    "                            goal_shape=(1,),\n",
    "                            optimizer=\"Adam\",\n",
    "                            optimizer_params={'weight_decay':0.0},\n",
    "                            learning_rate=0.001,\n",
    "                            normalize=False)"
   ]
  },
  {
   "cell_type": "code",
   "execution_count": null,
   "metadata": {},
   "outputs": [],
   "source": [
    "critic"
   ]
  },
  {
   "cell_type": "code",
   "execution_count": null,
   "metadata": {},
   "outputs": [],
   "source": [
    "goal_shape = desired_goal_func(env).shape\n",
    "replay_buffer = helper.ReplayBuffer(env, 100000, goal_shape)\n",
    "# noise = helper.OUNoise(shape=env.action_space.shape,\n",
    "#                        mean=0.0,\n",
    "#                        theta=0.05,\n",
    "#                        sigma=0.15,\n",
    "#                        dt=1.0, device='cuda')\n",
    "\n",
    "noise=helper.NormalNoise(shape=env.action_space.shape,\n",
    "                         mean = 0.0,\n",
    "                         stddev=0.05,\n",
    "                         )"
   ]
  },
  {
   "cell_type": "code",
   "execution_count": null,
   "metadata": {},
   "outputs": [],
   "source": [
    "ddpg_agent = rl_agents.DDPG(env=env,\n",
    "                            actor_model=actor,\n",
    "                            critic_model=critic,\n",
    "                            discount=0.98,\n",
    "                            tau=0.05,\n",
    "                            action_epsilon=0.2,\n",
    "                            replay_buffer=replay_buffer,\n",
    "                            batch_size=256,\n",
    "                            noise=noise,\n",
    "                            callbacks=[rl_callbacks.WandbCallback('CarRacing-v2')])"
   ]
  },
  {
   "cell_type": "code",
   "execution_count": null,
   "metadata": {},
   "outputs": [],
   "source": [
    "ddpg_agent.actor_model"
   ]
  },
  {
   "cell_type": "code",
   "execution_count": null,
   "metadata": {},
   "outputs": [],
   "source": [
    "her = rl_agents.HER(ddpg_agent,\n",
    "                    strategy='future',\n",
    "                    num_goals=4,\n",
    "                    tolerance=1,\n",
    "                    desired_goal=desired_goal_func,\n",
    "                    achieved_goal=achieved_goal_func,\n",
    "                    reward_fn=reward_func)"
   ]
  },
  {
   "cell_type": "code",
   "execution_count": null,
   "metadata": {},
   "outputs": [],
   "source": [
    "her.agent.actor_model"
   ]
  },
  {
   "cell_type": "code",
   "execution_count": null,
   "metadata": {},
   "outputs": [],
   "source": [
    "her.train(num_epochs=20,\n",
    "          num_cycles=50,\n",
    "          num_episodes=16,\n",
    "          num_updates=40,\n",
    "          render=True,\n",
    "          render_freq=20\n",
    "        )"
   ]
  },
  {
   "cell_type": "code",
   "execution_count": null,
   "metadata": {},
   "outputs": [],
   "source": [
    "her = rl_agents.HER.load(\"/workspaces/RL_Agents/pytorch/src/app/models/her\")"
   ]
  },
  {
   "cell_type": "code",
   "execution_count": null,
   "metadata": {},
   "outputs": [],
   "source": [
    "wandb.finish()"
   ]
  },
  {
   "cell_type": "code",
   "execution_count": null,
   "metadata": {},
   "outputs": [],
   "source": [
    "# reset environment\n",
    "state, _ = her.agent.env.reset()\n",
    "# instantiate empty lists to store current episode trajectory\n",
    "states, actions, next_states, dones, state_achieved_goals, \\\n",
    "next_state_achieved_goals, desired_goals = [], [], [], [], [], [], []\n",
    "# set desired goal\n",
    "desired_goal = her.desired_goal_func(her.agent.env)\n",
    "# set achieved goal\n",
    "state_achieved_goal = her.achieved_goal_func(her.agent.env)\n",
    "# add initial state and goals to local normalizer stats\n",
    "her.state_normalizer.update_local_stats(state)\n",
    "her.goal_normalizer.update_local_stats(desired_goal)\n",
    "her.goal_normalizer.update_local_stats(state_achieved_goal)\n",
    "# set done flag\n",
    "done = False\n",
    "# reset episode reward to 0\n",
    "episode_reward = 0\n",
    "# reset steps counter for the episode\n",
    "episode_steps = 0\n",
    "\n",
    "while not done:\n",
    "    # get normalized values for state and desired goal\n",
    "    state_norm = her.state_normalizer.normalize(state)\n",
    "    desired_goal_norm = her.goal_normalizer.normalize(desired_goal)\n",
    "    # get action\n",
    "    action = her.agent.get_action(state_norm, desired_goal_norm, grad=False)\n",
    "    # take action\n",
    "    next_state, reward, term, trunc, _ = her.agent.env.step(action)\n",
    "    # get next state achieved goal\n",
    "    next_state_achieved_goal = her.achieved_goal_func(her.agent.env)\n",
    "    # add next state and next state achieved goal to normalizers\n",
    "    her.state_normalizer.update_local_stats(next_state)\n",
    "    her.goal_normalizer.update_local_stats(next_state_achieved_goal)\n",
    "    # store trajectory in replay buffer (non normalized!)\n",
    "    her.agent.replay_buffer.add(state, action, reward, next_state, done,\\\n",
    "                                    state_achieved_goal, next_state_achieved_goal, desired_goal)\n",
    "    \n",
    "    # append step state, action, next state, and goals to respective lists\n",
    "    states.append(state)\n",
    "    actions.append(action)\n",
    "    next_states.append(next_state)\n",
    "    dones.append(done)\n",
    "    state_achieved_goals.append(state_achieved_goal)\n",
    "    next_state_achieved_goals.append(next_state_achieved_goal)\n",
    "    desired_goals.append(desired_goal)\n",
    "\n",
    "    # add to episode reward and increment steps counter\n",
    "    episode_reward += reward\n",
    "    episode_steps += 1\n",
    "    # update state and state achieved goal\n",
    "    state = next_state\n",
    "    state_achieved_goal = next_state_achieved_goal\n",
    "    # update done flag\n",
    "    if term or trunc:\n",
    "        done = True"
   ]
  },
  {
   "cell_type": "code",
   "execution_count": null,
   "metadata": {},
   "outputs": [],
   "source": [
    "# package episode states, actions, next states, and goals into trajectory tuple\n",
    "trajectory = (states, actions, next_states, dones, state_achieved_goals, next_state_achieved_goals, desired_goals)"
   ]
  },
  {
   "cell_type": "code",
   "execution_count": null,
   "metadata": {},
   "outputs": [],
   "source": [
    "states, actions, next_states, dones, state_achieved_goals, next_state_achieved_goals, desired_goals = trajectory"
   ]
  },
  {
   "cell_type": "code",
   "execution_count": null,
   "metadata": {},
   "outputs": [],
   "source": [
    "for idx, (s, a, ns, d, sag, nsag, dg) in enumerate(zip(states, actions, next_states, dones, state_achieved_goals, next_state_achieved_goals, desired_goals)):\n",
    "    print(f'a={a}, d={d}, sag={sag}, nsag={nsag}, dg={dg}')"
   ]
  },
  {
   "cell_type": "code",
   "execution_count": null,
   "metadata": {},
   "outputs": [],
   "source": [
    "strategy = \"future\"\n",
    "num_goals = 4\n",
    "\n",
    "# loop over each step in the trajectory to set new achieved goals, calculate new reward, and save to replay buffer\n",
    "for idx, (state, action, next_state, done, state_achieved_goal, next_state_achieved_goal, desired_goal) in enumerate(zip(states, actions, next_states, dones, state_achieved_goals, next_state_achieved_goals, desired_goals)):\n",
    "\n",
    "    if strategy == \"final\":\n",
    "        new_desired_goal = next_state_achieved_goals[-1]\n",
    "        new_reward = her.reward_fn(state_achieved_goal, next_state_achieved_goal, new_desired_goal)\n",
    "        print(f'transition: action={action}, reward={new_reward}, done={done}, state_achieved_goal={state_achieved_goal}, next_state_achieved_goal={next_state_achieved_goal}, desired_goal={new_desired_goal}')\n",
    "        her.agent.replay_buffer.add(state, action, new_reward, next_state, done, state_achieved_goal, next_state_achieved_goal, new_desired_goal)\n",
    "\n",
    "    if strategy == 'future':\n",
    "        for i in range(num_goals):\n",
    "            if idx + i + 1 >= len(states):\n",
    "                break\n",
    "            goal_idx = np.random.randint(idx + 1, len(states))\n",
    "            new_desired_goal = next_state_achieved_goals[goal_idx]\n",
    "            new_reward = her.reward_fn(state_achieved_goal, next_state_achieved_goal, new_desired_goal)\n",
    "            print(f'transition: action={action}, reward={new_reward}, done={done}, state_achieved_goal={state_achieved_goal}, next_state_achieved_goal={next_state_achieved_goal}, desired_goal={new_desired_goal}')\n",
    "            her.agent.replay_buffer.add(state, action, new_reward, next_state, done, state_achieved_goal, next_state_achieved_goal, new_desired_goal)\n",
    "    \n",
    "\n",
    "    \n"
   ]
  },
  {
   "cell_type": "code",
   "execution_count": null,
   "metadata": {},
   "outputs": [],
   "source": [
    "s, a, r, ns, d, sag, nsag, dg = her.agent.replay_buffer.sample(100)"
   ]
  },
  {
   "cell_type": "code",
   "execution_count": null,
   "metadata": {},
   "outputs": [],
   "source": [
    "for i in range(100):\n",
    "    print(f'{i}: a={a[i]}, r={r[i]}, d={d[i]}, sag={sag[i]}, nsag={nsag[i]}, dg={dg[i]} ')"
   ]
  },
  {
   "cell_type": "markdown",
   "metadata": {},
   "source": [
    "# HER Pendulum"
   ]
  },
  {
   "cell_type": "code",
   "execution_count": null,
   "metadata": {},
   "outputs": [],
   "source": [
    "env = gym.make('Pendulum-v1')"
   ]
  },
  {
   "cell_type": "code",
   "execution_count": null,
   "metadata": {},
   "outputs": [],
   "source": [
    "# build actor\n",
    "\n",
    "dense_layers = [\n",
    "    (\n",
    "        400,\n",
    "        \"relu\",\n",
    "        {\n",
    "            \"variance scaling\": {\n",
    "                \"scale\": 1.0,\n",
    "                \"mode\": \"fan_in\",\n",
    "                \"distribution\": \"uniform\",\n",
    "            }\n",
    "        },\n",
    "    ),\n",
    "    (\n",
    "        300,\n",
    "        \"relu\",\n",
    "        {\n",
    "            \"variance scaling\": {\n",
    "                \"scale\": 1.0,\n",
    "                \"mode\": \"fan_in\",\n",
    "                \"distribution\": \"uniform\",\n",
    "            }\n",
    "        },\n",
    "    )\n",
    "]\n",
    "\n",
    "actor = models.ActorModel(env, cnn_model=None, dense_layers=dense_layers, optimizer='Adam',\n",
    "                          optimizer_params={'weight_decay':0.01}, learning_rate=0.001, normalize=False)"
   ]
  },
  {
   "cell_type": "code",
   "execution_count": null,
   "metadata": {},
   "outputs": [],
   "source": [
    "# build critic\n",
    "\n",
    "state_layers = [\n",
    "    \n",
    "]\n",
    "\n",
    "merged_layers = [\n",
    "    (\n",
    "        64,\n",
    "        \"relu\",\n",
    "        {\n",
    "            \"kaiming uniform\": {\n",
    "                \n",
    "            }\n",
    "        },\n",
    "    ),\n",
    "    (\n",
    "        64,\n",
    "        \"relu\",\n",
    "        {\n",
    "            \"kaiming uniform\": {\n",
    "                \n",
    "            }\n",
    "        },\n",
    "    ),\n",
    "    (\n",
    "        64,\n",
    "        \"relu\",\n",
    "        {\n",
    "            \"kaiming uniform\": {\n",
    "                \n",
    "            }\n",
    "        },\n",
    "    )\n",
    "]\n",
    "\n",
    "\n",
    "critic = models.CriticModel(env=env, cnn_model=None, state_layers=state_layers, merged_layers=merged_layers, optimizer=\"Adam\", optimizer_params={'weight_decay':0.0}, learning_rate=0.001, normalize=False)"
   ]
  },
  {
   "cell_type": "code",
   "execution_count": null,
   "metadata": {},
   "outputs": [],
   "source": [
    "replay_buffer = helper.ReplayBuffer(env, 100000, (3,))\n",
    "noise = helper.OUNoise(shape=env.action_space.shape, dt=1.0, device='cuda')"
   ]
  },
  {
   "cell_type": "code",
   "execution_count": null,
   "metadata": {},
   "outputs": [],
   "source": [
    "ddpg_agent = rl_agents.DDPG(env=env,\n",
    "                            actor_model=actor,\n",
    "                            critic_model=critic,\n",
    "                            discount=0.99,\n",
    "                            tau=0.005,\n",
    "                            replay_buffer=replay_buffer,\n",
    "                            noise=noise,\n",
    "                            callbacks=[rl_callbacks.WandbCallback('Pendulum-v1')])"
   ]
  },
  {
   "cell_type": "code",
   "execution_count": null,
   "metadata": {},
   "outputs": [],
   "source": [
    "def desired_goal_func(env):\n",
    "    return np.array([0.0, 0.0, 0.0])\n",
    "\n",
    "def achieved_goal_func(env):\n",
    "    return env.get_wrapper_attr('_get_obs')()\n",
    "\n",
    "def reward_func(env):\n",
    "    pass"
   ]
  },
  {
   "cell_type": "code",
   "execution_count": null,
   "metadata": {},
   "outputs": [],
   "source": [
    "her = rl_agents.HER(\n",
    "    agent=ddpg_agent,\n",
    "    strategy='none',\n",
    "    desired_goal=desired_goal_func,\n",
    "    achieved_goal=achieved_goal_func,\n",
    "    reward_fn=reward_func,\n",
    "    normalizer_clip=10.0\n",
    ")"
   ]
  },
  {
   "cell_type": "code",
   "execution_count": null,
   "metadata": {},
   "outputs": [],
   "source": [
    "her.agent.critic_model"
   ]
  },
  {
   "cell_type": "code",
   "execution_count": null,
   "metadata": {},
   "outputs": [],
   "source": [
    "her.agent.target_critic_model"
   ]
  },
  {
   "cell_type": "code",
   "execution_count": null,
   "metadata": {},
   "outputs": [],
   "source": [
    "her.train(1,1,100,1)"
   ]
  },
  {
   "cell_type": "code",
   "execution_count": null,
   "metadata": {},
   "outputs": [],
   "source": [
    "wandb.finish()"
   ]
  },
  {
   "cell_type": "code",
   "execution_count": null,
   "metadata": {},
   "outputs": [],
   "source": [
    "state = env.observation_space.sample()\n",
    "state"
   ]
  },
  {
   "cell_type": "code",
   "execution_count": null,
   "metadata": {},
   "outputs": [],
   "source": [
    "her.agent.state_normalizer.normalize(state)"
   ]
  },
  {
   "cell_type": "code",
   "execution_count": null,
   "metadata": {},
   "outputs": [],
   "source": [
    "goal = her.desired_goal_func(her.agent.env)\n",
    "goal"
   ]
  },
  {
   "cell_type": "code",
   "execution_count": null,
   "metadata": {},
   "outputs": [],
   "source": [
    "her.agent.goal_normalizer.normalize(goal)"
   ]
  },
  {
   "cell_type": "code",
   "execution_count": null,
   "metadata": {},
   "outputs": [],
   "source": [
    "def remove_renders(folder_path):\n",
    "    # Iterate over the files in the folder\n",
    "    for filename in os.listdir(folder_path):\n",
    "        # Check if the file has a .mp4 or .meta.json extension\n",
    "        if filename.endswith(\".mp4\") or filename.endswith(\".meta.json\"):\n",
    "            # Construct the full file path\n",
    "            file_path = os.path.join(folder_path, filename)\n",
    "            # Remove the file\n",
    "            os.remove(file_path)"
   ]
  },
  {
   "cell_type": "code",
   "execution_count": null,
   "metadata": {},
   "outputs": [],
   "source": [
    "remove_renders(\"/workspaces/RL_Agents/pytorch/src/app/assets/models/ddpg/renders/training\")"
   ]
  },
  {
   "cell_type": "markdown",
   "metadata": {},
   "source": [
    "# HER Fetch-Reach (Robotics)"
   ]
  },
  {
   "cell_type": "code",
   "execution_count": null,
   "metadata": {},
   "outputs": [],
   "source": [
    "env = gym.make(\"FetchReach-v3\", max_episode_steps=50)"
   ]
  },
  {
   "cell_type": "code",
   "execution_count": null,
   "metadata": {},
   "outputs": [],
   "source": [
    "desired_goal_func, achieved_goal_func, reward_func = gym_helper.get_her_goal_functions(env)"
   ]
  },
  {
   "cell_type": "code",
   "execution_count": null,
   "metadata": {},
   "outputs": [],
   "source": [
    "achieved_goal_func(env)"
   ]
  },
  {
   "cell_type": "code",
   "execution_count": null,
   "metadata": {},
   "outputs": [],
   "source": [
    "env.get_wrapper_attr(\"_get_obs\")()"
   ]
  },
  {
   "cell_type": "code",
   "execution_count": null,
   "metadata": {},
   "outputs": [],
   "source": [
    "# reset env state\n",
    "env.reset()"
   ]
  },
  {
   "cell_type": "code",
   "execution_count": null,
   "metadata": {},
   "outputs": [],
   "source": [
    "goal_shape = desired_goal_func(env).shape"
   ]
  },
  {
   "cell_type": "code",
   "execution_count": null,
   "metadata": {},
   "outputs": [],
   "source": [
    "goal_shape"
   ]
  },
  {
   "cell_type": "code",
   "execution_count": null,
   "metadata": {},
   "outputs": [],
   "source": [
    "# build actor\n",
    "\n",
    "dense_layers = [\n",
    "    (\n",
    "        64,\n",
    "        \"relu\",\n",
    "        {\n",
    "            \"kaiming uniform\": {\n",
    "                \n",
    "            }\n",
    "        },\n",
    "    ),\n",
    "    (\n",
    "        64,\n",
    "        \"relu\",\n",
    "        {\n",
    "            \"kaiming uniform\": {\n",
    "                \n",
    "            }\n",
    "        },\n",
    "    ),\n",
    "    (\n",
    "        64,\n",
    "        \"relu\",\n",
    "        {\n",
    "            \"kaiming uniform\": {\n",
    "                \n",
    "            }\n",
    "        },\n",
    "    )\n",
    "]\n",
    "\n",
    "actor = models.ActorModel(env, cnn_model=None, dense_layers=dense_layers, goal_shape=goal_shape, optimizer='Adam',\n",
    "                          optimizer_params={'weight_decay':0.0}, learning_rate=0.00001, normalize_layers=False)"
   ]
  },
  {
   "cell_type": "code",
   "execution_count": null,
   "metadata": {},
   "outputs": [],
   "source": [
    "actor"
   ]
  },
  {
   "cell_type": "code",
   "execution_count": null,
   "metadata": {},
   "outputs": [],
   "source": [
    "# build critic\n",
    "\n",
    "state_layers = [\n",
    "    \n",
    "]\n",
    "\n",
    "merged_layers = [\n",
    "    (\n",
    "        64,\n",
    "        \"relu\",\n",
    "        {\n",
    "            \"kaiming uniform\": {\n",
    "                \n",
    "            }\n",
    "        },\n",
    "    ),\n",
    "    (\n",
    "        64,\n",
    "        \"relu\",\n",
    "        {\n",
    "            \"kaiming uniform\": {\n",
    "               \n",
    "            }\n",
    "        },\n",
    "    ),\n",
    "    (\n",
    "        64,\n",
    "        \"relu\",\n",
    "        {\n",
    "            \"kaiming uniform\": {\n",
    "                \n",
    "            }\n",
    "        },\n",
    "    ),\n",
    "]\n",
    "\n",
    "\n",
    "critic = models.CriticModel(env=env, cnn_model=None, state_layers=state_layers, merged_layers=merged_layers, goal_shape=goal_shape, optimizer=\"Adam\", optimizer_params={'weight_decay':0.0}, learning_rate=0.00001, normalize_layers=False)"
   ]
  },
  {
   "cell_type": "code",
   "execution_count": null,
   "metadata": {},
   "outputs": [],
   "source": [
    "critic"
   ]
  },
  {
   "cell_type": "code",
   "execution_count": null,
   "metadata": {},
   "outputs": [],
   "source": [
    "replay_buffer = helper.ReplayBuffer(env, 1000000, goal_shape)\n",
    "# noise = helper.OUNoise(shape=env.action_space.shape, dt=1.0, device='cuda')\n",
    "noise = helper.NormalNoise(shape=env.action_space.shape, mean=0.0, stddev=0.05)"
   ]
  },
  {
   "cell_type": "code",
   "execution_count": null,
   "metadata": {},
   "outputs": [],
   "source": [
    "ddpg_agent = rl_agents.DDPG(env=env,\n",
    "                            actor_model=actor,\n",
    "                            critic_model=critic,\n",
    "                            discount=0.98,\n",
    "                            tau=0.05,\n",
    "                            action_epsilon=0.2,\n",
    "                            replay_buffer=replay_buffer,\n",
    "                            batch_size=256,\n",
    "                            noise=noise,\n",
    "                            callbacks=[rl_callbacks.WandbCallback(\"FetchReach-v2\")])"
   ]
  },
  {
   "cell_type": "code",
   "execution_count": null,
   "metadata": {},
   "outputs": [],
   "source": [
    "ddpg_agent.critic_model"
   ]
  },
  {
   "cell_type": "code",
   "execution_count": null,
   "metadata": {},
   "outputs": [],
   "source": [
    "her = rl_agents.HER(\n",
    "    agent=ddpg_agent,\n",
    "    strategy='future',\n",
    "    tolerance=0.05,\n",
    "    num_goals=4,\n",
    "    desired_goal=desired_goal_func,\n",
    "    achieved_goal=achieved_goal_func,\n",
    "    reward_fn=reward_func,\n",
    "    normalizer_clip=5.0\n",
    ")"
   ]
  },
  {
   "cell_type": "code",
   "execution_count": null,
   "metadata": {},
   "outputs": [],
   "source": [
    "her.train(num_epochs=50,\n",
    "          num_cycles=50,\n",
    "          num_episodes=16,\n",
    "          num_updates=40,\n",
    "          render=True,\n",
    "          render_freq=1000)"
   ]
  },
  {
   "cell_type": "code",
   "execution_count": null,
   "metadata": {},
   "outputs": [],
   "source": [
    "states, action, rewards, next_states, dones, achieved_goals, next_achieved_goals, desired_goals = her.agent.replay_buffer.sample(2)"
   ]
  },
  {
   "cell_type": "code",
   "execution_count": null,
   "metadata": {},
   "outputs": [],
   "source": [
    "desired_goals"
   ]
  },
  {
   "cell_type": "code",
   "execution_count": null,
   "metadata": {},
   "outputs": [],
   "source": [
    "her.agent.env.get_wrapper_attr(\"distance_threshold\")"
   ]
  },
  {
   "cell_type": "code",
   "execution_count": null,
   "metadata": {},
   "outputs": [],
   "source": [
    "# get success\n",
    "her.agent.env.get_wrapper_attr(\"_is_success\")(achieved_goal_func(her.agent.env), desired_goal_func(her.agent.env))"
   ]
  },
  {
   "cell_type": "code",
   "execution_count": null,
   "metadata": {},
   "outputs": [],
   "source": [
    "her.agent.env.get_wrapper_attr(\"goal_distance\")(next_state_achieved_goal, desired_goal, None)"
   ]
  },
  {
   "cell_type": "code",
   "execution_count": null,
   "metadata": {},
   "outputs": [],
   "source": [
    "pusher_her = rl_agents.HER.load(\"/workspaces/RL_Agents/pytorch/src/app/assets/models/her\")"
   ]
  },
  {
   "cell_type": "code",
   "execution_count": null,
   "metadata": {},
   "outputs": [],
   "source": [
    "pusher_her.agent.env.reset()"
   ]
  },
  {
   "cell_type": "code",
   "execution_count": null,
   "metadata": {},
   "outputs": [],
   "source": [
    "pusher_her.get_config()"
   ]
  },
  {
   "cell_type": "code",
   "execution_count": null,
   "metadata": {},
   "outputs": [],
   "source": [
    "wandb.finish()"
   ]
  },
  {
   "cell_type": "code",
   "execution_count": null,
   "metadata": {},
   "outputs": [],
   "source": [
    "np.linalg.norm(pusher_her.agent.env.get_wrapper_attr(\"get_body_com\")(\"goal\") - pusher_her.agent.env.get_wrapper_attr(\"get_body_com\")(\"object\"))"
   ]
  },
  {
   "cell_type": "code",
   "execution_count": null,
   "metadata": {},
   "outputs": [],
   "source": [
    "pusher_her.agent.replay_buffer.get_config()"
   ]
  },
  {
   "cell_type": "code",
   "execution_count": null,
   "metadata": {},
   "outputs": [],
   "source": [
    "\n",
    "pusher_her.agent.replay_buffer.desired_goals"
   ]
  },
  {
   "cell_type": "code",
   "execution_count": null,
   "metadata": {},
   "outputs": [],
   "source": [
    "## TEST ENV\n",
    "env = gym.make(\"Pusher-v5\", render_mode=\"rgb_array\")"
   ]
  },
  {
   "cell_type": "code",
   "execution_count": null,
   "metadata": {},
   "outputs": [],
   "source": [
    "env = gym.wrappers.RecordVideo(\n",
    "                    env,\n",
    "                    \"/renders/training\",\n",
    "                    episode_trigger=lambda x: True,\n",
    "                )\n"
   ]
  },
  {
   "cell_type": "code",
   "execution_count": null,
   "metadata": {},
   "outputs": [],
   "source": [
    "state, _ = env.reset()\n",
    "\n",
    "for i in range(1000):\n",
    "# take action\n",
    "    next_state, reward, term, trunc, _ = env.step(env.action_space.sample())\n",
    "env.close()"
   ]
  },
  {
   "cell_type": "markdown",
   "metadata": {},
   "source": [
    "# HER Fetch Push (Robitics)"
   ]
  },
  {
   "cell_type": "code",
   "execution_count": null,
   "metadata": {},
   "outputs": [],
   "source": [
    "env = gym.make('FetchPush-v2')"
   ]
  },
  {
   "cell_type": "code",
   "execution_count": null,
   "metadata": {},
   "outputs": [],
   "source": [
    "desired_goal_func, achieved_goal_func, reward_func = gym_helper.get_her_goal_functions(env)"
   ]
  },
  {
   "cell_type": "code",
   "execution_count": null,
   "metadata": {},
   "outputs": [],
   "source": [
    "# reset env state\n",
    "env.reset()"
   ]
  },
  {
   "cell_type": "code",
   "execution_count": null,
   "metadata": {},
   "outputs": [],
   "source": [
    "goal_shape = desired_goal_func(env).shape"
   ]
  },
  {
   "cell_type": "code",
   "execution_count": null,
   "metadata": {},
   "outputs": [],
   "source": [
    "# build actor\n",
    "\n",
    "dense_layers = [\n",
    "    (\n",
    "        64,\n",
    "        \"relu\",\n",
    "        {\n",
    "            \"kaiming uniform\": {\n",
    "                \n",
    "            }\n",
    "        },\n",
    "    ),\n",
    "    (\n",
    "        64,\n",
    "        \"relu\",\n",
    "        {\n",
    "            \"kaiming uniform\": {\n",
    "                \n",
    "            }\n",
    "        },\n",
    "    ),\n",
    "    (\n",
    "        64,\n",
    "        \"relu\",\n",
    "        {\n",
    "            \"kaiming uniform\": {\n",
    "                \n",
    "            }\n",
    "        },\n",
    "    )\n",
    "]\n",
    "\n",
    "actor = models.ActorModel(env, cnn_model=None, dense_layers=dense_layers, goal_shape=goal_shape, optimizer='Adam',\n",
    "                          optimizer_params={'weight_decay':0.0}, learning_rate=0.00001, normalize_layers=False)"
   ]
  },
  {
   "cell_type": "code",
   "execution_count": null,
   "metadata": {},
   "outputs": [],
   "source": [
    "# build critic\n",
    "\n",
    "state_layers = [\n",
    "    \n",
    "]\n",
    "\n",
    "merged_layers = [\n",
    "    (\n",
    "        64,\n",
    "        \"relu\",\n",
    "        {\n",
    "            \"kaiming uniform\": {\n",
    "                \n",
    "            }\n",
    "        },\n",
    "    ),\n",
    "    (\n",
    "        64,\n",
    "        \"relu\",\n",
    "        {\n",
    "            \"kaiming uniform\": {\n",
    "               \n",
    "            }\n",
    "        },\n",
    "    ),\n",
    "    (\n",
    "        64,\n",
    "        \"relu\",\n",
    "        {\n",
    "            \"kaiming uniform\": {\n",
    "                \n",
    "            }\n",
    "        },\n",
    "    ),\n",
    "]\n",
    "\n",
    "\n",
    "critic = models.CriticModel(env=env, cnn_model=None, state_layers=state_layers, merged_layers=merged_layers, goal_shape=goal_shape, optimizer=\"Adam\", optimizer_params={'weight_decay':0.0}, learning_rate=0.00001, normalize_layers=False)"
   ]
  },
  {
   "cell_type": "code",
   "execution_count": null,
   "metadata": {},
   "outputs": [],
   "source": [
    "replay_buffer = helper.ReplayBuffer(env, 1000000, goal_shape)\n",
    "# noise = helper.OUNoise(shape=env.action_space.shape, dt=1.0, device='cuda')\n",
    "noise = helper.NormalNoise(shape=env.action_space.shape, mean=0.0, stddev=0.05)"
   ]
  },
  {
   "cell_type": "code",
   "execution_count": null,
   "metadata": {},
   "outputs": [],
   "source": [
    "ddpg_agent = rl_agents.DDPG(env=env,\n",
    "                            actor_model=actor,\n",
    "                            critic_model=critic,\n",
    "                            discount=0.98,\n",
    "                            tau=0.05,\n",
    "                            action_epsilon=0.3,\n",
    "                            replay_buffer=replay_buffer,\n",
    "                            batch_size=128,\n",
    "                            noise=noise,\n",
    "                            callbacks=[rl_callbacks.WandbCallback(\"FetchPush-v2\")],\n",
    "                            save_dir=\"fetch_push/models/ddpg/\"\n",
    "                            )"
   ]
  },
  {
   "cell_type": "code",
   "execution_count": null,
   "metadata": {},
   "outputs": [],
   "source": [
    "her = rl_agents.HER(\n",
    "    agent=ddpg_agent,\n",
    "    strategy='final',\n",
    "    tolerance=0.05,\n",
    "    num_goals=4,\n",
    "    desired_goal=desired_goal_func,\n",
    "    achieved_goal=achieved_goal_func,\n",
    "    reward_fn=reward_func,\n",
    "    normalizer_clip=5.0,\n",
    "    save_dir=\"fetch_push/models/her/\"\n",
    ")"
   ]
  },
  {
   "cell_type": "code",
   "execution_count": null,
   "metadata": {},
   "outputs": [],
   "source": [
    "her.train(num_epochs=50,\n",
    "          num_cycles=50,\n",
    "          num_episodes=16,\n",
    "          num_updates=40,\n",
    "          render=True,\n",
    "          render_freq=1000)"
   ]
  },
  {
   "cell_type": "markdown",
   "metadata": {},
   "source": [
    "# TESTING MULTITHREADING"
   ]
  },
  {
   "cell_type": "code",
   "execution_count": null,
   "metadata": {},
   "outputs": [],
   "source": [
    "env = gym.make('FetchPush-v2')"
   ]
  },
  {
   "cell_type": "code",
   "execution_count": null,
   "metadata": {},
   "outputs": [],
   "source": [
    "desired_goal_func, achieved_goal_func, reward_func = gym_helper.get_her_goal_functions(env)"
   ]
  },
  {
   "cell_type": "code",
   "execution_count": null,
   "metadata": {},
   "outputs": [],
   "source": [
    "# reset env state\n",
    "env.reset()"
   ]
  },
  {
   "cell_type": "code",
   "execution_count": null,
   "metadata": {},
   "outputs": [],
   "source": [
    "goal_shape = desired_goal_func(env).shape"
   ]
  },
  {
   "cell_type": "code",
   "execution_count": null,
   "metadata": {},
   "outputs": [],
   "source": [
    "# build actor\n",
    "\n",
    "dense_layers = [\n",
    "    (\n",
    "        64,\n",
    "        \"relu\",\n",
    "        {\n",
    "            \"kaiming uniform\": {\n",
    "                \n",
    "            }\n",
    "        },\n",
    "    ),\n",
    "    (\n",
    "        64,\n",
    "        \"relu\",\n",
    "        {\n",
    "            \"kaiming uniform\": {\n",
    "                \n",
    "            }\n",
    "        },\n",
    "    ),\n",
    "    (\n",
    "        64,\n",
    "        \"relu\",\n",
    "        {\n",
    "            \"kaiming uniform\": {\n",
    "                \n",
    "            }\n",
    "        },\n",
    "    )\n",
    "]\n",
    "\n",
    "actor = models.ActorModel(env, cnn_model=None, dense_layers=dense_layers, goal_shape=goal_shape, optimizer='Adam',\n",
    "                          optimizer_params={'weight_decay':0.0}, learning_rate=0.00001, normalize_layers=False)"
   ]
  },
  {
   "cell_type": "code",
   "execution_count": null,
   "metadata": {},
   "outputs": [],
   "source": [
    "# build critic\n",
    "\n",
    "state_layers = [\n",
    "    \n",
    "]\n",
    "\n",
    "merged_layers = [\n",
    "    (\n",
    "        64,\n",
    "        \"relu\",\n",
    "        {\n",
    "            \"kaiming uniform\": {\n",
    "                \n",
    "            }\n",
    "        },\n",
    "    ),\n",
    "    (\n",
    "        64,\n",
    "        \"relu\",\n",
    "        {\n",
    "            \"kaiming uniform\": {\n",
    "               \n",
    "            }\n",
    "        },\n",
    "    ),\n",
    "    (\n",
    "        64,\n",
    "        \"relu\",\n",
    "        {\n",
    "            \"kaiming uniform\": {\n",
    "                \n",
    "            }\n",
    "        },\n",
    "    ),\n",
    "]\n",
    "\n",
    "\n",
    "critic = models.CriticModel(env=env, cnn_model=None, state_layers=state_layers, merged_layers=merged_layers, goal_shape=goal_shape, optimizer=\"Adam\", optimizer_params={'weight_decay':0.0}, learning_rate=0.00001, normalize_layers=False)"
   ]
  },
  {
   "cell_type": "code",
   "execution_count": null,
   "metadata": {},
   "outputs": [],
   "source": [
    "replay_buffer = helper.ReplayBuffer(env, 1000000, goal_shape)\n",
    "# noise = helper.OUNoise(shape=env.action_space.shape, dt=1.0, device='cuda')\n",
    "noise = helper.NormalNoise(shape=env.action_space.shape, mean=0.0, stddev=0.05)"
   ]
  },
  {
   "cell_type": "code",
   "execution_count": null,
   "metadata": {},
   "outputs": [],
   "source": [
    "ddpg_agent = rl_agents.DDPG(env=env,\n",
    "                            actor_model=actor,\n",
    "                            critic_model=critic,\n",
    "                            discount=0.98,\n",
    "                            tau=0.05,\n",
    "                            action_epsilon=0.3,\n",
    "                            replay_buffer=replay_buffer,\n",
    "                            batch_size=128,\n",
    "                            noise=noise,\n",
    "                            callbacks=[rl_callbacks.WandbCallback(\"FetchPush-v2\")],\n",
    "                            save_dir=\"fetch_push/models/ddpg/\"\n",
    "                            )"
   ]
  },
  {
   "cell_type": "code",
   "execution_count": null,
   "metadata": {},
   "outputs": [],
   "source": [
    "her = rl_agents.HER(\n",
    "    agent=ddpg_agent,\n",
    "    strategy='final',\n",
    "    num_workers=4,\n",
    "    tolerance=0.05,\n",
    "    num_goals=4,\n",
    "    desired_goal=desired_goal_func,\n",
    "    achieved_goal=achieved_goal_func,\n",
    "    reward_fn=reward_func,\n",
    "    normalizer_clip=5.0,\n",
    "    save_dir=\"fetch_push/models/her/\"\n",
    ")"
   ]
  },
  {
   "cell_type": "code",
   "execution_count": null,
   "metadata": {},
   "outputs": [],
   "source": [
    "her.train()"
   ]
  },
  {
   "cell_type": "markdown",
   "metadata": {},
   "source": [
    "# TESTING"
   ]
  },
  {
   "cell_type": "code",
   "execution_count": null,
   "metadata": {},
   "outputs": [],
   "source": [
    "# load config\n",
    "config_path = \"/workspaces/RL_Agents/pytorch/src/app/HER_Test/her/config.json\"\n",
    "with open(config_path, 'r') as file:\n",
    "    config = json.load(file)"
   ]
  },
  {
   "cell_type": "code",
   "execution_count": null,
   "metadata": {},
   "outputs": [],
   "source": [
    "config"
   ]
  },
  {
   "cell_type": "code",
   "execution_count": null,
   "metadata": {},
   "outputs": [],
   "source": [
    "agent = rl_agents.HER.load(config)"
   ]
  },
  {
   "cell_type": "code",
   "execution_count": null,
   "metadata": {},
   "outputs": [],
   "source": [
    "for callback in agent.agent.callbacks:\n",
    "    print(callback._sweep)"
   ]
  },
  {
   "cell_type": "markdown",
   "metadata": {},
   "source": [
    "# Co Occurence"
   ]
  },
  {
   "cell_type": "code",
   "execution_count": null,
   "metadata": {},
   "outputs": [],
   "source": [
    "import subprocess"
   ]
  },
  {
   "cell_type": "code",
   "execution_count": null,
   "metadata": {},
   "outputs": [],
   "source": [
    "# Define the path to your JSON configuration file\n",
    "config_file_path = 'assets/wandb_config.json'\n",
    "\n",
    "# Read the JSON configuration file\n",
    "with open(config_file_path, 'r') as file:\n",
    "    wandb_config = json.load(file)\n",
    "\n",
    "# Print the configuration to verify it has been loaded correctly\n",
    "print(wandb_config)"
   ]
  },
  {
   "cell_type": "code",
   "execution_count": null,
   "metadata": {},
   "outputs": [],
   "source": [
    "# Define the path to your JSON configuration file\n",
    "config_file_path = 'assets/sweep_config.json'\n",
    "\n",
    "# Read the JSON configuration file\n",
    "with open(config_file_path, 'r') as file:\n",
    "    sweep_config = json.load(file)\n",
    "\n",
    "# Print the configuration to verify it has been loaded correctly\n",
    "print(sweep_config)"
   ]
  },
  {
   "cell_type": "code",
   "execution_count": null,
   "metadata": {},
   "outputs": [],
   "source": [
    "# Save the updated configuration to a train config file\n",
    "os.makedirs('sweep', exist_ok=True)\n",
    "train_config_path = os.path.join(os.getcwd(), 'sweep/train_config.json')\n",
    "with open(train_config_path, 'w') as f:\n",
    "    json.dump(sweep_config, f)\n",
    "\n",
    "# Save and Set the sweep config path\n",
    "sweep_config_path = os.path.join(os.getcwd(), 'sweep/sweep_config.json')\n",
    "with open(sweep_config_path, 'w') as f:\n",
    "    json.dump(wandb_config, f)"
   ]
  },
  {
   "cell_type": "code",
   "execution_count": null,
   "metadata": {},
   "outputs": [],
   "source": [
    "command = ['python', 'sweep.py']\n",
    "\n",
    "# Set the environment variable\n",
    "os.environ['WANDB_DISABLE_SERVICE'] = 'true'\n",
    "\n",
    "subprocess.Popen(command)"
   ]
  },
  {
   "cell_type": "code",
   "execution_count": null,
   "metadata": {},
   "outputs": [],
   "source": [
    "# Set the environment variable\n",
    "os.environ['WANDB_DISABLE_SERVICE'] = 'true'"
   ]
  },
  {
   "cell_type": "code",
   "execution_count": null,
   "metadata": {},
   "outputs": [],
   "source": [
    "# Define the path to your JSON configuration file\n",
    "config_file_path = 'sweep/sweep_config.json'\n",
    "\n",
    "# Read the JSON configuration file\n",
    "with open(config_file_path, 'r') as file:\n",
    "    sweep_config = json.load(file)\n",
    "\n",
    "# Print the configuration to verify it has been loaded correctly\n",
    "print(sweep_config)"
   ]
  },
  {
   "cell_type": "code",
   "execution_count": null,
   "metadata": {},
   "outputs": [],
   "source": [
    "# Define the path to your JSON configuration file\n",
    "config_file_path = 'sweep/train_config.json'\n",
    "\n",
    "# Read the JSON configuration file\n",
    "with open(config_file_path, 'r') as file:\n",
    "    train_config = json.load(file)\n",
    "\n",
    "# Print the configuration to verify it has been loaded correctly\n",
    "print(train_config)"
   ]
  },
  {
   "cell_type": "code",
   "execution_count": null,
   "metadata": {},
   "outputs": [],
   "source": [
    "sweep_id = wandb.sweep(sweep=sweep_config, project=sweep_config[\"project\"])\n",
    "# loop over num wandb agents\n",
    "num_agents = 1\n",
    "# for agent in range(num_agents):\n",
    "wandb.agent(\n",
    "    sweep_id,\n",
    "    function=lambda: wandb_support._run_sweep(sweep_config, train_config,),\n",
    "    count=train_config['num_sweeps'],\n",
    "    project=sweep_config[\"project\"],\n",
    ")"
   ]
  },
  {
   "cell_type": "code",
   "execution_count": null,
   "metadata": {},
   "outputs": [],
   "source": [
    "sweep_config"
   ]
  },
  {
   "cell_type": "markdown",
   "metadata": {},
   "source": [
    "# PPO"
   ]
  },
  {
   "cell_type": "code",
   "execution_count": null,
   "metadata": {},
   "outputs": [],
   "source": [
    "from pathlib import Path\n",
    "from typing import List, Tuple\n",
    "import torch.nn.functional as F\n",
    "from torch.distributions import Categorical, Beta, Normal, kl_divergence\n",
    "import time\n",
    "import cv2"
   ]
  },
  {
   "cell_type": "code",
   "execution_count": null,
   "metadata": {},
   "outputs": [],
   "source": [
    "# PARAMS\n",
    "# env_id = 'Pendulum-v1'\n",
    "# env_id = 'LunarLanderContinuous-v3'\n",
    "env_id = 'BipedalWalker-v3'\n",
    "policy_lr = 3e-4\n",
    "value_lr = 2e-5\n",
    "entropy_coeff = 0.1\n",
    "kl_coeff = 0.1\n",
    "loss = 'kl'\n",
    "timesteps = 100_000\n",
    "num_envs = 10\n",
    "device = 'cuda'\n",
    "\n",
    "seed = 42\n",
    "env = gym.make_vec(env_id, num_envs)\n",
    "# env = gym.make('BipedalWalker-v3')\n",
    "# _,_ = env.reset()\n",
    "# sample = env.action_space.sample()\n",
    "# if isinstance(sample, np.int64) or isinstance(sample, np.int32):\n",
    "#     print(f'discrete action space of size {env.action_space.n}')\n",
    "# elif isinstance(sample, np.ndarray):\n",
    "#     print(f'continuous action space of size {env.action_space.shape}')\n",
    "\n",
    "T.manual_seed(seed)\n",
    "T.cuda.manual_seed(seed)\n",
    "np.random.seed(seed)\n",
    "gym.utils.seeding.np_random.seed = seed\n",
    "# Build policy model\n",
    "dense_layers = [(128,\"tanh\",{\"default\":{}}),(128,\"tanh\",{\"default\":{}})]\n",
    "policy = StochasticContinuousPolicy(env, num_envs, dense_layers, learning_rate=policy_lr, distribution='Beta', device=device)\n",
    "dense_layers = [(128,\"tanh\",{\"default\":{}}),(128,\"tanh\",{\"default\":{}})]\n",
    "value_function = ValueModel(env, dense_layers, learning_rate=value_lr, device=device)\n",
    "ppo_agent_hybrid1 = PPO(env, policy, value_function, distribution='Beta', discount=0.99, gae_coefficient=0.95, policy_clip=0.2, entropy_coefficient=entropy_coeff, kl_coefficient=kl_coeff, loss=loss)\n",
    "hybrid_train_info_1 = ppo_agent_hybrid1.train(timesteps=timesteps, trajectory_length=2048, batch_size=640, learning_epochs=10, num_envs=num_envs)\n",
    "\n",
    "# seed = 43\n",
    "# env = gym.make(env_id)\n",
    "# T.manual_seed(seed)\n",
    "# T.cuda.manual_seed(seed)\n",
    "# np.random.seed(seed)\n",
    "# gym.utils.seeding.np_random.seed = seed\n",
    "# # Build policy model\n",
    "# dense_layers = [(128,\"tanh\",{\"default\":{}}),(128,\"tanh\",{\"default\":{}})]\n",
    "# policy = StochasticContinuousPolicy(env, dense_layers, learning_rate=3e-4)\n",
    "# dense_layers = [(128,\"tanh\",{\"default\":{}}),(128,\"tanh\",{\"default\":{}})]\n",
    "# value_function = ValueModel(env, dense_layers, learning_rate=3e-4)\n",
    "# ppo_agent_hybrid2 = PPO(env, policy, value_function, distribution='Beta', discount=0.99, gae_coefficient=0.95, policy_clip=0.2, entropy_coefficient=entropy_coeff, kl_coefficient=kl_coeff, loss=loss)\n",
    "# hybrid_train_info_2 = ppo_agent_hybrid2.train(timesteps=timesteps, trajectory_length=2048, batch_size=64, learning_epochs=10)\n",
    "\n",
    "# seed = 44\n",
    "# env = gym.make(env_id)\n",
    "# T.manual_seed(seed)\n",
    "# T.cuda.manual_seed(seed)\n",
    "# np.random.seed(seed)\n",
    "# gym.utils.seeding.np_random.seed = seed\n",
    "# # Build policy model\n",
    "# dense_layers = [(128,\"tanh\",{\"default\":{}}),(128,\"tanh\",{\"default\":{}})]\n",
    "# policy = StochasticContinuousPolicy(env, dense_layers, learning_rate=3e-4)\n",
    "# dense_layers = [(128,\"tanh\",{\"default\":{}}),(128,\"tanh\",{\"default\":{}})]\n",
    "# value_function = ValueModel(env, dense_layers, learning_rate=3e-4)\n",
    "# ppo_agent_hybrid3 = PPO(env, policy, value_function, distribution='Beta', discount=0.99, gae_coefficient=0.95, policy_clip=0.2, entropy_coefficient=entropy_coeff, kl_coefficient=kl_coeff, loss=loss)\n",
    "# hybrid_train_info_3 = ppo_agent_hybrid3.train(timesteps=timesteps, trajectory_length=2048, batch_size=64, learning_epochs=10)\n",
    "# hybrid_test_info = ppo_agent_hybrid.test(1000, 'PPO_hybrid', 100)"
   ]
  },
  {
   "cell_type": "code",
   "execution_count": null,
   "metadata": {},
   "outputs": [],
   "source": [
    "# PARAMS\n",
    "# env_id = 'Pendulum-v1'\n",
    "# env_id = 'LunarLanderContinuous-v3'\n",
    "env_id = 'BipedalWalker-v3'\n",
    "policy_lr = 3e-4\n",
    "value_lr = 2e-5\n",
    "entropy_coeff = 0.1\n",
    "kl_coeff = 0.01\n",
    "loss = 'kl'\n",
    "timesteps = 100_000\n",
    "num_envs = 10\n",
    "device = 'cuda'\n",
    "\n",
    "seed = 42\n",
    "env = gym.make_vec(env_id, num_envs)\n",
    "# env = gym.make('BipedalWalker-v3')\n",
    "# _,_ = env.reset()\n",
    "# sample = env.action_space.sample()\n",
    "# if isinstance(sample, np.int64) or isinstance(sample, np.int32):\n",
    "#     print(f'discrete action space of size {env.action_space.n}')\n",
    "# elif isinstance(sample, np.ndarray):\n",
    "#     print(f'continuous action space of size {env.action_space.shape}')\n",
    "\n",
    "T.manual_seed(seed)\n",
    "T.cuda.manual_seed(seed)\n",
    "np.random.seed(seed)\n",
    "gym.utils.seeding.np_random.seed = seed\n",
    "# Build policy model\n",
    "dense_layers = [(128,\"tanh\",{\"default\":{}}),(128,\"tanh\",{\"default\":{}})]\n",
    "policy = StochasticContinuousPolicy(env, num_envs, dense_layers, learning_rate=policy_lr, distribution='Beta', device=device)\n",
    "dense_layers = [(128,\"tanh\",{\"default\":{}}),(128,\"tanh\",{\"default\":{}})]\n",
    "value_function = ValueModel(env, dense_layers, learning_rate=value_lr, device=device)\n",
    "ppo_agent_hybrid2 = PPO(env, policy, value_function, distribution='Beta', discount=0.99, gae_coefficient=0.95, policy_clip=0.2, entropy_coefficient=entropy_coeff, kl_coefficient=kl_coeff, loss=loss)\n",
    "hybrid_train_info_2 = ppo_agent_hybrid2.train(timesteps=timesteps, trajectory_length=2048, batch_size=640, learning_epochs=10, num_envs=num_envs)\n",
    "\n",
    "# seed = 43\n",
    "# env = gym.make(env_id)\n",
    "# T.manual_seed(seed)\n",
    "# T.cuda.manual_seed(seed)\n",
    "# np.random.seed(seed)\n",
    "# gym.utils.seeding.np_random.seed = seed\n",
    "# # Build policy model\n",
    "# dense_layers = [(128,\"tanh\",{\"default\":{}}),(128,\"tanh\",{\"default\":{}})]\n",
    "# policy = StochasticContinuousPolicy(env, dense_layers, learning_rate=3e-4)\n",
    "# dense_layers = [(128,\"tanh\",{\"default\":{}}),(128,\"tanh\",{\"default\":{}})]\n",
    "# value_function = ValueModel(env, dense_layers, learning_rate=3e-4)\n",
    "# ppo_agent_hybrid2 = PPO(env, policy, value_function, distribution='Beta', discount=0.99, gae_coefficient=0.95, policy_clip=0.2, entropy_coefficient=entropy_coeff, kl_coefficient=kl_coeff, loss=loss)\n",
    "# hybrid_train_info_2 = ppo_agent_hybrid2.train(timesteps=timesteps, trajectory_length=2048, batch_size=64, learning_epochs=10)\n",
    "\n",
    "# seed = 44\n",
    "# env = gym.make(env_id)\n",
    "# T.manual_seed(seed)\n",
    "# T.cuda.manual_seed(seed)\n",
    "# np.random.seed(seed)\n",
    "# gym.utils.seeding.np_random.seed = seed\n",
    "# # Build policy model\n",
    "# dense_layers = [(128,\"tanh\",{\"default\":{}}),(128,\"tanh\",{\"default\":{}})]\n",
    "# policy = StochasticContinuousPolicy(env, dense_layers, learning_rate=3e-4)\n",
    "# dense_layers = [(128,\"tanh\",{\"default\":{}}),(128,\"tanh\",{\"default\":{}})]\n",
    "# value_function = ValueModel(env, dense_layers, learning_rate=3e-4)\n",
    "# ppo_agent_hybrid3 = PPO(env, policy, value_function, distribution='Beta', discount=0.99, gae_coefficient=0.95, policy_clip=0.2, entropy_coefficient=entropy_coeff, kl_coefficient=kl_coeff, loss=loss)\n",
    "# hybrid_train_info_3 = ppo_agent_hybrid3.train(timesteps=timesteps, trajectory_length=2048, batch_size=64, learning_epochs=10)\n",
    "# hybrid_test_info = ppo_agent_hybrid.test(1000, 'PPO_hybrid', 100)"
   ]
  },
  {
   "cell_type": "code",
   "execution_count": null,
   "metadata": {},
   "outputs": [],
   "source": [
    "## PARAMS ##\n",
    "# env_id = 'Pendulum-v1'\n",
    "# env_id = 'LunarLanderContinuous-v3'\n",
    "# env_id = 'BipedalWalker-v3'\n",
    "env_id = 'Humanoid-v5'\n",
    "# env_id = \"Reacher-v5\"\n",
    "# env_id = \"Walker2d-v5\"\n",
    "# env_id = 'ALE/SpaceInvaders-ram-v5'\n",
    "# env_id = \"CarRacing-v2\"\n",
    "# env_id = \"BipedalWalkerHardcore-v3\"\n",
    "\n",
    "timesteps = 1_000_000\n",
    "trajectory_length = 2000\n",
    "batch_size = 64\n",
    "learning_epochs = 10\n",
    "num_envs = 16\n",
    "policy_lr = 3e-4\n",
    "value_lr = 2e-5\n",
    "policy_clip = 0.2\n",
    "entropy_coeff = 0.001\n",
    "loss = 'hybrid'\n",
    "kl_coeff = 0.0\n",
    "normalize_advantages = True\n",
    "normalize_values = False\n",
    "norm_clip = np.inf\n",
    "grad_clip = 40.0\n",
    "reward_clip = 1.0\n",
    "lambda_ = 0.0\n",
    "distribution = 'beta'\n",
    "device = 'cuda'\n",
    "\n",
    "# Render Settings\n",
    "render_freq = 100\n",
    "\n",
    "## WANDB ##\n",
    "project_name = 'Humanoid-v5'\n",
    "run_name = None\n",
    "callbacks = [WandbCallback(project_name, run_name)]\n",
    "# callbacks = []\n",
    "\n",
    "seed = 42\n",
    "env = gym.make(env_id)\n",
    "\n",
    "save_dir = 'Humanoid'\n",
    "# env = gym.make('BipedalWalker-v3')\n",
    "# _,_ = env.reset()\n",
    "# sample = env.action_space.sample()\n",
    "# if isinstance(sample, np.int64) or isinstance(sample, np.int32):\n",
    "#     print(f'discrete action space of size {env.action_space.n}')\n",
    "# elif isinstance(sample, np.ndarray):\n",
    "#     print(f'continuous action space of size {env.action_space.shape}')\n",
    "\n",
    "# T.manual_seed(seed)\n",
    "# T.cuda.manual_seed(seed)\n",
    "# np.random.seed(seed)\n",
    "# gym.utils.seeding.np_random.seed = seed\n",
    "\n",
    "# Build policy model\n",
    "# dense_layers = [(64,\"tanh\",{\"default\":{}}),(64,\"tanh\",{\"default\":{}})]\n",
    "layer_config = [\n",
    "    # {'type': 'cnn', 'params': {'out_channels': 32, 'kernel_size': (8, 8), 'stride': 4, 'padding': 0}},\n",
    "    # {'type': 'cnn', 'params': {'out_channels': 64, 'kernel_size': (4, 4), 'stride': 2, 'padding': 0}},\n",
    "    # {'type': 'cnn', 'params': {'out_channels': 64, 'kernel_size': (3, 3), 'stride': 1, 'padding': 0}},\n",
    "    # {'type': 'flatten'},\n",
    "    {'type': 'dense', 'params': {'units': 128, 'kernel': 'default', 'kernel params':{}}},\n",
    "    {'type': 'tanh'},\n",
    "    {'type': 'dense', 'params': {'units': 64, 'kernel': 'default', 'kernel params':{}}},\n",
    "    {'type': 'tanh'},\n",
    "]\n",
    "output_layer_kernel = {'type': 'dense', 'params': {'kernel': 'default', 'kernel params':{}}},\n",
    "policy = StochasticContinuousPolicy(env, layer_config, output_layer_kernel, learning_rate=policy_lr, distribution=distribution, device=device)\n",
    "# dense_layers = [(64,\"tanh\",{\"default\":{}}),(64,\"tanh\",{\"default\":{}})]\n",
    "value_function = ValueModel(env, layer_config, output_layer_kernel, learning_rate=value_lr, device=device)\n",
    "ppo = PPO(env, policy, value_function, distribution=distribution, discount=0.99, gae_coefficient=0.95, policy_clip=policy_clip, entropy_coefficient=entropy_coeff,\n",
    "          loss=loss, kl_coefficient=kl_coeff, normalize_advantages=normalize_advantages, normalize_values=normalize_values, value_normalizer_clip=norm_clip, policy_grad_clip=grad_clip,\n",
    "          reward_clip=reward_clip, lambda_=lambda_, callbacks=callbacks, save_dir=save_dir,device=device)\n",
    "hybrid_train_info_2 = ppo.train(timesteps=timesteps, trajectory_length=trajectory_length, batch_size=batch_size, learning_epochs=learning_epochs, num_envs=num_envs, seed=seed, render_freq=render_freq)\n",
    "# ppo.test(10,\"ppo_test\", 1)\n"
   ]
  },
  {
   "cell_type": "code",
   "execution_count": null,
   "metadata": {},
   "outputs": [],
   "source": [
    "config_file_path = '/workspaces/RL_Agents/src/app/pong_v5_3/ppo/config.json'\n",
    "with open(config_file_path, 'r') as file:\n",
    "    config = json.load(file)"
   ]
  },
  {
   "cell_type": "code",
   "execution_count": null,
   "metadata": {},
   "outputs": [],
   "source": [
    "config['wrappers']"
   ]
  },
  {
   "cell_type": "code",
   "execution_count": null,
   "metadata": {},
   "outputs": [],
   "source": [
    "pong = PPO.load(config, False)"
   ]
  },
  {
   "cell_type": "code",
   "execution_count": null,
   "metadata": {},
   "outputs": [],
   "source": [
    "pong.env.env = pong.env._initialize_env(num_envs=2)"
   ]
  },
  {
   "cell_type": "code",
   "execution_count": null,
   "metadata": {},
   "outputs": [],
   "source": [
    "pong.env.action_space"
   ]
  },
  {
   "cell_type": "code",
   "execution_count": null,
   "metadata": {},
   "outputs": [],
   "source": [
    "num_envs = 2\n",
    "action_shape = (3,1)\n",
    "obs_shape = (3,)\n",
    "\n",
    "observation_space = gym.spaces.Box(low=0, high=1, shape=(num_envs, *obs_shape))\n",
    "action_space = gym.spaces.Box(low=0, high=1, shape=(num_envs, *action_shape)) if len(action_shape) > 1 else gym.spaces.MultiDiscrete([action_shape[0] for n in range(num_envs)])\n",
    "single_observation_space = gym.spaces.Box(low=0, high=1, shape=obs_shape)\n",
    "single_action_space = gym.spaces.Box(low=0, high=1, shape=action_shape) if len(action_shape) > 1 else gym.spaces.Discrete(action_shape[0])"
   ]
  },
  {
   "cell_type": "code",
   "execution_count": null,
   "metadata": {},
   "outputs": [],
   "source": [
    "action_space"
   ]
  },
  {
   "cell_type": "code",
   "execution_count": null,
   "metadata": {},
   "outputs": [],
   "source": [
    "single_obs = T.tensor(single_observation_space.sample())\n",
    "state, info = (T.stack([single_obs for _ in range(observation_space.shape[0])]), {})"
   ]
  },
  {
   "cell_type": "code",
   "execution_count": null,
   "metadata": {},
   "outputs": [],
   "source": [
    "state"
   ]
  },
  {
   "cell_type": "code",
   "execution_count": null,
   "metadata": {},
   "outputs": [],
   "source": [
    "observation = T.stack([single_obs for _ in range(observation_space.shape[0])])\n",
    "reward = T.zeros(observation_space.shape[0])\n",
    "terminated = T.zeros(observation_space.shape[0], dtype=T.bool)\n",
    "truncated = T.zeros(observation_space.shape[0], dtype=T.bool)\n",
    "info = {}"
   ]
  },
  {
   "cell_type": "code",
   "execution_count": null,
   "metadata": {},
   "outputs": [],
   "source": [
    "vec_env = gym.make_vec(\"LunarLanderContinuous-v3\", 2)"
   ]
  },
  {
   "cell_type": "code",
   "execution_count": null,
   "metadata": {},
   "outputs": [],
   "source": [
    "T.ones(vec_env.single_action_space.shape).dim()"
   ]
  },
  {
   "cell_type": "code",
   "execution_count": null,
   "metadata": {},
   "outputs": [],
   "source": [
    "from torch.distributions import Normal\n",
    "\n",
    "num_envs = 2\n",
    "expected_mu = T.stack([T.tensor([1.65, 1.65, 1.65]) for t in range(num_envs)])\n",
    "expected_sigma = T.stack([T.tensor([3.9, 3.9, 3.9]) for t in range(num_envs)])\n",
    "expected_dist = Normal(expected_mu, expected_sigma)"
   ]
  },
  {
   "cell_type": "code",
   "execution_count": null,
   "metadata": {},
   "outputs": [],
   "source": [
    "expected_dist.sample().shape"
   ]
  },
  {
   "cell_type": "code",
   "execution_count": null,
   "metadata": {},
   "outputs": [],
   "source": [
    "pong.train(2000000, 128, 32, 3, 12, 42)"
   ]
  },
  {
   "cell_type": "code",
   "execution_count": null,
   "metadata": {},
   "outputs": [],
   "source": [
    "scores = np.zeros(4)"
   ]
  },
  {
   "cell_type": "code",
   "execution_count": null,
   "metadata": {},
   "outputs": [],
   "source": [
    "scores[1] = 1\n",
    "scores"
   ]
  },
  {
   "cell_type": "code",
   "execution_count": null,
   "metadata": {},
   "outputs": [],
   "source": [
    "import gymnasium.wrappers as base_wrappers\n",
    "\n",
    "WRAPPER_REGISTRY = {\n",
    "    \"AtariPreprocessing\": {\n",
    "        \"cls\": base_wrappers.AtariPreprocessing,\n",
    "        \"default_params\": {\n",
    "            \"frame_skip\": 1,\n",
    "            \"grayscale_obs\": True,\n",
    "            \"scale_obs\": True\n",
    "        }\n",
    "    },\n",
    "    \"TimeLimit\": {\n",
    "        \"cls\": base_wrappers.TimeLimit,\n",
    "        \"default_params\": {\n",
    "            \"max_episode_steps\": 1000\n",
    "        }\n",
    "    },\n",
    "    \"TimeAwareObservation\": {\n",
    "        \"cls\": base_wrappers.TimeAwareObservation,\n",
    "        \"default_params\": {\n",
    "            \"flatten\": False,\n",
    "            \"normalize_time\": False\n",
    "        }\n",
    "    },\n",
    "    \"FrameStackObservation\": {\n",
    "        \"cls\": base_wrappers.FrameStackObservation,\n",
    "        \"default_params\": {\n",
    "            \"stack_size\": 4\n",
    "        }\n",
    "    },\n",
    "    \"ResizeObservation\": {\n",
    "        \"cls\": base_wrappers.ResizeObservation,\n",
    "        \"default_params\": {\n",
    "            \"shape\": 84\n",
    "        }\n",
    "    }\n",
    "}"
   ]
  },
  {
   "cell_type": "code",
   "execution_count": null,
   "metadata": {},
   "outputs": [],
   "source": [
    "wrappers = [\n",
    "    {'type': \"AtariPreprocessing\", 'params': {'frame_skip':1, 'grayscale_obs':True, 'scale_obs':True}},\n",
    "    {'type': \"FrameStackObservation\", 'params': {'stack_size':4}},\n",
    "]"
   ]
  },
  {
   "cell_type": "code",
   "execution_count": null,
   "metadata": {},
   "outputs": [],
   "source": [
    "def wrap_env(vec_env, wrappers):\n",
    "    wrapper_list = []\n",
    "    for wrapper in wrappers:\n",
    "        if wrapper['type'] in WRAPPER_REGISTRY:\n",
    "            print(f'wrapper type:{wrapper[\"type\"]}')\n",
    "            # Use a copy of default_params to avoid modifying the registry\n",
    "            default_params = WRAPPER_REGISTRY[wrapper['type']][\"default_params\"].copy()\n",
    "            \n",
    "            if wrapper['type'] == \"ResizeObservation\":\n",
    "                # Ensure shape is a tuple for ResizeObservation\n",
    "                default_params['shape'] = (default_params['shape'], default_params['shape']) if isinstance(default_params['shape'], int) else default_params['shape']\n",
    "            \n",
    "            print(f'default params:{default_params}')\n",
    "            override_params = wrapper.get(\"params\", {})\n",
    "            \n",
    "            if wrapper['type'] == \"ResizeObservation\":\n",
    "                # Ensure override_params shape is a tuple\n",
    "                if 'shape' in override_params:\n",
    "                    override_params['shape'] = (override_params['shape'], override_params['shape']) if isinstance(override_params['shape'], int) else override_params['shape']\n",
    "            \n",
    "            print(f'override params:{override_params}')\n",
    "            final_params = {**default_params, **override_params}\n",
    "            print(f'final params:{final_params}')\n",
    "            \n",
    "            def wrapper_factory(env, cls=WRAPPER_REGISTRY[wrapper['type']][\"cls\"], params=final_params):\n",
    "                return cls(env, **params)\n",
    "            \n",
    "            wrapper_list.append(wrapper_factory)\n",
    "    \n",
    "    # Define apply_wrappers outside the loop\n",
    "    def apply_wrappers(env):\n",
    "        for wrapper in wrapper_list:\n",
    "            env = wrapper(env)\n",
    "            print(f'length of obs space:{len(env.observation_space.shape)}')\n",
    "            print(f'env obs space shape:{env.observation_space.shape}')\n",
    "        return env\n",
    "    \n",
    "    print(f'wrapper list:{wrapper_list}')\n",
    "    envs = [lambda: apply_wrappers(gym.make(vec_env.spec.id, render_mode=\"rgb_array\")) for _ in range(vec_env.num_envs)]    \n",
    "    return SyncVectorEnv(envs)"
   ]
  },
  {
   "cell_type": "code",
   "execution_count": null,
   "metadata": {},
   "outputs": [],
   "source": [
    "vec_env = gym.make_vec(\"ALE/Pong-v5\", render_mode=\"rgb_array\", num_envs=8)\n",
    "wrapped_vec = wrap_env(vec_env, wrappers)"
   ]
  },
  {
   "cell_type": "code",
   "execution_count": null,
   "metadata": {},
   "outputs": [],
   "source": [
    "wrapped_vec.single_observation_space"
   ]
  },
  {
   "cell_type": "code",
   "execution_count": null,
   "metadata": {},
   "outputs": [],
   "source": [
    "for env in wrapped_vec.envs:\n",
    "    print(env.spec)"
   ]
  },
  {
   "cell_type": "code",
   "execution_count": null,
   "metadata": {},
   "outputs": [],
   "source": [
    "def format_wrappers(wrapper_store):\n",
    "    wrappers_dict = {}\n",
    "    for key, value in wrapper_store.items():\n",
    "        # Split the key into wrapper type and parameter name\n",
    "        parts = key.split('_param:')\n",
    "        print(f'parts:{parts}')\n",
    "        wrapper_type = parts[0].split('wrapper:')[1]\n",
    "        print(f'wrapper_type:{wrapper_type}')\n",
    "        param_name = parts[1]\n",
    "        print(f'param name:{param_name}')\n",
    "        \n",
    "        # If the wrapper type already exists in the dictionary, append to its params\n",
    "        if wrapper_type not in wrappers_dict:\n",
    "            wrappers_dict[wrapper_type] = {'type': wrapper_type, 'params': {}}\n",
    "        \n",
    "        wrappers_dict[wrapper_type]['params'][param_name] = value\n",
    "    \n",
    "    # Convert the dictionary to a list of dictionaries\n",
    "    formatted_wrappers = list(wrappers_dict.values())\n",
    "    \n",
    "    return formatted_wrappers"
   ]
  },
  {
   "cell_type": "code",
   "execution_count": null,
   "metadata": {},
   "outputs": [],
   "source": [
    "wrapper_params = {'wrapper:AtariPreprocessing_param:frame_skip': 1, 'wrapper:AtariPreprocessing_param:grayscale_obs': True, 'wrapper:AtariPreprocessing_param:scale_obs': True, 'wrapper:FrameStackObservation_param:stack_size': 4}"
   ]
  },
  {
   "cell_type": "code",
   "execution_count": null,
   "metadata": {},
   "outputs": [],
   "source": [
    "formatted_wrappers = format_wrappers(wrapper_params)"
   ]
  },
  {
   "cell_type": "code",
   "execution_count": null,
   "metadata": {},
   "outputs": [],
   "source": [
    "formatted_wrappers"
   ]
  },
  {
   "cell_type": "code",
   "execution_count": null,
   "metadata": {},
   "outputs": [],
   "source": [
    "wrapper_params = {'wrapper:AtariPreprocessing_param:frame_skip': 1, 'wrapper:AtariPreprocessing_param:grayscale_obs': True, 'wrapper:AtariPreprocessing_param:scale_obs': True, 'wrapper:FrameStackObservation_param:stack_size': 4}\n",
    "formatted_wrappers = dash_utils.format_wrappers(wrapper_params)\n",
    "#DEBUG\n",
    "print(f'formatted wrappers:{formatted_wrappers}')\n",
    "env = dash_utils.instantiate_envwrapper_obj(\"gymnasium\", \"ALE/Pong-v5\", formatted_wrappers)"
   ]
  },
  {
   "cell_type": "code",
   "execution_count": null,
   "metadata": {},
   "outputs": [],
   "source": [
    "config_file_path = '/workspaces/RL_Agents/src/app/humanoid_v5_2/ppo/config.json'\n",
    "with open(config_file_path, 'r') as file:\n",
    "    config = json.load(file)\n",
    "ppo = PPO.load(config, False)"
   ]
  },
  {
   "cell_type": "code",
   "execution_count": null,
   "metadata": {},
   "outputs": [],
   "source": [
    "ppo.get_config()"
   ]
  },
  {
   "cell_type": "code",
   "execution_count": null,
   "metadata": {},
   "outputs": [],
   "source": [
    "ppo.env.env = ppo.env._initialize_env(0, 8, 42)"
   ]
  },
  {
   "cell_type": "code",
   "execution_count": null,
   "metadata": {},
   "outputs": [],
   "source": [
    "for env in ppo.env.env.envs:\n",
    "    print(env.spec.pprint)"
   ]
  },
  {
   "cell_type": "code",
   "execution_count": null,
   "metadata": {},
   "outputs": [],
   "source": [
    "ppo.get_config()"
   ]
  },
  {
   "cell_type": "code",
   "execution_count": null,
   "metadata": {},
   "outputs": [],
   "source": [
    "ppo.callbacks = []"
   ]
  },
  {
   "cell_type": "code",
   "execution_count": null,
   "metadata": {},
   "outputs": [],
   "source": [
    "ppo.train(2_000_000, 128, 64, 10, 8, 42, render_freq=100)"
   ]
  },
  {
   "cell_type": "code",
   "execution_count": null,
   "metadata": {},
   "outputs": [],
   "source": [
    "# states, _ = ppo.env.reset()\n",
    "steps = 10\n",
    "all_states = []\n",
    "all_next_states = []\n",
    "for step in range(steps):\n",
    "    actions, log_probs = ppo.get_action(states)\n",
    "    next_states, rewards, terms, truncs, infos = ppo.env.step(actions)\n",
    "    all_states.append(states)\n",
    "    all_next_states.append(next_states)\n",
    "    states = next_states"
   ]
  },
  {
   "cell_type": "code",
   "execution_count": null,
   "metadata": {},
   "outputs": [],
   "source": [
    "for step, step_states in enumerate(all_states):\n",
    "    print(f'step states shape:{step_states.shape}')\n",
    "    for i in range(len(step_states)):\n",
    "        for j in range(i + 1, len(step_states)):  # Compare each environment with others\n",
    "            print(f'step state {i} shape:{step_states[i].shape}')\n",
    "            print(f'step state {j} shape:{step_states[j].shape}')\n",
    "            assert np.allclose(step_states[i], step_states[j]), f\"Environments {i} and {j} differ at step {step}\""
   ]
  },
  {
   "cell_type": "code",
   "execution_count": null,
   "metadata": {},
   "outputs": [],
   "source": [
    "for i in range(len(all_states)):\n",
    "    for j in range(i + 1, len(all_states)):  # Note the change here\n",
    "        print(np.allclose(all_states[i], all_states[j]))"
   ]
  },
  {
   "cell_type": "code",
   "execution_count": null,
   "metadata": {},
   "outputs": [],
   "source": [
    "all_obs = []\n",
    "obs = np.ones((8,1,84,84))\n",
    "for _ in range(10):\n",
    "    all_obs.append(obs)\n",
    "# all_obs = np.array(all_obs)\n",
    "all_obs = T.stack([T.tensor(s, dtype=T.float32) for s in all_obs])"
   ]
  },
  {
   "cell_type": "code",
   "execution_count": null,
   "metadata": {},
   "outputs": [],
   "source": [
    "all_obs.shape"
   ]
  },
  {
   "cell_type": "code",
   "execution_count": null,
   "metadata": {},
   "outputs": [],
   "source": [
    "action_space = gym.spaces.Box(low=0, high=1, shape=(2, 3))"
   ]
  },
  {
   "cell_type": "code",
   "execution_count": null,
   "metadata": {},
   "outputs": [],
   "source": [
    "np.all"
   ]
  },
  {
   "cell_type": "code",
   "execution_count": null,
   "metadata": {},
   "outputs": [],
   "source": [
    "all_advantages = []\n",
    "all_returns = []\n",
    "all_values = []\n",
    "advantage = T.ones(128)\n",
    "return_ = T.ones(128)\n",
    "value = T.ones(128)\n",
    "num_envs = 2\n",
    "\n",
    "for _ in range(num_envs):\n",
    "    all_advantages.append(advantage)\n",
    "    all_returns.append(return_)\n",
    "    all_values.append(value)\n",
    "\n",
    "advantages = T.stack(all_advantages, dim=1)\n",
    "returns = T.stack(all_returns, dim=1)\n",
    "values = T.stack(all_values, dim=1)"
   ]
  },
  {
   "cell_type": "code",
   "execution_count": null,
   "metadata": {},
   "outputs": [],
   "source": [
    "advantages.shape"
   ]
  },
  {
   "cell_type": "code",
   "execution_count": null,
   "metadata": {},
   "outputs": [],
   "source": [
    "states, _ = pong.env.reset()\n",
    "states.shape"
   ]
  },
  {
   "cell_type": "code",
   "execution_count": null,
   "metadata": {},
   "outputs": [],
   "source": [
    "ns, r, term, trunc, _ = pong.env.step(pong.env.action_space.sample())"
   ]
  },
  {
   "cell_type": "code",
   "execution_count": null,
   "metadata": {},
   "outputs": [],
   "source": [
    "r.shape"
   ]
  },
  {
   "cell_type": "code",
   "execution_count": null,
   "metadata": {},
   "outputs": [],
   "source": [
    "pong.env.single_observation_space.shape"
   ]
  },
  {
   "cell_type": "code",
   "execution_count": null,
   "metadata": {},
   "outputs": [],
   "source": [
    "pong.env.observation_space.shape"
   ]
  },
  {
   "cell_type": "code",
   "execution_count": null,
   "metadata": {},
   "outputs": [],
   "source": [
    "pong.env.env.envs[0].spec"
   ]
  },
  {
   "cell_type": "code",
   "execution_count": null,
   "metadata": {},
   "outputs": [],
   "source": [
    "states, _ = pong.env.reset()\n",
    "states = T.tensor(states)\n",
    "dist, _ = pong.policy_model(states)\n",
    "sample = dist.sample()\n",
    "sample.shape"
   ]
  },
  {
   "cell_type": "code",
   "execution_count": null,
   "metadata": {},
   "outputs": [],
   "source": [
    "pong.policy_model"
   ]
  },
  {
   "cell_type": "code",
   "execution_count": null,
   "metadata": {},
   "outputs": [],
   "source": [
    "pong.env.reset()"
   ]
  },
  {
   "cell_type": "code",
   "execution_count": null,
   "metadata": {},
   "outputs": [],
   "source": [
    "def clip_reward(reward):\n",
    "    \"\"\"\n",
    "    Clip rewards to the specified range.\n",
    "\n",
    "    Args:\n",
    "        reward (float): Reward to clip.\n",
    "\n",
    "    Returns:\n",
    "        float: Clipped reward.\n",
    "    \"\"\"\n",
    "    if reward > 1:\n",
    "        return 1\n",
    "    elif reward < -1:\n",
    "        return -1\n",
    "    else:\n",
    "        return reward"
   ]
  },
  {
   "cell_type": "code",
   "execution_count": null,
   "metadata": {},
   "outputs": [],
   "source": [
    "env = gym.make_vec(\"ALE/Pong-v5\", 1)"
   ]
  },
  {
   "cell_type": "code",
   "execution_count": null,
   "metadata": {},
   "outputs": [],
   "source": [
    "states, _ = env.reset()"
   ]
  },
  {
   "cell_type": "code",
   "execution_count": null,
   "metadata": {},
   "outputs": [],
   "source": [
    "all_rewards = []\n",
    "all_dones = []\n",
    "for _ in range(10):\n",
    "    next_states, rewards, terms, truncs, infos = env.step(env.action_space.sample())\n",
    "    all_rewards.append(rewards)\n",
    "    all_dones.append(np.logical_or(terms, truncs))\n",
    "rewards = T.stack([T.tensor(r, dtype=T.float32) for r in all_rewards])\n",
    "dones = T.stack([T.tensor(d, dtype=T.float32) for d in all_dones])"
   ]
  },
  {
   "cell_type": "code",
   "execution_count": null,
   "metadata": {},
   "outputs": [],
   "source": [
    "dones.shape"
   ]
  },
  {
   "cell_type": "code",
   "execution_count": null,
   "metadata": {},
   "outputs": [],
   "source": [
    "rewards[:,0].shape"
   ]
  },
  {
   "cell_type": "code",
   "execution_count": null,
   "metadata": {},
   "outputs": [],
   "source": [
    "[clip_reward(reward) for reward in rewards]"
   ]
  },
  {
   "cell_type": "code",
   "execution_count": null,
   "metadata": {},
   "outputs": [],
   "source": []
  }
 ],
 "metadata": {
  "kernelspec": {
   "display_name": "rl_env",
   "language": "python",
   "name": "python3"
  },
  "language_info": {
   "codemirror_mode": {
    "name": "ipython",
    "version": 3
   },
   "file_extension": ".py",
   "mimetype": "text/x-python",
   "name": "python",
   "nbconvert_exporter": "python",
   "pygments_lexer": "ipython3",
   "version": "3.10.16"
  }
 },
 "nbformat": 4,
 "nbformat_minor": 2
}
